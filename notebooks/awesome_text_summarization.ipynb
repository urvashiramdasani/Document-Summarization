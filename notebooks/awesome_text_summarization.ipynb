{
  "nbformat": 4,
  "nbformat_minor": 0,
  "metadata": {
    "colab": {
      "name": "awesome-text-summarization.ipynb",
      "provenance": [],
      "authorship_tag": "ABX9TyNBvNkHz3J1BfFOvX7fKSEn",
      "include_colab_link": true
    },
    "kernelspec": {
      "name": "python3",
      "display_name": "Python 3"
    },
    "language_info": {
      "name": "python"
    }
  },
  "cells": [
    {
      "cell_type": "markdown",
      "metadata": {
        "id": "view-in-github",
        "colab_type": "text"
      },
      "source": [
        "<a href=\"https://colab.research.google.com/github/urvashiramdasani/Document-Summarization/blob/main/notebooks/awesome_text_summarization.ipynb\" target=\"_parent\"><img src=\"https://colab.research.google.com/assets/colab-badge.svg\" alt=\"Open In Colab\"/></a>"
      ]
    },
    {
      "cell_type": "markdown",
      "metadata": {
        "id": "ygtymp4Syyll"
      },
      "source": [
        "The aim of this notebook is to provide all possible references to learn Text Summarization. It has been developed after reviewing papers and online material. Feel free to suggest any changes if you think they will improve this notebook!"
      ]
    },
    {
      "cell_type": "markdown",
      "metadata": {
        "id": "EB9180mT1B_Z"
      },
      "source": [
        "## Basics of Text Summarization\n",
        "\n"
      ]
    },
    {
      "cell_type": "code",
      "metadata": {
        "id": "SsWh96zUxquX"
      },
      "source": [
        ""
      ],
      "execution_count": null,
      "outputs": []
    },
    {
      "cell_type": "markdown",
      "metadata": {
        "id": "VGvuAw-McwHE"
      },
      "source": [
        "## Basics of Hidden Markov Models\n",
        "\n",
        "Hidden Markov Models (HMMs) are a class of probabilistic graphical model that allow us to predict a sequence of unknown (hidden) variables from a set of observed variables. We are constructing an inference model based on the assumptions of a Markov process. The Markov process assumption is simply that the “future is independent of the past given the present”.\n",
        "\n",
        "Generally, the term “states” are used to refer to the hidden states and “observations” are used to refer to the observed states. The hidden states are also referred to as latent states.\n",
        "\n",
        "Intution - We compute the joint probability of sequence of hidden states and determine the best possible sequence i.e. the sequence with the highest probability and choose that sequence as the best sequence of hidden states.\n",
        "\n",
        "1. Transition data — the probability of transitioning to a new state conditioned on a present state.\n",
        "2. Emission data — the probability of transitioning to an observed state conditioned on a hidden state.\n",
        "3. Initial state information — the initial probability of transitioning to a hidden state. This can also be looked at as the prior probability.\n",
        "\n",
        "See Also - Baum Welch Algorithm"
      ]
    },
    {
      "cell_type": "code",
      "metadata": {
        "id": "DRTbwuhtczKE"
      },
      "source": [
        "# given states - what are the possible combinations\n",
        "# total number of combinations is (number of possible states)^(sequence length)\n",
        "def generate_sequence(states,sequence_length):\n",
        "    \n",
        "    all_sequences = []\n",
        "    nodes = []\n",
        "    \n",
        "    depth = sequence_length\n",
        "    \n",
        "    def gen_seq_recur(states,nodes,depth):\n",
        "        if depth == 0:\n",
        "            #print nodes\n",
        "            all_sequences.append(nodes)\n",
        "        else:\n",
        "            for state in states:\n",
        "                temp_nodes = list(nodes)\n",
        "                temp_nodes.append(state)\n",
        "                gen_seq_recur(states,temp_nodes,depth-1)\n",
        "    \n",
        "    gen_seq_recur(states,[],depth)\n",
        "                \n",
        "    return all_sequences"
      ],
      "execution_count": 1,
      "outputs": []
    },
    {
      "cell_type": "code",
      "metadata": {
        "id": "IkHI0nzhIutS"
      },
      "source": [
        "def score_sequences(sequences,initial_probs,transition_probs,emission_probs,obs):\n",
        "    \n",
        "    best_score = -1\n",
        "    best_sequence = None\n",
        "    \n",
        "    sequence_scores = []\n",
        "    for seq in sequences:\n",
        "        total_score = 1\n",
        "        total_score_breakdown = []\n",
        "        first = True\n",
        "        for i in range(len(seq)):\n",
        "            state_score = 1\n",
        "            # compute transitition probability score\n",
        "            if first == True:\n",
        "                state_score *= initial_probs[seq[i]]\n",
        "                # reset first flag\n",
        "                first = False\n",
        "            else:  \n",
        "                state_score *= transition_probs[seq[i] + \"|\" + seq[i-1]]\n",
        "            # add to emission probability score\n",
        "            state_score *= emission_probs[obs[i] + \"|\" + seq[i]]\n",
        "            # update the total score\n",
        "            #print state_score\n",
        "            total_score_breakdown.append(state_score)\n",
        "            total_score *= state_score\n",
        "            \n",
        "        sequence_scores.append(total_score)\n",
        "        \n",
        "    return sequence_scores"
      ],
      "execution_count": 2,
      "outputs": []
    },
    {
      "cell_type": "code",
      "metadata": {
        "id": "jLb4w6VcJoxN"
      },
      "source": [
        "# pretty printing our  distributions\n",
        "import pandas as pd\n",
        "from tabulate import tabulate\n",
        "def pretty_print_probs(distribs):\n",
        "    \n",
        "    rows = set()\n",
        "    cols = set()\n",
        "    for val in distribs.keys():\n",
        "        temp = val.split(\"|\")\n",
        "        rows.add(temp[0])\n",
        "        cols.add(temp[1])\n",
        "        \n",
        "    rows = list(rows)\n",
        "    cols = list(cols)\n",
        "    df = []\n",
        "    for i in range(len(rows)):\n",
        "        temp = []\n",
        "        for j in range(len(cols)):\n",
        "            temp.append(distribs[rows[i]+\"|\"+cols[j]])\n",
        "            \n",
        "        df.append(temp)\n",
        "        \n",
        "    I = pd.Index(rows, name=\"rows\")\n",
        "    C = pd.Index(cols, name=\"cols\")\n",
        "    df = pd.DataFrame(data=df,index=I, columns=C)\n",
        "    \n",
        "    print(tabulate(df, headers='keys', tablefmt='psql'))"
      ],
      "execution_count": 5,
      "outputs": []
    },
    {
      "cell_type": "code",
      "metadata": {
        "id": "flrHej02Jy5L"
      },
      "source": [
        "def initializeSequences(_obs):\n",
        "    # Generate list of sequences\n",
        "    \n",
        "    seqLen = len(_obs)\n",
        "    seqs = generate_sequence(states,seqLen)\n",
        "    # Score sequences\n",
        "    seq_scores = score_sequences(seqs,initial_probs,transition_probs,emission_probs,obs)\n",
        "    \n",
        "    return (seqLen,seqs,seq_scores)"
      ],
      "execution_count": 6,
      "outputs": []
    },
    {
      "cell_type": "markdown",
      "metadata": {
        "id": "KKiXw6wYKL55"
      },
      "source": [
        "Selecting the best scoring sequence is also known as the Viterbi score. The alternative approach is the Minimum Bayes Risk approach which selects the highest scoring position across all sequence scores."
      ]
    },
    {
      "cell_type": "code",
      "metadata": {
        "colab": {
          "base_uri": "https://localhost:8080/"
        },
        "id": "nvOsof2LKLYj",
        "outputId": "bb545146-553d-4e57-c5ef-5ebe554a1e53"
      },
      "source": [
        "# We can use a dictionary to capture our state transitions\n",
        "# set of hidden states\n",
        "states = ['A','B']\n",
        "# set of observations\n",
        "obs = ['Red','Green','Red']\n",
        "# initial state probability distribution (our priors)\n",
        "initial_probs = {'A':1.0,'B':0.0}\n",
        "# transition probabilities\n",
        "transition_probs = {'A|A':0,'A|B':1,'B|A':1,'B|B':0}\n",
        "# emission probabilities\n",
        "emission_probs = {'Red|A':1,'Green|A':0,'Red|B':0.25,'Green|B':0.75}\n",
        "# Generate list of sequences\n",
        "sequence_length,sequences,sequence_scores = initializeSequences(obs)\n",
        "# print results\n",
        "print(\"Initial Distributions\")\n",
        "print(initial_probs)\n",
        "print(\"\\nTransition Probabilities\")\n",
        "pretty_print_probs(transition_probs)\n",
        "print(\"\\nEmission Probabilities\")\n",
        "pretty_print_probs(emission_probs)\n",
        "print(\"\\nScores\")\n",
        "# Display sequence scores\n",
        "for i in range(len(sequences)):\n",
        "    print(\"Sequence:%10s,Score:%0.4f\" % (sequences[i],sequence_scores[i]))"
      ],
      "execution_count": 8,
      "outputs": [
        {
          "output_type": "stream",
          "text": [
            "Initial Distributions\n",
            "{'A': 1.0, 'B': 0.0}\n",
            "\n",
            "Transition Probabilities\n",
            "+--------+-----+-----+\n",
            "| rows   |   A |   B |\n",
            "|--------+-----+-----|\n",
            "| A      |   0 |   1 |\n",
            "| B      |   1 |   0 |\n",
            "+--------+-----+-----+\n",
            "\n",
            "Emission Probabilities\n",
            "+--------+-----+------+\n",
            "| rows   |   A |    B |\n",
            "|--------+-----+------|\n",
            "| Red    |   1 | 0.25 |\n",
            "| Green  |   0 | 0.75 |\n",
            "+--------+-----+------+\n",
            "\n",
            "Scores\n",
            "Sequence:['A', 'A', 'A'],Score:0.0000\n",
            "Sequence:['A', 'A', 'B'],Score:0.0000\n",
            "Sequence:['A', 'B', 'A'],Score:0.7500\n",
            "Sequence:['A', 'B', 'B'],Score:0.0000\n",
            "Sequence:['B', 'A', 'A'],Score:0.0000\n",
            "Sequence:['B', 'A', 'B'],Score:0.0000\n",
            "Sequence:['B', 'B', 'A'],Score:0.0000\n",
            "Sequence:['B', 'B', 'B'],Score:0.0000\n"
          ],
          "name": "stdout"
        }
      ]
    },
    {
      "cell_type": "markdown",
      "metadata": {
        "id": "WcSD-Z9bMxuD"
      },
      "source": [
        "POS Tagging"
      ]
    },
    {
      "cell_type": "code",
      "metadata": {
        "colab": {
          "base_uri": "https://localhost:8080/"
        },
        "id": "sSpTiapiKE_z",
        "outputId": "88702f2b-645c-47ea-925c-711cebe14e68"
      },
      "source": [
        "# generate new sequences\n",
        "states = ['Noun','Verb','Determiner']\n",
        "initial_probs = {'Noun':0.9,'Verb':0.05,'Determiner':0.05}\n",
        "transition_probs = {'Noun|Noun':0.1,'Noun|Verb':0.1,'Noun|Determiner':0.8,\n",
        "                    'Verb|Noun':0.8,'Verb|Verb':0.1,'Verb|Determiner':0.1,\n",
        "                    'Determiner|Noun':0.1,'Determiner|Verb':0.8,'Determiner|Determiner':0.1}\n",
        "emission_probs = {'Bob|Noun':0.9,'ate|Noun':0.05,'the|Noun':0.05,'fruit|Noun':0.9,\\\n",
        "                  'Bob|Verb':0.05,'ate|Verb':0.9,'the|Verb':0.05,'fruit|Verb':0.05,\\\n",
        "                  'Bob|Determiner':0.05,'ate|Determiner':0.05,'the|Determiner':0.9,'fruit|Determiner':0.05}\n",
        "print(\"Initial Distributions\")\n",
        "print(initial_probs)\n",
        "print(\"\\nTransition Probabilities\")\n",
        "pretty_print_probs(transition_probs)\n",
        "print(\"\\nEmission Probabilities\")\n",
        "pretty_print_probs(emission_probs)"
      ],
      "execution_count": 9,
      "outputs": [
        {
          "output_type": "stream",
          "text": [
            "Initial Distributions\n",
            "{'Noun': 0.9, 'Verb': 0.05, 'Determiner': 0.05}\n",
            "\n",
            "Transition Probabilities\n",
            "+------------+--------------+--------+--------+\n",
            "| rows       |   Determiner |   Verb |   Noun |\n",
            "|------------+--------------+--------+--------|\n",
            "| Determiner |          0.1 |    0.8 |    0.1 |\n",
            "| Verb       |          0.1 |    0.1 |    0.8 |\n",
            "| Noun       |          0.8 |    0.1 |    0.1 |\n",
            "+------------+--------------+--------+--------+\n",
            "\n",
            "Emission Probabilities\n",
            "+--------+--------------+--------+--------+\n",
            "| rows   |   Determiner |   Verb |   Noun |\n",
            "|--------+--------------+--------+--------|\n",
            "| ate    |         0.05 |   0.9  |   0.05 |\n",
            "| the    |         0.9  |   0.05 |   0.05 |\n",
            "| Bob    |         0.05 |   0.05 |   0.9  |\n",
            "| fruit  |         0.05 |   0.05 |   0.9  |\n",
            "+--------+--------------+--------+--------+\n"
          ],
          "name": "stdout"
        }
      ]
    },
    {
      "cell_type": "code",
      "metadata": {
        "colab": {
          "base_uri": "https://localhost:8080/"
        },
        "id": "qby5Zh8PM4uu",
        "outputId": "1fd57ec9-163d-47b2-e407-4ed7e1633878"
      },
      "source": [
        "obs = ['Bob','ate','the','fruit']\n",
        "# print results\n",
        "print(\"\\nScores\")\n",
        "# Generate list of sequences\n",
        "sequence_length,sequences,sequence_scores = initializeSequences(obs)\n",
        "# Display sequence scores\n",
        "for i in range(len(sequences)):\n",
        "    print(\"Sequence:%-60s Score:%0.6f\" % (sequences[i],sequence_scores[i]))\n",
        "    \n",
        "# Display the winning score\n",
        "print(\"\\n Best Sequence\")\n",
        "print(sequences[sequence_scores.index(max(sequence_scores))],max(sequence_scores))"
      ],
      "execution_count": 10,
      "outputs": [
        {
          "output_type": "stream",
          "text": [
            "\n",
            "Scores\n",
            "Sequence:['Noun', 'Noun', 'Noun', 'Noun']                             Score:0.000002\n",
            "Sequence:['Noun', 'Noun', 'Noun', 'Verb']                             Score:0.000001\n",
            "Sequence:['Noun', 'Noun', 'Noun', 'Determiner']                       Score:0.000000\n",
            "Sequence:['Noun', 'Noun', 'Verb', 'Noun']                             Score:0.000015\n",
            "Sequence:['Noun', 'Noun', 'Verb', 'Verb']                             Score:0.000001\n",
            "Sequence:['Noun', 'Noun', 'Verb', 'Determiner']                       Score:0.000006\n",
            "Sequence:['Noun', 'Noun', 'Determiner', 'Noun']                       Score:0.000262\n",
            "Sequence:['Noun', 'Noun', 'Determiner', 'Verb']                       Score:0.000002\n",
            "Sequence:['Noun', 'Noun', 'Determiner', 'Determiner']                 Score:0.000002\n",
            "Sequence:['Noun', 'Verb', 'Noun', 'Noun']                             Score:0.000262\n",
            "Sequence:['Noun', 'Verb', 'Noun', 'Verb']                             Score:0.000117\n",
            "Sequence:['Noun', 'Verb', 'Noun', 'Determiner']                       Score:0.000015\n",
            "Sequence:['Noun', 'Verb', 'Verb', 'Noun']                             Score:0.000262\n",
            "Sequence:['Noun', 'Verb', 'Verb', 'Verb']                             Score:0.000015\n",
            "Sequence:['Noun', 'Verb', 'Verb', 'Determiner']                       Score:0.000117\n",
            "Sequence:['Noun', 'Verb', 'Determiner', 'Noun']                       Score:0.302331\n",
            "Sequence:['Noun', 'Verb', 'Determiner', 'Verb']                       Score:0.002100\n",
            "Sequence:['Noun', 'Verb', 'Determiner', 'Determiner']                 Score:0.002100\n",
            "Sequence:['Noun', 'Determiner', 'Noun', 'Noun']                       Score:0.000015\n",
            "Sequence:['Noun', 'Determiner', 'Noun', 'Verb']                       Score:0.000006\n",
            "Sequence:['Noun', 'Determiner', 'Noun', 'Determiner']                 Score:0.000001\n",
            "Sequence:['Noun', 'Determiner', 'Verb', 'Noun']                       Score:0.000002\n",
            "Sequence:['Noun', 'Determiner', 'Verb', 'Verb']                       Score:0.000000\n",
            "Sequence:['Noun', 'Determiner', 'Verb', 'Determiner']                 Score:0.000001\n",
            "Sequence:['Noun', 'Determiner', 'Determiner', 'Noun']                 Score:0.000262\n",
            "Sequence:['Noun', 'Determiner', 'Determiner', 'Verb']                 Score:0.000002\n",
            "Sequence:['Noun', 'Determiner', 'Determiner', 'Determiner']           Score:0.000002\n",
            "Sequence:['Verb', 'Noun', 'Noun', 'Noun']                             Score:0.000000\n",
            "Sequence:['Verb', 'Noun', 'Noun', 'Verb']                             Score:0.000000\n",
            "Sequence:['Verb', 'Noun', 'Noun', 'Determiner']                       Score:0.000000\n",
            "Sequence:['Verb', 'Noun', 'Verb', 'Noun']                             Score:0.000000\n",
            "Sequence:['Verb', 'Noun', 'Verb', 'Verb']                             Score:0.000000\n",
            "Sequence:['Verb', 'Noun', 'Verb', 'Determiner']                       Score:0.000000\n",
            "Sequence:['Verb', 'Noun', 'Determiner', 'Noun']                       Score:0.000001\n",
            "Sequence:['Verb', 'Noun', 'Determiner', 'Verb']                       Score:0.000000\n",
            "Sequence:['Verb', 'Noun', 'Determiner', 'Determiner']                 Score:0.000000\n",
            "Sequence:['Verb', 'Verb', 'Noun', 'Noun']                             Score:0.000000\n",
            "Sequence:['Verb', 'Verb', 'Noun', 'Verb']                             Score:0.000000\n",
            "Sequence:['Verb', 'Verb', 'Noun', 'Determiner']                       Score:0.000000\n",
            "Sequence:['Verb', 'Verb', 'Verb', 'Noun']                             Score:0.000000\n",
            "Sequence:['Verb', 'Verb', 'Verb', 'Verb']                             Score:0.000000\n",
            "Sequence:['Verb', 'Verb', 'Verb', 'Determiner']                       Score:0.000000\n",
            "Sequence:['Verb', 'Verb', 'Determiner', 'Noun']                       Score:0.000117\n",
            "Sequence:['Verb', 'Verb', 'Determiner', 'Verb']                       Score:0.000001\n",
            "Sequence:['Verb', 'Verb', 'Determiner', 'Determiner']                 Score:0.000001\n",
            "Sequence:['Verb', 'Determiner', 'Noun', 'Noun']                       Score:0.000000\n",
            "Sequence:['Verb', 'Determiner', 'Noun', 'Verb']                       Score:0.000000\n",
            "Sequence:['Verb', 'Determiner', 'Noun', 'Determiner']                 Score:0.000000\n",
            "Sequence:['Verb', 'Determiner', 'Verb', 'Noun']                       Score:0.000000\n",
            "Sequence:['Verb', 'Determiner', 'Verb', 'Verb']                       Score:0.000000\n",
            "Sequence:['Verb', 'Determiner', 'Verb', 'Determiner']                 Score:0.000000\n",
            "Sequence:['Verb', 'Determiner', 'Determiner', 'Noun']                 Score:0.000006\n",
            "Sequence:['Verb', 'Determiner', 'Determiner', 'Verb']                 Score:0.000000\n",
            "Sequence:['Verb', 'Determiner', 'Determiner', 'Determiner']           Score:0.000000\n",
            "Sequence:['Determiner', 'Noun', 'Noun', 'Noun']                       Score:0.000000\n",
            "Sequence:['Determiner', 'Noun', 'Noun', 'Verb']                       Score:0.000000\n",
            "Sequence:['Determiner', 'Noun', 'Noun', 'Determiner']                 Score:0.000000\n",
            "Sequence:['Determiner', 'Noun', 'Verb', 'Noun']                       Score:0.000000\n",
            "Sequence:['Determiner', 'Noun', 'Verb', 'Verb']                       Score:0.000000\n",
            "Sequence:['Determiner', 'Noun', 'Verb', 'Determiner']                 Score:0.000000\n",
            "Sequence:['Determiner', 'Noun', 'Determiner', 'Noun']                 Score:0.000006\n",
            "Sequence:['Determiner', 'Noun', 'Determiner', 'Verb']                 Score:0.000000\n",
            "Sequence:['Determiner', 'Noun', 'Determiner', 'Determiner']           Score:0.000000\n",
            "Sequence:['Determiner', 'Verb', 'Noun', 'Noun']                       Score:0.000000\n",
            "Sequence:['Determiner', 'Verb', 'Noun', 'Verb']                       Score:0.000000\n",
            "Sequence:['Determiner', 'Verb', 'Noun', 'Determiner']                 Score:0.000000\n",
            "Sequence:['Determiner', 'Verb', 'Verb', 'Noun']                       Score:0.000000\n",
            "Sequence:['Determiner', 'Verb', 'Verb', 'Verb']                       Score:0.000000\n",
            "Sequence:['Determiner', 'Verb', 'Verb', 'Determiner']                 Score:0.000000\n",
            "Sequence:['Determiner', 'Verb', 'Determiner', 'Noun']                 Score:0.000117\n",
            "Sequence:['Determiner', 'Verb', 'Determiner', 'Verb']                 Score:0.000001\n",
            "Sequence:['Determiner', 'Verb', 'Determiner', 'Determiner']           Score:0.000001\n",
            "Sequence:['Determiner', 'Determiner', 'Noun', 'Noun']                 Score:0.000000\n",
            "Sequence:['Determiner', 'Determiner', 'Noun', 'Verb']                 Score:0.000000\n",
            "Sequence:['Determiner', 'Determiner', 'Noun', 'Determiner']           Score:0.000000\n",
            "Sequence:['Determiner', 'Determiner', 'Verb', 'Noun']                 Score:0.000000\n",
            "Sequence:['Determiner', 'Determiner', 'Verb', 'Verb']                 Score:0.000000\n",
            "Sequence:['Determiner', 'Determiner', 'Verb', 'Determiner']           Score:0.000000\n",
            "Sequence:['Determiner', 'Determiner', 'Determiner', 'Noun']           Score:0.000001\n",
            "Sequence:['Determiner', 'Determiner', 'Determiner', 'Verb']           Score:0.000000\n",
            "Sequence:['Determiner', 'Determiner', 'Determiner', 'Determiner']     Score:0.000000\n",
            "\n",
            " Best Sequence\n",
            "['Noun', 'Verb', 'Determiner', 'Noun'] 0.30233088000000014\n"
          ],
          "name": "stdout"
        }
      ]
    },
    {
      "cell_type": "code",
      "metadata": {
        "id": "4WKY68--M_fp"
      },
      "source": [
        ""
      ],
      "execution_count": null,
      "outputs": []
    }
  ]
}