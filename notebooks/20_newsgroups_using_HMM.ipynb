{
  "nbformat": 4,
  "nbformat_minor": 0,
  "metadata": {
    "colab": {
      "name": "20-newsgroups-using-HMM.ipynb",
      "provenance": [],
      "authorship_tag": "ABX9TyN+X1A5EqNz76Jlb5m9Je/w",
      "include_colab_link": true
    },
    "kernelspec": {
      "name": "python3",
      "display_name": "Python 3"
    },
    "language_info": {
      "name": "python"
    }
  },
  "cells": [
    {
      "cell_type": "markdown",
      "metadata": {
        "id": "view-in-github",
        "colab_type": "text"
      },
      "source": [
        "<a href=\"https://colab.research.google.com/github/urvashiramdasani/Document-Summarization/blob/main/notebooks/20_newsgroups_using_HMM.ipynb\" target=\"_parent\"><img src=\"https://colab.research.google.com/assets/colab-badge.svg\" alt=\"Open In Colab\"/></a>"
      ]
    },
    {
      "cell_type": "markdown",
      "metadata": {
        "id": "XT2LJ3MCXVf4"
      },
      "source": [
        "This notebook presents the code for 20 Newsgroups dataset document summarization.\n",
        "\n",
        "## Setting up GitHub"
      ]
    },
    {
      "cell_type": "code",
      "metadata": {
        "colab": {
          "base_uri": "https://localhost:8080/"
        },
        "id": "OqxJArvQWw95",
        "outputId": "4beba252-2388-4c89-c4d5-ca055469d895"
      },
      "source": [
        "!git clone https://github.com/urvashiramdasani/Document-Summarization.git"
      ],
      "execution_count": null,
      "outputs": [
        {
          "output_type": "stream",
          "text": [
            "Cloning into 'Document-Summarization'...\n",
            "remote: Enumerating objects: 18904, done.\u001b[K\n",
            "remote: Counting objects:   0% (1/18904)\u001b[K\rremote: Counting objects:   1% (190/18904)\u001b[K\rremote: Counting objects:   2% (379/18904)\u001b[K\rremote: Counting objects:   3% (568/18904)\u001b[K\rremote: Counting objects:   4% (757/18904)\u001b[K\rremote: Counting objects:   5% (946/18904)\u001b[K\rremote: Counting objects:   6% (1135/18904)\u001b[K\rremote: Counting objects:   7% (1324/18904)\u001b[K\rremote: Counting objects:   8% (1513/18904)\u001b[K\rremote: Counting objects:   9% (1702/18904)\u001b[K\rremote: Counting objects:  10% (1891/18904)\u001b[K\rremote: Counting objects:  11% (2080/18904)\u001b[K\rremote: Counting objects:  12% (2269/18904)\u001b[K\rremote: Counting objects:  13% (2458/18904)\u001b[K\rremote: Counting objects:  14% (2647/18904)\u001b[K\rremote: Counting objects:  15% (2836/18904)\u001b[K\rremote: Counting objects:  16% (3025/18904)\u001b[K\rremote: Counting objects:  17% (3214/18904)\u001b[K\rremote: Counting objects:  18% (3403/18904)\u001b[K\rremote: Counting objects:  19% (3592/18904)\u001b[K\rremote: Counting objects:  20% (3781/18904)\u001b[K\rremote: Counting objects:  21% (3970/18904)\u001b[K\rremote: Counting objects:  22% (4159/18904)\u001b[K\rremote: Counting objects:  23% (4348/18904)\u001b[K\rremote: Counting objects:  24% (4537/18904)\u001b[K\rremote: Counting objects:  25% (4726/18904)\u001b[K\rremote: Counting objects:  26% (4916/18904)\u001b[K\rremote: Counting objects:  27% (5105/18904)\u001b[K\rremote: Counting objects:  28% (5294/18904)\u001b[K\rremote: Counting objects:  29% (5483/18904)\u001b[K\rremote: Counting objects:  30% (5672/18904)\u001b[K\rremote: Counting objects:  31% (5861/18904)\u001b[K\rremote: Counting objects:  32% (6050/18904)\u001b[K\rremote: Counting objects:  33% (6239/18904)\u001b[K\rremote: Counting objects:  34% (6428/18904)\u001b[K\rremote: Counting objects:  35% (6617/18904)\u001b[K\rremote: Counting objects:  36% (6806/18904)\u001b[K\rremote: Counting objects:  37% (6995/18904)\u001b[K\rremote: Counting objects:  38% (7184/18904)\u001b[K\rremote: Counting objects:  39% (7373/18904)\u001b[K\rremote: Counting objects:  40% (7562/18904)\u001b[K\rremote: Counting objects:  41% (7751/18904)\u001b[K\rremote: Counting objects:  42% (7940/18904)\u001b[K\rremote: Counting objects:  43% (8129/18904)\u001b[K\rremote: Counting objects:  44% (8318/18904)\u001b[K\rremote: Counting objects:  45% (8507/18904)\u001b[K\rremote: Counting objects:  46% (8696/18904)\u001b[K\rremote: Counting objects:  47% (8885/18904)\u001b[K\rremote: Counting objects:  48% (9074/18904)\u001b[K\rremote: Counting objects:  49% (9263/18904)\u001b[K\rremote: Counting objects:  50% (9452/18904)\u001b[K\rremote: Counting objects:  51% (9642/18904)\u001b[K\rremote: Counting objects:  52% (9831/18904)\u001b[K\rremote: Counting objects:  53% (10020/18904)\u001b[K\rremote: Counting objects:  54% (10209/18904)\u001b[K\rremote: Counting objects:  55% (10398/18904)\u001b[K\rremote: Counting objects:  56% (10587/18904)\u001b[K\rremote: Counting objects:  57% (10776/18904)\u001b[K\rremote: Counting objects:  58% (10965/18904)\u001b[K\rremote: Counting objects:  59% (11154/18904)\u001b[K\rremote: Counting objects:  60% (11343/18904)\u001b[K\rremote: Counting objects:  61% (11532/18904)\u001b[K\rremote: Counting objects:  62% (11721/18904)\u001b[K\rremote: Counting objects:  63% (11910/18904)\u001b[K\rremote: Counting objects:  64% (12099/18904)\u001b[K\rremote: Counting objects:  65% (12288/18904)\u001b[K\rremote: Counting objects:  66% (12477/18904)\u001b[K\rremote: Counting objects:  67% (12666/18904)\u001b[K\rremote: Counting objects:  68% (12855/18904)\u001b[K\rremote: Counting objects:  69% (13044/18904)\u001b[K\rremote: Counting objects:  70% (13233/18904)\u001b[K\rremote: Counting objects:  71% (13422/18904)\u001b[K\rremote: Counting objects:  72% (13611/18904)\u001b[K\rremote: Counting objects:  73% (13800/18904)\u001b[K\rremote: Counting objects:  74% (13989/18904)\u001b[K\rremote: Counting objects:  75% (14178/18904)\u001b[K\rremote: Counting objects:  76% (14368/18904)\u001b[K\rremote: Counting objects:  77% (14557/18904)\u001b[K\rremote: Counting objects:  78% (14746/18904)\u001b[K\rremote: Counting objects:  79% (14935/18904)\u001b[K\rremote: Counting objects:  80% (15124/18904)\u001b[K\rremote: Counting objects:  81% (15313/18904)\u001b[K\rremote: Counting objects:  82% (15502/18904)\u001b[K\rremote: Counting objects:  83% (15691/18904)\u001b[K\rremote: Counting objects:  84% (15880/18904)\u001b[K\rremote: Counting objects:  85% (16069/18904)\u001b[K\rremote: Counting objects:  86% (16258/18904)\u001b[K\rremote: Counting objects:  87% (16447/18904)\u001b[K\rremote: Counting objects:  88% (16636/18904)\u001b[K\rremote: Counting objects:  89% (16825/18904)\u001b[K\rremote: Counting objects:  90% (17014/18904)\u001b[K\rremote: Counting objects:  91% (17203/18904)\u001b[K\rremote: Counting objects:  92% (17392/18904)\u001b[K\rremote: Counting objects:  93% (17581/18904)\u001b[K\rremote: Counting objects:  94% (17770/18904)\u001b[K\rremote: Counting objects:  95% (17959/18904)\u001b[K\rremote: Counting objects:  96% (18148/18904)\u001b[K\rremote: Counting objects:  97% (18337/18904)\u001b[K\rremote: Counting objects:  98% (18526/18904)\u001b[K\rremote: Counting objects:  99% (18715/18904)\u001b[K\rremote: Counting objects: 100% (18904/18904)\u001b[K\rremote: Counting objects: 100% (18904/18904), done.\u001b[K\n",
            "remote: Compressing objects: 100% (18869/18869), done.\u001b[K\n",
            "remote: Total 18904 (delta 37), reused 18892 (delta 33), pack-reused 0\u001b[K\n",
            "Receiving objects: 100% (18904/18904), 18.03 MiB | 19.64 MiB/s, done.\n",
            "Resolving deltas: 100% (37/37), done.\n",
            "Checking out files: 100% (18849/18849), done.\n"
          ],
          "name": "stdout"
        }
      ]
    },
    {
      "cell_type": "code",
      "metadata": {
        "id": "DgevSmTPXqff"
      },
      "source": [
        ""
      ],
      "execution_count": null,
      "outputs": []
    }
  ]
}