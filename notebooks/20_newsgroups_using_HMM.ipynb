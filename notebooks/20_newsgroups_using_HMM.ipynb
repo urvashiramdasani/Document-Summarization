{
  "nbformat": 4,
  "nbformat_minor": 0,
  "metadata": {
    "colab": {
      "name": "20-newsgroups-using-HMM.ipynb",
      "provenance": [],
      "collapsed_sections": [
        "LMNu-_KMDOxQ",
        "Kyp1CNtBaQtf",
        "UlNBcBbA-BaP"
      ],
      "authorship_tag": "ABX9TyMJseBDSGakEWPJmaszpyf4",
      "include_colab_link": true
    },
    "kernelspec": {
      "name": "python3",
      "display_name": "Python 3"
    },
    "language_info": {
      "name": "python"
    },
    "widgets": {
      "application/vnd.jupyter.widget-state+json": {
        "392f16ba75594e6391483b73695b2b98": {
          "model_module": "@jupyter-widgets/controls",
          "model_name": "HBoxModel",
          "state": {
            "_view_name": "HBoxView",
            "_dom_classes": [],
            "_model_name": "HBoxModel",
            "_view_module": "@jupyter-widgets/controls",
            "_model_module_version": "1.5.0",
            "_view_count": null,
            "_view_module_version": "1.5.0",
            "box_style": "",
            "layout": "IPY_MODEL_e2d4a8545c7d4a178677fa50dc1f9ecb",
            "_model_module": "@jupyter-widgets/controls",
            "children": [
              "IPY_MODEL_db65e36b1b1d41b6bb73470ee09fba75",
              "IPY_MODEL_0df3c6a2e5514289a6c145589eb5f469"
            ]
          }
        },
        "e2d4a8545c7d4a178677fa50dc1f9ecb": {
          "model_module": "@jupyter-widgets/base",
          "model_name": "LayoutModel",
          "state": {
            "_view_name": "LayoutView",
            "grid_template_rows": null,
            "right": null,
            "justify_content": null,
            "_view_module": "@jupyter-widgets/base",
            "overflow": null,
            "_model_module_version": "1.2.0",
            "_view_count": null,
            "flex_flow": null,
            "width": null,
            "min_width": null,
            "border": null,
            "align_items": null,
            "bottom": null,
            "_model_module": "@jupyter-widgets/base",
            "top": null,
            "grid_column": null,
            "overflow_y": null,
            "overflow_x": null,
            "grid_auto_flow": null,
            "grid_area": null,
            "grid_template_columns": null,
            "flex": null,
            "_model_name": "LayoutModel",
            "justify_items": null,
            "grid_row": null,
            "max_height": null,
            "align_content": null,
            "visibility": null,
            "align_self": null,
            "height": null,
            "min_height": null,
            "padding": null,
            "grid_auto_rows": null,
            "grid_gap": null,
            "max_width": null,
            "order": null,
            "_view_module_version": "1.2.0",
            "grid_template_areas": null,
            "object_position": null,
            "object_fit": null,
            "grid_auto_columns": null,
            "margin": null,
            "display": null,
            "left": null
          }
        },
        "db65e36b1b1d41b6bb73470ee09fba75": {
          "model_module": "@jupyter-widgets/controls",
          "model_name": "FloatProgressModel",
          "state": {
            "_view_name": "ProgressView",
            "style": "IPY_MODEL_023ae64e85044ffc9b3adc9e8b67f876",
            "_dom_classes": [],
            "description": "Downloading: 100%",
            "_model_name": "FloatProgressModel",
            "bar_style": "success",
            "max": 442,
            "_view_module": "@jupyter-widgets/controls",
            "_model_module_version": "1.5.0",
            "value": 442,
            "_view_count": null,
            "_view_module_version": "1.5.0",
            "orientation": "horizontal",
            "min": 0,
            "description_tooltip": null,
            "_model_module": "@jupyter-widgets/controls",
            "layout": "IPY_MODEL_0a05e9b1464c4d3e95b41069fa86943e"
          }
        },
        "0df3c6a2e5514289a6c145589eb5f469": {
          "model_module": "@jupyter-widgets/controls",
          "model_name": "HTMLModel",
          "state": {
            "_view_name": "HTMLView",
            "style": "IPY_MODEL_ea0f8998ba0a4ec79ed687b5b5df42cf",
            "_dom_classes": [],
            "description": "",
            "_model_name": "HTMLModel",
            "placeholder": "​",
            "_view_module": "@jupyter-widgets/controls",
            "_model_module_version": "1.5.0",
            "value": " 442/442 [00:09&lt;00:00, 46.8B/s]",
            "_view_count": null,
            "_view_module_version": "1.5.0",
            "description_tooltip": null,
            "_model_module": "@jupyter-widgets/controls",
            "layout": "IPY_MODEL_7ebe95bae0e040868fb7bd66716bd4dc"
          }
        },
        "023ae64e85044ffc9b3adc9e8b67f876": {
          "model_module": "@jupyter-widgets/controls",
          "model_name": "ProgressStyleModel",
          "state": {
            "_view_name": "StyleView",
            "_model_name": "ProgressStyleModel",
            "description_width": "initial",
            "_view_module": "@jupyter-widgets/base",
            "_model_module_version": "1.5.0",
            "_view_count": null,
            "_view_module_version": "1.2.0",
            "bar_color": null,
            "_model_module": "@jupyter-widgets/controls"
          }
        },
        "0a05e9b1464c4d3e95b41069fa86943e": {
          "model_module": "@jupyter-widgets/base",
          "model_name": "LayoutModel",
          "state": {
            "_view_name": "LayoutView",
            "grid_template_rows": null,
            "right": null,
            "justify_content": null,
            "_view_module": "@jupyter-widgets/base",
            "overflow": null,
            "_model_module_version": "1.2.0",
            "_view_count": null,
            "flex_flow": null,
            "width": null,
            "min_width": null,
            "border": null,
            "align_items": null,
            "bottom": null,
            "_model_module": "@jupyter-widgets/base",
            "top": null,
            "grid_column": null,
            "overflow_y": null,
            "overflow_x": null,
            "grid_auto_flow": null,
            "grid_area": null,
            "grid_template_columns": null,
            "flex": null,
            "_model_name": "LayoutModel",
            "justify_items": null,
            "grid_row": null,
            "max_height": null,
            "align_content": null,
            "visibility": null,
            "align_self": null,
            "height": null,
            "min_height": null,
            "padding": null,
            "grid_auto_rows": null,
            "grid_gap": null,
            "max_width": null,
            "order": null,
            "_view_module_version": "1.2.0",
            "grid_template_areas": null,
            "object_position": null,
            "object_fit": null,
            "grid_auto_columns": null,
            "margin": null,
            "display": null,
            "left": null
          }
        },
        "ea0f8998ba0a4ec79ed687b5b5df42cf": {
          "model_module": "@jupyter-widgets/controls",
          "model_name": "DescriptionStyleModel",
          "state": {
            "_view_name": "StyleView",
            "_model_name": "DescriptionStyleModel",
            "description_width": "",
            "_view_module": "@jupyter-widgets/base",
            "_model_module_version": "1.5.0",
            "_view_count": null,
            "_view_module_version": "1.2.0",
            "_model_module": "@jupyter-widgets/controls"
          }
        },
        "7ebe95bae0e040868fb7bd66716bd4dc": {
          "model_module": "@jupyter-widgets/base",
          "model_name": "LayoutModel",
          "state": {
            "_view_name": "LayoutView",
            "grid_template_rows": null,
            "right": null,
            "justify_content": null,
            "_view_module": "@jupyter-widgets/base",
            "overflow": null,
            "_model_module_version": "1.2.0",
            "_view_count": null,
            "flex_flow": null,
            "width": null,
            "min_width": null,
            "border": null,
            "align_items": null,
            "bottom": null,
            "_model_module": "@jupyter-widgets/base",
            "top": null,
            "grid_column": null,
            "overflow_y": null,
            "overflow_x": null,
            "grid_auto_flow": null,
            "grid_area": null,
            "grid_template_columns": null,
            "flex": null,
            "_model_name": "LayoutModel",
            "justify_items": null,
            "grid_row": null,
            "max_height": null,
            "align_content": null,
            "visibility": null,
            "align_self": null,
            "height": null,
            "min_height": null,
            "padding": null,
            "grid_auto_rows": null,
            "grid_gap": null,
            "max_width": null,
            "order": null,
            "_view_module_version": "1.2.0",
            "grid_template_areas": null,
            "object_position": null,
            "object_fit": null,
            "grid_auto_columns": null,
            "margin": null,
            "display": null,
            "left": null
          }
        },
        "76081f2393a8411bbc1a83179f6a7ff6": {
          "model_module": "@jupyter-widgets/controls",
          "model_name": "HBoxModel",
          "state": {
            "_view_name": "HBoxView",
            "_dom_classes": [],
            "_model_name": "HBoxModel",
            "_view_module": "@jupyter-widgets/controls",
            "_model_module_version": "1.5.0",
            "_view_count": null,
            "_view_module_version": "1.5.0",
            "box_style": "",
            "layout": "IPY_MODEL_830e33ff9c3c4d4ab72ef54b1c14c76f",
            "_model_module": "@jupyter-widgets/controls",
            "children": [
              "IPY_MODEL_9e7ebd23620e467aabb723fbab60e905",
              "IPY_MODEL_aa6fba87f6274d4bbf22c58b9532b1fb"
            ]
          }
        },
        "830e33ff9c3c4d4ab72ef54b1c14c76f": {
          "model_module": "@jupyter-widgets/base",
          "model_name": "LayoutModel",
          "state": {
            "_view_name": "LayoutView",
            "grid_template_rows": null,
            "right": null,
            "justify_content": null,
            "_view_module": "@jupyter-widgets/base",
            "overflow": null,
            "_model_module_version": "1.2.0",
            "_view_count": null,
            "flex_flow": null,
            "width": null,
            "min_width": null,
            "border": null,
            "align_items": null,
            "bottom": null,
            "_model_module": "@jupyter-widgets/base",
            "top": null,
            "grid_column": null,
            "overflow_y": null,
            "overflow_x": null,
            "grid_auto_flow": null,
            "grid_area": null,
            "grid_template_columns": null,
            "flex": null,
            "_model_name": "LayoutModel",
            "justify_items": null,
            "grid_row": null,
            "max_height": null,
            "align_content": null,
            "visibility": null,
            "align_self": null,
            "height": null,
            "min_height": null,
            "padding": null,
            "grid_auto_rows": null,
            "grid_gap": null,
            "max_width": null,
            "order": null,
            "_view_module_version": "1.2.0",
            "grid_template_areas": null,
            "object_position": null,
            "object_fit": null,
            "grid_auto_columns": null,
            "margin": null,
            "display": null,
            "left": null
          }
        },
        "9e7ebd23620e467aabb723fbab60e905": {
          "model_module": "@jupyter-widgets/controls",
          "model_name": "FloatProgressModel",
          "state": {
            "_view_name": "ProgressView",
            "style": "IPY_MODEL_17204c4da7e04c59abf2b66b34ce31d2",
            "_dom_classes": [],
            "description": "Downloading: 100%",
            "_model_name": "FloatProgressModel",
            "bar_style": "success",
            "max": 267967963,
            "_view_module": "@jupyter-widgets/controls",
            "_model_module_version": "1.5.0",
            "value": 267967963,
            "_view_count": null,
            "_view_module_version": "1.5.0",
            "orientation": "horizontal",
            "min": 0,
            "description_tooltip": null,
            "_model_module": "@jupyter-widgets/controls",
            "layout": "IPY_MODEL_af6e628a7d804cb4b1355362a368ad68"
          }
        },
        "aa6fba87f6274d4bbf22c58b9532b1fb": {
          "model_module": "@jupyter-widgets/controls",
          "model_name": "HTMLModel",
          "state": {
            "_view_name": "HTMLView",
            "style": "IPY_MODEL_3e856877f6614c268025b5a3e02b1fa2",
            "_dom_classes": [],
            "description": "",
            "_model_name": "HTMLModel",
            "placeholder": "​",
            "_view_module": "@jupyter-widgets/controls",
            "_model_module_version": "1.5.0",
            "value": " 268M/268M [00:07&lt;00:00, 38.2MB/s]",
            "_view_count": null,
            "_view_module_version": "1.5.0",
            "description_tooltip": null,
            "_model_module": "@jupyter-widgets/controls",
            "layout": "IPY_MODEL_7fce2e226c834a2f8716cbb52156520f"
          }
        },
        "17204c4da7e04c59abf2b66b34ce31d2": {
          "model_module": "@jupyter-widgets/controls",
          "model_name": "ProgressStyleModel",
          "state": {
            "_view_name": "StyleView",
            "_model_name": "ProgressStyleModel",
            "description_width": "initial",
            "_view_module": "@jupyter-widgets/base",
            "_model_module_version": "1.5.0",
            "_view_count": null,
            "_view_module_version": "1.2.0",
            "bar_color": null,
            "_model_module": "@jupyter-widgets/controls"
          }
        },
        "af6e628a7d804cb4b1355362a368ad68": {
          "model_module": "@jupyter-widgets/base",
          "model_name": "LayoutModel",
          "state": {
            "_view_name": "LayoutView",
            "grid_template_rows": null,
            "right": null,
            "justify_content": null,
            "_view_module": "@jupyter-widgets/base",
            "overflow": null,
            "_model_module_version": "1.2.0",
            "_view_count": null,
            "flex_flow": null,
            "width": null,
            "min_width": null,
            "border": null,
            "align_items": null,
            "bottom": null,
            "_model_module": "@jupyter-widgets/base",
            "top": null,
            "grid_column": null,
            "overflow_y": null,
            "overflow_x": null,
            "grid_auto_flow": null,
            "grid_area": null,
            "grid_template_columns": null,
            "flex": null,
            "_model_name": "LayoutModel",
            "justify_items": null,
            "grid_row": null,
            "max_height": null,
            "align_content": null,
            "visibility": null,
            "align_self": null,
            "height": null,
            "min_height": null,
            "padding": null,
            "grid_auto_rows": null,
            "grid_gap": null,
            "max_width": null,
            "order": null,
            "_view_module_version": "1.2.0",
            "grid_template_areas": null,
            "object_position": null,
            "object_fit": null,
            "grid_auto_columns": null,
            "margin": null,
            "display": null,
            "left": null
          }
        },
        "3e856877f6614c268025b5a3e02b1fa2": {
          "model_module": "@jupyter-widgets/controls",
          "model_name": "DescriptionStyleModel",
          "state": {
            "_view_name": "StyleView",
            "_model_name": "DescriptionStyleModel",
            "description_width": "",
            "_view_module": "@jupyter-widgets/base",
            "_model_module_version": "1.5.0",
            "_view_count": null,
            "_view_module_version": "1.2.0",
            "_model_module": "@jupyter-widgets/controls"
          }
        },
        "7fce2e226c834a2f8716cbb52156520f": {
          "model_module": "@jupyter-widgets/base",
          "model_name": "LayoutModel",
          "state": {
            "_view_name": "LayoutView",
            "grid_template_rows": null,
            "right": null,
            "justify_content": null,
            "_view_module": "@jupyter-widgets/base",
            "overflow": null,
            "_model_module_version": "1.2.0",
            "_view_count": null,
            "flex_flow": null,
            "width": null,
            "min_width": null,
            "border": null,
            "align_items": null,
            "bottom": null,
            "_model_module": "@jupyter-widgets/base",
            "top": null,
            "grid_column": null,
            "overflow_y": null,
            "overflow_x": null,
            "grid_auto_flow": null,
            "grid_area": null,
            "grid_template_columns": null,
            "flex": null,
            "_model_name": "LayoutModel",
            "justify_items": null,
            "grid_row": null,
            "max_height": null,
            "align_content": null,
            "visibility": null,
            "align_self": null,
            "height": null,
            "min_height": null,
            "padding": null,
            "grid_auto_rows": null,
            "grid_gap": null,
            "max_width": null,
            "order": null,
            "_view_module_version": "1.2.0",
            "grid_template_areas": null,
            "object_position": null,
            "object_fit": null,
            "grid_auto_columns": null,
            "margin": null,
            "display": null,
            "left": null
          }
        },
        "bf8a3cd522ab47dda82d7fcba4030fb2": {
          "model_module": "@jupyter-widgets/controls",
          "model_name": "HBoxModel",
          "state": {
            "_view_name": "HBoxView",
            "_dom_classes": [],
            "_model_name": "HBoxModel",
            "_view_module": "@jupyter-widgets/controls",
            "_model_module_version": "1.5.0",
            "_view_count": null,
            "_view_module_version": "1.5.0",
            "box_style": "",
            "layout": "IPY_MODEL_68e85f2d17c24a0ea07010df38c06c20",
            "_model_module": "@jupyter-widgets/controls",
            "children": [
              "IPY_MODEL_034bd653677b43e6909ee7aa311f8e0d",
              "IPY_MODEL_a6c7ad20a2f748f6aca8987bceab06c7"
            ]
          }
        },
        "68e85f2d17c24a0ea07010df38c06c20": {
          "model_module": "@jupyter-widgets/base",
          "model_name": "LayoutModel",
          "state": {
            "_view_name": "LayoutView",
            "grid_template_rows": null,
            "right": null,
            "justify_content": null,
            "_view_module": "@jupyter-widgets/base",
            "overflow": null,
            "_model_module_version": "1.2.0",
            "_view_count": null,
            "flex_flow": null,
            "width": null,
            "min_width": null,
            "border": null,
            "align_items": null,
            "bottom": null,
            "_model_module": "@jupyter-widgets/base",
            "top": null,
            "grid_column": null,
            "overflow_y": null,
            "overflow_x": null,
            "grid_auto_flow": null,
            "grid_area": null,
            "grid_template_columns": null,
            "flex": null,
            "_model_name": "LayoutModel",
            "justify_items": null,
            "grid_row": null,
            "max_height": null,
            "align_content": null,
            "visibility": null,
            "align_self": null,
            "height": null,
            "min_height": null,
            "padding": null,
            "grid_auto_rows": null,
            "grid_gap": null,
            "max_width": null,
            "order": null,
            "_view_module_version": "1.2.0",
            "grid_template_areas": null,
            "object_position": null,
            "object_fit": null,
            "grid_auto_columns": null,
            "margin": null,
            "display": null,
            "left": null
          }
        },
        "034bd653677b43e6909ee7aa311f8e0d": {
          "model_module": "@jupyter-widgets/controls",
          "model_name": "FloatProgressModel",
          "state": {
            "_view_name": "ProgressView",
            "style": "IPY_MODEL_6a52148a95bf4e8598fa3481f218a24a",
            "_dom_classes": [],
            "description": "Downloading: 100%",
            "_model_name": "FloatProgressModel",
            "bar_style": "success",
            "max": 231508,
            "_view_module": "@jupyter-widgets/controls",
            "_model_module_version": "1.5.0",
            "value": 231508,
            "_view_count": null,
            "_view_module_version": "1.5.0",
            "orientation": "horizontal",
            "min": 0,
            "description_tooltip": null,
            "_model_module": "@jupyter-widgets/controls",
            "layout": "IPY_MODEL_0f6ec3a545e742949eef983ecff83b9d"
          }
        },
        "a6c7ad20a2f748f6aca8987bceab06c7": {
          "model_module": "@jupyter-widgets/controls",
          "model_name": "HTMLModel",
          "state": {
            "_view_name": "HTMLView",
            "style": "IPY_MODEL_8c136208ac2e4f15946b385082dda37b",
            "_dom_classes": [],
            "description": "",
            "_model_name": "HTMLModel",
            "placeholder": "​",
            "_view_module": "@jupyter-widgets/controls",
            "_model_module_version": "1.5.0",
            "value": " 232k/232k [00:00&lt;00:00, 702kB/s]",
            "_view_count": null,
            "_view_module_version": "1.5.0",
            "description_tooltip": null,
            "_model_module": "@jupyter-widgets/controls",
            "layout": "IPY_MODEL_5a089fa6256a46af907f309b9389ab7c"
          }
        },
        "6a52148a95bf4e8598fa3481f218a24a": {
          "model_module": "@jupyter-widgets/controls",
          "model_name": "ProgressStyleModel",
          "state": {
            "_view_name": "StyleView",
            "_model_name": "ProgressStyleModel",
            "description_width": "initial",
            "_view_module": "@jupyter-widgets/base",
            "_model_module_version": "1.5.0",
            "_view_count": null,
            "_view_module_version": "1.2.0",
            "bar_color": null,
            "_model_module": "@jupyter-widgets/controls"
          }
        },
        "0f6ec3a545e742949eef983ecff83b9d": {
          "model_module": "@jupyter-widgets/base",
          "model_name": "LayoutModel",
          "state": {
            "_view_name": "LayoutView",
            "grid_template_rows": null,
            "right": null,
            "justify_content": null,
            "_view_module": "@jupyter-widgets/base",
            "overflow": null,
            "_model_module_version": "1.2.0",
            "_view_count": null,
            "flex_flow": null,
            "width": null,
            "min_width": null,
            "border": null,
            "align_items": null,
            "bottom": null,
            "_model_module": "@jupyter-widgets/base",
            "top": null,
            "grid_column": null,
            "overflow_y": null,
            "overflow_x": null,
            "grid_auto_flow": null,
            "grid_area": null,
            "grid_template_columns": null,
            "flex": null,
            "_model_name": "LayoutModel",
            "justify_items": null,
            "grid_row": null,
            "max_height": null,
            "align_content": null,
            "visibility": null,
            "align_self": null,
            "height": null,
            "min_height": null,
            "padding": null,
            "grid_auto_rows": null,
            "grid_gap": null,
            "max_width": null,
            "order": null,
            "_view_module_version": "1.2.0",
            "grid_template_areas": null,
            "object_position": null,
            "object_fit": null,
            "grid_auto_columns": null,
            "margin": null,
            "display": null,
            "left": null
          }
        },
        "8c136208ac2e4f15946b385082dda37b": {
          "model_module": "@jupyter-widgets/controls",
          "model_name": "DescriptionStyleModel",
          "state": {
            "_view_name": "StyleView",
            "_model_name": "DescriptionStyleModel",
            "description_width": "",
            "_view_module": "@jupyter-widgets/base",
            "_model_module_version": "1.5.0",
            "_view_count": null,
            "_view_module_version": "1.2.0",
            "_model_module": "@jupyter-widgets/controls"
          }
        },
        "5a089fa6256a46af907f309b9389ab7c": {
          "model_module": "@jupyter-widgets/base",
          "model_name": "LayoutModel",
          "state": {
            "_view_name": "LayoutView",
            "grid_template_rows": null,
            "right": null,
            "justify_content": null,
            "_view_module": "@jupyter-widgets/base",
            "overflow": null,
            "_model_module_version": "1.2.0",
            "_view_count": null,
            "flex_flow": null,
            "width": null,
            "min_width": null,
            "border": null,
            "align_items": null,
            "bottom": null,
            "_model_module": "@jupyter-widgets/base",
            "top": null,
            "grid_column": null,
            "overflow_y": null,
            "overflow_x": null,
            "grid_auto_flow": null,
            "grid_area": null,
            "grid_template_columns": null,
            "flex": null,
            "_model_name": "LayoutModel",
            "justify_items": null,
            "grid_row": null,
            "max_height": null,
            "align_content": null,
            "visibility": null,
            "align_self": null,
            "height": null,
            "min_height": null,
            "padding": null,
            "grid_auto_rows": null,
            "grid_gap": null,
            "max_width": null,
            "order": null,
            "_view_module_version": "1.2.0",
            "grid_template_areas": null,
            "object_position": null,
            "object_fit": null,
            "grid_auto_columns": null,
            "margin": null,
            "display": null,
            "left": null
          }
        },
        "46de13ff77b34835b52b73e0f2040d3b": {
          "model_module": "@jupyter-widgets/controls",
          "model_name": "HBoxModel",
          "state": {
            "_view_name": "HBoxView",
            "_dom_classes": [],
            "_model_name": "HBoxModel",
            "_view_module": "@jupyter-widgets/controls",
            "_model_module_version": "1.5.0",
            "_view_count": null,
            "_view_module_version": "1.5.0",
            "box_style": "",
            "layout": "IPY_MODEL_666452a50ca04b81ac4172cfb2f87c46",
            "_model_module": "@jupyter-widgets/controls",
            "children": [
              "IPY_MODEL_0c6916685cfa46efb7fa59a3f8f25222",
              "IPY_MODEL_b227571dc48d49ab9728145d86d63502"
            ]
          }
        },
        "666452a50ca04b81ac4172cfb2f87c46": {
          "model_module": "@jupyter-widgets/base",
          "model_name": "LayoutModel",
          "state": {
            "_view_name": "LayoutView",
            "grid_template_rows": null,
            "right": null,
            "justify_content": null,
            "_view_module": "@jupyter-widgets/base",
            "overflow": null,
            "_model_module_version": "1.2.0",
            "_view_count": null,
            "flex_flow": null,
            "width": null,
            "min_width": null,
            "border": null,
            "align_items": null,
            "bottom": null,
            "_model_module": "@jupyter-widgets/base",
            "top": null,
            "grid_column": null,
            "overflow_y": null,
            "overflow_x": null,
            "grid_auto_flow": null,
            "grid_area": null,
            "grid_template_columns": null,
            "flex": null,
            "_model_name": "LayoutModel",
            "justify_items": null,
            "grid_row": null,
            "max_height": null,
            "align_content": null,
            "visibility": null,
            "align_self": null,
            "height": null,
            "min_height": null,
            "padding": null,
            "grid_auto_rows": null,
            "grid_gap": null,
            "max_width": null,
            "order": null,
            "_view_module_version": "1.2.0",
            "grid_template_areas": null,
            "object_position": null,
            "object_fit": null,
            "grid_auto_columns": null,
            "margin": null,
            "display": null,
            "left": null
          }
        },
        "0c6916685cfa46efb7fa59a3f8f25222": {
          "model_module": "@jupyter-widgets/controls",
          "model_name": "FloatProgressModel",
          "state": {
            "_view_name": "ProgressView",
            "style": "IPY_MODEL_b93355844e6042539567f76ac48ac3d8",
            "_dom_classes": [],
            "description": "Downloading: 100%",
            "_model_name": "FloatProgressModel",
            "bar_style": "success",
            "max": 28,
            "_view_module": "@jupyter-widgets/controls",
            "_model_module_version": "1.5.0",
            "value": 28,
            "_view_count": null,
            "_view_module_version": "1.5.0",
            "orientation": "horizontal",
            "min": 0,
            "description_tooltip": null,
            "_model_module": "@jupyter-widgets/controls",
            "layout": "IPY_MODEL_e4598b17b5e042d99f8564e88ff3cc65"
          }
        },
        "b227571dc48d49ab9728145d86d63502": {
          "model_module": "@jupyter-widgets/controls",
          "model_name": "HTMLModel",
          "state": {
            "_view_name": "HTMLView",
            "style": "IPY_MODEL_4d051deaeb794357a3b548610cf8f161",
            "_dom_classes": [],
            "description": "",
            "_model_name": "HTMLModel",
            "placeholder": "​",
            "_view_module": "@jupyter-widgets/controls",
            "_model_module_version": "1.5.0",
            "value": " 28.0/28.0 [00:00&lt;00:00, 75.1B/s]",
            "_view_count": null,
            "_view_module_version": "1.5.0",
            "description_tooltip": null,
            "_model_module": "@jupyter-widgets/controls",
            "layout": "IPY_MODEL_6c55f67e84134c7e95de9d76279cb7e0"
          }
        },
        "b93355844e6042539567f76ac48ac3d8": {
          "model_module": "@jupyter-widgets/controls",
          "model_name": "ProgressStyleModel",
          "state": {
            "_view_name": "StyleView",
            "_model_name": "ProgressStyleModel",
            "description_width": "initial",
            "_view_module": "@jupyter-widgets/base",
            "_model_module_version": "1.5.0",
            "_view_count": null,
            "_view_module_version": "1.2.0",
            "bar_color": null,
            "_model_module": "@jupyter-widgets/controls"
          }
        },
        "e4598b17b5e042d99f8564e88ff3cc65": {
          "model_module": "@jupyter-widgets/base",
          "model_name": "LayoutModel",
          "state": {
            "_view_name": "LayoutView",
            "grid_template_rows": null,
            "right": null,
            "justify_content": null,
            "_view_module": "@jupyter-widgets/base",
            "overflow": null,
            "_model_module_version": "1.2.0",
            "_view_count": null,
            "flex_flow": null,
            "width": null,
            "min_width": null,
            "border": null,
            "align_items": null,
            "bottom": null,
            "_model_module": "@jupyter-widgets/base",
            "top": null,
            "grid_column": null,
            "overflow_y": null,
            "overflow_x": null,
            "grid_auto_flow": null,
            "grid_area": null,
            "grid_template_columns": null,
            "flex": null,
            "_model_name": "LayoutModel",
            "justify_items": null,
            "grid_row": null,
            "max_height": null,
            "align_content": null,
            "visibility": null,
            "align_self": null,
            "height": null,
            "min_height": null,
            "padding": null,
            "grid_auto_rows": null,
            "grid_gap": null,
            "max_width": null,
            "order": null,
            "_view_module_version": "1.2.0",
            "grid_template_areas": null,
            "object_position": null,
            "object_fit": null,
            "grid_auto_columns": null,
            "margin": null,
            "display": null,
            "left": null
          }
        },
        "4d051deaeb794357a3b548610cf8f161": {
          "model_module": "@jupyter-widgets/controls",
          "model_name": "DescriptionStyleModel",
          "state": {
            "_view_name": "StyleView",
            "_model_name": "DescriptionStyleModel",
            "description_width": "",
            "_view_module": "@jupyter-widgets/base",
            "_model_module_version": "1.5.0",
            "_view_count": null,
            "_view_module_version": "1.2.0",
            "_model_module": "@jupyter-widgets/controls"
          }
        },
        "6c55f67e84134c7e95de9d76279cb7e0": {
          "model_module": "@jupyter-widgets/base",
          "model_name": "LayoutModel",
          "state": {
            "_view_name": "LayoutView",
            "grid_template_rows": null,
            "right": null,
            "justify_content": null,
            "_view_module": "@jupyter-widgets/base",
            "overflow": null,
            "_model_module_version": "1.2.0",
            "_view_count": null,
            "flex_flow": null,
            "width": null,
            "min_width": null,
            "border": null,
            "align_items": null,
            "bottom": null,
            "_model_module": "@jupyter-widgets/base",
            "top": null,
            "grid_column": null,
            "overflow_y": null,
            "overflow_x": null,
            "grid_auto_flow": null,
            "grid_area": null,
            "grid_template_columns": null,
            "flex": null,
            "_model_name": "LayoutModel",
            "justify_items": null,
            "grid_row": null,
            "max_height": null,
            "align_content": null,
            "visibility": null,
            "align_self": null,
            "height": null,
            "min_height": null,
            "padding": null,
            "grid_auto_rows": null,
            "grid_gap": null,
            "max_width": null,
            "order": null,
            "_view_module_version": "1.2.0",
            "grid_template_areas": null,
            "object_position": null,
            "object_fit": null,
            "grid_auto_columns": null,
            "margin": null,
            "display": null,
            "left": null
          }
        },
        "efaed275e54349768436e8b733be143e": {
          "model_module": "@jupyter-widgets/controls",
          "model_name": "HBoxModel",
          "state": {
            "_view_name": "HBoxView",
            "_dom_classes": [],
            "_model_name": "HBoxModel",
            "_view_module": "@jupyter-widgets/controls",
            "_model_module_version": "1.5.0",
            "_view_count": null,
            "_view_module_version": "1.5.0",
            "box_style": "",
            "layout": "IPY_MODEL_f3e66102139b4042bd5917cd812b9397",
            "_model_module": "@jupyter-widgets/controls",
            "children": [
              "IPY_MODEL_4914027b31a94329bb68ba7ea8b3c5a5",
              "IPY_MODEL_824a16b3997c4783ae4a155024c5b83e"
            ]
          }
        },
        "f3e66102139b4042bd5917cd812b9397": {
          "model_module": "@jupyter-widgets/base",
          "model_name": "LayoutModel",
          "state": {
            "_view_name": "LayoutView",
            "grid_template_rows": null,
            "right": null,
            "justify_content": null,
            "_view_module": "@jupyter-widgets/base",
            "overflow": null,
            "_model_module_version": "1.2.0",
            "_view_count": null,
            "flex_flow": null,
            "width": null,
            "min_width": null,
            "border": null,
            "align_items": null,
            "bottom": null,
            "_model_module": "@jupyter-widgets/base",
            "top": null,
            "grid_column": null,
            "overflow_y": null,
            "overflow_x": null,
            "grid_auto_flow": null,
            "grid_area": null,
            "grid_template_columns": null,
            "flex": null,
            "_model_name": "LayoutModel",
            "justify_items": null,
            "grid_row": null,
            "max_height": null,
            "align_content": null,
            "visibility": null,
            "align_self": null,
            "height": null,
            "min_height": null,
            "padding": null,
            "grid_auto_rows": null,
            "grid_gap": null,
            "max_width": null,
            "order": null,
            "_view_module_version": "1.2.0",
            "grid_template_areas": null,
            "object_position": null,
            "object_fit": null,
            "grid_auto_columns": null,
            "margin": null,
            "display": null,
            "left": null
          }
        },
        "4914027b31a94329bb68ba7ea8b3c5a5": {
          "model_module": "@jupyter-widgets/controls",
          "model_name": "FloatProgressModel",
          "state": {
            "_view_name": "ProgressView",
            "style": "IPY_MODEL_a85c5a29f1bf462ab9b53bad255fc275",
            "_dom_classes": [],
            "description": "Downloading: 100%",
            "_model_name": "FloatProgressModel",
            "bar_style": "success",
            "max": 466062,
            "_view_module": "@jupyter-widgets/controls",
            "_model_module_version": "1.5.0",
            "value": 466062,
            "_view_count": null,
            "_view_module_version": "1.5.0",
            "orientation": "horizontal",
            "min": 0,
            "description_tooltip": null,
            "_model_module": "@jupyter-widgets/controls",
            "layout": "IPY_MODEL_7c43cbcbe3ee4d3ca1f9561089f2c488"
          }
        },
        "824a16b3997c4783ae4a155024c5b83e": {
          "model_module": "@jupyter-widgets/controls",
          "model_name": "HTMLModel",
          "state": {
            "_view_name": "HTMLView",
            "style": "IPY_MODEL_e977ee2264aa45139740811a52af32f9",
            "_dom_classes": [],
            "description": "",
            "_model_name": "HTMLModel",
            "placeholder": "​",
            "_view_module": "@jupyter-widgets/controls",
            "_model_module_version": "1.5.0",
            "value": " 466k/466k [00:00&lt;00:00, 2.91MB/s]",
            "_view_count": null,
            "_view_module_version": "1.5.0",
            "description_tooltip": null,
            "_model_module": "@jupyter-widgets/controls",
            "layout": "IPY_MODEL_7bebeee1b9ef4599bfefb0b2f4c7828d"
          }
        },
        "a85c5a29f1bf462ab9b53bad255fc275": {
          "model_module": "@jupyter-widgets/controls",
          "model_name": "ProgressStyleModel",
          "state": {
            "_view_name": "StyleView",
            "_model_name": "ProgressStyleModel",
            "description_width": "initial",
            "_view_module": "@jupyter-widgets/base",
            "_model_module_version": "1.5.0",
            "_view_count": null,
            "_view_module_version": "1.2.0",
            "bar_color": null,
            "_model_module": "@jupyter-widgets/controls"
          }
        },
        "7c43cbcbe3ee4d3ca1f9561089f2c488": {
          "model_module": "@jupyter-widgets/base",
          "model_name": "LayoutModel",
          "state": {
            "_view_name": "LayoutView",
            "grid_template_rows": null,
            "right": null,
            "justify_content": null,
            "_view_module": "@jupyter-widgets/base",
            "overflow": null,
            "_model_module_version": "1.2.0",
            "_view_count": null,
            "flex_flow": null,
            "width": null,
            "min_width": null,
            "border": null,
            "align_items": null,
            "bottom": null,
            "_model_module": "@jupyter-widgets/base",
            "top": null,
            "grid_column": null,
            "overflow_y": null,
            "overflow_x": null,
            "grid_auto_flow": null,
            "grid_area": null,
            "grid_template_columns": null,
            "flex": null,
            "_model_name": "LayoutModel",
            "justify_items": null,
            "grid_row": null,
            "max_height": null,
            "align_content": null,
            "visibility": null,
            "align_self": null,
            "height": null,
            "min_height": null,
            "padding": null,
            "grid_auto_rows": null,
            "grid_gap": null,
            "max_width": null,
            "order": null,
            "_view_module_version": "1.2.0",
            "grid_template_areas": null,
            "object_position": null,
            "object_fit": null,
            "grid_auto_columns": null,
            "margin": null,
            "display": null,
            "left": null
          }
        },
        "e977ee2264aa45139740811a52af32f9": {
          "model_module": "@jupyter-widgets/controls",
          "model_name": "DescriptionStyleModel",
          "state": {
            "_view_name": "StyleView",
            "_model_name": "DescriptionStyleModel",
            "description_width": "",
            "_view_module": "@jupyter-widgets/base",
            "_model_module_version": "1.5.0",
            "_view_count": null,
            "_view_module_version": "1.2.0",
            "_model_module": "@jupyter-widgets/controls"
          }
        },
        "7bebeee1b9ef4599bfefb0b2f4c7828d": {
          "model_module": "@jupyter-widgets/base",
          "model_name": "LayoutModel",
          "state": {
            "_view_name": "LayoutView",
            "grid_template_rows": null,
            "right": null,
            "justify_content": null,
            "_view_module": "@jupyter-widgets/base",
            "overflow": null,
            "_model_module_version": "1.2.0",
            "_view_count": null,
            "flex_flow": null,
            "width": null,
            "min_width": null,
            "border": null,
            "align_items": null,
            "bottom": null,
            "_model_module": "@jupyter-widgets/base",
            "top": null,
            "grid_column": null,
            "overflow_y": null,
            "overflow_x": null,
            "grid_auto_flow": null,
            "grid_area": null,
            "grid_template_columns": null,
            "flex": null,
            "_model_name": "LayoutModel",
            "justify_items": null,
            "grid_row": null,
            "max_height": null,
            "align_content": null,
            "visibility": null,
            "align_self": null,
            "height": null,
            "min_height": null,
            "padding": null,
            "grid_auto_rows": null,
            "grid_gap": null,
            "max_width": null,
            "order": null,
            "_view_module_version": "1.2.0",
            "grid_template_areas": null,
            "object_position": null,
            "object_fit": null,
            "grid_auto_columns": null,
            "margin": null,
            "display": null,
            "left": null
          }
        }
      }
    }
  },
  "cells": [
    {
      "cell_type": "markdown",
      "metadata": {
        "id": "view-in-github",
        "colab_type": "text"
      },
      "source": [
        "<a href=\"https://colab.research.google.com/github/urvashiramdasani/Document-Summarization/blob/main/notebooks/20_newsgroups_using_HMM.ipynb\" target=\"_parent\"><img src=\"https://colab.research.google.com/assets/colab-badge.svg\" alt=\"Open In Colab\"/></a>"
      ]
    },
    {
      "cell_type": "markdown",
      "metadata": {
        "id": "XT2LJ3MCXVf4"
      },
      "source": [
        "This notebook presents the code for 20 Newsgroups dataset document summarization.\n",
        "\n",
        "## Setting up GitHub"
      ]
    },
    {
      "cell_type": "code",
      "metadata": {
        "colab": {
          "base_uri": "https://localhost:8080/"
        },
        "id": "OqxJArvQWw95",
        "outputId": "1101268d-f52e-4a2c-ee06-c2320ef4b395"
      },
      "source": [
        "!git clone https://github.com/urvashiramdasani/Document-Summarization.git"
      ],
      "execution_count": 1,
      "outputs": [
        {
          "output_type": "stream",
          "text": [
            "Cloning into 'Document-Summarization'...\n",
            "remote: Enumerating objects: 18944, done.\u001b[K\n",
            "remote: Counting objects: 100% (18944/18944), done.\u001b[K\n",
            "remote: Compressing objects: 100% (18909/18909), done.\u001b[K\n",
            "remote: Total 18944 (delta 56), reused 18893 (delta 33), pack-reused 0\n",
            "Receiving objects: 100% (18944/18944), 19.52 MiB | 18.35 MiB/s, done.\n",
            "Resolving deltas: 100% (56/56), done.\n",
            "Checking out files: 100% (18855/18855), done.\n"
          ],
          "name": "stdout"
        }
      ]
    },
    {
      "cell_type": "markdown",
      "metadata": {
        "id": "LMNu-_KMDOxQ"
      },
      "source": [
        "## Data Preprocessing"
      ]
    },
    {
      "cell_type": "code",
      "metadata": {
        "id": "DgevSmTPXqff"
      },
      "source": [
        "def read_article(file_name):\n",
        "    file = open(file_name, \"r\")\n",
        "    filedata = file.readlines()\n",
        "    filedata = filedata[15:]\n",
        "    sentences = []\n",
        "\n",
        "    for sentence in filedata:\n",
        "        sentences.append(sentence.replace(\"[^a-zA-Z]\", \" \").strip(\" \\n\"))\n",
        "    \n",
        "    return sentences"
      ],
      "execution_count": 2,
      "outputs": []
    },
    {
      "cell_type": "code",
      "metadata": {
        "colab": {
          "base_uri": "https://localhost:8080/"
        },
        "id": "cUICRc1YDxCU",
        "outputId": "5c53080a-6c00-4949-a63c-a90e9937a047"
      },
      "source": [
        "# Reading a sample article\n",
        "\n",
        "sentences = read_article(\"/content/Document-Summarization/data/20news-bydate-train/sci.space/59905\")\n",
        "sentences = list(filter(None, sentences))\n",
        "print(sentences)"
      ],
      "execution_count": 22,
      "outputs": [
        {
          "output_type": "stream",
          "text": [
            "['This section was lightly adapted from an original posting by Larry Klaes', '(klaes@verga.enet.dec.com), mostly minor formatting changes. Matthew', 'Wiener (weemba@libra.wistar.upenn.edu) contributed the section on', 'Voyager, and the section on Sakigake was obtained from ISAS material', 'posted by Yoshiro Yamada (yamada@yscvax.ysc.go.jp).', 'US PLANETARY MISSIONS', 'MARINER (VENUS, MARS, & MERCURY FLYBYS AND ORBITERS)', 'MARINER 1, the first U.S. attempt to send a spacecraft to Venus, failed', 'minutes after launch in 1962. The guidance instructions from the ground', 'stopped reaching the rocket due to a problem with its antenna, so the', 'onboard computer took control. However, there turned out to be a bug in', 'the guidance software, and the rocket promptly went off course, so the', 'Range Safety Officer destroyed it. Although the bug is sometimes claimed', 'to have been an incorrect FORTRAN DO statement, it was actually a', 'transcription error in which the bar (indicating smoothing) was omitted', 'from the expression \"R-dot-bar sub n\" (nth smoothed value of derivative', 'of radius). This error led the software to treat normal minor variations', 'of velocity as if they were serious, leading to incorrect compensation.', 'MARINER 2 became the first successful probe to flyby Venus in December', 'of 1962, and it returned information which confirmed that Venus is a', 'very hot (800 degrees Fahrenheit, now revised to 900 degrees F.) world', 'with a cloud-covered atmosphere composed primarily of carbon dioxide', '(sulfuric acid was later confirmed in 1978).', 'MARINER 3, launched on November 5, 1964, was lost when its protective', 'shroud failed to eject as the craft was placed into interplanetary', \"space. Unable to collect the Sun's energy for power from its solar\", 'panels, the probe soon died when its batteries ran out and is now in', 'solar orbit. It was intended for a Mars flyby with MARINER 4.', 'MARINER 4, the sister probe to MARINER 3, did reach Mars in 1965 and', 'took the first close-up images of the Martian surface (22 in all) as it', 'flew by the planet. The probe found a cratered world with an atmosphere', 'much thinner than previously thought. Many scientists concluded from', 'this preliminary scan that Mars was a \"dead\" world in both the', 'geological and biological sense.', 'MARINER 5 was sent to Venus in 1967. It reconfirmed the data on that', 'planet collected five years earlier by MARINER 2, plus the information', \"that Venus' atmospheric pressure at its surface is at least 90 times\", \"that of Earth's, or the equivalent of being 3,300 feet under the surface\", 'of an ocean.', 'MARINER 6 and 7 were sent to Mars in 1969 and expanded upon the work', 'done by MARINER 4 four years earlier. However, they failed to take away', 'the concept of Mars as a \"dead\" planet, first made from the basic', 'measurements of MARINER 4.', 'MARINER 8 ended up in the Atlantic Ocean in 1971 when the rocket', 'launcher autopilot failed.', 'MARINER 9, the sister probe to MARINER 8, became the first craft to', 'orbit Mars in 1971. It returned information on the Red Planet that no', 'other probe had done before, revealing huge volcanoes on the Martian', 'surface, as well as giant canyon systems, and evidence that water once', 'flowed across the planet. The probe also took the first detailed closeup', \"images of Mars' two small moons, Phobos and Deimos.\", 'MARINER 10 used Venus as a gravity assist to Mercury in 1974. The probe', 'did return the first close-up images of the Venusian atmosphere in', 'ultraviolet, revealing previously unseen details in the cloud cover,', 'plus the fact that the entire cloud system circles the planet in four', 'Earth days. MARINER 10 eventually made three flybys of Mercury from 1974', 'to 1975 before running out of attitude control gas. The probe revealed', 'Mercury as a heavily cratered world with a mass much greater than', 'thought. This would seem to indicate that Mercury has an iron core which', 'makes up 75 percent of the entire planet.', 'PIONEER (MOON, SUN, VENUS, JUPITER, and SATURN FLYBYS AND ORBITERS)', 'PIONEER 1 through 3 failed to meet their main objective - to photograph', 'the Moon close-up - but they did reach far enough into space to provide', 'new information on the area between Earth and the Moon, including new', 'data on the Van Allen radiation belts circling Earth. All three craft', 'had failures with their rocket launchers. PIONEER 1 was launched on', 'October 11, 1958, PIONEER 2 on November 8, and PIONEER 3 on December 6.', 'PIONEER 4 was a Moon probe which missed the Moon and became the first', 'U.S. spacecraft to orbit the Sun in 1959. PIONEER 5 was originally', 'designed to flyby Venus, but the mission was scaled down and it instead', 'studied the interplanetary environment between Venus and Earth out to', '36.2 million kilometers in 1960, a record until MARINER 2. PIONEER 6', 'through 9 were placed into solar orbit from 1965 to 1968: PIONEER 6, 7,', 'and 8 are still transmitting information at this time. PIONEER E (would', 'have been number 10) suffered a launch failure in 1969.', 'PIONEER 10 became the first spacecraft to flyby Jupiter in 1973. PIONEER', '11 followed it in 1974, and then went on to become the first probe to', 'study Saturn in 1979. Both vehicles should continue to function through', '1995 and are heading off into interstellar space, the first craft ever', 'to do so.', 'PIONEER Venus 1 (1978) (also known as PIONEER Venus Orbiter, or PIONEER', '12) burned up in the Venusian atmosphere on October 8, 1992. PVO made', \"the first radar studies of the planet's surface via probe. PIONEER Venus\", '2 (also known as PIONEER 13) sent four small probes into the atmosphere', 'in December of 1978. The main spacecraft bus burned up high in the', 'atmosphere, while the four probes descended by parachute towards the', 'surface. Though none were expected to survive to the surface, the Day', 'probe did make it and transmitted for 67.5 minutes on the ground before', 'its batteries failed.', 'RANGER (LUNAR LANDER AND IMPACT MISSIONS)', 'RANGER 1 and 2 were test probes for the RANGER lunar impact series. They', 'were meant for high Earth orbit testing in 1961, but rocket problems', 'left them in useless low orbits which quickly decayed.', 'RANGER 3, launched on January 26, 1962, was intended to land an', 'instrument capsule on the surface of the Moon, but problems during the', 'launch caused the probe to miss the Moon and head into solar orbit.', 'RANGER 3 did try to take some images of the Moon as it flew by, but the', 'camera was unfortunately aimed at deep space during the attempt.', 'RANGER 4, launched April 23, 1962, had the same purpose as RANGER 3, but', 'suffered technical problems enroute and crashed on the lunar farside,', 'the first U.S. probe to reach the Moon, albeit without returning data.', 'RANGER 5, launched October 18, 1962 and similar to RANGER 3 and 4, lost', 'all solar panel and battery power enroute and eventually missed the Moon', 'and drifted off into solar orbit.', 'RANGER 6 through 9 had more modified lunar missions: They were to send', 'back live images of the lunar surface as they headed towards an impact', 'with the Moon. RANGER 6 failed this objective in 1964 when its cameras', 'did not operate. RANGER 7 through 9 performed well, becoming the first', 'U.S. lunar probes to return thousands of lunar images through 1965.', 'LUNAR ORBITER (LUNAR SURFACE PHOTOGRAPHY)', 'LUNAR ORBITER 1 through 5 were designed to orbit the Moon and image', 'various sites being studied as landing areas for the manned APOLLO', 'missions of 1969-1972. The probes also contributed greatly to our', 'understanding of lunar surface features, particularly the lunar farside.', 'All five probes of the series, launched from 1966 to 1967, were', 'essentially successful in their missions. They were the first U.S.', 'probes to orbit the Moon. All LOs were eventually crashed into the lunar', 'surface to avoid interference with the manned APOLLO missions.', 'SURVEYOR (LUNAR SOFT LANDERS)', 'The SURVEYOR series were designed primarily to see if an APOLLO lunar', 'module could land on the surface of the Moon without sinking into the', 'soil (before this time, it was feared by some that the Moon was covered', 'in great layers of dust, which would not support a heavy landing', 'vehicle). SURVEYOR was successful in proving that the lunar surface was', 'strong enough to hold up a spacecraft from 1966 to 1968.', 'Only SURVEYOR 2 and 4 were unsuccessful missions. The rest became the', 'first U.S. probes to soft land on the Moon, taking thousands of images', 'and scooping the soil for analysis. APOLLO 12 landed 600 feet from', 'SURVEYOR 3 in 1969 and returned parts of the craft to Earth. SURVEYOR 7,', 'the last of the series, was a purely scientific mission which explored', 'the Tycho crater region in 1968.', 'VIKING (MARS ORBITERS AND LANDERS)', 'VIKING 1 was launched from Cape Canaveral, Florida on August 20, 1975 on', 'a TITAN 3E-CENTAUR D1 rocket. The probe went into Martian orbit on June', '19, 1976, and the lander set down on the western slopes of Chryse', 'Planitia on July 20, 1976. It soon began its programmed search for', 'Martian micro-organisms (there is still debate as to whether the probes', 'found life there or not), and sent back incredible color panoramas of', \"its surroundings. One thing scientists learned was that Mars' sky was\", 'pinkish in color, not dark blue as they originally thought (the sky is', 'pink due to sunlight reflecting off the reddish dust particles in the', 'thin atmosphere). The lander set down among a field of red sand and', 'boulders stretching out as far as its cameras could image.', 'The VIKING 1 orbiter kept functioning until August 7, 1980, when it ran', 'out of attitude-control propellant. The lander was switched into a', 'weather-reporting mode, where it had been hoped it would keep', 'functioning through 1994; but after November 13, 1982, an errant command', 'had been sent to the lander accidentally telling it to shut down until', 'further orders. Communication was never regained again, despite the', \"engineers' efforts through May of 1983.\", \"An interesting side note: VIKING 1's lander has been designated the\", 'Thomas A. Mutch Memorial Station in honor of the late leader of the', 'lander imaging team. The National Air and Space Museum in Washington,', 'D.C. is entrusted with the safekeeping of the Mutch Station Plaque until', 'it can be attached to the lander by a manned expedition.', 'VIKING 2 was launched on September 9, 1975, and arrived in Martian orbit', 'on August 7, 1976. The lander touched down on September 3, 1976 in', 'Utopia Planitia. It accomplished essentially the same tasks as its', 'sister lander, with the exception that its seisometer worked, recording', 'one marsquake. The orbiter had a series of attitude-control gas leaks in', '1978, which prompted it being shut down that July. The lander was shut', 'down on April 12, 1980.', 'The orbits of both VIKING orbiters should decay around 2025.', 'VOYAGER (OUTER PLANET FLYBYS)', 'VOYAGER 1 was launched September 5, 1977, and flew past Jupiter on March', '5, 1979 and by Saturn on November 13, 1980. VOYAGER 2 was launched', 'August 20, 1977 (before VOYAGER 1), and flew by Jupiter on August 7,', '1979, by Saturn on August 26, 1981, by Uranus on January 24, 1986, and', 'by Neptune on August 8, 1989. VOYAGER 2 took advantage of a rare', 'once-every-189-years alignment to slingshot its way from outer planet to', 'outer planet. VOYAGER 1 could, in principle, have headed towards Pluto,', 'but JPL opted for the sure thing of a Titan close up.', 'Between the two probes, our knowledge of the 4 giant planets, their', 'satellites, and their rings has become immense. VOYAGER 1&2 discovered', 'that Jupiter has complicated atmospheric dynamics, lightning and', 'aurorae. Three new satellites were discovered. Two of the major', 'surprises were that Jupiter has rings and that Io has active sulfurous', 'volcanoes, with major effects on the Jovian magnetosphere.', 'When the two probes reached Saturn, they discovered over 1000 ringlets', 'and 7 satellites, including the predicted shepherd satellites that keep', 'the rings stable. The weather was tame compared with Jupiter: massive', 'jet streams with minimal variance (a 33-year great white spot/band cycle', \"is known). Titan's atmosphere was smoggy. Mimas' appearance was\", 'startling: one massive impact crater gave it the Death Star appearance.', 'The big surprise here was the stranger aspects of the rings. Braids,', 'kinks, and spokes were both unexpected and difficult to explain.', 'VOYAGER 2, thanks to heroic engineering and programming efforts,', 'continued the mission to Uranus and Neptune. Uranus itself was highly', 'monochromatic in appearance. One oddity was that its magnetic axis was', 'found to be highly skewed from the already completely skewed rotational', 'axis, giving Uranus a peculiar magnetosphere. Icy channels were found on', 'Ariel, and Miranda was a bizarre patchwork of different terrains. 10', 'satellites and one more ring were discovered.', 'In contrast to Uranus, Neptune was found to have rather active weather,', 'including numerous cloud features. The ring arcs turned out to be bright', 'patches on one ring. Two other rings, and 6 other satellites, were', \"discovered. Neptune's magnetic axis was also skewed. Triton had a\", \"canteloupe appearance and geysers. (What's liquid at 38K?)\", 'The two VOYAGERs are expected to last for about two more decades. Their', 'on-target journeying gives negative evidence about possible planets', 'beyond Pluto. Their next major scientific discovery should be the', 'location of the heliopause.', 'SOVIET PLANETARY MISSIONS', 'Since there have been so many Soviet probes to the Moon, Venus, and', 'Mars, I will highlight only the primary missions:', 'SOVIET LUNAR PROBES', 'LUNA 1 - Lunar impact attempt in 1959, missed Moon and became first', '\\t     craft in solar orbit.', 'LUNA 2 - First craft to impact on lunar surface in 1959.', 'LUNA 3 - Took first images of lunar farside in 1959.', 'ZOND 3 - Took first images of lunar farside in 1965 since LUNA 3. Was', '\\t     also a test for future Mars missions.', 'LUNA 9 - First probe to soft land on the Moon in 1966, returned images', '\\t     from surface.', 'LUNA 10 - First probe to orbit the Moon in 1966.', 'LUNA 13 - Second successful Soviet lunar soft landing mission in 1966.', 'ZOND 5 - First successful circumlunar craft. ZOND 6 through 8', '\\t     accomplished similar missions through 1970. The probes were', '\\t     unmanned tests of a manned orbiting SOYUZ-type lunar vehicle.', 'LUNA 16 - First probe to land on Moon and return samples of lunar soil', '\\t      to Earth in 1970. LUNA 20 accomplished similar mission in', '\\t      1972.', \"LUNA 17 - Delivered the first unmanned lunar rover to the Moon's\", '\\t      surface, LUNOKHOD 1, in 1970. A similar feat was accomplished', '\\t      with LUNA 21/LUNOKHOD 2 in 1973.', 'LUNA 24 - Last Soviet lunar mission to date. Returned soil samples in', '\\t      1976.', 'SOVIET VENUS PROBES', 'VENERA 1 - First acknowledged attempt at Venus mission. Transmissions', '\\t       lost enroute in 1961.', 'VENERA 2 - Attempt to image Venus during flyby mission in tandem with', '\\t       VENERA 3. Probe ceased transmitting just before encounter in', '\\t       February of 1966. No images were returned.', 'VENERA 3 - Attempt to place a lander capsule on Venusian surface.', '\\t       Transmissions ceased just before encounter and entire probe', '\\t       became the first craft to impact on another planet in 1966.', 'VENERA 4 - First probe to successfully return data while descending', '\\t       through Venusian atmosphere. Crushed by air pressure before', '\\t       reaching surface in 1967. VENERA 5 and 6 mission profiles', '\\t       similar in 1969.', 'VENERA 7 - First probe to return data from the surface of another planet', '\\t       in 1970. VENERA 8 accomplished a more detailed mission in', '\\t       1972.', 'VENERA 9 - Sent first image of Venusian surface in 1975. Was also the', '\\t       first probe to orbit Venus. VENERA 10 accomplished similar', '\\t       mission.', 'VENERA 13 - Returned first color images of Venusian surface in 1982.', '\\t\\tVENERA 14 accomplished similar mission.', 'VENERA 15 - Accomplished radar mapping with VENERA 16 of sections of', \"\\t\\tplanet's surface in 1983 more detailed than PVO.\", 'VEGA 1 - Accomplished with VEGA 2 first balloon probes of Venusian', '\\t     atmosphere in 1985, including two landers. Flyby buses went on', '\\t     to become first spacecraft to study Comet Halley close-up in', '\\t     March of 1986.', 'SOVIET MARS PROBES', 'MARS 1 - First acknowledged Mars probe in 1962. Transmissions ceased', '\\t     enroute the following year.', 'ZOND 2 - First possible attempt to place a lander capsule on Martian', '\\t     surface. Probe signals ceased enroute in 1965.', 'MARS 2 - First Soviet Mars probe to land - albeit crash - on Martian', '\\t     surface. Orbiter section first Soviet probe to circle the Red', '\\t     Planet in 1971.', 'MARS 3 - First successful soft landing on Martian surface, but lander', '\\t     signals ceased after 90 seconds in 1971.', 'MARS 4 - Attempt at orbiting Mars in 1974, braking rockets failed to', '\\t     fire, probe went on into solar orbit.', 'MARS 5 - First fully successful Soviet Mars mission, orbiting Mars in', '\\t     1974. Returned images of Martian surface comparable to U.S.', '\\t     probe MARINER 9.', 'MARS 6 - Landing attempt in 1974. Lander crashed into the surface.', 'MARS 7 - Lander missed Mars completely in 1974, went into a solar orbit', '\\t     with its flyby bus.', \"PHOBOS 1 - First attempt to land probes on surface of Mars' largest\", '\\t       moon, Phobos. Probe failed enroute in 1988 due to', '\\t       human/computer error.', 'PHOBOS 2 - Attempt to land probes on Martian moon Phobos. The probe did', '\\t       enter Mars orbit in early 1989, but signals ceased one week', '\\t       before scheduled Phobos landing.', 'While there has been talk of Soviet Jupiter, Saturn, and even', 'interstellar probes within the next thirty years, no major steps have', 'yet been taken with these projects. More intensive studies of the Moon,', 'Mars, Venus, and various comets have been planned for the 1990s, and a', 'Mercury mission to orbit and land probes on the tiny world has been', 'planned for 2003. How the many changes in the former Soviet Union (now', 'the Commonwealth of Independent States) will affect the future of their', 'space program remains to be seen.', 'JAPANESE PLANETARY MISSIONS', 'SAKIGAKE (MS-T5) was launched from the Kagoshima Space Center by ISAS on', \"January 8 1985, and approached Halley's Comet within about 7 million km\", 'on March 11, 1986. The spacecraft is carrying three instru- ments to', 'measure interplanetary magnetic field/plasma waves/solar wind, all of', 'which work normally now, so ISAS made an Earth swingby by Sakigake on', \"January 8, 1992 into an orbit similar to the earth's. The closest\", 'approach was at 23h08m47s (JST=UTC+9h) on January 8, 1992. The', 'geocentric distance was 88,997 km. This is the first planet-swingby for', 'a Japanese spacecraft.', 'During the approach, Sakigake observed the geotail. Some geotail', 'passages will be scheduled in some years hence. The second Earth-swingby', \"will be on June 14, 1993 (at 40 Re (Earth's radius)), and the third\", 'October 28, 1994 (at 86 Re).', 'HITEN, a small lunar probe, was launched into Earth orbit on January 24,', '1990. The spacecraft was then known as MUSES-A, but was renamed to Hiten', 'once in orbit. The 430 lb probe looped out from Earth and made its first', 'lunary flyby on March 19, where it dropped off its 26 lb midget', 'satellite, HAGOROMO. Japan at this point became the third nation to', 'orbit a satellite around the Moon, joining the Unites States and USSR.', 'The smaller spacecraft, Hagoromo, remained in orbit around the Moon. An', 'apparently broken transistor radio caused the Japanese space scientists', \"to lose track of it. Hagoromo's rocket motor fired on schedule on March\", \"19, but the spacecraft's tracking transmitter failed immediately. The\", 'rocket firing of Hagoromo was optically confirmed using the Schmidt', 'camera (105-cm, F3.1) at the Kiso Observatory in Japan.', 'Hiten made multiple lunar flybys at approximately monthly intervals and', \"performed aerobraking experiments using the Earth's atmosphere. Hiten\", 'made a close approach to the moon at 22:33 JST (UTC+9h) on February 15,', \"1992 at the height of 423 km from the moon's surface (35.3N, 9.7E) and\", 'fired its propulsion system for about ten minutes to put the craft into', 'lunar orbit. The following is the orbital calculation results after the', 'approach:', '\\tApoapsis Altitude: about 49,400 km', '\\tPeriapsis Altitude: about 9,600 km', '\\tInclination\\t: 34.7 deg (to ecliptic plane)', '\\tPeriod\\t\\t: 4.7 days', 'PLANETARY MISSION REFERENCES', 'I also recommend reading the following works, categorized in three', 'groups: General overviews, specific books on particular space missions,', 'and periodical sources on space probes. This list is by no means', 'complete; it is primarily designed to give you places to start your', 'research through generally available works on the subject. If anyone can', 'add pertinent works to the list, it would be greatly appreciated.', 'Though naturally I recommend all the books listed below, I think it', 'would be best if you started out with the general overview books, in', 'order to give you a clear idea of the history of space exploration in', 'this area. I also recommend that you pick up some good, up-to-date', 'general works on astronomy and the Sol system, to give you some extra', 'background. Most of these books and periodicals can be found in any good', 'public and university library. Some of the more recently published works', 'can also be purchased in and/or ordered through any good mass- market', 'bookstore.', 'General Overviews (in alphabetical order by author):', 'J. Kelly Beatty et al, THE NEW SOLAR SYSTEM, 1990.', 'Merton E. Davies and Bruce C. Murray, THE VIEW FROM SPACE:', 'PHOTOGRAPHIC EXPLORATION OF THE PLANETS, 1971', 'Kenneth Gatland, THE ILLUSTRATED ENCYCLOPEDIA OF SPACE', 'TECHNOLOGY, 1990', 'Kenneth Gatland, ROBOT EXPLORERS, 1972', 'R. Greeley, PLANETARY LANDSCAPES, 1987', 'Douglas Hart, THE ENCYCLOPEDIA OF SOVIET SPACECRAFT, 1987', 'Nicholas L. Johnson, HANDBOOK OF SOVIET LUNAR AND PLANETARY', 'EXPLORATION, 1979', 'Clayton R. Koppes, JPL AND THE AMERICAN SPACE PROGRAM: A', 'HISTORY OF THE JET PROPULSION LABORATORY, 1982', 'Richard S. Lewis, THE ILLUSTRATED ENCYCLOPEDIA OF THE', 'UNIVERSE, 1983', 'Mark Littman, PLANETS BEYOND: DISCOVERING THE OUTER SOLAR', 'SYSTEM, 1988', 'Eugene F. Mallove and Gregory L. Matloff, THE STARFLIGHT', \"HANDBOOK: A PIONEER'S GUIDE TO INTERSTELLAR TRAVEL, 1989\", 'Frank Miles and Nicholas Booth, RACE TO MARS: THE MARS', 'FLIGHT ATLAS, 1988', 'Bruce Murray, JOURNEY INTO SPACE, 1989', 'Oran W. Nicks, FAR TRAVELERS, 1985 (NASA SP-480)', 'James E. Oberg, UNCOVERING SOVIET DISASTERS: EXPLORING THE', 'LIMITS OF GLASNOST, 1988', 'Carl Sagan, COMET, 1986', 'Carl Sagan, THE COSMIC CONNECTION, 1973', 'Carl Sagan, PLANETS, 1969 (LIFE Science Library)', 'Arthur Smith, PLANETARY EXPLORATION: THIRTY YEARS OF UNMANNED', 'SPACE PROBES, 1988', \"Andrew Wilson, (JANE'S) SOLAR SYSTEM LOG, 1987\", 'Specific Mission References:', 'Charles A. Cross and Patrick Moore, THE ATLAS OF MERCURY, 1977', '(The MARINER 10 mission to Venus and Mercury, 1973-1975)', 'Joel Davis, FLYBY: THE INTERPLANETARY ODYSSEY OF VOYAGER 2, 1987', 'Irl Newlan, FIRST TO VENUS: THE STORY OF MARINER 2, 1963', 'Margaret Poynter and Arthur L. Lane, VOYAGER: THE STORY OF A', 'SPACE MISSION, 1984', 'Carl Sagan, MURMURS OF EARTH, 1978 (Deals with the Earth', 'information records placed on VOYAGER 1 and 2 in case the', 'probes are found by intelligences in interstellar space,', 'as well as the probes and planetary mission objectives', 'themselves.)', 'Other works and periodicals:', 'NASA has published very detailed and technical books on every space', 'probe mission it has launched. Good university libraries will carry', 'these books, and they are easily found simply by knowing which mission', 'you wish to read about. I recommend these works after you first study', 'some of the books listed above.', 'Some periodicals I recommend for reading on space probes are NATIONAL', \"GEOGRAPHIC, which has written articles on the PIONEER probes to Earth's\", 'Moon Luna and the Jovian planets Jupiter and Saturn, the RANGER,', 'SURVEYOR, LUNAR ORBITER, and APOLLO missions to Luna, the MARINER', 'missions to Mercury, Venus, and Mars, the VIKING probes to Mars, and the', 'VOYAGER missions to Jupiter, Saturn, Uranus, and Neptune.', 'More details on American, Soviet, European, and Japanese probe missions', 'can be found in SKY AND TELESCOPE, ASTRONOMY, SCIENCE, NATURE, and', 'SCIENTIFIC AMERICAN magazines. TIME, NEWSWEEK, and various major', 'newspapers can supply not only general information on certain missions,', 'but also show you what else was going on with Earth at the time events', 'were unfolding, if that is of interest to you. Space missions are', 'affected by numerous political, economic, and climatic factors, as you', 'probably know.', 'Depending on just how far your interest in space probes will go, you', 'might also wish to join The Planetary Society, one of the largest space', 'groups in the world dedicated to planetary exploration. Their', 'periodical, THE PLANETARY REPORT, details the latest space probe', 'missions. Write to The Planetary Society, 65 North Catalina Avenue,', 'Pasadena, California 91106 USA.', 'Good luck with your studies in this area of space exploration. I', 'personally find planetary missions to be one of the more exciting areas', 'in this field, and the benefits human society has and will receive from', 'it are incredible, with many yet to be realized.', 'Larry Klaes  klaes@verga.enet.dec.com', 'NEXT: FAQ #11/15 - Upcoming planetary probes - missions and schedules']\n"
          ],
          "name": "stdout"
        }
      ]
    },
    {
      "cell_type": "code",
      "metadata": {
        "colab": {
          "base_uri": "https://localhost:8080/"
        },
        "id": "23Wxk72A1TLP",
        "outputId": "9a275118-31ad-40a1-fc24-40c02cd8fe9e"
      },
      "source": [
        "len(sentences)"
      ],
      "execution_count": 6,
      "outputs": [
        {
          "output_type": "execute_result",
          "data": {
            "text/plain": [
              "414"
            ]
          },
          "metadata": {
            "tags": []
          },
          "execution_count": 6
        }
      ]
    },
    {
      "cell_type": "markdown",
      "metadata": {
        "id": "Kyp1CNtBaQtf"
      },
      "source": [
        "## POS Tagging"
      ]
    },
    {
      "cell_type": "code",
      "metadata": {
        "colab": {
          "base_uri": "https://localhost:8080/"
        },
        "id": "zaeVNSkGItZw",
        "outputId": "b76af777-1557-4083-dd90-86446bba7932"
      },
      "source": [
        "import nltk\n",
        "nltk.download('stopwords')\n",
        "nltk.download('punkt')\n",
        "nltk.download('averaged_perceptron_tagger')\n",
        "from nltk.corpus import stopwords\n",
        "from nltk.tokenize import word_tokenize, sent_tokenize\n",
        "stop_words = set(stopwords.words('english'))"
      ],
      "execution_count": null,
      "outputs": [
        {
          "output_type": "stream",
          "text": [
            "[nltk_data] Downloading package stopwords to /root/nltk_data...\n",
            "[nltk_data]   Package stopwords is already up-to-date!\n",
            "[nltk_data] Downloading package punkt to /root/nltk_data...\n",
            "[nltk_data]   Package punkt is already up-to-date!\n",
            "[nltk_data] Downloading package averaged_perceptron_tagger to\n",
            "[nltk_data]     /root/nltk_data...\n",
            "[nltk_data]   Unzipping taggers/averaged_perceptron_tagger.zip.\n"
          ],
          "name": "stdout"
        }
      ]
    },
    {
      "cell_type": "code",
      "metadata": {
        "colab": {
          "base_uri": "https://localhost:8080/"
        },
        "id": "HaWlOMJdkR_q",
        "outputId": "df74604a-a0f5-429c-f389-1f618fba3351"
      },
      "source": [
        "txt = \"\"\n",
        "for sentence in sentences:\n",
        "  txt += \"\".join(sentence)\n",
        "  txt += \" \"\n",
        "print(txt)"
      ],
      "execution_count": 4,
      "outputs": [
        {
          "output_type": "stream",
          "text": [
            "This section was lightly adapted from an original posting by Larry Klaes (klaes@verga.enet.dec.com), mostly minor formatting changes. Matthew Wiener (weemba@libra.wistar.upenn.edu) contributed the section on Voyager, and the section on Sakigake was obtained from ISAS material posted by Yoshiro Yamada (yamada@yscvax.ysc.go.jp). US PLANETARY MISSIONS MARINER (VENUS, MARS, & MERCURY FLYBYS AND ORBITERS) MARINER 1, the first U.S. attempt to send a spacecraft to Venus, failed minutes after launch in 1962. The guidance instructions from the ground stopped reaching the rocket due to a problem with its antenna, so the onboard computer took control. However, there turned out to be a bug in the guidance software, and the rocket promptly went off course, so the Range Safety Officer destroyed it. Although the bug is sometimes claimed to have been an incorrect FORTRAN DO statement, it was actually a transcription error in which the bar (indicating smoothing) was omitted from the expression \"R-dot-bar sub n\" (nth smoothed value of derivative of radius). This error led the software to treat normal minor variations of velocity as if they were serious, leading to incorrect compensation. MARINER 2 became the first successful probe to flyby Venus in December of 1962, and it returned information which confirmed that Venus is a very hot (800 degrees Fahrenheit, now revised to 900 degrees F.) world with a cloud-covered atmosphere composed primarily of carbon dioxide (sulfuric acid was later confirmed in 1978). MARINER 3, launched on November 5, 1964, was lost when its protective shroud failed to eject as the craft was placed into interplanetary space. Unable to collect the Sun's energy for power from its solar panels, the probe soon died when its batteries ran out and is now in solar orbit. It was intended for a Mars flyby with MARINER 4. MARINER 4, the sister probe to MARINER 3, did reach Mars in 1965 and took the first close-up images of the Martian surface (22 in all) as it flew by the planet. The probe found a cratered world with an atmosphere much thinner than previously thought. Many scientists concluded from this preliminary scan that Mars was a \"dead\" world in both the geological and biological sense. MARINER 5 was sent to Venus in 1967. It reconfirmed the data on that planet collected five years earlier by MARINER 2, plus the information that Venus' atmospheric pressure at its surface is at least 90 times that of Earth's, or the equivalent of being 3,300 feet under the surface of an ocean. MARINER 6 and 7 were sent to Mars in 1969 and expanded upon the work done by MARINER 4 four years earlier. However, they failed to take away the concept of Mars as a \"dead\" planet, first made from the basic measurements of MARINER 4. MARINER 8 ended up in the Atlantic Ocean in 1971 when the rocket launcher autopilot failed. MARINER 9, the sister probe to MARINER 8, became the first craft to orbit Mars in 1971. It returned information on the Red Planet that no other probe had done before, revealing huge volcanoes on the Martian surface, as well as giant canyon systems, and evidence that water once flowed across the planet. The probe also took the first detailed closeup images of Mars' two small moons, Phobos and Deimos. MARINER 10 used Venus as a gravity assist to Mercury in 1974. The probe did return the first close-up images of the Venusian atmosphere in ultraviolet, revealing previously unseen details in the cloud cover, plus the fact that the entire cloud system circles the planet in four Earth days. MARINER 10 eventually made three flybys of Mercury from 1974 to 1975 before running out of attitude control gas. The probe revealed Mercury as a heavily cratered world with a mass much greater than thought. This would seem to indicate that Mercury has an iron core which makes up 75 percent of the entire planet. PIONEER (MOON, SUN, VENUS, JUPITER, and SATURN FLYBYS AND ORBITERS) PIONEER 1 through 3 failed to meet their main objective - to photograph the Moon close-up - but they did reach far enough into space to provide new information on the area between Earth and the Moon, including new data on the Van Allen radiation belts circling Earth. All three craft had failures with their rocket launchers. PIONEER 1 was launched on October 11, 1958, PIONEER 2 on November 8, and PIONEER 3 on December 6. PIONEER 4 was a Moon probe which missed the Moon and became the first U.S. spacecraft to orbit the Sun in 1959. PIONEER 5 was originally designed to flyby Venus, but the mission was scaled down and it instead studied the interplanetary environment between Venus and Earth out to 36.2 million kilometers in 1960, a record until MARINER 2. PIONEER 6 through 9 were placed into solar orbit from 1965 to 1968: PIONEER 6, 7, and 8 are still transmitting information at this time. PIONEER E (would have been number 10) suffered a launch failure in 1969. PIONEER 10 became the first spacecraft to flyby Jupiter in 1973. PIONEER 11 followed it in 1974, and then went on to become the first probe to study Saturn in 1979. Both vehicles should continue to function through 1995 and are heading off into interstellar space, the first craft ever to do so. PIONEER Venus 1 (1978) (also known as PIONEER Venus Orbiter, or PIONEER 12) burned up in the Venusian atmosphere on October 8, 1992. PVO made the first radar studies of the planet's surface via probe. PIONEER Venus 2 (also known as PIONEER 13) sent four small probes into the atmosphere in December of 1978. The main spacecraft bus burned up high in the atmosphere, while the four probes descended by parachute towards the surface. Though none were expected to survive to the surface, the Day probe did make it and transmitted for 67.5 minutes on the ground before its batteries failed. RANGER (LUNAR LANDER AND IMPACT MISSIONS) RANGER 1 and 2 were test probes for the RANGER lunar impact series. They were meant for high Earth orbit testing in 1961, but rocket problems left them in useless low orbits which quickly decayed. RANGER 3, launched on January 26, 1962, was intended to land an instrument capsule on the surface of the Moon, but problems during the launch caused the probe to miss the Moon and head into solar orbit. RANGER 3 did try to take some images of the Moon as it flew by, but the camera was unfortunately aimed at deep space during the attempt. RANGER 4, launched April 23, 1962, had the same purpose as RANGER 3, but suffered technical problems enroute and crashed on the lunar farside, the first U.S. probe to reach the Moon, albeit without returning data. RANGER 5, launched October 18, 1962 and similar to RANGER 3 and 4, lost all solar panel and battery power enroute and eventually missed the Moon and drifted off into solar orbit. RANGER 6 through 9 had more modified lunar missions: They were to send back live images of the lunar surface as they headed towards an impact with the Moon. RANGER 6 failed this objective in 1964 when its cameras did not operate. RANGER 7 through 9 performed well, becoming the first U.S. lunar probes to return thousands of lunar images through 1965. LUNAR ORBITER (LUNAR SURFACE PHOTOGRAPHY) LUNAR ORBITER 1 through 5 were designed to orbit the Moon and image various sites being studied as landing areas for the manned APOLLO missions of 1969-1972. The probes also contributed greatly to our understanding of lunar surface features, particularly the lunar farside. All five probes of the series, launched from 1966 to 1967, were essentially successful in their missions. They were the first U.S. probes to orbit the Moon. All LOs were eventually crashed into the lunar surface to avoid interference with the manned APOLLO missions. SURVEYOR (LUNAR SOFT LANDERS) The SURVEYOR series were designed primarily to see if an APOLLO lunar module could land on the surface of the Moon without sinking into the soil (before this time, it was feared by some that the Moon was covered in great layers of dust, which would not support a heavy landing vehicle). SURVEYOR was successful in proving that the lunar surface was strong enough to hold up a spacecraft from 1966 to 1968. Only SURVEYOR 2 and 4 were unsuccessful missions. The rest became the first U.S. probes to soft land on the Moon, taking thousands of images and scooping the soil for analysis. APOLLO 12 landed 600 feet from SURVEYOR 3 in 1969 and returned parts of the craft to Earth. SURVEYOR 7, the last of the series, was a purely scientific mission which explored the Tycho crater region in 1968. VIKING (MARS ORBITERS AND LANDERS) VIKING 1 was launched from Cape Canaveral, Florida on August 20, 1975 on a TITAN 3E-CENTAUR D1 rocket. The probe went into Martian orbit on June 19, 1976, and the lander set down on the western slopes of Chryse Planitia on July 20, 1976. It soon began its programmed search for Martian micro-organisms (there is still debate as to whether the probes found life there or not), and sent back incredible color panoramas of its surroundings. One thing scientists learned was that Mars' sky was pinkish in color, not dark blue as they originally thought (the sky is pink due to sunlight reflecting off the reddish dust particles in the thin atmosphere). The lander set down among a field of red sand and boulders stretching out as far as its cameras could image. The VIKING 1 orbiter kept functioning until August 7, 1980, when it ran out of attitude-control propellant. The lander was switched into a weather-reporting mode, where it had been hoped it would keep functioning through 1994; but after November 13, 1982, an errant command had been sent to the lander accidentally telling it to shut down until further orders. Communication was never regained again, despite the engineers' efforts through May of 1983. An interesting side note: VIKING 1's lander has been designated the Thomas A. Mutch Memorial Station in honor of the late leader of the lander imaging team. The National Air and Space Museum in Washington, D.C. is entrusted with the safekeeping of the Mutch Station Plaque until it can be attached to the lander by a manned expedition. VIKING 2 was launched on September 9, 1975, and arrived in Martian orbit on August 7, 1976. The lander touched down on September 3, 1976 in Utopia Planitia. It accomplished essentially the same tasks as its sister lander, with the exception that its seisometer worked, recording one marsquake. The orbiter had a series of attitude-control gas leaks in 1978, which prompted it being shut down that July. The lander was shut down on April 12, 1980. The orbits of both VIKING orbiters should decay around 2025. VOYAGER (OUTER PLANET FLYBYS) VOYAGER 1 was launched September 5, 1977, and flew past Jupiter on March 5, 1979 and by Saturn on November 13, 1980. VOYAGER 2 was launched August 20, 1977 (before VOYAGER 1), and flew by Jupiter on August 7, 1979, by Saturn on August 26, 1981, by Uranus on January 24, 1986, and by Neptune on August 8, 1989. VOYAGER 2 took advantage of a rare once-every-189-years alignment to slingshot its way from outer planet to outer planet. VOYAGER 1 could, in principle, have headed towards Pluto, but JPL opted for the sure thing of a Titan close up. Between the two probes, our knowledge of the 4 giant planets, their satellites, and their rings has become immense. VOYAGER 1&2 discovered that Jupiter has complicated atmospheric dynamics, lightning and aurorae. Three new satellites were discovered. Two of the major surprises were that Jupiter has rings and that Io has active sulfurous volcanoes, with major effects on the Jovian magnetosphere. When the two probes reached Saturn, they discovered over 1000 ringlets and 7 satellites, including the predicted shepherd satellites that keep the rings stable. The weather was tame compared with Jupiter: massive jet streams with minimal variance (a 33-year great white spot/band cycle is known). Titan's atmosphere was smoggy. Mimas' appearance was startling: one massive impact crater gave it the Death Star appearance. The big surprise here was the stranger aspects of the rings. Braids, kinks, and spokes were both unexpected and difficult to explain. VOYAGER 2, thanks to heroic engineering and programming efforts, continued the mission to Uranus and Neptune. Uranus itself was highly monochromatic in appearance. One oddity was that its magnetic axis was found to be highly skewed from the already completely skewed rotational axis, giving Uranus a peculiar magnetosphere. Icy channels were found on Ariel, and Miranda was a bizarre patchwork of different terrains. 10 satellites and one more ring were discovered. In contrast to Uranus, Neptune was found to have rather active weather, including numerous cloud features. The ring arcs turned out to be bright patches on one ring. Two other rings, and 6 other satellites, were discovered. Neptune's magnetic axis was also skewed. Triton had a canteloupe appearance and geysers. (What's liquid at 38K?) The two VOYAGERs are expected to last for about two more decades. Their on-target journeying gives negative evidence about possible planets beyond Pluto. Their next major scientific discovery should be the location of the heliopause. SOVIET PLANETARY MISSIONS Since there have been so many Soviet probes to the Moon, Venus, and Mars, I will highlight only the primary missions: SOVIET LUNAR PROBES LUNA 1 - Lunar impact attempt in 1959, missed Moon and became first \t     craft in solar orbit. LUNA 2 - First craft to impact on lunar surface in 1959. LUNA 3 - Took first images of lunar farside in 1959. ZOND 3 - Took first images of lunar farside in 1965 since LUNA 3. Was \t     also a test for future Mars missions. LUNA 9 - First probe to soft land on the Moon in 1966, returned images \t     from surface. LUNA 10 - First probe to orbit the Moon in 1966. LUNA 13 - Second successful Soviet lunar soft landing mission in 1966. ZOND 5 - First successful circumlunar craft. ZOND 6 through 8 \t     accomplished similar missions through 1970. The probes were \t     unmanned tests of a manned orbiting SOYUZ-type lunar vehicle. LUNA 16 - First probe to land on Moon and return samples of lunar soil \t      to Earth in 1970. LUNA 20 accomplished similar mission in \t      1972. LUNA 17 - Delivered the first unmanned lunar rover to the Moon's \t      surface, LUNOKHOD 1, in 1970. A similar feat was accomplished \t      with LUNA 21/LUNOKHOD 2 in 1973. LUNA 24 - Last Soviet lunar mission to date. Returned soil samples in \t      1976. SOVIET VENUS PROBES VENERA 1 - First acknowledged attempt at Venus mission. Transmissions \t       lost enroute in 1961. VENERA 2 - Attempt to image Venus during flyby mission in tandem with \t       VENERA 3. Probe ceased transmitting just before encounter in \t       February of 1966. No images were returned. VENERA 3 - Attempt to place a lander capsule on Venusian surface. \t       Transmissions ceased just before encounter and entire probe \t       became the first craft to impact on another planet in 1966. VENERA 4 - First probe to successfully return data while descending \t       through Venusian atmosphere. Crushed by air pressure before \t       reaching surface in 1967. VENERA 5 and 6 mission profiles \t       similar in 1969. VENERA 7 - First probe to return data from the surface of another planet \t       in 1970. VENERA 8 accomplished a more detailed mission in \t       1972. VENERA 9 - Sent first image of Venusian surface in 1975. Was also the \t       first probe to orbit Venus. VENERA 10 accomplished similar \t       mission. VENERA 13 - Returned first color images of Venusian surface in 1982. \t\tVENERA 14 accomplished similar mission. VENERA 15 - Accomplished radar mapping with VENERA 16 of sections of \t\tplanet's surface in 1983 more detailed than PVO. VEGA 1 - Accomplished with VEGA 2 first balloon probes of Venusian \t     atmosphere in 1985, including two landers. Flyby buses went on \t     to become first spacecraft to study Comet Halley close-up in \t     March of 1986. SOVIET MARS PROBES MARS 1 - First acknowledged Mars probe in 1962. Transmissions ceased \t     enroute the following year. ZOND 2 - First possible attempt to place a lander capsule on Martian \t     surface. Probe signals ceased enroute in 1965. MARS 2 - First Soviet Mars probe to land - albeit crash - on Martian \t     surface. Orbiter section first Soviet probe to circle the Red \t     Planet in 1971. MARS 3 - First successful soft landing on Martian surface, but lander \t     signals ceased after 90 seconds in 1971. MARS 4 - Attempt at orbiting Mars in 1974, braking rockets failed to \t     fire, probe went on into solar orbit. MARS 5 - First fully successful Soviet Mars mission, orbiting Mars in \t     1974. Returned images of Martian surface comparable to U.S. \t     probe MARINER 9. MARS 6 - Landing attempt in 1974. Lander crashed into the surface. MARS 7 - Lander missed Mars completely in 1974, went into a solar orbit \t     with its flyby bus. PHOBOS 1 - First attempt to land probes on surface of Mars' largest \t       moon, Phobos. Probe failed enroute in 1988 due to \t       human/computer error. PHOBOS 2 - Attempt to land probes on Martian moon Phobos. The probe did \t       enter Mars orbit in early 1989, but signals ceased one week \t       before scheduled Phobos landing. While there has been talk of Soviet Jupiter, Saturn, and even interstellar probes within the next thirty years, no major steps have yet been taken with these projects. More intensive studies of the Moon, Mars, Venus, and various comets have been planned for the 1990s, and a Mercury mission to orbit and land probes on the tiny world has been planned for 2003. How the many changes in the former Soviet Union (now the Commonwealth of Independent States) will affect the future of their space program remains to be seen. JAPANESE PLANETARY MISSIONS SAKIGAKE (MS-T5) was launched from the Kagoshima Space Center by ISAS on January 8 1985, and approached Halley's Comet within about 7 million km on March 11, 1986. The spacecraft is carrying three instru- ments to measure interplanetary magnetic field/plasma waves/solar wind, all of which work normally now, so ISAS made an Earth swingby by Sakigake on January 8, 1992 into an orbit similar to the earth's. The closest approach was at 23h08m47s (JST=UTC+9h) on January 8, 1992. The geocentric distance was 88,997 km. This is the first planet-swingby for a Japanese spacecraft. During the approach, Sakigake observed the geotail. Some geotail passages will be scheduled in some years hence. The second Earth-swingby will be on June 14, 1993 (at 40 Re (Earth's radius)), and the third October 28, 1994 (at 86 Re). HITEN, a small lunar probe, was launched into Earth orbit on January 24, 1990. The spacecraft was then known as MUSES-A, but was renamed to Hiten once in orbit. The 430 lb probe looped out from Earth and made its first lunary flyby on March 19, where it dropped off its 26 lb midget satellite, HAGOROMO. Japan at this point became the third nation to orbit a satellite around the Moon, joining the Unites States and USSR. The smaller spacecraft, Hagoromo, remained in orbit around the Moon. An apparently broken transistor radio caused the Japanese space scientists to lose track of it. Hagoromo's rocket motor fired on schedule on March 19, but the spacecraft's tracking transmitter failed immediately. The rocket firing of Hagoromo was optically confirmed using the Schmidt camera (105-cm, F3.1) at the Kiso Observatory in Japan. Hiten made multiple lunar flybys at approximately monthly intervals and performed aerobraking experiments using the Earth's atmosphere. Hiten made a close approach to the moon at 22:33 JST (UTC+9h) on February 15, 1992 at the height of 423 km from the moon's surface (35.3N, 9.7E) and fired its propulsion system for about ten minutes to put the craft into lunar orbit. The following is the orbital calculation results after the approach: \tApoapsis Altitude: about 49,400 km \tPeriapsis Altitude: about 9,600 km \tInclination\t: 34.7 deg (to ecliptic plane) \tPeriod\t\t: 4.7 days PLANETARY MISSION REFERENCES I also recommend reading the following works, categorized in three groups: General overviews, specific books on particular space missions, and periodical sources on space probes. This list is by no means complete; it is primarily designed to give you places to start your research through generally available works on the subject. If anyone can add pertinent works to the list, it would be greatly appreciated. Though naturally I recommend all the books listed below, I think it would be best if you started out with the general overview books, in order to give you a clear idea of the history of space exploration in this area. I also recommend that you pick up some good, up-to-date general works on astronomy and the Sol system, to give you some extra background. Most of these books and periodicals can be found in any good public and university library. Some of the more recently published works can also be purchased in and/or ordered through any good mass- market bookstore. General Overviews (in alphabetical order by author): J. Kelly Beatty et al, THE NEW SOLAR SYSTEM, 1990. Merton E. Davies and Bruce C. Murray, THE VIEW FROM SPACE: PHOTOGRAPHIC EXPLORATION OF THE PLANETS, 1971 Kenneth Gatland, THE ILLUSTRATED ENCYCLOPEDIA OF SPACE TECHNOLOGY, 1990 Kenneth Gatland, ROBOT EXPLORERS, 1972 R. Greeley, PLANETARY LANDSCAPES, 1987 Douglas Hart, THE ENCYCLOPEDIA OF SOVIET SPACECRAFT, 1987 Nicholas L. Johnson, HANDBOOK OF SOVIET LUNAR AND PLANETARY EXPLORATION, 1979 Clayton R. Koppes, JPL AND THE AMERICAN SPACE PROGRAM: A HISTORY OF THE JET PROPULSION LABORATORY, 1982 Richard S. Lewis, THE ILLUSTRATED ENCYCLOPEDIA OF THE UNIVERSE, 1983 Mark Littman, PLANETS BEYOND: DISCOVERING THE OUTER SOLAR SYSTEM, 1988 Eugene F. Mallove and Gregory L. Matloff, THE STARFLIGHT HANDBOOK: A PIONEER'S GUIDE TO INTERSTELLAR TRAVEL, 1989 Frank Miles and Nicholas Booth, RACE TO MARS: THE MARS FLIGHT ATLAS, 1988 Bruce Murray, JOURNEY INTO SPACE, 1989 Oran W. Nicks, FAR TRAVELERS, 1985 (NASA SP-480) James E. Oberg, UNCOVERING SOVIET DISASTERS: EXPLORING THE LIMITS OF GLASNOST, 1988 Carl Sagan, COMET, 1986 Carl Sagan, THE COSMIC CONNECTION, 1973 Carl Sagan, PLANETS, 1969 (LIFE Science Library) Arthur Smith, PLANETARY EXPLORATION: THIRTY YEARS OF UNMANNED SPACE PROBES, 1988 Andrew Wilson, (JANE'S) SOLAR SYSTEM LOG, 1987 Specific Mission References: Charles A. Cross and Patrick Moore, THE ATLAS OF MERCURY, 1977 (The MARINER 10 mission to Venus and Mercury, 1973-1975) Joel Davis, FLYBY: THE INTERPLANETARY ODYSSEY OF VOYAGER 2, 1987 Irl Newlan, FIRST TO VENUS: THE STORY OF MARINER 2, 1963 Margaret Poynter and Arthur L. Lane, VOYAGER: THE STORY OF A SPACE MISSION, 1984 Carl Sagan, MURMURS OF EARTH, 1978 (Deals with the Earth information records placed on VOYAGER 1 and 2 in case the probes are found by intelligences in interstellar space, as well as the probes and planetary mission objectives themselves.) Other works and periodicals: NASA has published very detailed and technical books on every space probe mission it has launched. Good university libraries will carry these books, and they are easily found simply by knowing which mission you wish to read about. I recommend these works after you first study some of the books listed above. Some periodicals I recommend for reading on space probes are NATIONAL GEOGRAPHIC, which has written articles on the PIONEER probes to Earth's Moon Luna and the Jovian planets Jupiter and Saturn, the RANGER, SURVEYOR, LUNAR ORBITER, and APOLLO missions to Luna, the MARINER missions to Mercury, Venus, and Mars, the VIKING probes to Mars, and the VOYAGER missions to Jupiter, Saturn, Uranus, and Neptune. More details on American, Soviet, European, and Japanese probe missions can be found in SKY AND TELESCOPE, ASTRONOMY, SCIENCE, NATURE, and SCIENTIFIC AMERICAN magazines. TIME, NEWSWEEK, and various major newspapers can supply not only general information on certain missions, but also show you what else was going on with Earth at the time events were unfolding, if that is of interest to you. Space missions are affected by numerous political, economic, and climatic factors, as you probably know. Depending on just how far your interest in space probes will go, you might also wish to join The Planetary Society, one of the largest space groups in the world dedicated to planetary exploration. Their periodical, THE PLANETARY REPORT, details the latest space probe missions. Write to The Planetary Society, 65 North Catalina Avenue, Pasadena, California 91106 USA. Good luck with your studies in this area of space exploration. I personally find planetary missions to be one of the more exciting areas in this field, and the benefits human society has and will receive from it are incredible, with many yet to be realized. Larry Klaes  klaes@verga.enet.dec.com NEXT: FAQ #11/15 - Upcoming planetary probes - missions and schedules \n"
          ],
          "name": "stdout"
        }
      ]
    },
    {
      "cell_type": "code",
      "metadata": {
        "id": "LLNxrKx8j5s_"
      },
      "source": [
        "tokenized = sent_tokenize(txt)\n",
        "tagged = []\n",
        "for i in tokenized:\n",
        "    wordsList = nltk.word_tokenize(i)\n",
        "    wordsList = [w for w in wordsList if not w in stop_words] \n",
        "    tagged.append(nltk.pos_tag(wordsList))"
      ],
      "execution_count": null,
      "outputs": []
    },
    {
      "cell_type": "code",
      "metadata": {
        "colab": {
          "base_uri": "https://localhost:8080/"
        },
        "id": "Inrm7ki93FkO",
        "outputId": "9625edd9-0a1d-4513-dfe5-f48e6126179c"
      },
      "source": [
        "print(tagged)"
      ],
      "execution_count": null,
      "outputs": [
        {
          "output_type": "stream",
          "text": [
            "[[('This', 'DT'), ('section', 'NN'), ('lightly', 'RB'), ('adapted', 'VBD'), ('original', 'JJ'), ('posting', 'NN'), ('Larry', 'NNP'), ('Klaes', 'NNP'), ('(', '('), ('klaes', 'VB'), ('@', 'NNP'), ('verga.enet.dec.com', 'NN'), (')', ')'), (',', ','), ('mostly', 'RB'), ('minor', 'JJ'), ('formatting', 'NN'), ('changes', 'NNS'), ('.', '.')], [('Matthew', 'NNP'), ('Wiener', 'NNP'), ('(', '('), ('weemba', 'JJ'), ('@', 'NNP'), ('libra.wistar.upenn.edu', 'NN'), (')', ')'), ('contributed', 'VBD'), ('section', 'NN'), ('Voyager', 'NNP'), (',', ','), ('section', 'NN'), ('Sakigake', 'NNP'), ('obtained', 'VBD'), ('ISAS', 'NNP'), ('material', 'NN'), ('posted', 'VBD'), ('Yoshiro', 'NNP'), ('Yamada', 'NNP'), ('(', '('), ('yamada', 'PRP'), ('@', 'NNP'), ('yscvax.ysc.go.jp', 'NN'), (')', ')'), ('.', '.')], [('US', 'NNP'), ('PLANETARY', 'NNP'), ('MISSIONS', 'NNP'), ('MARINER', 'NNP'), ('(', '('), ('VENUS', 'NNP'), (',', ','), ('MARS', 'NNP'), (',', ','), ('&', 'CC'), ('MERCURY', 'NNP'), ('FLYBYS', 'NNP'), ('AND', 'NNP'), ('ORBITERS', 'NNP'), (')', ')'), ('MARINER', 'NNP'), ('1', 'CD'), (',', ','), ('first', 'JJ'), ('U.S.', 'NNP'), ('attempt', 'NN'), ('send', 'NN'), ('spacecraft', 'NN'), ('Venus', 'NNP'), (',', ','), ('failed', 'VBD'), ('minutes', 'NNS'), ('launch', 'JJ'), ('1962', 'CD'), ('.', '.')], [('The', 'DT'), ('guidance', 'NN'), ('instructions', 'NNS'), ('ground', 'NN'), ('stopped', 'VBD'), ('reaching', 'VBG'), ('rocket', 'NN'), ('due', 'JJ'), ('problem', 'NN'), ('antenna', 'NN'), (',', ','), ('onboard', 'RB'), ('computer', 'NN'), ('took', 'VBD'), ('control', 'NN'), ('.', '.')], [('However', 'RB'), (',', ','), ('turned', 'VBD'), ('bug', 'JJ'), ('guidance', 'NN'), ('software', 'NN'), (',', ','), ('rocket', 'NN'), ('promptly', 'RB'), ('went', 'VBD'), ('course', 'NN'), (',', ','), ('Range', 'NNP'), ('Safety', 'NNP'), ('Officer', 'NNP'), ('destroyed', 'VBD'), ('.', '.')], [('Although', 'IN'), ('bug', 'NN'), ('sometimes', 'RB'), ('claimed', 'VBD'), ('incorrect', 'JJ'), ('FORTRAN', 'NNP'), ('DO', 'NNP'), ('statement', 'NN'), (',', ','), ('actually', 'RB'), ('transcription', 'NN'), ('error', 'NN'), ('bar', 'NN'), ('(', '('), ('indicating', 'VBG'), ('smoothing', 'VBG'), (')', ')'), ('omitted', 'VBN'), ('expression', 'NN'), ('``', '``'), ('R-dot-bar', 'JJ'), ('sub', 'NN'), ('n', 'NN'), (\"''\", \"''\"), ('(', '('), ('nth', 'FW'), ('smoothed', 'VBN'), ('value', 'NN'), ('derivative', 'JJ'), ('radius', 'NN'), (')', ')'), ('.', '.')], [('This', 'DT'), ('error', 'NN'), ('led', 'VBD'), ('software', 'NN'), ('treat', 'NN'), ('normal', 'JJ'), ('minor', 'JJ'), ('variations', 'NNS'), ('velocity', 'NN'), ('serious', 'JJ'), (',', ','), ('leading', 'JJ'), ('incorrect', 'JJ'), ('compensation', 'NN'), ('.', '.')], [('MARINER', 'NNP'), ('2', 'CD'), ('became', 'VBD'), ('first', 'RB'), ('successful', 'JJ'), ('probe', 'NN'), ('flyby', 'NN'), ('Venus', 'NNP'), ('December', 'NNP'), ('1962', 'CD'), (',', ','), ('returned', 'VBN'), ('information', 'NN'), ('confirmed', 'VBN'), ('Venus', 'NNP'), ('hot', 'JJ'), ('(', '('), ('800', 'CD'), ('degrees', 'NNS'), ('Fahrenheit', 'NNP'), (',', ','), ('revised', 'VBD'), ('900', 'CD'), ('degrees', 'NNS'), ('F.', 'NNP'), (')', ')'), ('world', 'NN'), ('cloud-covered', 'JJ'), ('atmosphere', 'NN'), ('composed', 'VBN'), ('primarily', 'RB'), ('carbon', 'NN'), ('dioxide', 'NN'), ('(', '('), ('sulfuric', 'JJ'), ('acid', 'NN'), ('later', 'RB'), ('confirmed', 'VBD'), ('1978', 'CD'), (')', ')'), ('.', '.')], [('MARINER', 'NNP'), ('3', 'CD'), (',', ','), ('launched', 'VBD'), ('November', 'NNP'), ('5', 'CD'), (',', ','), ('1964', 'CD'), (',', ','), ('lost', 'VBD'), ('protective', 'JJ'), ('shroud', 'NN'), ('failed', 'VBD'), ('eject', 'JJ'), ('craft', 'NN'), ('placed', 'VBD'), ('interplanetary', 'JJ'), ('space', 'NN'), ('.', '.')], [('Unable', 'JJ'), ('collect', 'VBP'), ('Sun', 'NNP'), (\"'s\", 'POS'), ('energy', 'NN'), ('power', 'NN'), ('solar', 'JJ'), ('panels', 'NNS'), (',', ','), ('probe', 'NN'), ('soon', 'RB'), ('died', 'VBD'), ('batteries', 'NNS'), ('ran', 'VBD'), ('solar', 'JJ'), ('orbit', 'NN'), ('.', '.')], [('It', 'PRP'), ('intended', 'VBD'), ('Mars', 'NNP'), ('flyby', 'VBD'), ('MARINER', 'NNP'), ('4', 'CD'), ('.', '.')], [('MARINER', 'NNP'), ('4', 'CD'), (',', ','), ('sister', 'JJR'), ('probe', 'NN'), ('MARINER', 'NNP'), ('3', 'CD'), (',', ','), ('reach', 'NN'), ('Mars', 'NNP'), ('1965', 'CD'), ('took', 'VBD'), ('first', 'RB'), ('close-up', 'JJ'), ('images', 'NNS'), ('Martian', 'JJ'), ('surface', 'NN'), ('(', '('), ('22', 'CD'), (')', ')'), ('flew', 'VBD'), ('planet', 'NN'), ('.', '.')], [('The', 'DT'), ('probe', 'NN'), ('found', 'VBD'), ('cratered', 'JJ'), ('world', 'NN'), ('atmosphere', 'RB'), ('much', 'JJ'), ('thinner', 'NN'), ('previously', 'RB'), ('thought', 'VBN'), ('.', '.')], [('Many', 'JJ'), ('scientists', 'NNS'), ('concluded', 'VBD'), ('preliminary', 'JJ'), ('scan', 'JJ'), ('Mars', 'NNP'), ('``', '``'), ('dead', 'JJ'), (\"''\", \"''\"), ('world', 'NN'), ('geological', 'JJ'), ('biological', 'JJ'), ('sense', 'NN'), ('.', '.')], [('MARINER', 'NNP'), ('5', 'CD'), ('sent', 'VBD'), ('Venus', 'NNP'), ('1967', 'CD'), ('.', '.')], [('It', 'PRP'), ('reconfirmed', 'VBD'), ('data', 'NNS'), ('planet', 'NN'), ('collected', 'VBN'), ('five', 'CD'), ('years', 'NNS'), ('earlier', 'RBR'), ('MARINER', 'NNP'), ('2', 'CD'), (',', ','), ('plus', 'CC'), ('information', 'NN'), ('Venus', 'NNP'), (\"'\", 'POS'), ('atmospheric', 'JJ'), ('pressure', 'NN'), ('surface', 'NN'), ('least', 'VBD'), ('90', 'CD'), ('times', 'NNS'), ('Earth', 'NNP'), (\"'s\", 'POS'), (',', ','), ('equivalent', 'JJ'), ('3,300', 'CD'), ('feet', 'NNS'), ('surface', 'JJ'), ('ocean', 'NN'), ('.', '.')], [('MARINER', 'NNP'), ('6', 'CD'), ('7', 'CD'), ('sent', 'NN'), ('Mars', 'NNP'), ('1969', 'CD'), ('expanded', 'VBD'), ('upon', 'NN'), ('work', 'NN'), ('done', 'VBN'), ('MARINER', 'NNP'), ('4', 'CD'), ('four', 'CD'), ('years', 'NNS'), ('earlier', 'RBR'), ('.', '.')], [('However', 'RB'), (',', ','), ('failed', 'VBD'), ('take', 'VB'), ('away', 'RP'), ('concept', 'JJ'), ('Mars', 'NNP'), ('``', '``'), ('dead', 'JJ'), (\"''\", \"''\"), ('planet', 'NN'), (',', ','), ('first', 'RB'), ('made', 'VBD'), ('basic', 'JJ'), ('measurements', 'NNS'), ('MARINER', '$'), ('4', 'CD'), ('.', '.')], [('MARINER', 'JJ'), ('8', 'CD'), ('ended', 'VBD'), ('Atlantic', 'NNP'), ('Ocean', 'NNP'), ('1971', 'CD'), ('rocket', 'NN'), ('launcher', 'CC'), ('autopilot', 'NN'), ('failed', 'VBD'), ('.', '.')], [('MARINER', 'NNP'), ('9', 'CD'), (',', ','), ('sister', 'JJR'), ('probe', 'NN'), ('MARINER', 'NNP'), ('8', 'CD'), (',', ','), ('became', 'VBD'), ('first', 'JJ'), ('craft', 'NN'), ('orbit', 'NN'), ('Mars', 'NNP'), ('1971', 'CD'), ('.', '.')], [('It', 'PRP'), ('returned', 'VBD'), ('information', 'NN'), ('Red', 'NNP'), ('Planet', 'NNP'), ('probe', 'NN'), ('done', 'VBN'), (',', ','), ('revealing', 'VBG'), ('huge', 'JJ'), ('volcanoes', 'NNS'), ('Martian', 'JJ'), ('surface', 'NN'), (',', ','), ('well', 'RB'), ('giant', 'JJ'), ('canyon', 'NN'), ('systems', 'NNS'), (',', ','), ('evidence', 'NN'), ('water', 'NN'), ('flowed', 'VBN'), ('across', 'IN'), ('planet', 'NN'), ('.', '.')], [('The', 'DT'), ('probe', 'NN'), ('also', 'RB'), ('took', 'VBD'), ('first', 'RB'), ('detailed', 'JJ'), ('closeup', 'NN'), ('images', 'NNS'), ('Mars', 'NNP'), (\"'\", 'POS'), ('two', 'CD'), ('small', 'JJ'), ('moons', 'NNS'), (',', ','), ('Phobos', 'NNP'), ('Deimos', 'NNP'), ('.', '.')], [('MARINER', 'NNP'), ('10', 'CD'), ('used', 'VBD'), ('Venus', 'NNP'), ('gravity', 'NN'), ('assist', 'NN'), ('Mercury', 'NNP'), ('1974', 'CD'), ('.', '.')], [('The', 'DT'), ('probe', 'NN'), ('return', 'NN'), ('first', 'RB'), ('close-up', 'JJ'), ('images', 'NNS'), ('Venusian', 'VBP'), ('atmosphere', 'JJ'), ('ultraviolet', 'NN'), (',', ','), ('revealing', 'VBG'), ('previously', 'RB'), ('unseen', 'JJ'), ('details', 'NNS'), ('cloud', 'VBP'), ('cover', 'NN'), (',', ','), ('plus', 'CC'), ('fact', 'NN'), ('entire', 'JJ'), ('cloud', 'NN'), ('system', 'NN'), ('circles', 'VBZ'), ('planet', 'RB'), ('four', 'CD'), ('Earth', 'NNP'), ('days', 'NNS'), ('.', '.')], [('MARINER', 'NNP'), ('10', 'CD'), ('eventually', 'RB'), ('made', 'VBD'), ('three', 'CD'), ('flybys', 'JJ'), ('Mercury', 'NNP'), ('1974', 'CD'), ('1975', 'CD'), ('running', 'VBG'), ('attitude', 'NN'), ('control', 'NN'), ('gas', 'NN'), ('.', '.')], [('The', 'DT'), ('probe', 'NN'), ('revealed', 'VBD'), ('Mercury', 'NNP'), ('heavily', 'RB'), ('cratered', 'VBD'), ('world', 'NN'), ('mass', 'NN'), ('much', 'JJ'), ('greater', 'JJR'), ('thought', 'NN'), ('.', '.')], [('This', 'DT'), ('would', 'MD'), ('seem', 'VB'), ('indicate', 'JJ'), ('Mercury', 'NNP'), ('iron', 'NN'), ('core', 'NN'), ('makes', 'VBZ'), ('75', 'CD'), ('percent', 'NN'), ('entire', 'JJ'), ('planet', 'NN'), ('.', '.')], [('PIONEER', 'NNP'), ('(', '('), ('MOON', 'NNP'), (',', ','), ('SUN', 'NNP'), (',', ','), ('VENUS', 'NNP'), (',', ','), ('JUPITER', 'NNP'), (',', ','), ('SATURN', 'NNP'), ('FLYBYS', 'NNP'), ('AND', 'NNP'), ('ORBITERS', 'NNP'), (')', ')'), ('PIONEER', 'NNP'), ('1', 'CD'), ('3', 'CD'), ('failed', 'VBD'), ('meet', 'NN'), ('main', 'JJ'), ('objective', 'JJ'), ('-', ':'), ('photograph', 'NN'), ('Moon', 'NNP'), ('close-up', 'JJ'), ('-', ':'), ('reach', 'NN'), ('far', 'RB'), ('enough', 'RB'), ('space', 'NN'), ('provide', 'VB'), ('new', 'JJ'), ('information', 'NN'), ('area', 'NN'), ('Earth', 'NNP'), ('Moon', 'NNP'), (',', ','), ('including', 'VBG'), ('new', 'JJ'), ('data', 'NNS'), ('Van', 'NNP'), ('Allen', 'NNP'), ('radiation', 'NN'), ('belts', 'NNS'), ('circling', 'VBG'), ('Earth', 'NN'), ('.', '.')], [('All', 'DT'), ('three', 'CD'), ('craft', 'NN'), ('failures', 'NNS'), ('rocket', 'VBP'), ('launchers', 'NNS'), ('.', '.')], [('PIONEER', 'NNP'), ('1', 'CD'), ('launched', 'VBD'), ('October', 'NNP'), ('11', 'CD'), (',', ','), ('1958', 'CD'), (',', ','), ('PIONEER', 'NNP'), ('2', 'CD'), ('November', 'NNP'), ('8', 'CD'), (',', ','), ('PIONEER', 'NNP'), ('3', 'CD'), ('December', 'NNP'), ('6', 'CD'), ('.', '.')], [('PIONEER', 'NNP'), ('4', 'CD'), ('Moon', 'NNP'), ('probe', 'NN'), ('missed', 'VBD'), ('Moon', 'NNP'), ('became', 'VBD'), ('first', 'JJ'), ('U.S.', 'NNP'), ('spacecraft', 'NN'), ('orbit', 'NN'), ('Sun', 'NNP'), ('1959', 'CD'), ('.', '.')], [('PIONEER', 'NNP'), ('5', 'CD'), ('originally', 'RB'), ('designed', 'VBN'), ('flyby', 'JJ'), ('Venus', 'NNP'), (',', ','), ('mission', 'NN'), ('scaled', 'VBN'), ('instead', 'RB'), ('studied', 'VBN'), ('interplanetary', 'JJ'), ('environment', 'NN'), ('Venus', 'NNP'), ('Earth', 'NNP'), ('36.2', 'CD'), ('million', 'CD'), ('kilometers', 'NNS'), ('1960', 'CD'), (',', ','), ('record', 'NN'), ('MARINER', 'NNP'), ('2', 'CD'), ('.', '.')], [('PIONEER', 'NNP'), ('6', 'CD'), ('9', 'CD'), ('placed', 'VBD'), ('solar', 'JJ'), ('orbit', 'NN'), ('1965', 'CD'), ('1968', 'CD'), (':', ':'), ('PIONEER', 'NNP'), ('6', 'CD'), (',', ','), ('7', 'CD'), (',', ','), ('8', 'CD'), ('still', 'RB'), ('transmitting', 'VBG'), ('information', 'NN'), ('time', 'NN'), ('.', '.')], [('PIONEER', 'NNP'), ('E', 'NNP'), ('(', '('), ('would', 'MD'), ('number', 'NN'), ('10', 'CD'), (')', ')'), ('suffered', 'VBD'), ('launch', 'JJ'), ('failure', 'NN'), ('1969', 'CD'), ('.', '.')], [('PIONEER', 'NNP'), ('10', 'CD'), ('became', 'VBD'), ('first', 'JJ'), ('spacecraft', 'NN'), ('flyby', 'NN'), ('Jupiter', 'NNP'), ('1973', 'CD'), ('.', '.')], [('PIONEER', 'NNP'), ('11', 'CD'), ('followed', 'VBD'), ('1974', 'CD'), (',', ','), ('went', 'VBD'), ('become', 'VBN'), ('first', 'JJ'), ('probe', 'NN'), ('study', 'NN'), ('Saturn', 'NNP'), ('1979', 'CD'), ('.', '.')], [('Both', 'DT'), ('vehicles', 'NNS'), ('continue', 'VBP'), ('function', 'NN'), ('1995', 'CD'), ('heading', 'VBG'), ('interstellar', 'JJ'), ('space', 'NN'), (',', ','), ('first', 'RB'), ('craft', 'NN'), ('ever', 'RB'), ('.', '.')], [('PIONEER', 'NNP'), ('Venus', 'NNP'), ('1', 'CD'), ('(', '('), ('1978', 'CD'), (')', ')'), ('(', '('), ('also', 'RB'), ('known', 'VBN'), ('PIONEER', 'NNP'), ('Venus', 'NNP'), ('Orbiter', 'NNP'), (',', ','), ('PIONEER', 'NNP'), ('12', 'CD'), (')', ')'), ('burned', 'VBD'), ('Venusian', 'JJ'), ('atmosphere', 'JJ'), ('October', 'NNP'), ('8', 'CD'), (',', ','), ('1992', 'CD'), ('.', '.')], [('PVO', 'NNP'), ('made', 'VBD'), ('first', 'JJ'), ('radar', 'NN'), ('studies', 'NNS'), ('planet', 'VBP'), (\"'s\", 'POS'), ('surface', 'NN'), ('via', 'IN'), ('probe', 'NN'), ('.', '.')], [('PIONEER', 'NNP'), ('Venus', 'NNP'), ('2', 'CD'), ('(', '('), ('also', 'RB'), ('known', 'VBN'), ('PIONEER', 'NNP'), ('13', 'CD'), (')', ')'), ('sent', 'VBD'), ('four', 'CD'), ('small', 'JJ'), ('probes', 'NNS'), ('atmosphere', 'IN'), ('December', 'NNP'), ('1978', 'CD'), ('.', '.')], [('The', 'DT'), ('main', 'JJ'), ('spacecraft', 'NN'), ('bus', 'NN'), ('burned', 'VBD'), ('high', 'JJ'), ('atmosphere', 'RB'), (',', ','), ('four', 'CD'), ('probes', 'NNS'), ('descended', 'VBD'), ('parachute', 'NN'), ('towards', 'NNS'), ('surface', 'NN'), ('.', '.')], [('Though', 'IN'), ('none', 'NN'), ('expected', 'VBN'), ('survive', 'JJ'), ('surface', 'NN'), (',', ','), ('Day', 'NNP'), ('probe', 'VBD'), ('make', 'VB'), ('transmitted', 'JJ'), ('67.5', 'CD'), ('minutes', 'NNS'), ('ground', 'JJ'), ('batteries', 'NNS'), ('failed', 'VBD'), ('.', '.')], [('RANGER', 'NNP'), ('(', '('), ('LUNAR', 'NNP'), ('LANDER', 'NNP'), ('AND', 'NNP'), ('IMPACT', 'NNP'), ('MISSIONS', 'NNP'), (')', ')'), ('RANGER', 'VBD'), ('1', 'CD'), ('2', 'CD'), ('test', 'NN'), ('probes', 'NNS'), ('RANGER', 'NNP'), ('lunar', 'VBD'), ('impact', 'JJ'), ('series', 'NN'), ('.', '.')], [('They', 'PRP'), ('meant', 'VBP'), ('high', 'JJ'), ('Earth', 'NNP'), ('orbit', 'NN'), ('testing', 'VBG'), ('1961', 'CD'), (',', ','), ('rocket', 'NN'), ('problems', 'NNS'), ('left', 'VBD'), ('useless', 'JJ'), ('low', 'JJ'), ('orbits', 'NNS'), ('quickly', 'RB'), ('decayed', 'VBD'), ('.', '.')], [('RANGER', 'NNP'), ('3', 'CD'), (',', ','), ('launched', 'VBD'), ('January', 'NNP'), ('26', 'CD'), (',', ','), ('1962', 'CD'), (',', ','), ('intended', 'VBN'), ('land', 'NN'), ('instrument', 'NN'), ('capsule', 'NN'), ('surface', 'NN'), ('Moon', 'NNP'), (',', ','), ('problems', 'NNS'), ('launch', 'VBP'), ('caused', 'VBN'), ('probe', 'NN'), ('miss', 'NN'), ('Moon', 'NNP'), ('head', 'NN'), ('solar', 'JJ'), ('orbit', 'NN'), ('.', '.')], [('RANGER', '$'), ('3', 'CD'), ('try', 'NNS'), ('take', 'VBP'), ('images', 'NNS'), ('Moon', 'NNP'), ('flew', 'VBD'), (',', ','), ('camera', 'NN'), ('unfortunately', 'RB'), ('aimed', 'VBN'), ('deep', 'JJ'), ('space', 'NN'), ('attempt', 'NN'), ('.', '.')], [('RANGER', 'NNP'), ('4', 'CD'), (',', ','), ('launched', 'VBN'), ('April', 'NNP'), ('23', 'CD'), (',', ','), ('1962', 'CD'), (',', ','), ('purpose', 'RB'), ('RANGER', 'NNP'), ('3', 'CD'), (',', ','), ('suffered', 'VBD'), ('technical', 'JJ'), ('problems', 'NNS'), ('enroute', 'VBP'), ('crashed', 'VBN'), ('lunar', 'JJ'), ('farside', 'NN'), (',', ','), ('first', 'JJ'), ('U.S.', 'NNP'), ('probe', 'NN'), ('reach', 'NN'), ('Moon', 'NNP'), (',', ','), ('albeit', 'IN'), ('without', 'IN'), ('returning', 'VBG'), ('data', 'NNS'), ('.', '.')], [('RANGER', 'NNP'), ('5', 'CD'), (',', ','), ('launched', 'VBD'), ('October', 'NNP'), ('18', 'CD'), (',', ','), ('1962', 'CD'), ('similar', 'JJ'), ('RANGER', 'NNP'), ('3', 'CD'), ('4', 'CD'), (',', ','), ('lost', 'VBD'), ('solar', 'JJ'), ('panel', 'NN'), ('battery', 'NN'), ('power', 'NN'), ('enroute', 'NN'), ('eventually', 'RB'), ('missed', 'VBD'), ('Moon', 'NNP'), ('drifted', 'VBD'), ('solar', 'JJ'), ('orbit', 'NN'), ('.', '.')], [('RANGER', 'NNP'), ('6', 'CD'), ('9', 'CD'), ('modified', 'VBN'), ('lunar', 'JJ'), ('missions', 'NNS'), (':', ':'), ('They', 'PRP'), ('send', 'VBP'), ('back', 'RB'), ('live', 'JJ'), ('images', 'NNS'), ('lunar', 'VBP'), ('surface', 'NN'), ('headed', 'VBN'), ('towards', 'NNS'), ('impact', 'JJ'), ('Moon', 'NNP'), ('.', '.')], [('RANGER', 'NNP'), ('6', 'CD'), ('failed', 'VBD'), ('objective', 'JJ'), ('1964', 'CD'), ('cameras', 'JJ'), ('operate', 'NN'), ('.', '.')], [('RANGER', 'NNP'), ('7', 'CD'), ('9', 'CD'), ('performed', 'VBN'), ('well', 'RB'), (',', ','), ('becoming', 'VBG'), ('first', 'JJ'), ('U.S.', 'NNP'), ('lunar', 'NN'), ('probes', 'NNS'), ('return', 'VBP'), ('thousands', 'NNS'), ('lunar', 'RBR'), ('images', 'NNS'), ('1965', 'CD'), ('.', '.')], [('LUNAR', 'NNP'), ('ORBITER', 'NNP'), ('(', '('), ('LUNAR', 'NNP'), ('SURFACE', 'NNP'), ('PHOTOGRAPHY', 'NNP'), (')', ')'), ('LUNAR', 'NNP'), ('ORBITER', 'NNP'), ('1', 'CD'), ('5', 'CD'), ('designed', 'VBN'), ('orbit', 'NN'), ('Moon', 'NNP'), ('image', 'NN'), ('various', 'JJ'), ('sites', 'NNS'), ('studied', 'VBD'), ('landing', 'VBG'), ('areas', 'NNS'), ('manned', 'VBN'), ('APOLLO', 'NNP'), ('missions', 'NNS'), ('1969-1972', 'CD'), ('.', '.')], [('The', 'DT'), ('probes', 'NNS'), ('also', 'RB'), ('contributed', 'VBD'), ('greatly', 'RB'), ('understanding', 'JJ'), ('lunar', 'JJ'), ('surface', 'NN'), ('features', 'NNS'), (',', ','), ('particularly', 'RB'), ('lunar', 'JJ'), ('farside', 'NN'), ('.', '.')], [('All', 'DT'), ('five', 'CD'), ('probes', 'NNS'), ('series', 'NN'), (',', ','), ('launched', 'VBN'), ('1966', 'CD'), ('1967', 'CD'), (',', ','), ('essentially', 'RB'), ('successful', 'JJ'), ('missions', 'NNS'), ('.', '.')], [('They', 'PRP'), ('first', 'RB'), ('U.S.', 'NNP'), ('probes', 'NNS'), ('orbit', 'RB'), ('Moon', 'NNP'), ('.', '.')], [('All', 'DT'), ('LOs', 'NNP'), ('eventually', 'RB'), ('crashed', 'VBD'), ('lunar', 'JJ'), ('surface', 'NN'), ('avoid', 'JJ'), ('interference', 'NN'), ('manned', 'VBD'), ('APOLLO', 'NNP'), ('missions', 'NNS'), ('.', '.')], [('SURVEYOR', 'NNP'), ('(', '('), ('LUNAR', 'NNP'), ('SOFT', 'NNP'), ('LANDERS', 'NNP'), (')', ')'), ('The', 'DT'), ('SURVEYOR', 'NNP'), ('series', 'NN'), ('designed', 'VBN'), ('primarily', 'RB'), ('see', 'VB'), ('APOLLO', 'NNP'), ('lunar', 'NN'), ('module', 'NN'), ('could', 'MD'), ('land', 'VB'), ('surface', 'NN'), ('Moon', 'NNP'), ('without', 'IN'), ('sinking', 'VBG'), ('soil', 'NN'), ('(', '('), ('time', 'NN'), (',', ','), ('feared', 'VBD'), ('Moon', 'NNP'), ('covered', 'VBD'), ('great', 'JJ'), ('layers', 'NNS'), ('dust', 'NN'), (',', ','), ('would', 'MD'), ('support', 'VB'), ('heavy', 'JJ'), ('landing', 'NN'), ('vehicle', 'NN'), (')', ')'), ('.', '.')], [('SURVEYOR', 'NNP'), ('successful', 'JJ'), ('proving', 'VBG'), ('lunar', 'JJ'), ('surface', 'NN'), ('strong', 'JJ'), ('enough', 'RB'), ('hold', 'NN'), ('spacecraft', 'NN'), ('1966', 'CD'), ('1968', 'CD'), ('.', '.')], [('Only', 'RB'), ('SURVEYOR', 'NNP'), ('2', 'CD'), ('4', 'CD'), ('unsuccessful', 'JJ'), ('missions', 'NNS'), ('.', '.')], [('The', 'DT'), ('rest', 'NN'), ('became', 'VBD'), ('first', 'JJ'), ('U.S.', 'NNP'), ('probes', 'NNS'), ('soft', 'JJ'), ('land', 'NN'), ('Moon', 'NNP'), (',', ','), ('taking', 'VBG'), ('thousands', 'NNS'), ('images', 'NNS'), ('scooping', 'VBG'), ('soil', 'NN'), ('analysis', 'NN'), ('.', '.')], [('APOLLO', '$'), ('12', 'CD'), ('landed', 'VBD'), ('600', 'CD'), ('feet', 'NNS'), ('SURVEYOR', 'NNP'), ('3', 'CD'), ('1969', 'CD'), ('returned', 'VBD'), ('parts', 'NNS'), ('craft', 'NN'), ('Earth', 'NNP'), ('.', '.')], [('SURVEYOR', 'NNP'), ('7', 'CD'), (',', ','), ('last', 'JJ'), ('series', 'NN'), (',', ','), ('purely', 'RB'), ('scientific', 'JJ'), ('mission', 'NN'), ('explored', 'VBD'), ('Tycho', 'NNP'), ('crater', 'NN'), ('region', 'NN'), ('1968', 'CD'), ('.', '.')], [('VIKING', 'NN'), ('(', '('), ('MARS', 'NNP'), ('ORBITERS', 'NNP'), ('AND', 'NNP'), ('LANDERS', 'NNP'), (')', ')'), ('VIKING', 'VBD'), ('1', 'CD'), ('launched', 'JJ'), ('Cape', 'NNP'), ('Canaveral', 'NNP'), (',', ','), ('Florida', 'NNP'), ('August', 'NNP'), ('20', 'CD'), (',', ','), ('1975', 'CD'), ('TITAN', 'NNP'), ('3E-CENTAUR', 'JJ'), ('D1', 'NNP'), ('rocket', 'NN'), ('.', '.')], [('The', 'DT'), ('probe', 'NN'), ('went', 'VBD'), ('Martian', 'JJ'), ('orbit', 'NN'), ('June', 'NNP'), ('19', 'CD'), (',', ','), ('1976', 'CD'), (',', ','), ('lander', 'JJR'), ('set', 'NN'), ('western', 'JJ'), ('slopes', 'NNS'), ('Chryse', 'NNP'), ('Planitia', 'NNP'), ('July', 'NNP'), ('20', 'CD'), (',', ','), ('1976', 'CD'), ('.', '.')], [('It', 'PRP'), ('soon', 'RB'), ('began', 'VBD'), ('programmed', 'VBN'), ('search', 'NN'), ('Martian', 'JJ'), ('micro-organisms', 'NN'), ('(', '('), ('still', 'RB'), ('debate', 'VB'), ('whether', 'IN'), ('probes', 'NN'), ('found', 'VBD'), ('life', 'NN'), (')', ')'), (',', ','), ('sent', 'VBD'), ('back', 'RB'), ('incredible', 'JJ'), ('color', 'NN'), ('panoramas', 'NN'), ('surroundings', 'NNS'), ('.', '.')], [('One', 'CD'), ('thing', 'NN'), ('scientists', 'NNS'), ('learned', 'VBD'), ('Mars', 'NNP'), (\"'\", 'POS'), ('sky', 'NN'), ('pinkish', 'NN'), ('color', 'NN'), (',', ','), ('dark', 'JJ'), ('blue', 'NN'), ('originally', 'RB'), ('thought', 'VBN'), ('(', '('), ('sky', 'JJ'), ('pink', 'NN'), ('due', 'JJ'), ('sunlight', 'VBD'), ('reflecting', 'VBG'), ('reddish', 'JJ'), ('dust', 'NN'), ('particles', 'NNS'), ('thin', 'IN'), ('atmosphere', 'RB'), (')', ')'), ('.', '.')], [('The', 'DT'), ('lander', 'NN'), ('set', 'VBN'), ('among', 'IN'), ('field', 'NN'), ('red', 'JJ'), ('sand', 'NN'), ('boulders', 'NNS'), ('stretching', 'VBG'), ('far', 'RB'), ('cameras', 'NNS'), ('could', 'MD'), ('image', 'NN'), ('.', '.')], [('The', 'DT'), ('VIKING', 'NNP'), ('1', 'CD'), ('orbiter', 'NN'), ('kept', 'VBD'), ('functioning', 'VBG'), ('August', 'NNP'), ('7', 'CD'), (',', ','), ('1980', 'CD'), (',', ','), ('ran', 'VBD'), ('attitude-control', 'NN'), ('propellant', 'NN'), ('.', '.')], [('The', 'DT'), ('lander', 'NN'), ('switched', 'VBD'), ('weather-reporting', 'JJ'), ('mode', 'NN'), (',', ','), ('hoped', 'VBD'), ('would', 'MD'), ('keep', 'VB'), ('functioning', 'NN'), ('1994', 'CD'), (';', ':'), ('November', 'NNP'), ('13', 'CD'), (',', ','), ('1982', 'CD'), (',', ','), ('errant', 'JJ'), ('command', 'NN'), ('sent', 'VBD'), ('lander', 'RBR'), ('accidentally', 'RB'), ('telling', 'VBG'), ('shut', 'JJ'), ('orders', 'NNS'), ('.', '.')], [('Communication', 'NN'), ('never', 'RB'), ('regained', 'VBD'), (',', ','), ('despite', 'IN'), ('engineers', 'NNS'), (\"'\", 'POS'), ('efforts', 'NNS'), ('May', 'NNP'), ('1983', 'CD'), ('.', '.')], [('An', 'DT'), ('interesting', 'JJ'), ('side', 'NN'), ('note', 'NN'), (':', ':'), ('VIKING', 'NN'), ('1', 'CD'), (\"'s\", 'POS'), ('lander', 'NN'), ('designated', 'VBD'), ('Thomas', 'NNP'), ('A.', 'NNP'), ('Mutch', 'NNP'), ('Memorial', 'NNP'), ('Station', 'NNP'), ('honor', 'NN'), ('late', 'JJ'), ('leader', 'NN'), ('lander', 'NN'), ('imaging', 'VBG'), ('team', 'NN'), ('.', '.')], [('The', 'DT'), ('National', 'NNP'), ('Air', 'NNP'), ('Space', 'NNP'), ('Museum', 'NNP'), ('Washington', 'NNP'), (',', ','), ('D.C.', 'NNP'), ('entrusted', 'VBD'), ('safekeeping', 'VBG'), ('Mutch', 'NNP'), ('Station', 'NNP'), ('Plaque', 'NNP'), ('attached', 'VBD'), ('lander', 'RBR'), ('manned', 'VBN'), ('expedition', 'NN'), ('.', '.')], [('VIKING', 'NN'), ('2', 'CD'), ('launched', 'VBD'), ('September', 'NNP'), ('9', 'CD'), (',', ','), ('1975', 'CD'), (',', ','), ('arrived', 'VBD'), ('Martian', 'JJ'), ('orbit', 'NN'), ('August', 'NNP'), ('7', 'CD'), (',', ','), ('1976', 'CD'), ('.', '.')], [('The', 'DT'), ('lander', 'NN'), ('touched', 'VBD'), ('September', 'NNP'), ('3', 'CD'), (',', ','), ('1976', 'CD'), ('Utopia', 'NNP'), ('Planitia', 'NNP'), ('.', '.')], [('It', 'PRP'), ('accomplished', 'VBD'), ('essentially', 'RB'), ('tasks', 'JJ'), ('sister', 'NN'), ('lander', 'NN'), (',', ','), ('exception', 'NN'), ('seisometer', 'NN'), ('worked', 'VBD'), (',', ','), ('recording', 'VBG'), ('one', 'CD'), ('marsquake', 'NN'), ('.', '.')], [('The', 'DT'), ('orbiter', 'JJ'), ('series', 'NN'), ('attitude-control', 'NN'), ('gas', 'NN'), ('leaks', 'NN'), ('1978', 'CD'), (',', ','), ('prompted', 'VBD'), ('shut', 'VBN'), ('July', 'NNP'), ('.', '.')], [('The', 'DT'), ('lander', 'NN'), ('shut', 'VBD'), ('April', 'NNP'), ('12', 'CD'), (',', ','), ('1980', 'CD'), ('.', '.')], [('The', 'DT'), ('orbits', 'NNS'), ('VIKING', 'NNP'), ('orbiters', 'NNS'), ('decay', 'VBP'), ('around', 'IN'), ('2025', 'CD'), ('.', '.')], [('VOYAGER', 'NNP'), ('(', '('), ('OUTER', 'NNP'), ('PLANET', 'NNP'), ('FLYBYS', 'NNP'), (')', ')'), ('VOYAGER', 'NNP'), ('1', 'CD'), ('launched', 'VBD'), ('September', 'NNP'), ('5', 'CD'), (',', ','), ('1977', 'CD'), (',', ','), ('flew', 'VBD'), ('past', 'JJ'), ('Jupiter', 'NNP'), ('March', 'NNP'), ('5', 'CD'), (',', ','), ('1979', 'CD'), ('Saturn', 'NNP'), ('November', 'NNP'), ('13', 'CD'), (',', ','), ('1980', 'CD'), ('.', '.')], [('VOYAGER', '$'), ('2', 'CD'), ('launched', 'VBN'), ('August', 'NNP'), ('20', 'CD'), (',', ','), ('1977', 'CD'), ('(', '('), ('VOYAGER', 'NNP'), ('1', 'CD'), (')', ')'), (',', ','), ('flew', 'VBD'), ('Jupiter', 'NNP'), ('August', 'NNP'), ('7', 'CD'), (',', ','), ('1979', 'CD'), (',', ','), ('Saturn', 'NNP'), ('August', 'NNP'), ('26', 'CD'), (',', ','), ('1981', 'CD'), (',', ','), ('Uranus', 'NNP'), ('January', 'NNP'), ('24', 'CD'), (',', ','), ('1986', 'CD'), (',', ','), ('Neptune', 'NNP'), ('August', 'NNP'), ('8', 'CD'), (',', ','), ('1989', 'CD'), ('.', '.')], [('VOYAGER', 'NNP'), ('2', 'CD'), ('took', 'VBD'), ('advantage', 'NN'), ('rare', 'JJ'), ('once-every-189-years', 'JJ'), ('alignment', 'NN'), ('slingshot', 'JJ'), ('way', 'NN'), ('outer', 'JJ'), ('planet', 'NN'), ('outer', 'NN'), ('planet', 'NN'), ('.', '.')], [('VOYAGER', 'NNP'), ('1', 'CD'), ('could', 'MD'), (',', ','), ('principle', 'VB'), (',', ','), ('headed', 'VBN'), ('towards', 'NNS'), ('Pluto', 'NNP'), (',', ','), ('JPL', 'NNP'), ('opted', 'VBD'), ('sure', 'JJ'), ('thing', 'NN'), ('Titan', 'NNP'), ('close', 'NN'), ('.', '.')], [('Between', 'NNP'), ('two', 'CD'), ('probes', 'NNS'), (',', ','), ('knowledge', 'VBD'), ('4', 'CD'), ('giant', 'JJ'), ('planets', 'NNS'), (',', ','), ('satellites', 'NNS'), (',', ','), ('rings', 'NNS'), ('become', 'VBP'), ('immense', 'JJ'), ('.', '.')], [('VOYAGER', 'NNP'), ('1', 'CD'), ('&', 'CC'), ('2', 'CD'), ('discovered', 'VBN'), ('Jupiter', 'NNP'), ('complicated', 'VBD'), ('atmospheric', 'JJ'), ('dynamics', 'NNS'), (',', ','), ('lightning', 'VBG'), ('aurorae', 'NN'), ('.', '.')], [('Three', 'CD'), ('new', 'JJ'), ('satellites', 'NNS'), ('discovered', 'VBN'), ('.', '.')], [('Two', 'CD'), ('major', 'JJ'), ('surprises', 'NNS'), ('Jupiter', 'NNP'), ('rings', 'NNS'), ('Io', 'NNP'), ('active', 'JJ'), ('sulfurous', 'JJ'), ('volcanoes', 'NNS'), (',', ','), ('major', 'JJ'), ('effects', 'NNS'), ('Jovian', 'JJ'), ('magnetosphere', 'RB'), ('.', '.')], [('When', 'WRB'), ('two', 'CD'), ('probes', 'NNS'), ('reached', 'VBD'), ('Saturn', 'NNP'), (',', ','), ('discovered', 'VBD'), ('1000', 'CD'), ('ringlets', 'NNS'), ('7', 'CD'), ('satellites', 'NNS'), (',', ','), ('including', 'VBG'), ('predicted', 'VBN'), ('shepherd', 'NN'), ('satellites', 'VBZ'), ('keep', 'JJ'), ('rings', 'NNS'), ('stable', 'JJ'), ('.', '.')], [('The', 'DT'), ('weather', 'NN'), ('tame', 'NN'), ('compared', 'VBN'), ('Jupiter', 'NNP'), (':', ':'), ('massive', 'JJ'), ('jet', 'NN'), ('streams', 'NNS'), ('minimal', 'JJ'), ('variance', 'NN'), ('(', '('), ('33-year', 'JJ'), ('great', 'JJ'), ('white', 'JJ'), ('spot/band', 'NN'), ('cycle', 'NN'), ('known', 'VBN'), (')', ')'), ('.', '.')], [('Titan', 'NNP'), (\"'s\", 'POS'), ('atmosphere', 'JJ'), ('smoggy', 'NN'), ('.', '.')], [('Mimas', 'NNP'), (\"'\", 'POS'), ('appearance', 'NN'), ('startling', 'NN'), (':', ':'), ('one', 'CD'), ('massive', 'JJ'), ('impact', 'NN'), ('crater', 'NN'), ('gave', 'VBD'), ('Death', 'NNP'), ('Star', 'NNP'), ('appearance', 'NN'), ('.', '.')], [('The', 'DT'), ('big', 'JJ'), ('surprise', 'NN'), ('stranger', 'NN'), ('aspects', 'VBZ'), ('rings', 'NNS'), ('.', '.')], [('Braids', 'NNS'), (',', ','), ('kinks', 'NNS'), (',', ','), ('spokes', 'NNS'), ('unexpected', 'VBD'), ('difficult', 'JJ'), ('explain', 'NN'), ('.', '.')], [('VOYAGER', 'NNP'), ('2', 'CD'), (',', ','), ('thanks', 'NNS'), ('heroic', 'VBP'), ('engineering', 'NN'), ('programming', 'NN'), ('efforts', 'NNS'), (',', ','), ('continued', 'VBD'), ('mission', 'NN'), ('Uranus', 'NNP'), ('Neptune', 'NNP'), ('.', '.')], [('Uranus', 'NNP'), ('highly', 'RB'), ('monochromatic', 'JJ'), ('appearance', 'NN'), ('.', '.')], [('One', 'CD'), ('oddity', 'NN'), ('magnetic', 'JJ'), ('axis', 'NN'), ('found', 'VBD'), ('highly', 'RB'), ('skewed', 'JJ'), ('already', 'RB'), ('completely', 'RB'), ('skewed', 'JJ'), ('rotational', 'JJ'), ('axis', 'NN'), (',', ','), ('giving', 'VBG'), ('Uranus', 'NNP'), ('peculiar', 'NN'), ('magnetosphere', 'RB'), ('.', '.')], [('Icy', 'NNP'), ('channels', 'NNS'), ('found', 'VBD'), ('Ariel', 'NNP'), (',', ','), ('Miranda', 'NNP'), ('bizarre', 'VBP'), ('patchwork', 'NN'), ('different', 'JJ'), ('terrains', 'NNS'), ('.', '.')], [('10', 'CD'), ('satellites', 'VBZ'), ('one', 'CD'), ('ring', 'NN'), ('discovered', 'VBD'), ('.', '.')], [('In', 'IN'), ('contrast', 'NN'), ('Uranus', 'NNP'), (',', ','), ('Neptune', 'NNP'), ('found', 'VBD'), ('rather', 'RB'), ('active', 'JJ'), ('weather', 'NN'), (',', ','), ('including', 'VBG'), ('numerous', 'JJ'), ('cloud', 'NN'), ('features', 'NNS'), ('.', '.')], [('The', 'DT'), ('ring', 'NN'), ('arcs', 'NN'), ('turned', 'VBD'), ('bright', 'JJ'), ('patches', 'NNS'), ('one', 'CD'), ('ring', 'NN'), ('.', '.')], [('Two', 'CD'), ('rings', 'NNS'), (',', ','), ('6', 'CD'), ('satellites', 'NNS'), (',', ','), ('discovered', 'VBN'), ('.', '.')], [('Neptune', 'NNP'), (\"'s\", 'POS'), ('magnetic', 'JJ'), ('axis', 'NN'), ('also', 'RB'), ('skewed', 'VBD'), ('.', '.')], [('Triton', 'NNP'), ('canteloupe', 'NN'), ('appearance', 'NN'), ('geysers', 'NNS'), ('.', '.')], [('(', '('), ('What', 'WP'), (\"'s\", 'VBZ'), ('liquid', 'JJ'), ('38K', 'CD'), ('?', '.'), (')', ')')], [('The', 'DT'), ('two', 'CD'), ('VOYAGERs', 'NNP'), ('expected', 'VBD'), ('last', 'JJ'), ('two', 'CD'), ('decades', 'NNS'), ('.', '.')], [('Their', 'PRP$'), ('on-target', 'JJ'), ('journeying', 'NN'), ('gives', 'VBZ'), ('negative', 'JJ'), ('evidence', 'NN'), ('possible', 'JJ'), ('planets', 'NNS'), ('beyond', 'IN'), ('Pluto', 'NNP'), ('.', '.')], [('Their', 'PRP$'), ('next', 'JJ'), ('major', 'JJ'), ('scientific', 'JJ'), ('discovery', 'NN'), ('location', 'NN'), ('heliopause', 'NN'), ('.', '.')], [('SOVIET', 'NNP'), ('PLANETARY', 'NNP'), ('MISSIONS', 'NNP'), ('Since', 'IN'), ('many', 'JJ'), ('Soviet', 'JJ'), ('probes', 'NNS'), ('Moon', 'NNP'), (',', ','), ('Venus', 'NNP'), (',', ','), ('Mars', 'NNP'), (',', ','), ('I', 'PRP'), ('highlight', 'VBD'), ('primary', 'JJ'), ('missions', 'NNS'), (':', ':'), ('SOVIET', 'NNP'), ('LUNAR', 'NNP'), ('PROBES', 'NNP'), ('LUNA', 'NNP'), ('1', 'CD'), ('-', ':'), ('Lunar', 'NNP'), ('impact', 'NN'), ('attempt', 'NN'), ('1959', 'CD'), (',', ','), ('missed', 'VBD'), ('Moon', 'NNP'), ('became', 'VBD'), ('first', 'JJ'), ('craft', 'NN'), ('solar', 'JJ'), ('orbit', 'NN'), ('.', '.')], [('LUNA', 'NNP'), ('2', 'CD'), ('-', ':'), ('First', 'NNP'), ('craft', 'NN'), ('impact', 'NN'), ('lunar', 'JJ'), ('surface', 'NN'), ('1959', 'CD'), ('.', '.')], [('LUNA', 'NNP'), ('3', 'CD'), ('-', ':'), ('Took', 'NN'), ('first', 'RB'), ('images', 'VBZ'), ('lunar', 'NN'), ('farside', 'NN'), ('1959', 'CD'), ('.', '.')], [('ZOND', '$'), ('3', 'CD'), ('-', ':'), ('Took', 'NN'), ('first', 'RB'), ('images', 'VBZ'), ('lunar', 'NN'), ('farside', 'NN'), ('1965', 'CD'), ('since', 'IN'), ('LUNA', 'NNP'), ('3', 'CD'), ('.', '.')], [('Was', 'NNP'), ('also', 'RB'), ('test', 'VBP'), ('future', 'JJ'), ('Mars', 'NNP'), ('missions', 'NNS'), ('.', '.')], [('LUNA', 'NNP'), ('9', 'CD'), ('-', ':'), ('First', 'NNP'), ('probe', 'NN'), ('soft', 'JJ'), ('land', 'NN'), ('Moon', 'NNP'), ('1966', 'CD'), (',', ','), ('returned', 'VBD'), ('images', 'NNS'), ('surface', 'NN'), ('.', '.')], [('LUNA', 'NNP'), ('10', 'CD'), ('-', ':'), ('First', 'NNP'), ('probe', 'NN'), ('orbit', 'NN'), ('Moon', 'NNP'), ('1966', 'CD'), ('.', '.')], [('LUNA', 'NNP'), ('13', 'CD'), ('-', ':'), ('Second', 'JJ'), ('successful', 'JJ'), ('Soviet', 'JJ'), ('lunar', 'NN'), ('soft', 'JJ'), ('landing', 'VBG'), ('mission', 'NN'), ('1966', 'CD'), ('.', '.')], [('ZOND', '$'), ('5', 'CD'), ('-', ':'), ('First', 'RB'), ('successful', 'JJ'), ('circumlunar', 'NN'), ('craft', 'NN'), ('.', '.')], [('ZOND', 'NNP'), ('6', 'CD'), ('8', 'CD'), ('accomplished', 'VBD'), ('similar', 'JJ'), ('missions', 'NNS'), ('1970', 'CD'), ('.', '.')], [('The', 'DT'), ('probes', 'NNS'), ('unmanned', 'JJ'), ('tests', 'NNS'), ('manned', 'VBD'), ('orbiting', 'VBG'), ('SOYUZ-type', 'JJ'), ('lunar', 'NN'), ('vehicle', 'NN'), ('.', '.')], [('LUNA', 'NNP'), ('16', 'CD'), ('-', ':'), ('First', 'NNP'), ('probe', 'NN'), ('land', 'NN'), ('Moon', 'NNP'), ('return', 'NN'), ('samples', 'NNS'), ('lunar', 'VBP'), ('soil', 'NN'), ('Earth', 'NN'), ('1970', 'CD'), ('.', '.')], [('LUNA', 'NNP'), ('20', 'CD'), ('accomplished', 'VBD'), ('similar', 'JJ'), ('mission', 'NN'), ('1972', 'CD'), ('.', '.')], [('LUNA', 'NNP'), ('17', 'CD'), ('-', ':'), ('Delivered', 'VBN'), ('first', 'RB'), ('unmanned', 'JJ'), ('lunar', 'NN'), ('rover', 'NN'), ('Moon', 'NNP'), (\"'s\", 'POS'), ('surface', 'NN'), (',', ','), ('LUNOKHOD', 'NNP'), ('1', 'CD'), (',', ','), ('1970', 'CD'), ('.', '.')], [('A', 'DT'), ('similar', 'JJ'), ('feat', 'NN'), ('accomplished', 'VBD'), ('LUNA', 'NNP'), ('21/LUNOKHOD', 'CD'), ('2', 'CD'), ('1973', 'CD'), ('.', '.')], [('LUNA', 'NNP'), ('24', 'CD'), ('-', ':'), ('Last', 'JJ'), ('Soviet', 'JJ'), ('lunar', 'JJ'), ('mission', 'NN'), ('date', 'NN'), ('.', '.')], [('Returned', 'VBN'), ('soil', 'NN'), ('samples', 'NNS'), ('1976', 'CD'), ('.', '.')], [('SOVIET', 'NNP'), ('VENUS', 'NNP'), ('PROBES', 'NNP'), ('VENERA', 'NNP'), ('1', 'CD'), ('-', ':'), ('First', 'RB'), ('acknowledged', 'VBD'), ('attempt', 'JJ'), ('Venus', 'NNP'), ('mission', 'NN'), ('.', '.')], [('Transmissions', 'NNS'), ('lost', 'VBD'), ('enroute', 'JJ'), ('1961', 'CD'), ('.', '.')], [('VENERA', 'NNP'), ('2', 'CD'), ('-', ':'), ('Attempt', 'NN'), ('image', 'NN'), ('Venus', 'NNP'), ('flyby', 'VBZ'), ('mission', 'NN'), ('tandem', 'NN'), ('VENERA', 'NNP'), ('3', 'CD'), ('.', '.')], [('Probe', 'NNP'), ('ceased', 'VBD'), ('transmitting', 'VBG'), ('encounter', 'NN'), ('February', 'NNP'), ('1966', 'CD'), ('.', '.')], [('No', 'DT'), ('images', 'NNS'), ('returned', 'VBN'), ('.', '.')], [('VENERA', 'NNP'), ('3', 'CD'), ('-', ':'), ('Attempt', 'NN'), ('place', 'NN'), ('lander', 'NN'), ('capsule', 'NN'), ('Venusian', 'JJ'), ('surface', 'NN'), ('.', '.')], [('Transmissions', 'NNS'), ('ceased', 'VBD'), ('encounter', 'NN'), ('entire', 'JJ'), ('probe', 'NN'), ('became', 'VBD'), ('first', 'JJ'), ('craft', 'NN'), ('impact', 'NN'), ('another', 'DT'), ('planet', 'NN'), ('1966', 'CD'), ('.', '.')], [('VENERA', 'NNP'), ('4', 'CD'), ('-', ':'), ('First', 'NNP'), ('probe', 'VBZ'), ('successfully', 'RB'), ('return', 'JJ'), ('data', 'NNS'), ('descending', 'VBG'), ('Venusian', 'JJ'), ('atmosphere', 'NN'), ('.', '.')], [('Crushed', 'NNP'), ('air', 'NN'), ('pressure', 'NN'), ('reaching', 'VBG'), ('surface', 'NN'), ('1967', 'CD'), ('.', '.')], [('VENERA', 'NNP'), ('5', 'CD'), ('6', 'CD'), ('mission', 'NN'), ('profiles', 'NNS'), ('similar', 'JJ'), ('1969', 'CD'), ('.', '.')], [('VENERA', 'NNP'), ('7', 'CD'), ('-', ':'), ('First', 'JJ'), ('probe', 'NN'), ('return', 'NN'), ('data', 'NNS'), ('surface', 'NN'), ('another', 'DT'), ('planet', 'NN'), ('1970', 'CD'), ('.', '.')], [('VENERA', 'NNP'), ('8', 'CD'), ('accomplished', 'VBD'), ('detailed', 'VBN'), ('mission', 'NN'), ('1972', 'CD'), ('.', '.')], [('VENERA', 'NNP'), ('9', 'CD'), ('-', ':'), ('Sent', 'NN'), ('first', 'RB'), ('image', 'NN'), ('Venusian', 'JJ'), ('surface', 'NN'), ('1975', 'CD'), ('.', '.')], [('Was', 'NNP'), ('also', 'RB'), ('first', 'RB'), ('probe', 'JJ'), ('orbit', 'NN'), ('Venus', 'NNP'), ('.', '.')], [('VENERA', 'NNP'), ('10', 'CD'), ('accomplished', 'VBD'), ('similar', 'JJ'), ('mission', 'NN'), ('.', '.')], [('VENERA', 'NNP'), ('13', 'CD'), ('-', ':'), ('Returned', 'VBN'), ('first', 'JJ'), ('color', 'NN'), ('images', 'NNS'), ('Venusian', 'JJ'), ('surface', 'NN'), ('1982', 'CD'), ('.', '.')], [('VENERA', 'NNP'), ('14', 'CD'), ('accomplished', 'VBD'), ('similar', 'JJ'), ('mission', 'NN'), ('.', '.')], [('VENERA', 'NNP'), ('15', 'CD'), ('-', ':'), ('Accomplished', 'VBN'), ('radar', 'NN'), ('mapping', 'VBG'), ('VENERA', 'NNP'), ('16', 'CD'), ('sections', 'NNS'), ('planet', 'NN'), (\"'s\", 'POS'), ('surface', 'NN'), ('1983', 'CD'), ('detailed', 'JJ'), ('PVO', 'NNP'), ('.', '.')], [('VEGA', 'NNP'), ('1', 'CD'), ('-', ':'), ('Accomplished', 'NNP'), ('VEGA', 'NNP'), ('2', 'CD'), ('first', 'JJ'), ('balloon', 'NN'), ('probes', 'NNS'), ('Venusian', 'NNP'), ('atmosphere', 'RB'), ('1985', 'CD'), (',', ','), ('including', 'VBG'), ('two', 'CD'), ('landers', 'NNS'), ('.', '.')], [('Flyby', 'NNP'), ('buses', 'VBZ'), ('went', 'VBD'), ('become', 'VBN'), ('first', 'JJ'), ('spacecraft', 'NN'), ('study', 'NN'), ('Comet', 'NNP'), ('Halley', 'NNP'), ('close-up', 'NN'), ('March', 'NNP'), ('1986', 'CD'), ('.', '.')], [('SOVIET', 'JJ'), ('MARS', 'NNP'), ('PROBES', 'NNP'), ('MARS', 'NNP'), ('1', 'CD'), ('-', ':'), ('First', 'RB'), ('acknowledged', 'VBD'), ('Mars', 'NNP'), ('probe', 'NN'), ('1962', 'CD'), ('.', '.')], [('Transmissions', 'NNS'), ('ceased', 'VBD'), ('enroute', 'NN'), ('following', 'VBG'), ('year', 'NN'), ('.', '.')], [('ZOND', '$'), ('2', 'CD'), ('-', ':'), ('First', 'NNP'), ('possible', 'JJ'), ('attempt', 'NN'), ('place', 'NN'), ('lander', 'NN'), ('capsule', 'NN'), ('Martian', 'JJ'), ('surface', 'NN'), ('.', '.')], [('Probe', 'NNP'), ('signals', 'NNS'), ('ceased', 'VBD'), ('enroute', 'JJ'), ('1965', 'CD'), ('.', '.')], [('MARS', '$'), ('2', 'CD'), ('-', ':'), ('First', 'NNP'), ('Soviet', 'NNP'), ('Mars', 'NNP'), ('probe', 'NN'), ('land', 'NN'), ('-', ':'), ('albeit', 'NN'), ('crash', 'NN'), ('-', ':'), ('Martian', 'JJ'), ('surface', 'NN'), ('.', '.')], [('Orbiter', 'NNP'), ('section', 'NN'), ('first', 'RB'), ('Soviet', 'JJ'), ('probe', 'NN'), ('circle', 'NN'), ('Red', 'NNP'), ('Planet', 'NNP'), ('1971', 'CD'), ('.', '.')], [('MARS', '$'), ('3', 'CD'), ('-', ':'), ('First', 'RB'), ('successful', 'JJ'), ('soft', 'JJ'), ('landing', 'VBG'), ('Martian', 'JJ'), ('surface', 'NN'), (',', ','), ('lander', 'NN'), ('signals', 'NNS'), ('ceased', 'VBD'), ('90', 'CD'), ('seconds', 'NNS'), ('1971', 'CD'), ('.', '.')], [('MARS', '$'), ('4', 'CD'), ('-', ':'), ('Attempt', 'NN'), ('orbiting', 'VBG'), ('Mars', 'NNP'), ('1974', 'CD'), (',', ','), ('braking', 'VBG'), ('rockets', 'NNS'), ('failed', 'VBD'), ('fire', 'NN'), (',', ','), ('probe', 'NN'), ('went', 'VBD'), ('solar', 'JJ'), ('orbit', 'NN'), ('.', '.')], [('MARS', '$'), ('5', 'CD'), ('-', ':'), ('First', 'NNP'), ('fully', 'RB'), ('successful', 'JJ'), ('Soviet', 'JJ'), ('Mars', 'NNP'), ('mission', 'NN'), (',', ','), ('orbiting', 'VBG'), ('Mars', 'NNS'), ('1974', 'CD'), ('.', '.')], [('Returned', 'VBN'), ('images', 'NNS'), ('Martian', 'JJ'), ('surface', 'NN'), ('comparable', 'JJ'), ('U.S.', 'NNP'), ('probe', 'NN'), ('MARINER', 'NNP'), ('9', 'CD'), ('.', '.')], [('MARS', '$'), ('6', 'CD'), ('-', ':'), ('Landing', 'VBG'), ('attempt', 'NN'), ('1974', 'CD'), ('.', '.')], [('Lander', 'NNP'), ('crashed', 'VBD'), ('surface', 'NN'), ('.', '.')], [('MARS', '$'), ('7', 'CD'), ('-', ':'), ('Lander', 'NN'), ('missed', 'VBD'), ('Mars', 'NNP'), ('completely', 'RB'), ('1974', 'CD'), (',', ','), ('went', 'VBD'), ('solar', 'JJ'), ('orbit', 'NN'), ('flyby', 'JJ'), ('bus', 'NN'), ('.', '.')], [('PHOBOS', 'NNP'), ('1', 'CD'), ('-', ':'), ('First', 'NNP'), ('attempt', 'NN'), ('land', 'NN'), ('probes', 'NNS'), ('surface', 'VBP'), ('Mars', 'NNP'), (\"'\", 'POS'), ('largest', 'JJS'), ('moon', 'NN'), (',', ','), ('Phobos', 'NNP'), ('.', '.')], [('Probe', 'NNP'), ('failed', 'VBD'), ('enroute', 'JJ'), ('1988', 'CD'), ('due', 'JJ'), ('human/computer', 'NN'), ('error', 'NN'), ('.', '.')], [('PHOBOS', 'NNP'), ('2', 'CD'), ('-', ':'), ('Attempt', 'NN'), ('land', 'NN'), ('probes', 'NNS'), ('Martian', 'JJ'), ('moon', 'NN'), ('Phobos', 'NNP'), ('.', '.')], [('The', 'DT'), ('probe', 'NN'), ('enter', 'NN'), ('Mars', 'NNP'), ('orbit', 'RB'), ('early', 'JJ'), ('1989', 'CD'), (',', ','), ('signals', 'NNS'), ('ceased', 'VBD'), ('one', 'CD'), ('week', 'NN'), ('scheduled', 'VBN'), ('Phobos', 'NNP'), ('landing', 'NN'), ('.', '.')], [('While', 'IN'), ('talk', 'NN'), ('Soviet', 'JJ'), ('Jupiter', 'NNP'), (',', ','), ('Saturn', 'NNP'), (',', ','), ('even', 'RB'), ('interstellar', 'JJ'), ('probes', 'NNS'), ('within', 'IN'), ('next', 'JJ'), ('thirty', 'NN'), ('years', 'NNS'), (',', ','), ('major', 'JJ'), ('steps', 'NNS'), ('yet', 'RB'), ('taken', 'VBN'), ('projects', 'NNS'), ('.', '.')], [('More', 'RBR'), ('intensive', 'JJ'), ('studies', 'NNS'), ('Moon', 'NNP'), (',', ','), ('Mars', 'NNP'), (',', ','), ('Venus', 'NNP'), (',', ','), ('various', 'JJ'), ('comets', 'NNS'), ('planned', 'VBD'), ('1990s', 'CD'), (',', ','), ('Mercury', 'NNP'), ('mission', 'NN'), ('orbit', 'NN'), ('land', 'NN'), ('probes', 'NNS'), ('tiny', 'JJ'), ('world', 'NN'), ('planned', 'VBN'), ('2003', 'CD'), ('.', '.')], [('How', 'WRB'), ('many', 'JJ'), ('changes', 'NNS'), ('former', 'JJ'), ('Soviet', 'NNP'), ('Union', 'NNP'), ('(', '('), ('Commonwealth', 'NNP'), ('Independent', 'NNP'), ('States', 'NNPS'), (')', ')'), ('affect', 'VBP'), ('future', 'JJ'), ('space', 'NN'), ('program', 'NN'), ('remains', 'VBZ'), ('seen', 'VBN'), ('.', '.')], [('JAPANESE', 'NNP'), ('PLANETARY', 'NNP'), ('MISSIONS', 'NNP'), ('SAKIGAKE', 'NNP'), ('(', '('), ('MS-T5', 'NNP'), (')', ')'), ('launched', 'VBD'), ('Kagoshima', 'NNP'), ('Space', 'NNP'), ('Center', 'NNP'), ('ISAS', 'NNP'), ('January', 'NNP'), ('8', 'CD'), ('1985', 'CD'), (',', ','), ('approached', 'VBD'), ('Halley', 'NNP'), (\"'s\", 'POS'), ('Comet', 'NNP'), ('within', 'IN'), ('7', 'CD'), ('million', 'CD'), ('km', 'NN'), ('March', 'NNP'), ('11', 'CD'), (',', ','), ('1986', 'CD'), ('.', '.')], [('The', 'DT'), ('spacecraft', 'NN'), ('carrying', 'VBG'), ('three', 'CD'), ('instru-', 'JJ'), ('ments', 'NNS'), ('measure', 'NN'), ('interplanetary', 'JJ'), ('magnetic', 'JJ'), ('field/plasma', 'NN'), ('waves/solar', 'NN'), ('wind', 'NN'), (',', ','), ('work', 'NN'), ('normally', 'RB'), (',', ','), ('ISAS', 'NNP'), ('made', 'VBD'), ('Earth', 'NNP'), ('swingby', 'NNS'), ('Sakigake', 'NNP'), ('January', 'NNP'), ('8', 'CD'), (',', ','), ('1992', 'CD'), ('orbit', 'NN'), ('similar', 'JJ'), ('earth', 'NN'), (\"'s\", 'POS'), ('.', '.')], [('The', 'DT'), ('closest', 'JJS'), ('approach', 'NN'), ('23h08m47s', 'CD'), ('(', '('), ('JST=UTC+9h', 'NNP'), (')', ')'), ('January', 'NNP'), ('8', 'CD'), (',', ','), ('1992', 'CD'), ('.', '.')], [('The', 'DT'), ('geocentric', 'JJ'), ('distance', 'NN'), ('88,997', 'CD'), ('km', 'NN'), ('.', '.')], [('This', 'DT'), ('first', 'JJ'), ('planet-swingby', 'JJ'), ('Japanese', 'JJ'), ('spacecraft', 'NN'), ('.', '.')], [('During', 'IN'), ('approach', 'NN'), (',', ','), ('Sakigake', 'NNP'), ('observed', 'VBD'), ('geotail', 'NN'), ('.', '.')], [('Some', 'DT'), ('geotail', 'NN'), ('passages', 'NNS'), ('scheduled', 'VBN'), ('years', 'NNS'), ('hence', 'RB'), ('.', '.')], [('The', 'DT'), ('second', 'JJ'), ('Earth-swingby', 'NNP'), ('June', 'NNP'), ('14', 'CD'), (',', ','), ('1993', 'CD'), ('(', '('), ('40', 'CD'), ('Re', 'NNP'), ('(', '('), ('Earth', 'NNP'), (\"'s\", 'POS'), ('radius', 'NN'), (')', ')'), (')', ')'), (',', ','), ('third', 'JJ'), ('October', 'NNP'), ('28', 'CD'), (',', ','), ('1994', 'CD'), ('(', '('), ('86', 'CD'), ('Re', 'NNP'), (')', ')'), ('.', '.')], [('HITEN', 'NNP'), (',', ','), ('small', 'JJ'), ('lunar', 'NN'), ('probe', 'NN'), (',', ','), ('launched', 'VBD'), ('Earth', 'NNP'), ('orbit', 'NN'), ('January', 'NNP'), ('24', 'CD'), (',', ','), ('1990', 'CD'), ('.', '.')], [('The', 'DT'), ('spacecraft', 'NN'), ('known', 'VBN'), ('MUSES-A', 'NNP'), (',', ','), ('renamed', 'VBD'), ('Hiten', 'NNP'), ('orbit', 'NN'), ('.', '.')], [('The', 'DT'), ('430', 'CD'), ('lb', 'NN'), ('probe', 'NN'), ('looped', 'VBD'), ('Earth', 'NNP'), ('made', 'VBD'), ('first', 'JJ'), ('lunary', 'JJ'), ('flyby', 'NN'), ('March', 'NNP'), ('19', 'CD'), (',', ','), ('dropped', 'VBD'), ('26', 'CD'), ('lb', 'JJ'), ('midget', 'NN'), ('satellite', 'NN'), (',', ','), ('HAGOROMO', 'NNP'), ('.', '.')], [('Japan', 'NNP'), ('point', 'NN'), ('became', 'VBD'), ('third', 'JJ'), ('nation', 'NN'), ('orbit', 'IN'), ('satellite', 'JJ'), ('around', 'IN'), ('Moon', 'NNP'), (',', ','), ('joining', 'VBG'), ('Unites', 'NNS'), ('States', 'NNPS'), ('USSR', 'NNP'), ('.', '.')], [('The', 'DT'), ('smaller', 'JJR'), ('spacecraft', 'NN'), (',', ','), ('Hagoromo', 'NNP'), (',', ','), ('remained', 'VBD'), ('orbit', 'RP'), ('around', 'IN'), ('Moon', 'NNP'), ('.', '.')], [('An', 'DT'), ('apparently', 'RB'), ('broken', 'JJ'), ('transistor', 'NN'), ('radio', 'NN'), ('caused', 'VBD'), ('Japanese', 'JJ'), ('space', 'NN'), ('scientists', 'NNS'), ('lose', 'VBP'), ('track', 'NN'), ('.', '.')], [('Hagoromo', 'NNP'), (\"'s\", 'POS'), ('rocket', 'NN'), ('motor', 'NN'), ('fired', 'VBD'), ('schedule', 'NN'), ('March', 'NNP'), ('19', 'CD'), (',', ','), ('spacecraft', 'NN'), (\"'s\", 'POS'), ('tracking', 'VBG'), ('transmitter', 'NN'), ('failed', 'VBD'), ('immediately', 'RB'), ('.', '.')], [('The', 'DT'), ('rocket', 'NN'), ('firing', 'VBG'), ('Hagoromo', 'NNP'), ('optically', 'RB'), ('confirmed', 'VBD'), ('using', 'VBG'), ('Schmidt', 'NNP'), ('camera', 'NN'), ('(', '('), ('105-cm', 'JJ'), (',', ','), ('F3.1', 'NNP'), (')', ')'), ('Kiso', 'NNP'), ('Observatory', 'NNP'), ('Japan', 'NNP'), ('.', '.')], [('Hiten', 'NNP'), ('made', 'VBD'), ('multiple', 'JJ'), ('lunar', 'JJ'), ('flybys', 'NN'), ('approximately', 'RB'), ('monthly', 'JJ'), ('intervals', 'NNS'), ('performed', 'VBD'), ('aerobraking', 'VBG'), ('experiments', 'NNS'), ('using', 'VBG'), ('Earth', 'NNP'), (\"'s\", 'POS'), ('atmosphere', 'NN'), ('.', '.')], [('Hiten', 'NNP'), ('made', 'VBD'), ('close', 'JJ'), ('approach', 'NN'), ('moon', 'NN'), ('22:33', 'CD'), ('JST', 'NNP'), ('(', '('), ('UTC+9h', 'NNP'), (')', ')'), ('February', 'NNP'), ('15', 'CD'), (',', ','), ('1992', 'CD'), ('height', 'VBD'), ('423', 'CD'), ('km', 'NN'), ('moon', 'NN'), (\"'s\", 'POS'), ('surface', 'NN'), ('(', '('), ('35.3N', 'CD'), (',', ','), ('9.7E', 'CD'), (')', ')'), ('fired', 'VBN'), ('propulsion', 'NN'), ('system', 'NN'), ('ten', 'JJ'), ('minutes', 'NNS'), ('put', 'VBD'), ('craft', 'NN'), ('lunar', 'NN'), ('orbit', 'NN'), ('.', '.')], [('The', 'DT'), ('following', 'JJ'), ('orbital', 'JJ'), ('calculation', 'NN'), ('results', 'NNS'), ('approach', 'NN'), (':', ':'), ('Apoapsis', 'JJ'), ('Altitude', 'NNP'), (':', ':'), ('49,400', 'CD'), ('km', 'NN'), ('Periapsis', 'NNP'), ('Altitude', 'NNP'), (':', ':'), ('9,600', 'CD'), ('km', 'NN'), ('Inclination', 'NN'), (':', ':'), ('34.7', 'CD'), ('deg', 'NN'), ('(', '('), ('ecliptic', 'JJ'), ('plane', 'NN'), (')', ')'), ('Period', 'NN'), (':', ':'), ('4.7', 'CD'), ('days', 'NNS'), ('PLANETARY', 'NNP'), ('MISSION', 'NNP'), ('REFERENCES', 'NNP'), ('I', 'PRP'), ('also', 'RB'), ('recommend', 'VBP'), ('reading', 'VBG'), ('following', 'VBG'), ('works', 'NNS'), (',', ','), ('categorized', 'VBD'), ('three', 'CD'), ('groups', 'NNS'), (':', ':'), ('General', 'NNP'), ('overviews', 'NNS'), (',', ','), ('specific', 'JJ'), ('books', 'NNS'), ('particular', 'JJ'), ('space', 'NN'), ('missions', 'NNS'), (',', ','), ('periodical', 'JJ'), ('sources', 'NNS'), ('space', 'NN'), ('probes', 'NNS'), ('.', '.')], [('This', 'DT'), ('list', 'NN'), ('means', 'VBZ'), ('complete', 'JJ'), (';', ':'), ('primarily', 'RB'), ('designed', 'VBN'), ('give', 'JJ'), ('places', 'NNS'), ('start', 'VBP'), ('research', 'NN'), ('generally', 'RB'), ('available', 'JJ'), ('works', 'NNS'), ('subject', 'VBP'), ('.', '.')], [('If', 'IN'), ('anyone', 'NN'), ('add', 'VBP'), ('pertinent', 'JJ'), ('works', 'NNS'), ('list', 'NN'), (',', ','), ('would', 'MD'), ('greatly', 'RB'), ('appreciated', 'VBN'), ('.', '.')], [('Though', 'IN'), ('naturally', 'RB'), ('I', 'PRP'), ('recommend', 'VBP'), ('books', 'NNS'), ('listed', 'VBN'), (',', ','), ('I', 'PRP'), ('think', 'VBP'), ('would', 'MD'), ('best', 'RB'), ('started', 'VBN'), ('general', 'JJ'), ('overview', 'NN'), ('books', 'NNS'), (',', ','), ('order', 'NN'), ('give', 'VBP'), ('clear', 'JJ'), ('idea', 'NN'), ('history', 'NN'), ('space', 'NN'), ('exploration', 'NN'), ('area', 'NN'), ('.', '.')], [('I', 'PRP'), ('also', 'RB'), ('recommend', 'VBP'), ('pick', 'RB'), ('good', 'JJ'), (',', ','), ('up-to-date', 'JJ'), ('general', 'JJ'), ('works', 'VBZ'), ('astronomy', 'RB'), ('Sol', 'NNP'), ('system', 'NN'), (',', ','), ('give', 'VB'), ('extra', 'JJ'), ('background', 'NN'), ('.', '.')], [('Most', 'JJS'), ('books', 'NNS'), ('periodicals', 'NNS'), ('found', 'VBD'), ('good', 'JJ'), ('public', 'JJ'), ('university', 'NN'), ('library', 'NN'), ('.', '.')], [('Some', 'DT'), ('recently', 'RB'), ('published', 'VBN'), ('works', 'NNS'), ('also', 'RB'), ('purchased', 'VBD'), ('and/or', 'RB'), ('ordered', 'VBN'), ('good', 'JJ'), ('mass-', 'JJ'), ('market', 'NN'), ('bookstore', 'NN'), ('.', '.')], [('General', 'NNP'), ('Overviews', 'NNP'), ('(', '('), ('alphabetical', 'JJ'), ('order', 'NN'), ('author', 'NN'), (')', ')'), (':', ':'), ('J.', 'NNP'), ('Kelly', 'NNP'), ('Beatty', 'NNP'), ('et', 'FW'), ('al', 'NN'), (',', ','), ('THE', 'NNP'), ('NEW', 'NNP'), ('SOLAR', 'NNP'), ('SYSTEM', 'NNP'), (',', ','), ('1990', 'CD'), ('.', '.')], [('Merton', 'NNP'), ('E.', 'NNP'), ('Davies', 'NNP'), ('Bruce', 'NNP'), ('C.', 'NNP'), ('Murray', 'NNP'), (',', ','), ('THE', 'NNP'), ('VIEW', 'NNP'), ('FROM', 'NNP'), ('SPACE', 'NNP'), (':', ':'), ('PHOTOGRAPHIC', 'NNP'), ('EXPLORATION', 'NNP'), ('OF', 'IN'), ('THE', 'NNP'), ('PLANETS', 'NNP'), (',', ','), ('1971', 'CD'), ('Kenneth', 'NNP'), ('Gatland', 'NNP'), (',', ','), ('THE', 'NNP'), ('ILLUSTRATED', 'NNP'), ('ENCYCLOPEDIA', 'NNP'), ('OF', 'NNP'), ('SPACE', 'NNP'), ('TECHNOLOGY', 'NNP'), (',', ','), ('1990', 'CD'), ('Kenneth', 'NNP'), ('Gatland', 'NNP'), (',', ','), ('ROBOT', 'NNP'), ('EXPLORERS', 'NNP'), (',', ','), ('1972', 'CD'), ('R.', 'NNP'), ('Greeley', 'NNP'), (',', ','), ('PLANETARY', 'NNP'), ('LANDSCAPES', 'NNP'), (',', ','), ('1987', 'CD'), ('Douglas', 'NNP'), ('Hart', 'NNP'), (',', ','), ('THE', 'NNP'), ('ENCYCLOPEDIA', 'NNP'), ('OF', 'NNP'), ('SOVIET', 'NNP'), ('SPACECRAFT', 'NNP'), (',', ','), ('1987', 'CD'), ('Nicholas', 'NNP'), ('L.', 'NNP'), ('Johnson', 'NNP'), (',', ','), ('HANDBOOK', 'NNP'), ('OF', 'NNP'), ('SOVIET', 'NNP'), ('LUNAR', 'NNP'), ('AND', 'NNP'), ('PLANETARY', 'NNP'), ('EXPLORATION', 'NNP'), (',', ','), ('1979', 'CD'), ('Clayton', 'NNP'), ('R.', 'NNP'), ('Koppes', 'NNP'), (',', ','), ('JPL', 'NNP'), ('AND', 'CC'), ('THE', 'NNP'), ('AMERICAN', 'NNP'), ('SPACE', 'NNP'), ('PROGRAM', 'NNP'), (':', ':'), ('A', 'DT'), ('HISTORY', 'NNP'), ('OF', 'IN'), ('THE', 'NNP'), ('JET', 'NNP'), ('PROPULSION', 'NNP'), ('LABORATORY', 'NNP'), (',', ','), ('1982', 'CD'), ('Richard', 'NNP'), ('S.', 'NNP'), ('Lewis', 'NNP'), (',', ','), ('THE', 'NNP'), ('ILLUSTRATED', 'NNP'), ('ENCYCLOPEDIA', 'NNP'), ('OF', 'IN'), ('THE', 'NNP'), ('UNIVERSE', 'NNP'), (',', ','), ('1983', 'CD'), ('Mark', 'NNP'), ('Littman', 'NNP'), (',', ','), ('PLANETS', 'NNP'), ('BEYOND', 'NNP'), (':', ':'), ('DISCOVERING', 'VBZ'), ('THE', 'DT'), ('OUTER', 'NNP'), ('SOLAR', 'NNP'), ('SYSTEM', 'NNP'), (',', ','), ('1988', 'CD'), ('Eugene', 'NNP'), ('F.', 'NNP'), ('Mallove', 'NNP'), ('Gregory', 'NNP'), ('L.', 'NNP'), ('Matloff', 'NNP'), (',', ','), ('THE', 'NNP'), ('STARFLIGHT', 'NNP'), ('HANDBOOK', 'NNP'), (':', ':'), ('A', 'DT'), ('PIONEER', 'NNP'), (\"'S\", 'POS'), ('GUIDE', 'NNP'), ('TO', 'NNP'), ('INTERSTELLAR', 'NNP'), ('TRAVEL', 'NNP'), (',', ','), ('1989', 'CD'), ('Frank', 'NNP'), ('Miles', 'NNP'), ('Nicholas', 'NNP'), ('Booth', 'NNP'), (',', ','), ('RACE', 'NNP'), ('TO', 'NNP'), ('MARS', 'NNP'), (':', ':'), ('THE', 'DT'), ('MARS', 'NNP'), ('FLIGHT', 'NNP'), ('ATLAS', 'NNP'), (',', ','), ('1988', 'CD'), ('Bruce', 'NNP'), ('Murray', 'NNP'), (',', ','), ('JOURNEY', 'NNP'), ('INTO', 'NNP'), ('SPACE', 'NNP'), (',', ','), ('1989', 'CD'), ('Oran', 'NNP'), ('W.', 'NNP'), ('Nicks', 'NNP'), (',', ','), ('FAR', 'NNP'), ('TRAVELERS', 'NNP'), (',', ','), ('1985', 'CD'), ('(', '('), ('NASA', 'NNP'), ('SP-480', 'NNP'), (')', ')'), ('James', 'NNP'), ('E.', 'NNP'), ('Oberg', 'NNP'), (',', ','), ('UNCOVERING', 'NNP'), ('SOVIET', 'NNP'), ('DISASTERS', 'NNP'), (':', ':'), ('EXPLORING', 'NN'), ('THE', 'DT'), ('LIMITS', 'NNP'), ('OF', 'NNP'), ('GLASNOST', 'NNP'), (',', ','), ('1988', 'CD'), ('Carl', 'NNP'), ('Sagan', 'NNP'), (',', ','), ('COMET', 'NNP'), (',', ','), ('1986', 'CD'), ('Carl', 'NNP'), ('Sagan', 'NNP'), (',', ','), ('THE', 'NNP'), ('COSMIC', 'NNP'), ('CONNECTION', 'NNP'), (',', ','), ('1973', 'CD'), ('Carl', 'NNP'), ('Sagan', 'NNP'), (',', ','), ('PLANETS', 'NNP'), (',', ','), ('1969', 'CD'), ('(', '('), ('LIFE', 'NNP'), ('Science', 'NNP'), ('Library', 'NNP'), (')', ')'), ('Arthur', 'NNP'), ('Smith', 'NNP'), (',', ','), ('PLANETARY', 'NNP'), ('EXPLORATION', 'NNP'), (':', ':'), ('THIRTY', 'CD'), ('YEARS', 'NNS'), ('OF', 'NNP'), ('UNMANNED', 'NNP'), ('SPACE', 'NNP'), ('PROBES', 'NNP'), (',', ','), ('1988', 'CD'), ('Andrew', 'NNP'), ('Wilson', 'NNP'), (',', ','), ('(', '('), ('JANE', 'NNP'), (\"'S\", 'POS'), (')', ')'), ('SOLAR', 'NNP'), ('SYSTEM', 'NNP'), ('LOG', 'NNP'), (',', ','), ('1987', 'CD'), ('Specific', 'NNP'), ('Mission', 'NNP'), ('References', 'NNS'), (':', ':'), ('Charles', 'NNP'), ('A', 'NNP'), ('.', '.')], [('Cross', 'NNP'), ('Patrick', 'NNP'), ('Moore', 'NNP'), (',', ','), ('THE', 'NNP'), ('ATLAS', 'NNP'), ('OF', 'NNP'), ('MERCURY', 'NNP'), (',', ','), ('1977', 'CD'), ('(', '('), ('The', 'DT'), ('MARINER', 'NNP'), ('10', 'CD'), ('mission', 'NN'), ('Venus', 'NNP'), ('Mercury', 'NNP'), (',', ','), ('1973-1975', 'JJ'), (')', ')'), ('Joel', 'NNP'), ('Davis', 'NNP'), (',', ','), ('FLYBY', 'NNP'), (':', ':'), ('THE', 'DT'), ('INTERPLANETARY', 'NNP'), ('ODYSSEY', 'NNP'), ('OF', 'NNP'), ('VOYAGER', 'NNP'), ('2', 'CD'), (',', ','), ('1987', 'CD'), ('Irl', 'NNP'), ('Newlan', 'NNP'), (',', ','), ('FIRST', 'NNP'), ('TO', 'NNP'), ('VENUS', 'NNP'), (':', ':'), ('THE', 'NNP'), ('STORY', 'NNP'), ('OF', 'NNP'), ('MARINER', 'NNP'), ('2', 'CD'), (',', ','), ('1963', 'CD'), ('Margaret', 'NNP'), ('Poynter', 'NNP'), ('Arthur', 'NNP'), ('L.', 'NNP'), ('Lane', 'NNP'), (',', ','), ('VOYAGER', 'NNP'), (':', ':'), ('THE', 'NNP'), ('STORY', 'NNP'), ('OF', 'NNP'), ('A', 'NNP'), ('SPACE', 'NNP'), ('MISSION', 'NNP'), (',', ','), ('1984', 'CD'), ('Carl', 'NNP'), ('Sagan', 'NNP'), (',', ','), ('MURMURS', 'NNP'), ('OF', 'NNP'), ('EARTH', 'NNP'), (',', ','), ('1978', 'CD'), ('(', '('), ('Deals', 'NNP'), ('Earth', 'NNP'), ('information', 'NN'), ('records', 'NNS'), ('placed', 'VBD'), ('VOYAGER', 'NNP'), ('1', 'CD'), ('2', 'CD'), ('case', 'NN'), ('probes', 'NNS'), ('found', 'VBD'), ('intelligences', 'NNS'), ('interstellar', 'JJ'), ('space', 'NN'), (',', ','), ('well', 'RB'), ('probes', 'JJ'), ('planetary', 'JJ'), ('mission', 'NN'), ('objectives', 'NNS'), ('.', '.'), (')', ')')], [('Other', 'JJ'), ('works', 'VBZ'), ('periodicals', 'NNS'), (':', ':'), ('NASA', 'NNP'), ('published', 'VBD'), ('detailed', 'JJ'), ('technical', 'JJ'), ('books', 'NNS'), ('every', 'DT'), ('space', 'NN'), ('probe', 'NN'), ('mission', 'NN'), ('launched', 'VBN'), ('.', '.')], [('Good', 'JJ'), ('university', 'NN'), ('libraries', 'NNS'), ('carry', 'VBP'), ('books', 'NNS'), (',', ','), ('easily', 'RB'), ('found', 'VBD'), ('simply', 'RB'), ('knowing', 'VBG'), ('mission', 'NN'), ('wish', 'JJ'), ('read', 'NN'), ('.', '.')], [('I', 'PRP'), ('recommend', 'VBP'), ('works', 'NNS'), ('first', 'RB'), ('study', 'VBP'), ('books', 'NNS'), ('listed', 'VBN'), ('.', '.')], [('Some', 'DT'), ('periodicals', 'NNS'), ('I', 'PRP'), ('recommend', 'VBP'), ('reading', 'VBG'), ('space', 'NN'), ('probes', 'NNS'), ('NATIONAL', 'NNP'), ('GEOGRAPHIC', 'NNP'), (',', ','), ('written', 'VBN'), ('articles', 'NNS'), ('PIONEER', 'NNP'), ('probes', 'VBP'), ('Earth', 'NNP'), (\"'s\", 'POS'), ('Moon', 'NNP'), ('Luna', 'NNP'), ('Jovian', 'NNP'), ('planets', 'VBZ'), ('Jupiter', 'NNP'), ('Saturn', 'NNP'), (',', ','), ('RANGER', 'NNP'), (',', ','), ('SURVEYOR', 'NNP'), (',', ','), ('LUNAR', 'NNP'), ('ORBITER', 'NNP'), (',', ','), ('APOLLO', 'NNP'), ('missions', 'NNS'), ('Luna', 'NNP'), (',', ','), ('MARINER', 'NNP'), ('missions', 'NNS'), ('Mercury', 'NNP'), (',', ','), ('Venus', 'NNP'), (',', ','), ('Mars', 'NNP'), (',', ','), ('VIKING', 'NNP'), ('probes', 'VBZ'), ('Mars', 'NNP'), (',', ','), ('VOYAGER', 'NNP'), ('missions', 'NNS'), ('Jupiter', 'NNP'), (',', ','), ('Saturn', 'NNP'), (',', ','), ('Uranus', 'NNP'), (',', ','), ('Neptune', 'NNP'), ('.', '.')], [('More', 'JJR'), ('details', 'NNS'), ('American', 'NNP'), (',', ','), ('Soviet', 'NNP'), (',', ','), ('European', 'NNP'), (',', ','), ('Japanese', 'JJ'), ('probe', 'NN'), ('missions', 'NNS'), ('found', 'VBD'), ('SKY', 'NNP'), ('AND', 'NNP'), ('TELESCOPE', 'NNP'), (',', ','), ('ASTRONOMY', 'NNP'), (',', ','), ('SCIENCE', 'NNP'), (',', ','), ('NATURE', 'NNP'), (',', ','), ('SCIENTIFIC', 'NNP'), ('AMERICAN', 'NNP'), ('magazines', 'NNS'), ('.', '.')], [('TIME', 'NNP'), (',', ','), ('NEWSWEEK', 'NNP'), (',', ','), ('various', 'JJ'), ('major', 'JJ'), ('newspapers', 'NNS'), ('supply', 'VBP'), ('general', 'JJ'), ('information', 'NN'), ('certain', 'JJ'), ('missions', 'NNS'), (',', ','), ('also', 'RB'), ('show', 'VBP'), ('else', 'RB'), ('going', 'VBG'), ('Earth', 'JJ'), ('time', 'NN'), ('events', 'NNS'), ('unfolding', 'JJ'), (',', ','), ('interest', 'NN'), ('.', '.')], [('Space', 'NNP'), ('missions', 'NNS'), ('affected', 'VBD'), ('numerous', 'JJ'), ('political', 'JJ'), (',', ','), ('economic', 'JJ'), (',', ','), ('climatic', 'JJ'), ('factors', 'NNS'), (',', ','), ('probably', 'RB'), ('know', 'VBP'), ('.', '.')], [('Depending', 'VBG'), ('far', 'RB'), ('interest', 'NN'), ('space', 'NN'), ('probes', 'NNS'), ('go', 'VBP'), (',', ','), ('might', 'MD'), ('also', 'RB'), ('wish', 'VB'), ('join', 'NN'), ('The', 'DT'), ('Planetary', 'NNP'), ('Society', 'NNP'), (',', ','), ('one', 'CD'), ('largest', 'JJS'), ('space', 'NN'), ('groups', 'NNS'), ('world', 'NN'), ('dedicated', 'VBN'), ('planetary', 'JJ'), ('exploration', 'NN'), ('.', '.')], [('Their', 'PRP$'), ('periodical', 'JJ'), (',', ','), ('THE', 'NNP'), ('PLANETARY', 'NNP'), ('REPORT', 'NNP'), (',', ','), ('details', 'NNS'), ('latest', 'JJS'), ('space', 'NN'), ('probe', 'NN'), ('missions', 'NNS'), ('.', '.')], [('Write', 'IN'), ('The', 'DT'), ('Planetary', 'NNP'), ('Society', 'NNP'), (',', ','), ('65', 'CD'), ('North', 'NNP'), ('Catalina', 'NNP'), ('Avenue', 'NNP'), (',', ','), ('Pasadena', 'NNP'), (',', ','), ('California', 'NNP'), ('91106', 'CD'), ('USA', 'NNP'), ('.', '.')], [('Good', 'JJ'), ('luck', 'NN'), ('studies', 'NNS'), ('area', 'NN'), ('space', 'NN'), ('exploration', 'NN'), ('.', '.')], [('I', 'PRP'), ('personally', 'RB'), ('find', 'VBP'), ('planetary', 'JJ'), ('missions', 'NNS'), ('one', 'CD'), ('exciting', 'VBG'), ('areas', 'NNS'), ('field', 'NN'), (',', ','), ('benefits', 'NNS'), ('human', 'JJ'), ('society', 'NN'), ('receive', 'NN'), ('incredible', 'JJ'), (',', ','), ('many', 'JJ'), ('yet', 'RB'), ('realized', 'VBN'), ('.', '.')], [('Larry', 'NNP'), ('Klaes', 'NNP'), ('klaes', 'NNP'), ('@', 'NNP'), ('verga.enet.dec.com', 'FW'), ('NEXT', 'NNP'), (':', ':'), ('FAQ', 'NNP'), ('#', '#'), ('11/15', 'CD'), ('-', ':'), ('Upcoming', 'VBG'), ('planetary', 'JJ'), ('probes', 'NNS'), ('-', ':'), ('missions', 'NNS'), ('schedules', 'NNS')]]\n"
          ],
          "name": "stdout"
        }
      ]
    },
    {
      "cell_type": "code",
      "metadata": {
        "colab": {
          "base_uri": "https://localhost:8080/"
        },
        "id": "z900Q_Pe6O_K",
        "outputId": "5f0f2682-c1e5-4653-fd1d-a84e955881ea"
      },
      "source": [
        "annotations = set()\n",
        "\n",
        "for i in range(len(tagged)):\n",
        "  for j in range(len(tagged[i])):\n",
        "    annotations.add(tagged[i][j][1])\n",
        "\n",
        "print(annotations)"
      ],
      "execution_count": null,
      "outputs": [
        {
          "output_type": "stream",
          "text": [
            "{'POS', 'CD', 'VBZ', 'DT', 'FW', '.', 'PRP', 'JJR', '``', \"''\", 'VBP', 'MD', 'VBN', '$', ',', 'WRB', 'JJS', 'PRP$', 'NN', '#', 'NNP', 'NNPS', 'RB', 'VBG', 'JJ', 'IN', '(', 'RBR', 'NNS', 'RP', 'VBD', 'CC', ')', 'VB', ':', 'WP'}\n"
          ],
          "name": "stdout"
        }
      ]
    },
    {
      "cell_type": "code",
      "metadata": {
        "colab": {
          "base_uri": "https://localhost:8080/",
          "height": 35
        },
        "id": "l8R3RQTuo4Pz",
        "outputId": "1c236960-bc6e-44a7-c872-811064d70992"
      },
      "source": [
        "tagged[0][0][1]"
      ],
      "execution_count": null,
      "outputs": [
        {
          "output_type": "execute_result",
          "data": {
            "application/vnd.google.colaboratory.intrinsic+json": {
              "type": "string"
            },
            "text/plain": [
              "'NNP'"
            ]
          },
          "metadata": {
            "tags": []
          },
          "execution_count": 44
        }
      ]
    },
    {
      "cell_type": "code",
      "metadata": {
        "colab": {
          "base_uri": "https://localhost:8080/"
        },
        "id": "sAP_Zg4Vw8Ma",
        "outputId": "5e674eac-4ea7-453a-cd90-176f36698a89"
      },
      "source": [
        "corpus = \"\"\n",
        "for i in range(len(tagged)):\n",
        "  for j in range(len(tagged[i])):\n",
        "    if tagged[i][j][1] != 'JJ' and tagged[i][j][1] != 'DT':\n",
        "      corpus += tagged[i][j][0] + \" \"\n",
        "\n",
        "print(corpus)"
      ],
      "execution_count": null,
      "outputs": [
        {
          "output_type": "stream",
          "text": [
            "section lightly adapted posting Larry Klaes ( klaes @ verga.enet.dec.com ) , mostly formatting changes . Matthew Wiener ( @ libra.wistar.upenn.edu ) contributed section Voyager , section Sakigake obtained ISAS material posted Yoshiro Yamada ( yamada @ yscvax.ysc.go.jp ) . US PLANETARY MISSIONS MARINER ( VENUS , MARS , & MERCURY FLYBYS AND ORBITERS ) MARINER 1 , U.S. attempt send spacecraft Venus , failed minutes 1962 . guidance instructions ground stopped reaching rocket problem antenna , onboard computer took control . However , turned guidance software , rocket promptly went course , Range Safety Officer destroyed . Although bug sometimes claimed FORTRAN DO statement , actually transcription error bar ( indicating smoothing ) omitted expression `` sub n '' ( nth smoothed value radius ) . error led software treat variations velocity , compensation . MARINER 2 became first probe flyby Venus December 1962 , returned information confirmed Venus ( 800 degrees Fahrenheit , revised 900 degrees F. ) world atmosphere composed primarily carbon dioxide ( acid later confirmed 1978 ) . MARINER 3 , launched November 5 , 1964 , lost shroud failed craft placed space . collect Sun 's energy power panels , probe soon died batteries ran orbit . It intended Mars flyby MARINER 4 . MARINER 4 , sister probe MARINER 3 , reach Mars 1965 took first images surface ( 22 ) flew planet . probe found world atmosphere thinner previously thought . scientists concluded Mars `` '' world sense . MARINER 5 sent Venus 1967 . It reconfirmed data planet collected five years earlier MARINER 2 , plus information Venus ' pressure surface least 90 times Earth 's , 3,300 feet ocean . MARINER 6 7 sent Mars 1969 expanded upon work done MARINER 4 four years earlier . However , failed take away Mars `` '' planet , first made measurements MARINER 4 . 8 ended Atlantic Ocean 1971 rocket launcher autopilot failed . MARINER 9 , sister probe MARINER 8 , became craft orbit Mars 1971 . It returned information Red Planet probe done , revealing volcanoes surface , well canyon systems , evidence water flowed across planet . probe also took first closeup images Mars ' two moons , Phobos Deimos . MARINER 10 used Venus gravity assist Mercury 1974 . probe return first images Venusian ultraviolet , revealing previously details cloud cover , plus fact cloud system circles planet four Earth days . MARINER 10 eventually made three Mercury 1974 1975 running attitude control gas . probe revealed Mercury heavily cratered world mass greater thought . would seem Mercury iron core makes 75 percent planet . PIONEER ( MOON , SUN , VENUS , JUPITER , SATURN FLYBYS AND ORBITERS ) PIONEER 1 3 failed meet - photograph Moon - reach far enough space provide information area Earth Moon , including data Van Allen radiation belts circling Earth . three craft failures rocket launchers . PIONEER 1 launched October 11 , 1958 , PIONEER 2 November 8 , PIONEER 3 December 6 . PIONEER 4 Moon probe missed Moon became U.S. spacecraft orbit Sun 1959 . PIONEER 5 originally designed Venus , mission scaled instead studied environment Venus Earth 36.2 million kilometers 1960 , record MARINER 2 . PIONEER 6 9 placed orbit 1965 1968 : PIONEER 6 , 7 , 8 still transmitting information time . PIONEER E ( would number 10 ) suffered failure 1969 . PIONEER 10 became spacecraft flyby Jupiter 1973 . PIONEER 11 followed 1974 , went become probe study Saturn 1979 . vehicles continue function 1995 heading space , first craft ever . PIONEER Venus 1 ( 1978 ) ( also known PIONEER Venus Orbiter , PIONEER 12 ) burned October 8 , 1992 . PVO made radar studies planet 's surface via probe . PIONEER Venus 2 ( also known PIONEER 13 ) sent four probes atmosphere December 1978 . spacecraft bus burned atmosphere , four probes descended parachute towards surface . Though none expected surface , Day probe make 67.5 minutes batteries failed . RANGER ( LUNAR LANDER AND IMPACT MISSIONS ) RANGER 1 2 test probes RANGER lunar series . They meant Earth orbit testing 1961 , rocket problems left orbits quickly decayed . RANGER 3 , launched January 26 , 1962 , intended land instrument capsule surface Moon , problems launch caused probe miss Moon head orbit . RANGER 3 try take images Moon flew , camera unfortunately aimed space attempt . RANGER 4 , launched April 23 , 1962 , purpose RANGER 3 , suffered problems enroute crashed farside , U.S. probe reach Moon , albeit without returning data . RANGER 5 , launched October 18 , 1962 RANGER 3 4 , lost panel battery power enroute eventually missed Moon drifted orbit . RANGER 6 9 modified missions : They send back images lunar surface headed towards Moon . RANGER 6 failed 1964 operate . RANGER 7 9 performed well , becoming U.S. lunar probes return thousands lunar images 1965 . LUNAR ORBITER ( LUNAR SURFACE PHOTOGRAPHY ) LUNAR ORBITER 1 5 designed orbit Moon image sites studied landing areas manned APOLLO missions 1969-1972 . probes also contributed greatly surface features , particularly farside . five probes series , launched 1966 1967 , essentially missions . They first U.S. probes orbit Moon . LOs eventually crashed surface interference manned APOLLO missions . SURVEYOR ( LUNAR SOFT LANDERS ) SURVEYOR series designed primarily see APOLLO lunar module could land surface Moon without sinking soil ( time , feared Moon covered layers dust , would support landing vehicle ) . SURVEYOR proving surface enough hold spacecraft 1966 1968 . Only SURVEYOR 2 4 missions . rest became U.S. probes land Moon , taking thousands images scooping soil analysis . APOLLO 12 landed 600 feet SURVEYOR 3 1969 returned parts craft Earth . SURVEYOR 7 , series , purely mission explored Tycho crater region 1968 . VIKING ( MARS ORBITERS AND LANDERS ) VIKING 1 Cape Canaveral , Florida August 20 , 1975 TITAN D1 rocket . probe went orbit June 19 , 1976 , lander set slopes Chryse Planitia July 20 , 1976 . It soon began programmed search micro-organisms ( still debate whether probes found life ) , sent back color panoramas surroundings . One thing scientists learned Mars ' sky pinkish color , blue originally thought ( pink sunlight reflecting dust particles thin atmosphere ) . lander set among field sand boulders stretching far cameras could image . VIKING 1 orbiter kept functioning August 7 , 1980 , ran attitude-control propellant . lander switched mode , hoped would keep functioning 1994 ; November 13 , 1982 , command sent lander accidentally telling orders . Communication never regained , despite engineers ' efforts May 1983 . side note : VIKING 1 's lander designated Thomas A. Mutch Memorial Station honor leader lander imaging team . National Air Space Museum Washington , D.C. entrusted safekeeping Mutch Station Plaque attached lander manned expedition . VIKING 2 launched September 9 , 1975 , arrived orbit August 7 , 1976 . lander touched September 3 , 1976 Utopia Planitia . It accomplished essentially sister lander , exception seisometer worked , recording one marsquake . series attitude-control gas leaks 1978 , prompted shut July . lander shut April 12 , 1980 . orbits VIKING orbiters decay around 2025 . VOYAGER ( OUTER PLANET FLYBYS ) VOYAGER 1 launched September 5 , 1977 , flew Jupiter March 5 , 1979 Saturn November 13 , 1980 . VOYAGER 2 launched August 20 , 1977 ( VOYAGER 1 ) , flew Jupiter August 7 , 1979 , Saturn August 26 , 1981 , Uranus January 24 , 1986 , Neptune August 8 , 1989 . VOYAGER 2 took advantage alignment way planet outer planet . VOYAGER 1 could , principle , headed towards Pluto , JPL opted thing Titan close . Between two probes , knowledge 4 planets , satellites , rings become . VOYAGER 1 & 2 discovered Jupiter complicated dynamics , lightning aurorae . Three satellites discovered . Two surprises Jupiter rings Io volcanoes , effects magnetosphere . When two probes reached Saturn , discovered 1000 ringlets 7 satellites , including predicted shepherd satellites rings . weather tame compared Jupiter : jet streams variance ( spot/band cycle known ) . Titan 's smoggy . Mimas ' appearance startling : one impact crater gave Death Star appearance . surprise stranger aspects rings . Braids , kinks , spokes unexpected explain . VOYAGER 2 , thanks heroic engineering programming efforts , continued mission Uranus Neptune . Uranus highly appearance . One oddity axis found highly already completely axis , giving Uranus peculiar magnetosphere . Icy channels found Ariel , Miranda bizarre patchwork terrains . 10 satellites one ring discovered . In contrast Uranus , Neptune found rather weather , including cloud features . ring arcs turned patches one ring . Two rings , 6 satellites , discovered . Neptune 's axis also skewed . Triton canteloupe appearance geysers . ( What 's 38K ? ) two VOYAGERs expected two decades . Their journeying gives evidence planets beyond Pluto . Their discovery location heliopause . SOVIET PLANETARY MISSIONS Since probes Moon , Venus , Mars , I highlight missions : SOVIET LUNAR PROBES LUNA 1 - Lunar impact attempt 1959 , missed Moon became craft orbit . LUNA 2 - First craft impact surface 1959 . LUNA 3 - Took first images lunar farside 1959 . ZOND 3 - Took first images lunar farside 1965 since LUNA 3 . Was also test Mars missions . LUNA 9 - First probe land Moon 1966 , returned images surface . LUNA 10 - First probe orbit Moon 1966 . LUNA 13 - lunar landing mission 1966 . ZOND 5 - First circumlunar craft . ZOND 6 8 accomplished missions 1970 . probes tests manned orbiting lunar vehicle . LUNA 16 - First probe land Moon return samples lunar soil Earth 1970 . LUNA 20 accomplished mission 1972 . LUNA 17 - Delivered first lunar rover Moon 's surface , LUNOKHOD 1 , 1970 . feat accomplished LUNA 21/LUNOKHOD 2 1973 . LUNA 24 - mission date . Returned soil samples 1976 . SOVIET VENUS PROBES VENERA 1 - First acknowledged Venus mission . Transmissions lost 1961 . VENERA 2 - Attempt image Venus flyby mission tandem VENERA 3 . Probe ceased transmitting encounter February 1966 . images returned . VENERA 3 - Attempt place lander capsule surface . Transmissions ceased encounter probe became craft impact planet 1966 . VENERA 4 - First probe successfully data descending atmosphere . Crushed air pressure reaching surface 1967 . VENERA 5 6 mission profiles 1969 . VENERA 7 - probe return data surface planet 1970 . VENERA 8 accomplished detailed mission 1972 . VENERA 9 - Sent first image surface 1975 . Was also first orbit Venus . VENERA 10 accomplished mission . VENERA 13 - Returned color images surface 1982 . VENERA 14 accomplished mission . VENERA 15 - Accomplished radar mapping VENERA 16 sections planet 's surface 1983 PVO . VEGA 1 - Accomplished VEGA 2 balloon probes Venusian atmosphere 1985 , including two landers . Flyby buses went become spacecraft study Comet Halley close-up March 1986 . MARS PROBES MARS 1 - First acknowledged Mars probe 1962 . Transmissions ceased enroute following year . ZOND 2 - First attempt place lander capsule surface . Probe signals ceased 1965 . MARS 2 - First Soviet Mars probe land - albeit crash - surface . Orbiter section first probe circle Red Planet 1971 . MARS 3 - First landing surface , lander signals ceased 90 seconds 1971 . MARS 4 - Attempt orbiting Mars 1974 , braking rockets failed fire , probe went orbit . MARS 5 - First fully Mars mission , orbiting Mars 1974 . Returned images surface U.S. probe MARINER 9 . MARS 6 - Landing attempt 1974 . Lander crashed surface . MARS 7 - Lander missed Mars completely 1974 , went orbit bus . PHOBOS 1 - First attempt land probes surface Mars ' largest moon , Phobos . Probe failed 1988 human/computer error . PHOBOS 2 - Attempt land probes moon Phobos . probe enter Mars orbit 1989 , signals ceased one week scheduled Phobos landing . While talk Jupiter , Saturn , even probes within thirty years , steps yet taken projects . More studies Moon , Mars , Venus , comets planned 1990s , Mercury mission orbit land probes world planned 2003 . How changes Soviet Union ( Commonwealth Independent States ) affect space program remains seen . JAPANESE PLANETARY MISSIONS SAKIGAKE ( MS-T5 ) launched Kagoshima Space Center ISAS January 8 1985 , approached Halley 's Comet within 7 million km March 11 , 1986 . spacecraft carrying three ments measure field/plasma waves/solar wind , work normally , ISAS made Earth swingby Sakigake January 8 , 1992 orbit earth 's . closest approach 23h08m47s ( JST=UTC+9h ) January 8 , 1992 . distance 88,997 km . spacecraft . During approach , Sakigake observed geotail . geotail passages scheduled years hence . Earth-swingby June 14 , 1993 ( 40 Re ( Earth 's radius ) ) , October 28 , 1994 ( 86 Re ) . HITEN , lunar probe , launched Earth orbit January 24 , 1990 . spacecraft known MUSES-A , renamed Hiten orbit . 430 lb probe looped Earth made flyby March 19 , dropped 26 midget satellite , HAGOROMO . Japan point became nation orbit around Moon , joining Unites States USSR . smaller spacecraft , Hagoromo , remained orbit around Moon . apparently transistor radio caused space scientists lose track . Hagoromo 's rocket motor fired schedule March 19 , spacecraft 's tracking transmitter failed immediately . rocket firing Hagoromo optically confirmed using Schmidt camera ( , F3.1 ) Kiso Observatory Japan . Hiten made flybys approximately intervals performed aerobraking experiments using Earth 's atmosphere . Hiten made approach moon 22:33 JST ( UTC+9h ) February 15 , 1992 height 423 km moon 's surface ( 35.3N , 9.7E ) fired propulsion system minutes put craft lunar orbit . calculation results approach : Altitude : 49,400 km Periapsis Altitude : 9,600 km Inclination : 34.7 deg ( plane ) Period : 4.7 days PLANETARY MISSION REFERENCES I also recommend reading following works , categorized three groups : General overviews , books space missions , sources space probes . list means ; primarily designed places start research generally works subject . If anyone add works list , would greatly appreciated . Though naturally I recommend books listed , I think would best started overview books , order give idea history space exploration area . I also recommend pick , works astronomy Sol system , give background . Most books periodicals found university library . recently published works also purchased and/or ordered market bookstore . General Overviews ( order author ) : J. Kelly Beatty et al , THE NEW SOLAR SYSTEM , 1990 . Merton E. Davies Bruce C. Murray , THE VIEW FROM SPACE : PHOTOGRAPHIC EXPLORATION OF THE PLANETS , 1971 Kenneth Gatland , THE ILLUSTRATED ENCYCLOPEDIA OF SPACE TECHNOLOGY , 1990 Kenneth Gatland , ROBOT EXPLORERS , 1972 R. Greeley , PLANETARY LANDSCAPES , 1987 Douglas Hart , THE ENCYCLOPEDIA OF SOVIET SPACECRAFT , 1987 Nicholas L. Johnson , HANDBOOK OF SOVIET LUNAR AND PLANETARY EXPLORATION , 1979 Clayton R. Koppes , JPL AND THE AMERICAN SPACE PROGRAM : HISTORY OF THE JET PROPULSION LABORATORY , 1982 Richard S. Lewis , THE ILLUSTRATED ENCYCLOPEDIA OF THE UNIVERSE , 1983 Mark Littman , PLANETS BEYOND : DISCOVERING OUTER SOLAR SYSTEM , 1988 Eugene F. Mallove Gregory L. Matloff , THE STARFLIGHT HANDBOOK : PIONEER 'S GUIDE TO INTERSTELLAR TRAVEL , 1989 Frank Miles Nicholas Booth , RACE TO MARS : MARS FLIGHT ATLAS , 1988 Bruce Murray , JOURNEY INTO SPACE , 1989 Oran W. Nicks , FAR TRAVELERS , 1985 ( NASA SP-480 ) James E. Oberg , UNCOVERING SOVIET DISASTERS : EXPLORING LIMITS OF GLASNOST , 1988 Carl Sagan , COMET , 1986 Carl Sagan , THE COSMIC CONNECTION , 1973 Carl Sagan , PLANETS , 1969 ( LIFE Science Library ) Arthur Smith , PLANETARY EXPLORATION : THIRTY YEARS OF UNMANNED SPACE PROBES , 1988 Andrew Wilson , ( JANE 'S ) SOLAR SYSTEM LOG , 1987 Specific Mission References : Charles A . Cross Patrick Moore , THE ATLAS OF MERCURY , 1977 ( MARINER 10 mission Venus Mercury , ) Joel Davis , FLYBY : INTERPLANETARY ODYSSEY OF VOYAGER 2 , 1987 Irl Newlan , FIRST TO VENUS : THE STORY OF MARINER 2 , 1963 Margaret Poynter Arthur L. Lane , VOYAGER : THE STORY OF A SPACE MISSION , 1984 Carl Sagan , MURMURS OF EARTH , 1978 ( Deals Earth information records placed VOYAGER 1 2 case probes found intelligences space , well mission objectives . ) works periodicals : NASA published books space probe mission launched . university libraries carry books , easily found simply knowing mission read . I recommend works first study books listed . periodicals I recommend reading space probes NATIONAL GEOGRAPHIC , written articles PIONEER probes Earth 's Moon Luna Jovian planets Jupiter Saturn , RANGER , SURVEYOR , LUNAR ORBITER , APOLLO missions Luna , MARINER missions Mercury , Venus , Mars , VIKING probes Mars , VOYAGER missions Jupiter , Saturn , Uranus , Neptune . More details American , Soviet , European , probe missions found SKY AND TELESCOPE , ASTRONOMY , SCIENCE , NATURE , SCIENTIFIC AMERICAN magazines . TIME , NEWSWEEK , newspapers supply information missions , also show else going time events , interest . Space missions affected , , factors , probably know . Depending far interest space probes go , might also wish join Planetary Society , one largest space groups world dedicated exploration . Their , THE PLANETARY REPORT , details latest space probe missions . Write Planetary Society , 65 North Catalina Avenue , Pasadena , California 91106 USA . luck studies area space exploration . I personally find missions one exciting areas field , benefits society receive , yet realized . Larry Klaes klaes @ verga.enet.dec.com NEXT : FAQ # 11/15 - Upcoming probes - missions schedules \n"
          ],
          "name": "stdout"
        }
      ]
    },
    {
      "cell_type": "markdown",
      "metadata": {
        "id": "UlNBcBbA-BaP"
      },
      "source": [
        "## Hidden Markov Models\n",
        "\n"
      ]
    },
    {
      "cell_type": "code",
      "metadata": {
        "id": "_0IGJxTDyiWj"
      },
      "source": [
        "CONST = 2\n",
        "n = 4\n",
        "threshold = "
      ],
      "execution_count": 5,
      "outputs": []
    },
    {
      "cell_type": "code",
      "metadata": {
        "id": "9sPMH9lNO_1V"
      },
      "source": [
        "from keras.preprocessing.text import Tokenizer\n",
        "from keras.utils import np_utils, to_categorical\n",
        "from keras.models import Sequential\n",
        "from keras.layers import Dense, SimpleRNN, Embedding, LSTM\n",
        "from keras.preprocessing.sequence import pad_sequences\n",
        "import numpy as np"
      ],
      "execution_count": 49,
      "outputs": []
    },
    {
      "cell_type": "code",
      "metadata": {
        "id": "8-O9pf-B3DNl"
      },
      "source": [
        "# Preprocess data\n",
        "tokenizer = Tokenizer()\n",
        "tokenizer.fit_on_texts(sentences)\n",
        "vocab = tokenizer.word_index\n",
        "seqs = tokenizer.texts_to_sequences(sentences)"
      ],
      "execution_count": 56,
      "outputs": []
    },
    {
      "cell_type": "code",
      "metadata": {
        "id": "F7B6wb5kPKAI"
      },
      "source": [
        "def prepare_sentence(seq, maxlen):\n",
        "    # Pads seq and slides windows\n",
        "    x = []\n",
        "    y = []\n",
        "    for i, w in enumerate(seq):\n",
        "        x_padded = pad_sequences([seq[:i]],\n",
        "                                 maxlen=maxlen - 1,\n",
        "                                 padding='pre')[0]  # Pads before each sequence\n",
        "        x.append(x_padded)\n",
        "        y.append(w)\n",
        "    return x, y\n",
        "\n",
        "# Pad sequences and slide windows\n",
        "maxlen = max([len(seq) for seq in seqs])\n",
        "x = []\n",
        "y = []\n",
        "for seq in seqs:\n",
        "    x_windows, y_windows = prepare_sentence(seq, maxlen)\n",
        "    x += x_windows\n",
        "    y += y_windows\n",
        "x = np.array(x)\n",
        "y = np.array(y) - 1  # The word <PAD> does not constitute a class\n",
        "y = np.eye(len(vocab))[y]  # One hot encoding"
      ],
      "execution_count": 57,
      "outputs": []
    },
    {
      "cell_type": "code",
      "metadata": {
        "colab": {
          "base_uri": "https://localhost:8080/"
        },
        "id": "SxOlkYpdXMfX",
        "outputId": "9aea0a05-d3e9-4f88-8b1e-419f7ec9f8f6"
      },
      "source": [
        "# Define model\n",
        "model = Sequential()\n",
        "model.add(Embedding(input_dim=len(vocab) + 1,  # vocabulary size. Adding an\n",
        "                                               # extra element for <PAD> word\n",
        "                    output_dim=5,  # size of embeddings\n",
        "                    input_length=maxlen - 1))  # length of the padded sequences\n",
        "model.add(LSTM(10))\n",
        "model.add(Dense(len(vocab), activation='softmax'))\n",
        "model.compile('rmsprop', 'categorical_crossentropy', metrics = ['accuracy'])\n",
        "\n",
        "# Train network\n",
        "model.fit(x, y, epochs=100)"
      ],
      "execution_count": 59,
      "outputs": [
        {
          "output_type": "stream",
          "text": [
            "Epoch 1/100\n",
            "130/130 [==============================] - 3s 6ms/step - loss: 6.9858 - accuracy: 0.0341\n",
            "Epoch 2/100\n",
            "130/130 [==============================] - 1s 6ms/step - loss: 6.3703 - accuracy: 0.0587\n",
            "Epoch 3/100\n",
            "130/130 [==============================] - 1s 7ms/step - loss: 6.1174 - accuracy: 0.0645\n",
            "Epoch 4/100\n",
            "130/130 [==============================] - 1s 6ms/step - loss: 6.1413 - accuracy: 0.0640\n",
            "Epoch 5/100\n",
            "130/130 [==============================] - 1s 6ms/step - loss: 6.1329 - accuracy: 0.0568\n",
            "Epoch 6/100\n",
            "130/130 [==============================] - 1s 6ms/step - loss: 6.1083 - accuracy: 0.0591\n",
            "Epoch 7/100\n",
            "130/130 [==============================] - 1s 6ms/step - loss: 6.0378 - accuracy: 0.0660\n",
            "Epoch 8/100\n",
            "130/130 [==============================] - 1s 6ms/step - loss: 6.0503 - accuracy: 0.0622\n",
            "Epoch 9/100\n",
            "130/130 [==============================] - 1s 6ms/step - loss: 6.0317 - accuracy: 0.0569\n",
            "Epoch 10/100\n",
            "130/130 [==============================] - 1s 6ms/step - loss: 5.9767 - accuracy: 0.0574\n",
            "Epoch 11/100\n",
            "130/130 [==============================] - 1s 6ms/step - loss: 6.0173 - accuracy: 0.0608\n",
            "Epoch 12/100\n",
            "130/130 [==============================] - 1s 6ms/step - loss: 6.0257 - accuracy: 0.0608\n",
            "Epoch 13/100\n",
            "130/130 [==============================] - 1s 6ms/step - loss: 5.9715 - accuracy: 0.0616\n",
            "Epoch 14/100\n",
            "130/130 [==============================] - 1s 6ms/step - loss: 5.9810 - accuracy: 0.0558\n",
            "Epoch 15/100\n",
            "130/130 [==============================] - 1s 6ms/step - loss: 5.9734 - accuracy: 0.0602\n",
            "Epoch 16/100\n",
            "130/130 [==============================] - 1s 6ms/step - loss: 5.9400 - accuracy: 0.0625\n",
            "Epoch 17/100\n",
            "130/130 [==============================] - 1s 7ms/step - loss: 5.9160 - accuracy: 0.0639\n",
            "Epoch 18/100\n",
            "130/130 [==============================] - 1s 6ms/step - loss: 5.9196 - accuracy: 0.0596\n",
            "Epoch 19/100\n",
            "130/130 [==============================] - 1s 6ms/step - loss: 5.8955 - accuracy: 0.0609\n",
            "Epoch 20/100\n",
            "130/130 [==============================] - 1s 6ms/step - loss: 5.8761 - accuracy: 0.0609\n",
            "Epoch 21/100\n",
            "130/130 [==============================] - 1s 6ms/step - loss: 5.8956 - accuracy: 0.0656\n",
            "Epoch 22/100\n",
            "130/130 [==============================] - 1s 6ms/step - loss: 5.8675 - accuracy: 0.0578\n",
            "Epoch 23/100\n",
            "130/130 [==============================] - 1s 6ms/step - loss: 5.8828 - accuracy: 0.0554\n",
            "Epoch 24/100\n",
            "130/130 [==============================] - 1s 6ms/step - loss: 5.8668 - accuracy: 0.0597\n",
            "Epoch 25/100\n",
            "130/130 [==============================] - 1s 6ms/step - loss: 5.8935 - accuracy: 0.0565\n",
            "Epoch 26/100\n",
            "130/130 [==============================] - 1s 6ms/step - loss: 5.8911 - accuracy: 0.0611\n",
            "Epoch 27/100\n",
            "130/130 [==============================] - 1s 6ms/step - loss: 5.8445 - accuracy: 0.0581\n",
            "Epoch 28/100\n",
            "130/130 [==============================] - 1s 6ms/step - loss: 5.8178 - accuracy: 0.0618\n",
            "Epoch 29/100\n",
            "130/130 [==============================] - 1s 6ms/step - loss: 5.8680 - accuracy: 0.0555\n",
            "Epoch 30/100\n",
            "130/130 [==============================] - 1s 6ms/step - loss: 5.8229 - accuracy: 0.0570\n",
            "Epoch 31/100\n",
            "130/130 [==============================] - 1s 6ms/step - loss: 5.8010 - accuracy: 0.0577\n",
            "Epoch 32/100\n",
            "130/130 [==============================] - 1s 7ms/step - loss: 5.8306 - accuracy: 0.0583\n",
            "Epoch 33/100\n",
            "130/130 [==============================] - 1s 7ms/step - loss: 5.8158 - accuracy: 0.0643\n",
            "Epoch 34/100\n",
            "130/130 [==============================] - 1s 6ms/step - loss: 5.7698 - accuracy: 0.0625\n",
            "Epoch 35/100\n",
            "130/130 [==============================] - 1s 7ms/step - loss: 5.7775 - accuracy: 0.0619\n",
            "Epoch 36/100\n",
            "130/130 [==============================] - 1s 7ms/step - loss: 5.7696 - accuracy: 0.0581\n",
            "Epoch 37/100\n",
            "130/130 [==============================] - 1s 7ms/step - loss: 5.7357 - accuracy: 0.0619\n",
            "Epoch 38/100\n",
            "130/130 [==============================] - 1s 7ms/step - loss: 5.7356 - accuracy: 0.0605\n",
            "Epoch 39/100\n",
            "130/130 [==============================] - 1s 6ms/step - loss: 5.8137 - accuracy: 0.0500\n",
            "Epoch 40/100\n",
            "130/130 [==============================] - 1s 6ms/step - loss: 5.7428 - accuracy: 0.0629\n",
            "Epoch 41/100\n",
            "130/130 [==============================] - 1s 6ms/step - loss: 5.7826 - accuracy: 0.0605\n",
            "Epoch 42/100\n",
            "130/130 [==============================] - 1s 6ms/step - loss: 5.7299 - accuracy: 0.0594\n",
            "Epoch 43/100\n",
            "130/130 [==============================] - 1s 6ms/step - loss: 5.7497 - accuracy: 0.0624\n",
            "Epoch 44/100\n",
            "130/130 [==============================] - 1s 6ms/step - loss: 5.6781 - accuracy: 0.0657\n",
            "Epoch 45/100\n",
            "130/130 [==============================] - 1s 6ms/step - loss: 5.6933 - accuracy: 0.0626\n",
            "Epoch 46/100\n",
            "130/130 [==============================] - 1s 6ms/step - loss: 5.7001 - accuracy: 0.0595\n",
            "Epoch 47/100\n",
            "130/130 [==============================] - 1s 6ms/step - loss: 5.7055 - accuracy: 0.0598\n",
            "Epoch 48/100\n",
            "130/130 [==============================] - 1s 6ms/step - loss: 5.7253 - accuracy: 0.0614\n",
            "Epoch 49/100\n",
            "130/130 [==============================] - 1s 6ms/step - loss: 5.6840 - accuracy: 0.0612\n",
            "Epoch 50/100\n",
            "130/130 [==============================] - 1s 6ms/step - loss: 5.7140 - accuracy: 0.0614\n",
            "Epoch 51/100\n",
            "130/130 [==============================] - 1s 6ms/step - loss: 5.6990 - accuracy: 0.0630\n",
            "Epoch 52/100\n",
            "130/130 [==============================] - 1s 6ms/step - loss: 5.6846 - accuracy: 0.0616\n",
            "Epoch 53/100\n",
            "130/130 [==============================] - 1s 7ms/step - loss: 5.6713 - accuracy: 0.0609\n",
            "Epoch 54/100\n",
            "130/130 [==============================] - 1s 7ms/step - loss: 5.6488 - accuracy: 0.0640\n",
            "Epoch 55/100\n",
            "130/130 [==============================] - 1s 7ms/step - loss: 5.6625 - accuracy: 0.0628\n",
            "Epoch 56/100\n",
            "130/130 [==============================] - 1s 6ms/step - loss: 5.6389 - accuracy: 0.0627\n",
            "Epoch 57/100\n",
            "130/130 [==============================] - 1s 6ms/step - loss: 5.6782 - accuracy: 0.0680\n",
            "Epoch 58/100\n",
            "130/130 [==============================] - 1s 6ms/step - loss: 5.6480 - accuracy: 0.0639\n",
            "Epoch 59/100\n",
            "130/130 [==============================] - 1s 6ms/step - loss: 5.6326 - accuracy: 0.0545\n",
            "Epoch 60/100\n",
            "130/130 [==============================] - 1s 6ms/step - loss: 5.6214 - accuracy: 0.0598\n",
            "Epoch 61/100\n",
            "130/130 [==============================] - 1s 7ms/step - loss: 5.6689 - accuracy: 0.0613\n",
            "Epoch 62/100\n",
            "130/130 [==============================] - 1s 7ms/step - loss: 5.6685 - accuracy: 0.0591\n",
            "Epoch 63/100\n",
            "130/130 [==============================] - 1s 7ms/step - loss: 5.6561 - accuracy: 0.0626\n",
            "Epoch 64/100\n",
            "130/130 [==============================] - 1s 6ms/step - loss: 5.6705 - accuracy: 0.0641\n",
            "Epoch 65/100\n",
            "130/130 [==============================] - 1s 7ms/step - loss: 5.6138 - accuracy: 0.0603\n",
            "Epoch 66/100\n",
            "130/130 [==============================] - 1s 7ms/step - loss: 5.6567 - accuracy: 0.0648\n",
            "Epoch 67/100\n",
            "130/130 [==============================] - 1s 7ms/step - loss: 5.6412 - accuracy: 0.0616\n",
            "Epoch 68/100\n",
            "130/130 [==============================] - 1s 7ms/step - loss: 5.6043 - accuracy: 0.0734\n",
            "Epoch 69/100\n",
            "130/130 [==============================] - 1s 7ms/step - loss: 5.6202 - accuracy: 0.0669\n",
            "Epoch 70/100\n",
            "130/130 [==============================] - 1s 7ms/step - loss: 5.5928 - accuracy: 0.0687\n",
            "Epoch 71/100\n",
            "130/130 [==============================] - 1s 7ms/step - loss: 5.5668 - accuracy: 0.0724\n",
            "Epoch 72/100\n",
            "130/130 [==============================] - 1s 7ms/step - loss: 5.5948 - accuracy: 0.0663\n",
            "Epoch 73/100\n",
            "130/130 [==============================] - 1s 6ms/step - loss: 5.5896 - accuracy: 0.0719\n",
            "Epoch 74/100\n",
            "130/130 [==============================] - 1s 7ms/step - loss: 5.6017 - accuracy: 0.0644\n",
            "Epoch 75/100\n",
            "130/130 [==============================] - 1s 7ms/step - loss: 5.6376 - accuracy: 0.0619\n",
            "Epoch 76/100\n",
            "130/130 [==============================] - 1s 6ms/step - loss: 5.5928 - accuracy: 0.0718\n",
            "Epoch 77/100\n",
            "130/130 [==============================] - 1s 7ms/step - loss: 5.5677 - accuracy: 0.0730\n",
            "Epoch 78/100\n",
            "130/130 [==============================] - 1s 6ms/step - loss: 5.5615 - accuracy: 0.0733\n",
            "Epoch 79/100\n",
            "130/130 [==============================] - 1s 7ms/step - loss: 5.5887 - accuracy: 0.0696\n",
            "Epoch 80/100\n",
            "130/130 [==============================] - 1s 7ms/step - loss: 5.5610 - accuracy: 0.0733\n",
            "Epoch 81/100\n",
            "130/130 [==============================] - 1s 6ms/step - loss: 5.5707 - accuracy: 0.0708\n",
            "Epoch 82/100\n",
            "130/130 [==============================] - 1s 6ms/step - loss: 5.6173 - accuracy: 0.0716\n",
            "Epoch 83/100\n",
            "130/130 [==============================] - 1s 6ms/step - loss: 5.6030 - accuracy: 0.0749\n",
            "Epoch 84/100\n",
            "130/130 [==============================] - 1s 7ms/step - loss: 5.5640 - accuracy: 0.0726\n",
            "Epoch 85/100\n",
            "130/130 [==============================] - 1s 7ms/step - loss: 5.5692 - accuracy: 0.0667\n",
            "Epoch 86/100\n",
            "130/130 [==============================] - 1s 6ms/step - loss: 5.5525 - accuracy: 0.0752\n",
            "Epoch 87/100\n",
            "130/130 [==============================] - 1s 7ms/step - loss: 5.5462 - accuracy: 0.0685\n",
            "Epoch 88/100\n",
            "130/130 [==============================] - 1s 7ms/step - loss: 5.5613 - accuracy: 0.0737\n",
            "Epoch 89/100\n",
            "130/130 [==============================] - 1s 7ms/step - loss: 5.5727 - accuracy: 0.0737\n",
            "Epoch 90/100\n",
            "130/130 [==============================] - 1s 7ms/step - loss: 5.6042 - accuracy: 0.0698\n",
            "Epoch 91/100\n",
            "130/130 [==============================] - 1s 7ms/step - loss: 5.5199 - accuracy: 0.0792\n",
            "Epoch 92/100\n",
            "130/130 [==============================] - 1s 7ms/step - loss: 5.5507 - accuracy: 0.0740\n",
            "Epoch 93/100\n",
            "130/130 [==============================] - 1s 6ms/step - loss: 5.5946 - accuracy: 0.0750\n",
            "Epoch 94/100\n",
            "130/130 [==============================] - 1s 7ms/step - loss: 5.6062 - accuracy: 0.0704\n",
            "Epoch 95/100\n",
            "130/130 [==============================] - 1s 7ms/step - loss: 5.5542 - accuracy: 0.0773\n",
            "Epoch 96/100\n",
            "130/130 [==============================] - 1s 7ms/step - loss: 5.5810 - accuracy: 0.0794\n",
            "Epoch 97/100\n",
            "130/130 [==============================] - 1s 7ms/step - loss: 5.5940 - accuracy: 0.0708\n",
            "Epoch 98/100\n",
            "130/130 [==============================] - 1s 7ms/step - loss: 5.5685 - accuracy: 0.0706\n",
            "Epoch 99/100\n",
            "130/130 [==============================] - 1s 7ms/step - loss: 5.6099 - accuracy: 0.0737\n",
            "Epoch 100/100\n",
            "130/130 [==============================] - 1s 7ms/step - loss: 5.5674 - accuracy: 0.0822\n"
          ],
          "name": "stdout"
        },
        {
          "output_type": "execute_result",
          "data": {
            "text/plain": [
              "<tensorflow.python.keras.callbacks.History at 0x7fd385807c10>"
            ]
          },
          "metadata": {
            "tags": []
          },
          "execution_count": 59
        }
      ]
    },
    {
      "cell_type": "code",
      "metadata": {
        "id": "Gr8g9QfuXLgS"
      },
      "source": [
        "# Compute probability of occurence of a sentence\n",
        "def probability_of_sentence(sentence):\n",
        "  tok = tokenizer.texts_to_sequences([sentence])[0]\n",
        "  x_test, y_test = prepare_sentence(tok, maxlen)\n",
        "  x_test = np.array(x_test)\n",
        "  y_test = np.array(y_test) - 1  # The word <PAD> does not constitute a class\n",
        "  p_pred = model.predict(x_test)  # array of conditional probabilities\n",
        "  vocab_inv = {v: k for k, v in vocab.items()}\n",
        "\n",
        "  # Compute product\n",
        "  # Efficient version: np.exp(np.sum(np.log(np.diag(p_pred[:, y_test]))))\n",
        "  log_p_sentence = 0\n",
        "  for i, prob in enumerate(p_pred):\n",
        "      word = vocab_inv[y_test[i]+1]  # Index 0 from vocab is reserved to <PAD>\n",
        "      history = ' '.join([vocab_inv[w] for w in x_test[i, :] if w != 0])\n",
        "      prob_word = prob[y_test[i]]\n",
        "      log_p_sentence += np.log(prob_word)\n",
        "      # print('P(w={}|h={})={}'.format(word, history, prob_word))\n",
        "  return np.exp(log_p_sentence)"
      ],
      "execution_count": 62,
      "outputs": []
    },
    {
      "cell_type": "code",
      "metadata": {
        "colab": {
          "base_uri": "https://localhost:8080/"
        },
        "id": "cjpauEKvY1u7",
        "outputId": "a1ebbf66-6b1b-470c-a5cf-907c7bced55b"
      },
      "source": [
        "sent = \"VENERA 1 - First acknowledged attempt at Venus mission. Transmissions \t       lost enroute in 1961.  \t       February of 1966. No images were returned.   \t       became the first craft to impact on another planet in 1966. VENERA 4 - First probe to successfully return data while descending\"\n",
        "probability_of_sentence(sent)"
      ],
      "execution_count": 63,
      "outputs": [
        {
          "output_type": "execute_result",
          "data": {
            "text/plain": [
              "4.522007576165454e-94"
            ]
          },
          "metadata": {
            "tags": []
          },
          "execution_count": 63
        }
      ]
    },
    {
      "cell_type": "code",
      "metadata": {
        "id": "rYlhWkE5ZPS9"
      },
      "source": [
        "import pandas as pd\n",
        "\n",
        "df = pd.DataFrame(columns = ['Sentence', 'Probability'])"
      ],
      "execution_count": 83,
      "outputs": []
    },
    {
      "cell_type": "code",
      "metadata": {
        "id": "xSjXyAeYqAO_"
      },
      "source": [
        "# txt = txt.split(\" .\")\n",
        "word_list = ['', '', '', '', '', '', '', '']\n",
        "\n",
        "for i in range(len(sentences)):\n",
        "  words = sentences[i].split(\" .\")\n",
        "  num_words = len(words)\n",
        "  for j in range(num_words):\n",
        "    word_list[3] = words[j]\n",
        "    if j + n <= num_words:\n",
        "      word_list[5] = words[j + n]\n",
        "    if j - n >= 0:\n",
        "      word_list[2] = words[j - n]\n",
        "    if j + 1 < num_words:\n",
        "      word_list[4] = words[j + 1]\n",
        "    if i - CONST >= 0:\n",
        "      word_list[0] = sentences[i - CONST].split(\" .\")[j]\n",
        "    if i - CONST + 1>= 0:\n",
        "      word_list[1] = sentences[i - CONST + 1].split(\" .\")[j]\n",
        "    if i + CONST < len(sentences):\n",
        "      word_list[7] = sentences[i + CONST].split(\" .\")[j]\n",
        "    if i + CONST - 1 < len(sentences):\n",
        "      word_list[6] = sentences[i + CONST - 1].split(\" .\")[j]\n",
        "    final_str = \" \".join(word_list)\n",
        "    df = df.append({'Sentence':final_str, 'Probability':probability_of_sentence(final_str)}, ignore_index = True)"
      ],
      "execution_count": 84,
      "outputs": []
    },
    {
      "cell_type": "code",
      "metadata": {
        "colab": {
          "base_uri": "https://localhost:8080/",
          "height": 402
        },
        "id": "ICgJfWqRZyJ-",
        "outputId": "86ac52bf-eedb-4504-ec1e-43ce89977c64"
      },
      "source": [
        "df"
      ],
      "execution_count": 85,
      "outputs": [
        {
          "output_type": "execute_result",
          "data": {
            "text/html": [
              "<div>\n",
              "<style scoped>\n",
              "    .dataframe tbody tr th:only-of-type {\n",
              "        vertical-align: middle;\n",
              "    }\n",
              "\n",
              "    .dataframe tbody tr th {\n",
              "        vertical-align: top;\n",
              "    }\n",
              "\n",
              "    .dataframe thead th {\n",
              "        text-align: right;\n",
              "    }\n",
              "</style>\n",
              "<table border=\"1\" class=\"dataframe\">\n",
              "  <thead>\n",
              "    <tr style=\"text-align: right;\">\n",
              "      <th></th>\n",
              "      <th>Sentence</th>\n",
              "      <th>Probability</th>\n",
              "    </tr>\n",
              "  </thead>\n",
              "  <tbody>\n",
              "    <tr>\n",
              "      <th>0</th>\n",
              "      <td>This section was lightly adapted from an or...</td>\n",
              "      <td>6.322890e-92</td>\n",
              "    </tr>\n",
              "    <tr>\n",
              "      <th>1</th>\n",
              "      <td>(klaes@verga.enet.dec.com), mostly minor fo...</td>\n",
              "      <td>1.954026e-66</td>\n",
              "    </tr>\n",
              "    <tr>\n",
              "      <th>2</th>\n",
              "      <td>Wiener (weemba@libra.wistar.upenn.edu) cont...</td>\n",
              "      <td>5.532167e-56</td>\n",
              "    </tr>\n",
              "    <tr>\n",
              "      <th>3</th>\n",
              "      <td>This section was lightly adapted from an orig...</td>\n",
              "      <td>1.013105e-112</td>\n",
              "    </tr>\n",
              "    <tr>\n",
              "      <th>4</th>\n",
              "      <td>This section was lightly adapted from an origi...</td>\n",
              "      <td>2.017713e-148</td>\n",
              "    </tr>\n",
              "    <tr>\n",
              "      <th>...</th>\n",
              "      <td>...</td>\n",
              "      <td>...</td>\n",
              "    </tr>\n",
              "    <tr>\n",
              "      <th>409</th>\n",
              "      <td>periodical, THE PLANETARY REPORT, details the ...</td>\n",
              "      <td>3.110970e-125</td>\n",
              "    </tr>\n",
              "    <tr>\n",
              "      <th>410</th>\n",
              "      <td>missions. Write to The Planetary Society, 65 N...</td>\n",
              "      <td>1.389112e-134</td>\n",
              "    </tr>\n",
              "    <tr>\n",
              "      <th>411</th>\n",
              "      <td>Pasadena, California 91106 USA. Good luck with...</td>\n",
              "      <td>5.487490e-128</td>\n",
              "    </tr>\n",
              "    <tr>\n",
              "      <th>412</th>\n",
              "      <td>Good luck with your studies in this area of sp...</td>\n",
              "      <td>3.291456e-135</td>\n",
              "    </tr>\n",
              "    <tr>\n",
              "      <th>413</th>\n",
              "      <td>personally find planetary missions to be one o...</td>\n",
              "      <td>6.375613e-151</td>\n",
              "    </tr>\n",
              "  </tbody>\n",
              "</table>\n",
              "<p>414 rows × 2 columns</p>\n",
              "</div>"
            ],
            "text/plain": [
              "                                              Sentence    Probability\n",
              "0       This section was lightly adapted from an or...   6.322890e-92\n",
              "1       (klaes@verga.enet.dec.com), mostly minor fo...   1.954026e-66\n",
              "2       Wiener (weemba@libra.wistar.upenn.edu) cont...   5.532167e-56\n",
              "3     This section was lightly adapted from an orig...  1.013105e-112\n",
              "4    This section was lightly adapted from an origi...  2.017713e-148\n",
              "..                                                 ...            ...\n",
              "409  periodical, THE PLANETARY REPORT, details the ...  3.110970e-125\n",
              "410  missions. Write to The Planetary Society, 65 N...  1.389112e-134\n",
              "411  Pasadena, California 91106 USA. Good luck with...  5.487490e-128\n",
              "412  Good luck with your studies in this area of sp...  3.291456e-135\n",
              "413  personally find planetary missions to be one o...  6.375613e-151\n",
              "\n",
              "[414 rows x 2 columns]"
            ]
          },
          "metadata": {
            "tags": []
          },
          "execution_count": 85
        }
      ]
    },
    {
      "cell_type": "code",
      "metadata": {
        "colab": {
          "base_uri": "https://localhost:8080/",
          "height": 284
        },
        "id": "DItVGyHqaDe3",
        "outputId": "17480272-9f8f-40a9-c129-48df5cdde4f5"
      },
      "source": [
        "df.describe()"
      ],
      "execution_count": 86,
      "outputs": [
        {
          "output_type": "execute_result",
          "data": {
            "text/html": [
              "<div>\n",
              "<style scoped>\n",
              "    .dataframe tbody tr th:only-of-type {\n",
              "        vertical-align: middle;\n",
              "    }\n",
              "\n",
              "    .dataframe tbody tr th {\n",
              "        vertical-align: top;\n",
              "    }\n",
              "\n",
              "    .dataframe thead th {\n",
              "        text-align: right;\n",
              "    }\n",
              "</style>\n",
              "<table border=\"1\" class=\"dataframe\">\n",
              "  <thead>\n",
              "    <tr style=\"text-align: right;\">\n",
              "      <th></th>\n",
              "      <th>Probability</th>\n",
              "    </tr>\n",
              "  </thead>\n",
              "  <tbody>\n",
              "    <tr>\n",
              "      <th>count</th>\n",
              "      <td>4.140000e+02</td>\n",
              "    </tr>\n",
              "    <tr>\n",
              "      <th>mean</th>\n",
              "      <td>1.336272e-58</td>\n",
              "    </tr>\n",
              "    <tr>\n",
              "      <th>std</th>\n",
              "      <td>2.718912e-57</td>\n",
              "    </tr>\n",
              "    <tr>\n",
              "      <th>min</th>\n",
              "      <td>5.415781e-176</td>\n",
              "    </tr>\n",
              "    <tr>\n",
              "      <th>25%</th>\n",
              "      <td>5.300537e-147</td>\n",
              "    </tr>\n",
              "    <tr>\n",
              "      <th>50%</th>\n",
              "      <td>7.114659e-131</td>\n",
              "    </tr>\n",
              "    <tr>\n",
              "      <th>75%</th>\n",
              "      <td>6.191777e-110</td>\n",
              "    </tr>\n",
              "    <tr>\n",
              "      <th>max</th>\n",
              "      <td>5.532167e-56</td>\n",
              "    </tr>\n",
              "  </tbody>\n",
              "</table>\n",
              "</div>"
            ],
            "text/plain": [
              "         Probability\n",
              "count   4.140000e+02\n",
              "mean    1.336272e-58\n",
              "std     2.718912e-57\n",
              "min    5.415781e-176\n",
              "25%    5.300537e-147\n",
              "50%    7.114659e-131\n",
              "75%    6.191777e-110\n",
              "max     5.532167e-56"
            ]
          },
          "metadata": {
            "tags": []
          },
          "execution_count": 86
        }
      ]
    },
    {
      "cell_type": "code",
      "metadata": {
        "id": "1SbWcnvEaPdD"
      },
      "source": [
        "# Filter out all the sentences whose probability > 1.0e-140\n",
        "df = df[df.Probability > 1.0e-120]"
      ],
      "execution_count": 87,
      "outputs": []
    },
    {
      "cell_type": "code",
      "metadata": {
        "colab": {
          "base_uri": "https://localhost:8080/",
          "height": 402
        },
        "id": "BKjTQp6Hbhlf",
        "outputId": "ca5e2d25-2300-428b-b16f-87c3cfc611aa"
      },
      "source": [
        "df"
      ],
      "execution_count": 88,
      "outputs": [
        {
          "output_type": "execute_result",
          "data": {
            "text/html": [
              "<div>\n",
              "<style scoped>\n",
              "    .dataframe tbody tr th:only-of-type {\n",
              "        vertical-align: middle;\n",
              "    }\n",
              "\n",
              "    .dataframe tbody tr th {\n",
              "        vertical-align: top;\n",
              "    }\n",
              "\n",
              "    .dataframe thead th {\n",
              "        text-align: right;\n",
              "    }\n",
              "</style>\n",
              "<table border=\"1\" class=\"dataframe\">\n",
              "  <thead>\n",
              "    <tr style=\"text-align: right;\">\n",
              "      <th></th>\n",
              "      <th>Sentence</th>\n",
              "      <th>Probability</th>\n",
              "    </tr>\n",
              "  </thead>\n",
              "  <tbody>\n",
              "    <tr>\n",
              "      <th>0</th>\n",
              "      <td>This section was lightly adapted from an or...</td>\n",
              "      <td>6.322890e-92</td>\n",
              "    </tr>\n",
              "    <tr>\n",
              "      <th>1</th>\n",
              "      <td>(klaes@verga.enet.dec.com), mostly minor fo...</td>\n",
              "      <td>1.954026e-66</td>\n",
              "    </tr>\n",
              "    <tr>\n",
              "      <th>2</th>\n",
              "      <td>Wiener (weemba@libra.wistar.upenn.edu) cont...</td>\n",
              "      <td>5.532167e-56</td>\n",
              "    </tr>\n",
              "    <tr>\n",
              "      <th>3</th>\n",
              "      <td>This section was lightly adapted from an orig...</td>\n",
              "      <td>1.013105e-112</td>\n",
              "    </tr>\n",
              "    <tr>\n",
              "      <th>38</th>\n",
              "      <td>MARINER 5 was sent to Venus in 1967. It reconf...</td>\n",
              "      <td>2.941806e-104</td>\n",
              "    </tr>\n",
              "    <tr>\n",
              "      <th>...</th>\n",
              "      <td>...</td>\n",
              "      <td>...</td>\n",
              "    </tr>\n",
              "    <tr>\n",
              "      <th>391</th>\n",
              "      <td>some of the books listed above. Some periodica...</td>\n",
              "      <td>4.189552e-120</td>\n",
              "    </tr>\n",
              "    <tr>\n",
              "      <th>393</th>\n",
              "      <td>GEOGRAPHIC, which has written articles on the ...</td>\n",
              "      <td>1.373068e-118</td>\n",
              "    </tr>\n",
              "    <tr>\n",
              "      <th>397</th>\n",
              "      <td>VOYAGER missions to Jupiter, Saturn, Uranus, a...</td>\n",
              "      <td>2.213013e-115</td>\n",
              "    </tr>\n",
              "    <tr>\n",
              "      <th>404</th>\n",
              "      <td>affected by numerous political, economic, and ...</td>\n",
              "      <td>7.952822e-106</td>\n",
              "    </tr>\n",
              "    <tr>\n",
              "      <th>408</th>\n",
              "      <td>groups in the world dedicated to planetary exp...</td>\n",
              "      <td>2.685065e-118</td>\n",
              "    </tr>\n",
              "  </tbody>\n",
              "</table>\n",
              "<p>148 rows × 2 columns</p>\n",
              "</div>"
            ],
            "text/plain": [
              "                                              Sentence    Probability\n",
              "0       This section was lightly adapted from an or...   6.322890e-92\n",
              "1       (klaes@verga.enet.dec.com), mostly minor fo...   1.954026e-66\n",
              "2       Wiener (weemba@libra.wistar.upenn.edu) cont...   5.532167e-56\n",
              "3     This section was lightly adapted from an orig...  1.013105e-112\n",
              "38   MARINER 5 was sent to Venus in 1967. It reconf...  2.941806e-104\n",
              "..                                                 ...            ...\n",
              "391  some of the books listed above. Some periodica...  4.189552e-120\n",
              "393  GEOGRAPHIC, which has written articles on the ...  1.373068e-118\n",
              "397  VOYAGER missions to Jupiter, Saturn, Uranus, a...  2.213013e-115\n",
              "404  affected by numerous political, economic, and ...  7.952822e-106\n",
              "408  groups in the world dedicated to planetary exp...  2.685065e-118\n",
              "\n",
              "[148 rows x 2 columns]"
            ]
          },
          "metadata": {
            "tags": []
          },
          "execution_count": 88
        }
      ]
    },
    {
      "cell_type": "markdown",
      "metadata": {
        "id": "xupJ7Q01RzPB"
      },
      "source": [
        "## BERT"
      ]
    },
    {
      "cell_type": "code",
      "metadata": {
        "colab": {
          "base_uri": "https://localhost:8080/"
        },
        "id": "4ttyXr7bYvEb",
        "outputId": "895be00d-2730-47e4-e3e5-481f526033c4"
      },
      "source": [
        "!pip install bert-extractive-summarizer==0.4.2"
      ],
      "execution_count": 10,
      "outputs": [
        {
          "output_type": "stream",
          "text": [
            "Collecting bert-extractive-summarizer==0.4.2\n",
            "  Downloading https://files.pythonhosted.org/packages/23/1d/71f0a5c7f81b1a87d4428a6a935e9ddeb5e662e41512952e11bd10533cd9/bert-extractive-summarizer-0.4.2.tar.gz\n",
            "Collecting transformers\n",
            "\u001b[?25l  Downloading https://files.pythonhosted.org/packages/d8/b2/57495b5309f09fa501866e225c84532d1fd89536ea62406b2181933fb418/transformers-4.5.1-py3-none-any.whl (2.1MB)\n",
            "\u001b[K     |████████████████████████████████| 2.1MB 5.5MB/s \n",
            "\u001b[?25hRequirement already satisfied: scikit-learn in /usr/local/lib/python3.7/dist-packages (from bert-extractive-summarizer==0.4.2) (0.22.2.post1)\n",
            "Requirement already satisfied: spacy in /usr/local/lib/python3.7/dist-packages (from bert-extractive-summarizer==0.4.2) (2.2.4)\n",
            "Collecting sacremoses\n",
            "\u001b[?25l  Downloading https://files.pythonhosted.org/packages/75/ee/67241dc87f266093c533a2d4d3d69438e57d7a90abb216fa076e7d475d4a/sacremoses-0.0.45-py3-none-any.whl (895kB)\n",
            "\u001b[K     |████████████████████████████████| 901kB 17.4MB/s \n",
            "\u001b[?25hRequirement already satisfied: regex!=2019.12.17 in /usr/local/lib/python3.7/dist-packages (from transformers->bert-extractive-summarizer==0.4.2) (2019.12.20)\n",
            "Requirement already satisfied: tqdm>=4.27 in /usr/local/lib/python3.7/dist-packages (from transformers->bert-extractive-summarizer==0.4.2) (4.41.1)\n",
            "Requirement already satisfied: requests in /usr/local/lib/python3.7/dist-packages (from transformers->bert-extractive-summarizer==0.4.2) (2.23.0)\n",
            "Requirement already satisfied: importlib-metadata; python_version < \"3.8\" in /usr/local/lib/python3.7/dist-packages (from transformers->bert-extractive-summarizer==0.4.2) (3.10.1)\n",
            "Requirement already satisfied: packaging in /usr/local/lib/python3.7/dist-packages (from transformers->bert-extractive-summarizer==0.4.2) (20.9)\n",
            "Collecting tokenizers<0.11,>=0.10.1\n",
            "\u001b[?25l  Downloading https://files.pythonhosted.org/packages/ae/04/5b870f26a858552025a62f1649c20d29d2672c02ff3c3fb4c688ca46467a/tokenizers-0.10.2-cp37-cp37m-manylinux2010_x86_64.whl (3.3MB)\n",
            "\u001b[K     |████████████████████████████████| 3.3MB 29.0MB/s \n",
            "\u001b[?25hRequirement already satisfied: numpy>=1.17 in /usr/local/lib/python3.7/dist-packages (from transformers->bert-extractive-summarizer==0.4.2) (1.19.5)\n",
            "Requirement already satisfied: filelock in /usr/local/lib/python3.7/dist-packages (from transformers->bert-extractive-summarizer==0.4.2) (3.0.12)\n",
            "Requirement already satisfied: joblib>=0.11 in /usr/local/lib/python3.7/dist-packages (from scikit-learn->bert-extractive-summarizer==0.4.2) (1.0.1)\n",
            "Requirement already satisfied: scipy>=0.17.0 in /usr/local/lib/python3.7/dist-packages (from scikit-learn->bert-extractive-summarizer==0.4.2) (1.4.1)\n",
            "Requirement already satisfied: catalogue<1.1.0,>=0.0.7 in /usr/local/lib/python3.7/dist-packages (from spacy->bert-extractive-summarizer==0.4.2) (1.0.0)\n",
            "Requirement already satisfied: cymem<2.1.0,>=2.0.2 in /usr/local/lib/python3.7/dist-packages (from spacy->bert-extractive-summarizer==0.4.2) (2.0.5)\n",
            "Requirement already satisfied: preshed<3.1.0,>=3.0.2 in /usr/local/lib/python3.7/dist-packages (from spacy->bert-extractive-summarizer==0.4.2) (3.0.5)\n",
            "Requirement already satisfied: setuptools in /usr/local/lib/python3.7/dist-packages (from spacy->bert-extractive-summarizer==0.4.2) (56.0.0)\n",
            "Requirement already satisfied: plac<1.2.0,>=0.9.6 in /usr/local/lib/python3.7/dist-packages (from spacy->bert-extractive-summarizer==0.4.2) (1.1.3)\n",
            "Requirement already satisfied: murmurhash<1.1.0,>=0.28.0 in /usr/local/lib/python3.7/dist-packages (from spacy->bert-extractive-summarizer==0.4.2) (1.0.5)\n",
            "Requirement already satisfied: blis<0.5.0,>=0.4.0 in /usr/local/lib/python3.7/dist-packages (from spacy->bert-extractive-summarizer==0.4.2) (0.4.1)\n",
            "Requirement already satisfied: srsly<1.1.0,>=1.0.2 in /usr/local/lib/python3.7/dist-packages (from spacy->bert-extractive-summarizer==0.4.2) (1.0.5)\n",
            "Requirement already satisfied: thinc==7.4.0 in /usr/local/lib/python3.7/dist-packages (from spacy->bert-extractive-summarizer==0.4.2) (7.4.0)\n",
            "Requirement already satisfied: wasabi<1.1.0,>=0.4.0 in /usr/local/lib/python3.7/dist-packages (from spacy->bert-extractive-summarizer==0.4.2) (0.8.2)\n",
            "Requirement already satisfied: six in /usr/local/lib/python3.7/dist-packages (from sacremoses->transformers->bert-extractive-summarizer==0.4.2) (1.15.0)\n",
            "Requirement already satisfied: click in /usr/local/lib/python3.7/dist-packages (from sacremoses->transformers->bert-extractive-summarizer==0.4.2) (7.1.2)\n",
            "Requirement already satisfied: chardet<4,>=3.0.2 in /usr/local/lib/python3.7/dist-packages (from requests->transformers->bert-extractive-summarizer==0.4.2) (3.0.4)\n",
            "Requirement already satisfied: certifi>=2017.4.17 in /usr/local/lib/python3.7/dist-packages (from requests->transformers->bert-extractive-summarizer==0.4.2) (2020.12.5)\n",
            "Requirement already satisfied: idna<3,>=2.5 in /usr/local/lib/python3.7/dist-packages (from requests->transformers->bert-extractive-summarizer==0.4.2) (2.10)\n",
            "Requirement already satisfied: urllib3!=1.25.0,!=1.25.1,<1.26,>=1.21.1 in /usr/local/lib/python3.7/dist-packages (from requests->transformers->bert-extractive-summarizer==0.4.2) (1.24.3)\n",
            "Requirement already satisfied: zipp>=0.5 in /usr/local/lib/python3.7/dist-packages (from importlib-metadata; python_version < \"3.8\"->transformers->bert-extractive-summarizer==0.4.2) (3.4.1)\n",
            "Requirement already satisfied: typing-extensions>=3.6.4; python_version < \"3.8\" in /usr/local/lib/python3.7/dist-packages (from importlib-metadata; python_version < \"3.8\"->transformers->bert-extractive-summarizer==0.4.2) (3.7.4.3)\n",
            "Requirement already satisfied: pyparsing>=2.0.2 in /usr/local/lib/python3.7/dist-packages (from packaging->transformers->bert-extractive-summarizer==0.4.2) (2.4.7)\n",
            "Building wheels for collected packages: bert-extractive-summarizer\n",
            "  Building wheel for bert-extractive-summarizer (setup.py) ... \u001b[?25l\u001b[?25hdone\n",
            "  Created wheel for bert-extractive-summarizer: filename=bert_extractive_summarizer-0.4.2-cp37-none-any.whl size=13711 sha256=3e427b2ab5a1effe3059db1b884a85056eb4c771306df23f87f8a87930a6a2cb\n",
            "  Stored in directory: /root/.cache/pip/wheels/13/bc/30/654eb9e657177a56cba927c5a20b6cd01fb229b1ed2bf9b371\n",
            "Successfully built bert-extractive-summarizer\n",
            "Installing collected packages: sacremoses, tokenizers, transformers, bert-extractive-summarizer\n",
            "Successfully installed bert-extractive-summarizer-0.4.2 sacremoses-0.0.45 tokenizers-0.10.2 transformers-4.5.1\n"
          ],
          "name": "stdout"
        }
      ]
    },
    {
      "cell_type": "code",
      "metadata": {
        "colab": {
          "base_uri": "https://localhost:8080/"
        },
        "id": "YBqSxfpKnzNC",
        "outputId": "f8375e00-3483-4723-9295-1664e9b9ba91"
      },
      "source": [
        "!pip install sentencepiece"
      ],
      "execution_count": 12,
      "outputs": [
        {
          "output_type": "stream",
          "text": [
            "Collecting sentencepiece\n",
            "\u001b[?25l  Downloading https://files.pythonhosted.org/packages/f5/99/e0808cb947ba10f575839c43e8fafc9cc44e4a7a2c8f79c60db48220a577/sentencepiece-0.1.95-cp37-cp37m-manylinux2014_x86_64.whl (1.2MB)\n",
            "\u001b[K     |████████████████████████████████| 1.2MB 4.2MB/s \n",
            "\u001b[?25hInstalling collected packages: sentencepiece\n",
            "Successfully installed sentencepiece-0.1.95\n"
          ],
          "name": "stdout"
        }
      ]
    },
    {
      "cell_type": "code",
      "metadata": {
        "id": "0Gli1iA2nRv1"
      },
      "source": [
        "import torch\n",
        "from summarizer import Summarizer"
      ],
      "execution_count": 14,
      "outputs": []
    },
    {
      "cell_type": "code",
      "metadata": {
        "colab": {
          "base_uri": "https://localhost:8080/",
          "height": 261,
          "referenced_widgets": [
            "392f16ba75594e6391483b73695b2b98",
            "e2d4a8545c7d4a178677fa50dc1f9ecb",
            "db65e36b1b1d41b6bb73470ee09fba75",
            "0df3c6a2e5514289a6c145589eb5f469",
            "023ae64e85044ffc9b3adc9e8b67f876",
            "0a05e9b1464c4d3e95b41069fa86943e",
            "ea0f8998ba0a4ec79ed687b5b5df42cf",
            "7ebe95bae0e040868fb7bd66716bd4dc",
            "76081f2393a8411bbc1a83179f6a7ff6",
            "830e33ff9c3c4d4ab72ef54b1c14c76f",
            "9e7ebd23620e467aabb723fbab60e905",
            "aa6fba87f6274d4bbf22c58b9532b1fb",
            "17204c4da7e04c59abf2b66b34ce31d2",
            "af6e628a7d804cb4b1355362a368ad68",
            "3e856877f6614c268025b5a3e02b1fa2",
            "7fce2e226c834a2f8716cbb52156520f",
            "bf8a3cd522ab47dda82d7fcba4030fb2",
            "68e85f2d17c24a0ea07010df38c06c20",
            "034bd653677b43e6909ee7aa311f8e0d",
            "a6c7ad20a2f748f6aca8987bceab06c7",
            "6a52148a95bf4e8598fa3481f218a24a",
            "0f6ec3a545e742949eef983ecff83b9d",
            "8c136208ac2e4f15946b385082dda37b",
            "5a089fa6256a46af907f309b9389ab7c",
            "46de13ff77b34835b52b73e0f2040d3b",
            "666452a50ca04b81ac4172cfb2f87c46",
            "0c6916685cfa46efb7fa59a3f8f25222",
            "b227571dc48d49ab9728145d86d63502",
            "b93355844e6042539567f76ac48ac3d8",
            "e4598b17b5e042d99f8564e88ff3cc65",
            "4d051deaeb794357a3b548610cf8f161",
            "6c55f67e84134c7e95de9d76279cb7e0",
            "efaed275e54349768436e8b733be143e",
            "f3e66102139b4042bd5917cd812b9397",
            "4914027b31a94329bb68ba7ea8b3c5a5",
            "824a16b3997c4783ae4a155024c5b83e",
            "a85c5a29f1bf462ab9b53bad255fc275",
            "7c43cbcbe3ee4d3ca1f9561089f2c488",
            "e977ee2264aa45139740811a52af32f9",
            "7bebeee1b9ef4599bfefb0b2f4c7828d"
          ]
        },
        "id": "waqy00FInW3G",
        "outputId": "f48b956d-398a-4cce-d53a-d28a2073dae5"
      },
      "source": [
        "model = Summarizer('distilbert-base-uncased')"
      ],
      "execution_count": 15,
      "outputs": [
        {
          "output_type": "display_data",
          "data": {
            "application/vnd.jupyter.widget-view+json": {
              "model_id": "392f16ba75594e6391483b73695b2b98",
              "version_minor": 0,
              "version_major": 2
            },
            "text/plain": [
              "HBox(children=(FloatProgress(value=0.0, description='Downloading', max=442.0, style=ProgressStyle(description_…"
            ]
          },
          "metadata": {
            "tags": []
          }
        },
        {
          "output_type": "stream",
          "text": [
            "\n"
          ],
          "name": "stdout"
        },
        {
          "output_type": "display_data",
          "data": {
            "application/vnd.jupyter.widget-view+json": {
              "model_id": "76081f2393a8411bbc1a83179f6a7ff6",
              "version_minor": 0,
              "version_major": 2
            },
            "text/plain": [
              "HBox(children=(FloatProgress(value=0.0, description='Downloading', max=267967963.0, style=ProgressStyle(descri…"
            ]
          },
          "metadata": {
            "tags": []
          }
        },
        {
          "output_type": "stream",
          "text": [
            "\n"
          ],
          "name": "stdout"
        },
        {
          "output_type": "display_data",
          "data": {
            "application/vnd.jupyter.widget-view+json": {
              "model_id": "bf8a3cd522ab47dda82d7fcba4030fb2",
              "version_minor": 0,
              "version_major": 2
            },
            "text/plain": [
              "HBox(children=(FloatProgress(value=0.0, description='Downloading', max=231508.0, style=ProgressStyle(descripti…"
            ]
          },
          "metadata": {
            "tags": []
          }
        },
        {
          "output_type": "stream",
          "text": [
            "\n"
          ],
          "name": "stdout"
        },
        {
          "output_type": "display_data",
          "data": {
            "application/vnd.jupyter.widget-view+json": {
              "model_id": "46de13ff77b34835b52b73e0f2040d3b",
              "version_minor": 0,
              "version_major": 2
            },
            "text/plain": [
              "HBox(children=(FloatProgress(value=0.0, description='Downloading', max=28.0, style=ProgressStyle(description_w…"
            ]
          },
          "metadata": {
            "tags": []
          }
        },
        {
          "output_type": "stream",
          "text": [
            "\n"
          ],
          "name": "stdout"
        },
        {
          "output_type": "display_data",
          "data": {
            "application/vnd.jupyter.widget-view+json": {
              "model_id": "efaed275e54349768436e8b733be143e",
              "version_minor": 0,
              "version_major": 2
            },
            "text/plain": [
              "HBox(children=(FloatProgress(value=0.0, description='Downloading', max=466062.0, style=ProgressStyle(descripti…"
            ]
          },
          "metadata": {
            "tags": []
          }
        },
        {
          "output_type": "stream",
          "text": [
            "\n"
          ],
          "name": "stdout"
        }
      ]
    },
    {
      "cell_type": "code",
      "metadata": {
        "colab": {
          "base_uri": "https://localhost:8080/"
        },
        "id": "a_SvrQkfoHhM",
        "outputId": "e69d13e7-2648-4c33-b870-0eff99279b6c"
      },
      "source": [
        "resp = model(txt)\n",
        "print(resp)"
      ],
      "execution_count": 22,
      "outputs": [
        {
          "output_type": "stream",
          "text": [
            "This section was lightly adapted from an original posting by Larry Klaes (klaes@verga.enet.dec.com), mostly minor formatting changes. The guidance instructions from the ground stopped reaching the rocket due to a problem with its antenna, so the onboard computer took control. Although the bug is sometimes claimed to have been an incorrect FORTRAN DO statement, it was actually a transcription error in which the bar (indicating smoothing) was omitted from the expression \"R-dot-bar sub n\" (nth smoothed value of derivative of radius). The probe found a cratered world with an atmosphere much thinner than previously thought. However, they failed to take away the concept of Mars as a \"dead\" planet, first made from the basic measurements of MARINER 4. MARINER 9, the sister probe to MARINER 8, became the first craft to orbit Mars in 1971. The probe did return the first close-up images of the Venusian atmosphere in ultraviolet, revealing previously unseen details in the cloud cover, plus the fact that the entire cloud system circles the planet in four Earth days. This would seem to indicate that Mercury has an iron core which makes up 75 percent of the entire planet. Both vehicles should continue to function through 1995 and are heading off into interstellar space, the first craft ever to do so. RANGER 3 did try to take some images of the Moon as it flew by, but the camera was unfortunately aimed at deep space during the attempt. RANGER 5, launched October 18, 1962 and similar to RANGER 3 and 4, lost all solar panel and battery power enroute and eventually missed the Moon and drifted off into solar orbit. SURVEYOR (LUNAR SOFT LANDERS) The SURVEYOR series were designed primarily to see if an APOLLO lunar module could land on the surface of the Moon without sinking into the soil (before this time, it was feared by some that the Moon was covered in great layers of dust, which would not support a heavy landing vehicle). Communication was never regained again, despite the engineers' efforts through May of 1983. The National Air and Space Museum in Washington, D.C. is entrusted with the safekeeping of the Mutch Station Plaque until it can be attached to the lander by a manned expedition. The lander touched down on September 3, 1976 in Utopia Planitia. VOYAGER (OUTER PLANET FLYBYS) VOYAGER 1 was launched September 5, 1977, and flew past Jupiter on March 5, 1979 and by Saturn on November 13, 1980. Braids, kinks, and spokes were both unexpected and difficult to explain. In contrast to Uranus, Neptune was found to have rather active weather, including numerous cloud features. The ring arcs turned out to be bright patches on one ring. Two other rings, and 6 other satellites, were discovered. Triton had a canteloupe appearance and geysers. ( Their next major scientific discovery should be the location of the heliopause. SOVIET PLANETARY MISSIONS Since there have been so many Soviet probes to the Moon, Venus, and Mars, I will highlight only the primary missions: SOVIET LUNAR PROBES LUNA 1 - Lunar impact attempt in 1959, missed Moon and became first \t     craft in solar orbit. LUNA 2 - First craft to impact on lunar surface in 1959. Was \t     also a test for future Mars missions. Transmissions \t       lost enroute in 1961. VENERA 3 - Attempt to place a lander capsule on Venusian surface. VENERA 5 and 6 mission profiles \t       similar in 1969. VENERA 9 - Sent first image of Venusian surface in 1975. The probe did \t       enter Mars orbit in early 1989, but signals ceased one week \t       before scheduled Phobos landing. More intensive studies of the Moon, Mars, Venus, and various comets have been planned for the 1990s, and a Mercury mission to orbit and land probes on the tiny world has been planned for 2003. JAPANESE PLANETARY MISSIONS SAKIGAKE (MS-T5) was launched from the Kagoshima Space Center by ISAS on January 8 1985, and approached Halley's Comet within about 7 million km on March 11, 1986. Some geotail passages will be scheduled in some years hence. Though naturally I recommend all the books listed below, I think it would be best if you started out with the general overview books, in order to give you a clear idea of the history of space exploration in this area. Some of the more recently published works can also be purchased in and/or ordered through any good mass- market bookstore. More details on American, Soviet, European, and Japanese probe missions can be found in SKY AND TELESCOPE, ASTRONOMY, SCIENCE, NATURE, and SCIENTIFIC AMERICAN magazines. TIME, NEWSWEEK, and various major newspapers can supply not only general information on certain missions, but also show you what else was going on with Earth at the time events were unfolding, if that is of interest to you. Write to The Planetary Society, 65 North Catalina Avenue, Pasadena, California 91106 USA.\n"
          ],
          "name": "stdout"
        }
      ]
    },
    {
      "cell_type": "code",
      "metadata": {
        "colab": {
          "base_uri": "https://localhost:8080/"
        },
        "id": "oA6a3hOUouTz",
        "outputId": "8afe6b1d-fb33-476c-8ee8-51e76e8d9048"
      },
      "source": [
        "print(len(resp), len(txt))"
      ],
      "execution_count": 23,
      "outputs": [
        {
          "output_type": "stream",
          "text": [
            "4832 24938\n"
          ],
          "name": "stdout"
        }
      ]
    },
    {
      "cell_type": "code",
      "metadata": {
        "id": "2ZzyCkHMpMGh"
      },
      "source": [
        ""
      ],
      "execution_count": null,
      "outputs": []
    }
  ]
}