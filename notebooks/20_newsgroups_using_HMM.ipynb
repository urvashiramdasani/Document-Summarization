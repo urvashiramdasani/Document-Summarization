{
  "nbformat": 4,
  "nbformat_minor": 0,
  "metadata": {
    "colab": {
      "name": "20-newsgroups-using-HMM.ipynb",
      "provenance": [],
      "collapsed_sections": [
        "UlNBcBbA-BaP",
        "xupJ7Q01RzPB"
      ],
      "toc_visible": true,
      "authorship_tag": "ABX9TyPbLsezLYRkgPKoDId7rd2R",
      "include_colab_link": true
    },
    "kernelspec": {
      "name": "python3",
      "display_name": "Python 3"
    },
    "language_info": {
      "name": "python"
    },
    "widgets": {
      "application/vnd.jupyter.widget-state+json": {
        "7bc3052711de40f6ab1378c7ba369637": {
          "model_module": "@jupyter-widgets/controls",
          "model_name": "HBoxModel",
          "state": {
            "_view_name": "HBoxView",
            "_dom_classes": [],
            "_model_name": "HBoxModel",
            "_view_module": "@jupyter-widgets/controls",
            "_model_module_version": "1.5.0",
            "_view_count": null,
            "_view_module_version": "1.5.0",
            "box_style": "",
            "layout": "IPY_MODEL_00710b1bf47247fbb84ce399248cf21c",
            "_model_module": "@jupyter-widgets/controls",
            "children": [
              "IPY_MODEL_a3c3f44291c14b0184a882c5d99ea79a",
              "IPY_MODEL_f0a28e6a34e244208fbe67d39507ff4e"
            ]
          }
        },
        "00710b1bf47247fbb84ce399248cf21c": {
          "model_module": "@jupyter-widgets/base",
          "model_name": "LayoutModel",
          "state": {
            "_view_name": "LayoutView",
            "grid_template_rows": null,
            "right": null,
            "justify_content": null,
            "_view_module": "@jupyter-widgets/base",
            "overflow": null,
            "_model_module_version": "1.2.0",
            "_view_count": null,
            "flex_flow": null,
            "width": null,
            "min_width": null,
            "border": null,
            "align_items": null,
            "bottom": null,
            "_model_module": "@jupyter-widgets/base",
            "top": null,
            "grid_column": null,
            "overflow_y": null,
            "overflow_x": null,
            "grid_auto_flow": null,
            "grid_area": null,
            "grid_template_columns": null,
            "flex": null,
            "_model_name": "LayoutModel",
            "justify_items": null,
            "grid_row": null,
            "max_height": null,
            "align_content": null,
            "visibility": null,
            "align_self": null,
            "height": null,
            "min_height": null,
            "padding": null,
            "grid_auto_rows": null,
            "grid_gap": null,
            "max_width": null,
            "order": null,
            "_view_module_version": "1.2.0",
            "grid_template_areas": null,
            "object_position": null,
            "object_fit": null,
            "grid_auto_columns": null,
            "margin": null,
            "display": null,
            "left": null
          }
        },
        "a3c3f44291c14b0184a882c5d99ea79a": {
          "model_module": "@jupyter-widgets/controls",
          "model_name": "FloatProgressModel",
          "state": {
            "_view_name": "ProgressView",
            "style": "IPY_MODEL_27d174684d024d6593a9e630d0bc6c77",
            "_dom_classes": [],
            "description": "Downloading: 100%",
            "_model_name": "FloatProgressModel",
            "bar_style": "success",
            "max": 442,
            "_view_module": "@jupyter-widgets/controls",
            "_model_module_version": "1.5.0",
            "value": 442,
            "_view_count": null,
            "_view_module_version": "1.5.0",
            "orientation": "horizontal",
            "min": 0,
            "description_tooltip": null,
            "_model_module": "@jupyter-widgets/controls",
            "layout": "IPY_MODEL_a81d602a540b4d7984f2a8a54687871a"
          }
        },
        "f0a28e6a34e244208fbe67d39507ff4e": {
          "model_module": "@jupyter-widgets/controls",
          "model_name": "HTMLModel",
          "state": {
            "_view_name": "HTMLView",
            "style": "IPY_MODEL_6b69f2513eb8499e994687cf55d368ac",
            "_dom_classes": [],
            "description": "",
            "_model_name": "HTMLModel",
            "placeholder": "​",
            "_view_module": "@jupyter-widgets/controls",
            "_model_module_version": "1.5.0",
            "value": " 442/442 [00:00&lt;00:00, 1.11kB/s]",
            "_view_count": null,
            "_view_module_version": "1.5.0",
            "description_tooltip": null,
            "_model_module": "@jupyter-widgets/controls",
            "layout": "IPY_MODEL_f4ce227a0fd040eba7723f5cf2cc601d"
          }
        },
        "27d174684d024d6593a9e630d0bc6c77": {
          "model_module": "@jupyter-widgets/controls",
          "model_name": "ProgressStyleModel",
          "state": {
            "_view_name": "StyleView",
            "_model_name": "ProgressStyleModel",
            "description_width": "initial",
            "_view_module": "@jupyter-widgets/base",
            "_model_module_version": "1.5.0",
            "_view_count": null,
            "_view_module_version": "1.2.0",
            "bar_color": null,
            "_model_module": "@jupyter-widgets/controls"
          }
        },
        "a81d602a540b4d7984f2a8a54687871a": {
          "model_module": "@jupyter-widgets/base",
          "model_name": "LayoutModel",
          "state": {
            "_view_name": "LayoutView",
            "grid_template_rows": null,
            "right": null,
            "justify_content": null,
            "_view_module": "@jupyter-widgets/base",
            "overflow": null,
            "_model_module_version": "1.2.0",
            "_view_count": null,
            "flex_flow": null,
            "width": null,
            "min_width": null,
            "border": null,
            "align_items": null,
            "bottom": null,
            "_model_module": "@jupyter-widgets/base",
            "top": null,
            "grid_column": null,
            "overflow_y": null,
            "overflow_x": null,
            "grid_auto_flow": null,
            "grid_area": null,
            "grid_template_columns": null,
            "flex": null,
            "_model_name": "LayoutModel",
            "justify_items": null,
            "grid_row": null,
            "max_height": null,
            "align_content": null,
            "visibility": null,
            "align_self": null,
            "height": null,
            "min_height": null,
            "padding": null,
            "grid_auto_rows": null,
            "grid_gap": null,
            "max_width": null,
            "order": null,
            "_view_module_version": "1.2.0",
            "grid_template_areas": null,
            "object_position": null,
            "object_fit": null,
            "grid_auto_columns": null,
            "margin": null,
            "display": null,
            "left": null
          }
        },
        "6b69f2513eb8499e994687cf55d368ac": {
          "model_module": "@jupyter-widgets/controls",
          "model_name": "DescriptionStyleModel",
          "state": {
            "_view_name": "StyleView",
            "_model_name": "DescriptionStyleModel",
            "description_width": "",
            "_view_module": "@jupyter-widgets/base",
            "_model_module_version": "1.5.0",
            "_view_count": null,
            "_view_module_version": "1.2.0",
            "_model_module": "@jupyter-widgets/controls"
          }
        },
        "f4ce227a0fd040eba7723f5cf2cc601d": {
          "model_module": "@jupyter-widgets/base",
          "model_name": "LayoutModel",
          "state": {
            "_view_name": "LayoutView",
            "grid_template_rows": null,
            "right": null,
            "justify_content": null,
            "_view_module": "@jupyter-widgets/base",
            "overflow": null,
            "_model_module_version": "1.2.0",
            "_view_count": null,
            "flex_flow": null,
            "width": null,
            "min_width": null,
            "border": null,
            "align_items": null,
            "bottom": null,
            "_model_module": "@jupyter-widgets/base",
            "top": null,
            "grid_column": null,
            "overflow_y": null,
            "overflow_x": null,
            "grid_auto_flow": null,
            "grid_area": null,
            "grid_template_columns": null,
            "flex": null,
            "_model_name": "LayoutModel",
            "justify_items": null,
            "grid_row": null,
            "max_height": null,
            "align_content": null,
            "visibility": null,
            "align_self": null,
            "height": null,
            "min_height": null,
            "padding": null,
            "grid_auto_rows": null,
            "grid_gap": null,
            "max_width": null,
            "order": null,
            "_view_module_version": "1.2.0",
            "grid_template_areas": null,
            "object_position": null,
            "object_fit": null,
            "grid_auto_columns": null,
            "margin": null,
            "display": null,
            "left": null
          }
        },
        "143baf98ec7742ae86f4bdf57bf0461a": {
          "model_module": "@jupyter-widgets/controls",
          "model_name": "HBoxModel",
          "state": {
            "_view_name": "HBoxView",
            "_dom_classes": [],
            "_model_name": "HBoxModel",
            "_view_module": "@jupyter-widgets/controls",
            "_model_module_version": "1.5.0",
            "_view_count": null,
            "_view_module_version": "1.5.0",
            "box_style": "",
            "layout": "IPY_MODEL_7366fa9b4409428db217583c8c26cbe1",
            "_model_module": "@jupyter-widgets/controls",
            "children": [
              "IPY_MODEL_dd01dcfa4f61432d834efaa2ec118c3a",
              "IPY_MODEL_7e9f4fe74e95401287a23e6a88a590b9"
            ]
          }
        },
        "7366fa9b4409428db217583c8c26cbe1": {
          "model_module": "@jupyter-widgets/base",
          "model_name": "LayoutModel",
          "state": {
            "_view_name": "LayoutView",
            "grid_template_rows": null,
            "right": null,
            "justify_content": null,
            "_view_module": "@jupyter-widgets/base",
            "overflow": null,
            "_model_module_version": "1.2.0",
            "_view_count": null,
            "flex_flow": null,
            "width": null,
            "min_width": null,
            "border": null,
            "align_items": null,
            "bottom": null,
            "_model_module": "@jupyter-widgets/base",
            "top": null,
            "grid_column": null,
            "overflow_y": null,
            "overflow_x": null,
            "grid_auto_flow": null,
            "grid_area": null,
            "grid_template_columns": null,
            "flex": null,
            "_model_name": "LayoutModel",
            "justify_items": null,
            "grid_row": null,
            "max_height": null,
            "align_content": null,
            "visibility": null,
            "align_self": null,
            "height": null,
            "min_height": null,
            "padding": null,
            "grid_auto_rows": null,
            "grid_gap": null,
            "max_width": null,
            "order": null,
            "_view_module_version": "1.2.0",
            "grid_template_areas": null,
            "object_position": null,
            "object_fit": null,
            "grid_auto_columns": null,
            "margin": null,
            "display": null,
            "left": null
          }
        },
        "dd01dcfa4f61432d834efaa2ec118c3a": {
          "model_module": "@jupyter-widgets/controls",
          "model_name": "FloatProgressModel",
          "state": {
            "_view_name": "ProgressView",
            "style": "IPY_MODEL_0e64d509affd4ac0b2c9690a8b9bcae2",
            "_dom_classes": [],
            "description": "Downloading: 100%",
            "_model_name": "FloatProgressModel",
            "bar_style": "success",
            "max": 267967963,
            "_view_module": "@jupyter-widgets/controls",
            "_model_module_version": "1.5.0",
            "value": 267967963,
            "_view_count": null,
            "_view_module_version": "1.5.0",
            "orientation": "horizontal",
            "min": 0,
            "description_tooltip": null,
            "_model_module": "@jupyter-widgets/controls",
            "layout": "IPY_MODEL_02e0a06d2a8248ae80525583dfcd6314"
          }
        },
        "7e9f4fe74e95401287a23e6a88a590b9": {
          "model_module": "@jupyter-widgets/controls",
          "model_name": "HTMLModel",
          "state": {
            "_view_name": "HTMLView",
            "style": "IPY_MODEL_78107ac2d60d48f9b47bab1242dfe63e",
            "_dom_classes": [],
            "description": "",
            "_model_name": "HTMLModel",
            "placeholder": "​",
            "_view_module": "@jupyter-widgets/controls",
            "_model_module_version": "1.5.0",
            "value": " 268M/268M [00:06&lt;00:00, 43.2MB/s]",
            "_view_count": null,
            "_view_module_version": "1.5.0",
            "description_tooltip": null,
            "_model_module": "@jupyter-widgets/controls",
            "layout": "IPY_MODEL_4454fb5a382e433198d9dfdeb81f4d29"
          }
        },
        "0e64d509affd4ac0b2c9690a8b9bcae2": {
          "model_module": "@jupyter-widgets/controls",
          "model_name": "ProgressStyleModel",
          "state": {
            "_view_name": "StyleView",
            "_model_name": "ProgressStyleModel",
            "description_width": "initial",
            "_view_module": "@jupyter-widgets/base",
            "_model_module_version": "1.5.0",
            "_view_count": null,
            "_view_module_version": "1.2.0",
            "bar_color": null,
            "_model_module": "@jupyter-widgets/controls"
          }
        },
        "02e0a06d2a8248ae80525583dfcd6314": {
          "model_module": "@jupyter-widgets/base",
          "model_name": "LayoutModel",
          "state": {
            "_view_name": "LayoutView",
            "grid_template_rows": null,
            "right": null,
            "justify_content": null,
            "_view_module": "@jupyter-widgets/base",
            "overflow": null,
            "_model_module_version": "1.2.0",
            "_view_count": null,
            "flex_flow": null,
            "width": null,
            "min_width": null,
            "border": null,
            "align_items": null,
            "bottom": null,
            "_model_module": "@jupyter-widgets/base",
            "top": null,
            "grid_column": null,
            "overflow_y": null,
            "overflow_x": null,
            "grid_auto_flow": null,
            "grid_area": null,
            "grid_template_columns": null,
            "flex": null,
            "_model_name": "LayoutModel",
            "justify_items": null,
            "grid_row": null,
            "max_height": null,
            "align_content": null,
            "visibility": null,
            "align_self": null,
            "height": null,
            "min_height": null,
            "padding": null,
            "grid_auto_rows": null,
            "grid_gap": null,
            "max_width": null,
            "order": null,
            "_view_module_version": "1.2.0",
            "grid_template_areas": null,
            "object_position": null,
            "object_fit": null,
            "grid_auto_columns": null,
            "margin": null,
            "display": null,
            "left": null
          }
        },
        "78107ac2d60d48f9b47bab1242dfe63e": {
          "model_module": "@jupyter-widgets/controls",
          "model_name": "DescriptionStyleModel",
          "state": {
            "_view_name": "StyleView",
            "_model_name": "DescriptionStyleModel",
            "description_width": "",
            "_view_module": "@jupyter-widgets/base",
            "_model_module_version": "1.5.0",
            "_view_count": null,
            "_view_module_version": "1.2.0",
            "_model_module": "@jupyter-widgets/controls"
          }
        },
        "4454fb5a382e433198d9dfdeb81f4d29": {
          "model_module": "@jupyter-widgets/base",
          "model_name": "LayoutModel",
          "state": {
            "_view_name": "LayoutView",
            "grid_template_rows": null,
            "right": null,
            "justify_content": null,
            "_view_module": "@jupyter-widgets/base",
            "overflow": null,
            "_model_module_version": "1.2.0",
            "_view_count": null,
            "flex_flow": null,
            "width": null,
            "min_width": null,
            "border": null,
            "align_items": null,
            "bottom": null,
            "_model_module": "@jupyter-widgets/base",
            "top": null,
            "grid_column": null,
            "overflow_y": null,
            "overflow_x": null,
            "grid_auto_flow": null,
            "grid_area": null,
            "grid_template_columns": null,
            "flex": null,
            "_model_name": "LayoutModel",
            "justify_items": null,
            "grid_row": null,
            "max_height": null,
            "align_content": null,
            "visibility": null,
            "align_self": null,
            "height": null,
            "min_height": null,
            "padding": null,
            "grid_auto_rows": null,
            "grid_gap": null,
            "max_width": null,
            "order": null,
            "_view_module_version": "1.2.0",
            "grid_template_areas": null,
            "object_position": null,
            "object_fit": null,
            "grid_auto_columns": null,
            "margin": null,
            "display": null,
            "left": null
          }
        },
        "012ca1d0b96147699bd49000b37285f5": {
          "model_module": "@jupyter-widgets/controls",
          "model_name": "HBoxModel",
          "state": {
            "_view_name": "HBoxView",
            "_dom_classes": [],
            "_model_name": "HBoxModel",
            "_view_module": "@jupyter-widgets/controls",
            "_model_module_version": "1.5.0",
            "_view_count": null,
            "_view_module_version": "1.5.0",
            "box_style": "",
            "layout": "IPY_MODEL_8ea742d81d694d1e9bb6e9a43254869b",
            "_model_module": "@jupyter-widgets/controls",
            "children": [
              "IPY_MODEL_464d36da71d1499cb6fbaa03e0a10d0e",
              "IPY_MODEL_f317c73c72ac4cb3902717985601856d"
            ]
          }
        },
        "8ea742d81d694d1e9bb6e9a43254869b": {
          "model_module": "@jupyter-widgets/base",
          "model_name": "LayoutModel",
          "state": {
            "_view_name": "LayoutView",
            "grid_template_rows": null,
            "right": null,
            "justify_content": null,
            "_view_module": "@jupyter-widgets/base",
            "overflow": null,
            "_model_module_version": "1.2.0",
            "_view_count": null,
            "flex_flow": null,
            "width": null,
            "min_width": null,
            "border": null,
            "align_items": null,
            "bottom": null,
            "_model_module": "@jupyter-widgets/base",
            "top": null,
            "grid_column": null,
            "overflow_y": null,
            "overflow_x": null,
            "grid_auto_flow": null,
            "grid_area": null,
            "grid_template_columns": null,
            "flex": null,
            "_model_name": "LayoutModel",
            "justify_items": null,
            "grid_row": null,
            "max_height": null,
            "align_content": null,
            "visibility": null,
            "align_self": null,
            "height": null,
            "min_height": null,
            "padding": null,
            "grid_auto_rows": null,
            "grid_gap": null,
            "max_width": null,
            "order": null,
            "_view_module_version": "1.2.0",
            "grid_template_areas": null,
            "object_position": null,
            "object_fit": null,
            "grid_auto_columns": null,
            "margin": null,
            "display": null,
            "left": null
          }
        },
        "464d36da71d1499cb6fbaa03e0a10d0e": {
          "model_module": "@jupyter-widgets/controls",
          "model_name": "FloatProgressModel",
          "state": {
            "_view_name": "ProgressView",
            "style": "IPY_MODEL_473a563c5f12476ca3bd5eef897897e2",
            "_dom_classes": [],
            "description": "Downloading: 100%",
            "_model_name": "FloatProgressModel",
            "bar_style": "success",
            "max": 231508,
            "_view_module": "@jupyter-widgets/controls",
            "_model_module_version": "1.5.0",
            "value": 231508,
            "_view_count": null,
            "_view_module_version": "1.5.0",
            "orientation": "horizontal",
            "min": 0,
            "description_tooltip": null,
            "_model_module": "@jupyter-widgets/controls",
            "layout": "IPY_MODEL_d3a8d58a4024419c9995c3f25dd2654b"
          }
        },
        "f317c73c72ac4cb3902717985601856d": {
          "model_module": "@jupyter-widgets/controls",
          "model_name": "HTMLModel",
          "state": {
            "_view_name": "HTMLView",
            "style": "IPY_MODEL_ff6417deb7b746b4ac074b651819fdae",
            "_dom_classes": [],
            "description": "",
            "_model_name": "HTMLModel",
            "placeholder": "​",
            "_view_module": "@jupyter-widgets/controls",
            "_model_module_version": "1.5.0",
            "value": " 232k/232k [00:04&lt;00:00, 56.8kB/s]",
            "_view_count": null,
            "_view_module_version": "1.5.0",
            "description_tooltip": null,
            "_model_module": "@jupyter-widgets/controls",
            "layout": "IPY_MODEL_f0bd625802034b438cd1f46034e5e74e"
          }
        },
        "473a563c5f12476ca3bd5eef897897e2": {
          "model_module": "@jupyter-widgets/controls",
          "model_name": "ProgressStyleModel",
          "state": {
            "_view_name": "StyleView",
            "_model_name": "ProgressStyleModel",
            "description_width": "initial",
            "_view_module": "@jupyter-widgets/base",
            "_model_module_version": "1.5.0",
            "_view_count": null,
            "_view_module_version": "1.2.0",
            "bar_color": null,
            "_model_module": "@jupyter-widgets/controls"
          }
        },
        "d3a8d58a4024419c9995c3f25dd2654b": {
          "model_module": "@jupyter-widgets/base",
          "model_name": "LayoutModel",
          "state": {
            "_view_name": "LayoutView",
            "grid_template_rows": null,
            "right": null,
            "justify_content": null,
            "_view_module": "@jupyter-widgets/base",
            "overflow": null,
            "_model_module_version": "1.2.0",
            "_view_count": null,
            "flex_flow": null,
            "width": null,
            "min_width": null,
            "border": null,
            "align_items": null,
            "bottom": null,
            "_model_module": "@jupyter-widgets/base",
            "top": null,
            "grid_column": null,
            "overflow_y": null,
            "overflow_x": null,
            "grid_auto_flow": null,
            "grid_area": null,
            "grid_template_columns": null,
            "flex": null,
            "_model_name": "LayoutModel",
            "justify_items": null,
            "grid_row": null,
            "max_height": null,
            "align_content": null,
            "visibility": null,
            "align_self": null,
            "height": null,
            "min_height": null,
            "padding": null,
            "grid_auto_rows": null,
            "grid_gap": null,
            "max_width": null,
            "order": null,
            "_view_module_version": "1.2.0",
            "grid_template_areas": null,
            "object_position": null,
            "object_fit": null,
            "grid_auto_columns": null,
            "margin": null,
            "display": null,
            "left": null
          }
        },
        "ff6417deb7b746b4ac074b651819fdae": {
          "model_module": "@jupyter-widgets/controls",
          "model_name": "DescriptionStyleModel",
          "state": {
            "_view_name": "StyleView",
            "_model_name": "DescriptionStyleModel",
            "description_width": "",
            "_view_module": "@jupyter-widgets/base",
            "_model_module_version": "1.5.0",
            "_view_count": null,
            "_view_module_version": "1.2.0",
            "_model_module": "@jupyter-widgets/controls"
          }
        },
        "f0bd625802034b438cd1f46034e5e74e": {
          "model_module": "@jupyter-widgets/base",
          "model_name": "LayoutModel",
          "state": {
            "_view_name": "LayoutView",
            "grid_template_rows": null,
            "right": null,
            "justify_content": null,
            "_view_module": "@jupyter-widgets/base",
            "overflow": null,
            "_model_module_version": "1.2.0",
            "_view_count": null,
            "flex_flow": null,
            "width": null,
            "min_width": null,
            "border": null,
            "align_items": null,
            "bottom": null,
            "_model_module": "@jupyter-widgets/base",
            "top": null,
            "grid_column": null,
            "overflow_y": null,
            "overflow_x": null,
            "grid_auto_flow": null,
            "grid_area": null,
            "grid_template_columns": null,
            "flex": null,
            "_model_name": "LayoutModel",
            "justify_items": null,
            "grid_row": null,
            "max_height": null,
            "align_content": null,
            "visibility": null,
            "align_self": null,
            "height": null,
            "min_height": null,
            "padding": null,
            "grid_auto_rows": null,
            "grid_gap": null,
            "max_width": null,
            "order": null,
            "_view_module_version": "1.2.0",
            "grid_template_areas": null,
            "object_position": null,
            "object_fit": null,
            "grid_auto_columns": null,
            "margin": null,
            "display": null,
            "left": null
          }
        },
        "e46857af64344e8da9ebea7d97376e9b": {
          "model_module": "@jupyter-widgets/controls",
          "model_name": "HBoxModel",
          "state": {
            "_view_name": "HBoxView",
            "_dom_classes": [],
            "_model_name": "HBoxModel",
            "_view_module": "@jupyter-widgets/controls",
            "_model_module_version": "1.5.0",
            "_view_count": null,
            "_view_module_version": "1.5.0",
            "box_style": "",
            "layout": "IPY_MODEL_32b01620194b488eb5e060760e866591",
            "_model_module": "@jupyter-widgets/controls",
            "children": [
              "IPY_MODEL_7d88fddcaf704ffaa452d41fd043876d",
              "IPY_MODEL_51f8cb7e71374296a3bb0e68f897961f"
            ]
          }
        },
        "32b01620194b488eb5e060760e866591": {
          "model_module": "@jupyter-widgets/base",
          "model_name": "LayoutModel",
          "state": {
            "_view_name": "LayoutView",
            "grid_template_rows": null,
            "right": null,
            "justify_content": null,
            "_view_module": "@jupyter-widgets/base",
            "overflow": null,
            "_model_module_version": "1.2.0",
            "_view_count": null,
            "flex_flow": null,
            "width": null,
            "min_width": null,
            "border": null,
            "align_items": null,
            "bottom": null,
            "_model_module": "@jupyter-widgets/base",
            "top": null,
            "grid_column": null,
            "overflow_y": null,
            "overflow_x": null,
            "grid_auto_flow": null,
            "grid_area": null,
            "grid_template_columns": null,
            "flex": null,
            "_model_name": "LayoutModel",
            "justify_items": null,
            "grid_row": null,
            "max_height": null,
            "align_content": null,
            "visibility": null,
            "align_self": null,
            "height": null,
            "min_height": null,
            "padding": null,
            "grid_auto_rows": null,
            "grid_gap": null,
            "max_width": null,
            "order": null,
            "_view_module_version": "1.2.0",
            "grid_template_areas": null,
            "object_position": null,
            "object_fit": null,
            "grid_auto_columns": null,
            "margin": null,
            "display": null,
            "left": null
          }
        },
        "7d88fddcaf704ffaa452d41fd043876d": {
          "model_module": "@jupyter-widgets/controls",
          "model_name": "FloatProgressModel",
          "state": {
            "_view_name": "ProgressView",
            "style": "IPY_MODEL_60fff7a924ed4c45a36890e542774de1",
            "_dom_classes": [],
            "description": "Downloading: 100%",
            "_model_name": "FloatProgressModel",
            "bar_style": "success",
            "max": 28,
            "_view_module": "@jupyter-widgets/controls",
            "_model_module_version": "1.5.0",
            "value": 28,
            "_view_count": null,
            "_view_module_version": "1.5.0",
            "orientation": "horizontal",
            "min": 0,
            "description_tooltip": null,
            "_model_module": "@jupyter-widgets/controls",
            "layout": "IPY_MODEL_91879926d17746b3b18f0b60192f679d"
          }
        },
        "51f8cb7e71374296a3bb0e68f897961f": {
          "model_module": "@jupyter-widgets/controls",
          "model_name": "HTMLModel",
          "state": {
            "_view_name": "HTMLView",
            "style": "IPY_MODEL_eaf227421627429c9a5fa8330b9fdf04",
            "_dom_classes": [],
            "description": "",
            "_model_name": "HTMLModel",
            "placeholder": "​",
            "_view_module": "@jupyter-widgets/controls",
            "_model_module_version": "1.5.0",
            "value": " 28.0/28.0 [00:01&lt;00:00, 24.7B/s]",
            "_view_count": null,
            "_view_module_version": "1.5.0",
            "description_tooltip": null,
            "_model_module": "@jupyter-widgets/controls",
            "layout": "IPY_MODEL_c9bf8200c8f84dd1b96738c2f79938a6"
          }
        },
        "60fff7a924ed4c45a36890e542774de1": {
          "model_module": "@jupyter-widgets/controls",
          "model_name": "ProgressStyleModel",
          "state": {
            "_view_name": "StyleView",
            "_model_name": "ProgressStyleModel",
            "description_width": "initial",
            "_view_module": "@jupyter-widgets/base",
            "_model_module_version": "1.5.0",
            "_view_count": null,
            "_view_module_version": "1.2.0",
            "bar_color": null,
            "_model_module": "@jupyter-widgets/controls"
          }
        },
        "91879926d17746b3b18f0b60192f679d": {
          "model_module": "@jupyter-widgets/base",
          "model_name": "LayoutModel",
          "state": {
            "_view_name": "LayoutView",
            "grid_template_rows": null,
            "right": null,
            "justify_content": null,
            "_view_module": "@jupyter-widgets/base",
            "overflow": null,
            "_model_module_version": "1.2.0",
            "_view_count": null,
            "flex_flow": null,
            "width": null,
            "min_width": null,
            "border": null,
            "align_items": null,
            "bottom": null,
            "_model_module": "@jupyter-widgets/base",
            "top": null,
            "grid_column": null,
            "overflow_y": null,
            "overflow_x": null,
            "grid_auto_flow": null,
            "grid_area": null,
            "grid_template_columns": null,
            "flex": null,
            "_model_name": "LayoutModel",
            "justify_items": null,
            "grid_row": null,
            "max_height": null,
            "align_content": null,
            "visibility": null,
            "align_self": null,
            "height": null,
            "min_height": null,
            "padding": null,
            "grid_auto_rows": null,
            "grid_gap": null,
            "max_width": null,
            "order": null,
            "_view_module_version": "1.2.0",
            "grid_template_areas": null,
            "object_position": null,
            "object_fit": null,
            "grid_auto_columns": null,
            "margin": null,
            "display": null,
            "left": null
          }
        },
        "eaf227421627429c9a5fa8330b9fdf04": {
          "model_module": "@jupyter-widgets/controls",
          "model_name": "DescriptionStyleModel",
          "state": {
            "_view_name": "StyleView",
            "_model_name": "DescriptionStyleModel",
            "description_width": "",
            "_view_module": "@jupyter-widgets/base",
            "_model_module_version": "1.5.0",
            "_view_count": null,
            "_view_module_version": "1.2.0",
            "_model_module": "@jupyter-widgets/controls"
          }
        },
        "c9bf8200c8f84dd1b96738c2f79938a6": {
          "model_module": "@jupyter-widgets/base",
          "model_name": "LayoutModel",
          "state": {
            "_view_name": "LayoutView",
            "grid_template_rows": null,
            "right": null,
            "justify_content": null,
            "_view_module": "@jupyter-widgets/base",
            "overflow": null,
            "_model_module_version": "1.2.0",
            "_view_count": null,
            "flex_flow": null,
            "width": null,
            "min_width": null,
            "border": null,
            "align_items": null,
            "bottom": null,
            "_model_module": "@jupyter-widgets/base",
            "top": null,
            "grid_column": null,
            "overflow_y": null,
            "overflow_x": null,
            "grid_auto_flow": null,
            "grid_area": null,
            "grid_template_columns": null,
            "flex": null,
            "_model_name": "LayoutModel",
            "justify_items": null,
            "grid_row": null,
            "max_height": null,
            "align_content": null,
            "visibility": null,
            "align_self": null,
            "height": null,
            "min_height": null,
            "padding": null,
            "grid_auto_rows": null,
            "grid_gap": null,
            "max_width": null,
            "order": null,
            "_view_module_version": "1.2.0",
            "grid_template_areas": null,
            "object_position": null,
            "object_fit": null,
            "grid_auto_columns": null,
            "margin": null,
            "display": null,
            "left": null
          }
        },
        "63476851eae6412e86ea67f5d5b38d9d": {
          "model_module": "@jupyter-widgets/controls",
          "model_name": "HBoxModel",
          "state": {
            "_view_name": "HBoxView",
            "_dom_classes": [],
            "_model_name": "HBoxModel",
            "_view_module": "@jupyter-widgets/controls",
            "_model_module_version": "1.5.0",
            "_view_count": null,
            "_view_module_version": "1.5.0",
            "box_style": "",
            "layout": "IPY_MODEL_6fa6a2231ffe47588d4224e80dcd2656",
            "_model_module": "@jupyter-widgets/controls",
            "children": [
              "IPY_MODEL_1089aada00e1497d9af7a8b83039a1c5",
              "IPY_MODEL_f4b0f865012047349758a26080f6dc4a"
            ]
          }
        },
        "6fa6a2231ffe47588d4224e80dcd2656": {
          "model_module": "@jupyter-widgets/base",
          "model_name": "LayoutModel",
          "state": {
            "_view_name": "LayoutView",
            "grid_template_rows": null,
            "right": null,
            "justify_content": null,
            "_view_module": "@jupyter-widgets/base",
            "overflow": null,
            "_model_module_version": "1.2.0",
            "_view_count": null,
            "flex_flow": null,
            "width": null,
            "min_width": null,
            "border": null,
            "align_items": null,
            "bottom": null,
            "_model_module": "@jupyter-widgets/base",
            "top": null,
            "grid_column": null,
            "overflow_y": null,
            "overflow_x": null,
            "grid_auto_flow": null,
            "grid_area": null,
            "grid_template_columns": null,
            "flex": null,
            "_model_name": "LayoutModel",
            "justify_items": null,
            "grid_row": null,
            "max_height": null,
            "align_content": null,
            "visibility": null,
            "align_self": null,
            "height": null,
            "min_height": null,
            "padding": null,
            "grid_auto_rows": null,
            "grid_gap": null,
            "max_width": null,
            "order": null,
            "_view_module_version": "1.2.0",
            "grid_template_areas": null,
            "object_position": null,
            "object_fit": null,
            "grid_auto_columns": null,
            "margin": null,
            "display": null,
            "left": null
          }
        },
        "1089aada00e1497d9af7a8b83039a1c5": {
          "model_module": "@jupyter-widgets/controls",
          "model_name": "FloatProgressModel",
          "state": {
            "_view_name": "ProgressView",
            "style": "IPY_MODEL_1b3ae6b7e89841f0b353e2735f9cfaca",
            "_dom_classes": [],
            "description": "Downloading: 100%",
            "_model_name": "FloatProgressModel",
            "bar_style": "success",
            "max": 466062,
            "_view_module": "@jupyter-widgets/controls",
            "_model_module_version": "1.5.0",
            "value": 466062,
            "_view_count": null,
            "_view_module_version": "1.5.0",
            "orientation": "horizontal",
            "min": 0,
            "description_tooltip": null,
            "_model_module": "@jupyter-widgets/controls",
            "layout": "IPY_MODEL_00c7064f26b443f2b7e32c4c12bf4011"
          }
        },
        "f4b0f865012047349758a26080f6dc4a": {
          "model_module": "@jupyter-widgets/controls",
          "model_name": "HTMLModel",
          "state": {
            "_view_name": "HTMLView",
            "style": "IPY_MODEL_a473a1332db24685a416f753d3c8c49f",
            "_dom_classes": [],
            "description": "",
            "_model_name": "HTMLModel",
            "placeholder": "​",
            "_view_module": "@jupyter-widgets/controls",
            "_model_module_version": "1.5.0",
            "value": " 466k/466k [00:00&lt;00:00, 500kB/s]",
            "_view_count": null,
            "_view_module_version": "1.5.0",
            "description_tooltip": null,
            "_model_module": "@jupyter-widgets/controls",
            "layout": "IPY_MODEL_0d945e7e512845a38783e3bfbde54106"
          }
        },
        "1b3ae6b7e89841f0b353e2735f9cfaca": {
          "model_module": "@jupyter-widgets/controls",
          "model_name": "ProgressStyleModel",
          "state": {
            "_view_name": "StyleView",
            "_model_name": "ProgressStyleModel",
            "description_width": "initial",
            "_view_module": "@jupyter-widgets/base",
            "_model_module_version": "1.5.0",
            "_view_count": null,
            "_view_module_version": "1.2.0",
            "bar_color": null,
            "_model_module": "@jupyter-widgets/controls"
          }
        },
        "00c7064f26b443f2b7e32c4c12bf4011": {
          "model_module": "@jupyter-widgets/base",
          "model_name": "LayoutModel",
          "state": {
            "_view_name": "LayoutView",
            "grid_template_rows": null,
            "right": null,
            "justify_content": null,
            "_view_module": "@jupyter-widgets/base",
            "overflow": null,
            "_model_module_version": "1.2.0",
            "_view_count": null,
            "flex_flow": null,
            "width": null,
            "min_width": null,
            "border": null,
            "align_items": null,
            "bottom": null,
            "_model_module": "@jupyter-widgets/base",
            "top": null,
            "grid_column": null,
            "overflow_y": null,
            "overflow_x": null,
            "grid_auto_flow": null,
            "grid_area": null,
            "grid_template_columns": null,
            "flex": null,
            "_model_name": "LayoutModel",
            "justify_items": null,
            "grid_row": null,
            "max_height": null,
            "align_content": null,
            "visibility": null,
            "align_self": null,
            "height": null,
            "min_height": null,
            "padding": null,
            "grid_auto_rows": null,
            "grid_gap": null,
            "max_width": null,
            "order": null,
            "_view_module_version": "1.2.0",
            "grid_template_areas": null,
            "object_position": null,
            "object_fit": null,
            "grid_auto_columns": null,
            "margin": null,
            "display": null,
            "left": null
          }
        },
        "a473a1332db24685a416f753d3c8c49f": {
          "model_module": "@jupyter-widgets/controls",
          "model_name": "DescriptionStyleModel",
          "state": {
            "_view_name": "StyleView",
            "_model_name": "DescriptionStyleModel",
            "description_width": "",
            "_view_module": "@jupyter-widgets/base",
            "_model_module_version": "1.5.0",
            "_view_count": null,
            "_view_module_version": "1.2.0",
            "_model_module": "@jupyter-widgets/controls"
          }
        },
        "0d945e7e512845a38783e3bfbde54106": {
          "model_module": "@jupyter-widgets/base",
          "model_name": "LayoutModel",
          "state": {
            "_view_name": "LayoutView",
            "grid_template_rows": null,
            "right": null,
            "justify_content": null,
            "_view_module": "@jupyter-widgets/base",
            "overflow": null,
            "_model_module_version": "1.2.0",
            "_view_count": null,
            "flex_flow": null,
            "width": null,
            "min_width": null,
            "border": null,
            "align_items": null,
            "bottom": null,
            "_model_module": "@jupyter-widgets/base",
            "top": null,
            "grid_column": null,
            "overflow_y": null,
            "overflow_x": null,
            "grid_auto_flow": null,
            "grid_area": null,
            "grid_template_columns": null,
            "flex": null,
            "_model_name": "LayoutModel",
            "justify_items": null,
            "grid_row": null,
            "max_height": null,
            "align_content": null,
            "visibility": null,
            "align_self": null,
            "height": null,
            "min_height": null,
            "padding": null,
            "grid_auto_rows": null,
            "grid_gap": null,
            "max_width": null,
            "order": null,
            "_view_module_version": "1.2.0",
            "grid_template_areas": null,
            "object_position": null,
            "object_fit": null,
            "grid_auto_columns": null,
            "margin": null,
            "display": null,
            "left": null
          }
        },
        "3fa9b4e319eb41f080a4e50e4e5aa3dc": {
          "model_module": "@jupyter-widgets/controls",
          "model_name": "HBoxModel",
          "state": {
            "_view_name": "HBoxView",
            "_dom_classes": [],
            "_model_name": "HBoxModel",
            "_view_module": "@jupyter-widgets/controls",
            "_model_module_version": "1.5.0",
            "_view_count": null,
            "_view_module_version": "1.5.0",
            "box_style": "",
            "layout": "IPY_MODEL_368c02bc43194ba583d56dfd06517f97",
            "_model_module": "@jupyter-widgets/controls",
            "children": [
              "IPY_MODEL_dc7d0dbac4db439a86f351fa77392e04",
              "IPY_MODEL_f52d36db495d4bd9bd70c1b7294b52ac"
            ]
          }
        },
        "368c02bc43194ba583d56dfd06517f97": {
          "model_module": "@jupyter-widgets/base",
          "model_name": "LayoutModel",
          "state": {
            "_view_name": "LayoutView",
            "grid_template_rows": null,
            "right": null,
            "justify_content": null,
            "_view_module": "@jupyter-widgets/base",
            "overflow": null,
            "_model_module_version": "1.2.0",
            "_view_count": null,
            "flex_flow": null,
            "width": null,
            "min_width": null,
            "border": null,
            "align_items": null,
            "bottom": null,
            "_model_module": "@jupyter-widgets/base",
            "top": null,
            "grid_column": null,
            "overflow_y": null,
            "overflow_x": null,
            "grid_auto_flow": null,
            "grid_area": null,
            "grid_template_columns": null,
            "flex": null,
            "_model_name": "LayoutModel",
            "justify_items": null,
            "grid_row": null,
            "max_height": null,
            "align_content": null,
            "visibility": null,
            "align_self": null,
            "height": null,
            "min_height": null,
            "padding": null,
            "grid_auto_rows": null,
            "grid_gap": null,
            "max_width": null,
            "order": null,
            "_view_module_version": "1.2.0",
            "grid_template_areas": null,
            "object_position": null,
            "object_fit": null,
            "grid_auto_columns": null,
            "margin": null,
            "display": null,
            "left": null
          }
        },
        "dc7d0dbac4db439a86f351fa77392e04": {
          "model_module": "@jupyter-widgets/controls",
          "model_name": "IntProgressModel",
          "state": {
            "_view_name": "ProgressView",
            "style": "IPY_MODEL_d16f79ace9724a42b738ddb3d0f2c657",
            "_dom_classes": [],
            "description": "Downloading: 100%",
            "_model_name": "IntProgressModel",
            "bar_style": "success",
            "max": 1649,
            "_view_module": "@jupyter-widgets/controls",
            "_model_module_version": "1.5.0",
            "value": 1649,
            "_view_count": null,
            "_view_module_version": "1.5.0",
            "orientation": "horizontal",
            "min": 0,
            "description_tooltip": null,
            "_model_module": "@jupyter-widgets/controls",
            "layout": "IPY_MODEL_f6db96422daf4022bc0371792751cae0"
          }
        },
        "f52d36db495d4bd9bd70c1b7294b52ac": {
          "model_module": "@jupyter-widgets/controls",
          "model_name": "HTMLModel",
          "state": {
            "_view_name": "HTMLView",
            "style": "IPY_MODEL_fb830272c96946a6998e7e121f45d8be",
            "_dom_classes": [],
            "description": "",
            "_model_name": "HTMLModel",
            "placeholder": "​",
            "_view_module": "@jupyter-widgets/controls",
            "_model_module_version": "1.5.0",
            "value": " 1.65k/1.65k [00:00&lt;00:00, 3.82kB/s]",
            "_view_count": null,
            "_view_module_version": "1.5.0",
            "description_tooltip": null,
            "_model_module": "@jupyter-widgets/controls",
            "layout": "IPY_MODEL_2d077f28948c4dda9949e138b3b46386"
          }
        },
        "d16f79ace9724a42b738ddb3d0f2c657": {
          "model_module": "@jupyter-widgets/controls",
          "model_name": "ProgressStyleModel",
          "state": {
            "_view_name": "StyleView",
            "_model_name": "ProgressStyleModel",
            "description_width": "initial",
            "_view_module": "@jupyter-widgets/base",
            "_model_module_version": "1.5.0",
            "_view_count": null,
            "_view_module_version": "1.2.0",
            "bar_color": null,
            "_model_module": "@jupyter-widgets/controls"
          }
        },
        "f6db96422daf4022bc0371792751cae0": {
          "model_module": "@jupyter-widgets/base",
          "model_name": "LayoutModel",
          "state": {
            "_view_name": "LayoutView",
            "grid_template_rows": null,
            "right": null,
            "justify_content": null,
            "_view_module": "@jupyter-widgets/base",
            "overflow": null,
            "_model_module_version": "1.2.0",
            "_view_count": null,
            "flex_flow": null,
            "width": null,
            "min_width": null,
            "border": null,
            "align_items": null,
            "bottom": null,
            "_model_module": "@jupyter-widgets/base",
            "top": null,
            "grid_column": null,
            "overflow_y": null,
            "overflow_x": null,
            "grid_auto_flow": null,
            "grid_area": null,
            "grid_template_columns": null,
            "flex": null,
            "_model_name": "LayoutModel",
            "justify_items": null,
            "grid_row": null,
            "max_height": null,
            "align_content": null,
            "visibility": null,
            "align_self": null,
            "height": null,
            "min_height": null,
            "padding": null,
            "grid_auto_rows": null,
            "grid_gap": null,
            "max_width": null,
            "order": null,
            "_view_module_version": "1.2.0",
            "grid_template_areas": null,
            "object_position": null,
            "object_fit": null,
            "grid_auto_columns": null,
            "margin": null,
            "display": null,
            "left": null
          }
        },
        "fb830272c96946a6998e7e121f45d8be": {
          "model_module": "@jupyter-widgets/controls",
          "model_name": "DescriptionStyleModel",
          "state": {
            "_view_name": "StyleView",
            "_model_name": "DescriptionStyleModel",
            "description_width": "",
            "_view_module": "@jupyter-widgets/base",
            "_model_module_version": "1.5.0",
            "_view_count": null,
            "_view_module_version": "1.2.0",
            "_model_module": "@jupyter-widgets/controls"
          }
        },
        "2d077f28948c4dda9949e138b3b46386": {
          "model_module": "@jupyter-widgets/base",
          "model_name": "LayoutModel",
          "state": {
            "_view_name": "LayoutView",
            "grid_template_rows": null,
            "right": null,
            "justify_content": null,
            "_view_module": "@jupyter-widgets/base",
            "overflow": null,
            "_model_module_version": "1.2.0",
            "_view_count": null,
            "flex_flow": null,
            "width": null,
            "min_width": null,
            "border": null,
            "align_items": null,
            "bottom": null,
            "_model_module": "@jupyter-widgets/base",
            "top": null,
            "grid_column": null,
            "overflow_y": null,
            "overflow_x": null,
            "grid_auto_flow": null,
            "grid_area": null,
            "grid_template_columns": null,
            "flex": null,
            "_model_name": "LayoutModel",
            "justify_items": null,
            "grid_row": null,
            "max_height": null,
            "align_content": null,
            "visibility": null,
            "align_self": null,
            "height": null,
            "min_height": null,
            "padding": null,
            "grid_auto_rows": null,
            "grid_gap": null,
            "max_width": null,
            "order": null,
            "_view_module_version": "1.2.0",
            "grid_template_areas": null,
            "object_position": null,
            "object_fit": null,
            "grid_auto_columns": null,
            "margin": null,
            "display": null,
            "left": null
          }
        },
        "4ae855151e904fee887fb737cff04a48": {
          "model_module": "@jupyter-widgets/controls",
          "model_name": "HBoxModel",
          "state": {
            "_view_name": "HBoxView",
            "_dom_classes": [],
            "_model_name": "HBoxModel",
            "_view_module": "@jupyter-widgets/controls",
            "_model_module_version": "1.5.0",
            "_view_count": null,
            "_view_module_version": "1.5.0",
            "box_style": "",
            "layout": "IPY_MODEL_6fc7df27e0cd48b0927bda4f0b7bc166",
            "_model_module": "@jupyter-widgets/controls",
            "children": [
              "IPY_MODEL_6b8726afd0e7442199da2ca26cdbbdea",
              "IPY_MODEL_1475d587664a409e9a132ff6a05d5b3d"
            ]
          }
        },
        "6fc7df27e0cd48b0927bda4f0b7bc166": {
          "model_module": "@jupyter-widgets/base",
          "model_name": "LayoutModel",
          "state": {
            "_view_name": "LayoutView",
            "grid_template_rows": null,
            "right": null,
            "justify_content": null,
            "_view_module": "@jupyter-widgets/base",
            "overflow": null,
            "_model_module_version": "1.2.0",
            "_view_count": null,
            "flex_flow": null,
            "width": null,
            "min_width": null,
            "border": null,
            "align_items": null,
            "bottom": null,
            "_model_module": "@jupyter-widgets/base",
            "top": null,
            "grid_column": null,
            "overflow_y": null,
            "overflow_x": null,
            "grid_auto_flow": null,
            "grid_area": null,
            "grid_template_columns": null,
            "flex": null,
            "_model_name": "LayoutModel",
            "justify_items": null,
            "grid_row": null,
            "max_height": null,
            "align_content": null,
            "visibility": null,
            "align_self": null,
            "height": null,
            "min_height": null,
            "padding": null,
            "grid_auto_rows": null,
            "grid_gap": null,
            "max_width": null,
            "order": null,
            "_view_module_version": "1.2.0",
            "grid_template_areas": null,
            "object_position": null,
            "object_fit": null,
            "grid_auto_columns": null,
            "margin": null,
            "display": null,
            "left": null
          }
        },
        "6b8726afd0e7442199da2ca26cdbbdea": {
          "model_module": "@jupyter-widgets/controls",
          "model_name": "IntProgressModel",
          "state": {
            "_view_name": "ProgressView",
            "style": "IPY_MODEL_e1eabd901813496e9d78098ffd668bc2",
            "_dom_classes": [],
            "description": "Downloading: 100%",
            "_model_name": "IntProgressModel",
            "bar_style": "success",
            "max": 1222317369,
            "_view_module": "@jupyter-widgets/controls",
            "_model_module_version": "1.5.0",
            "value": 1222317369,
            "_view_count": null,
            "_view_module_version": "1.5.0",
            "orientation": "horizontal",
            "min": 0,
            "description_tooltip": null,
            "_model_module": "@jupyter-widgets/controls",
            "layout": "IPY_MODEL_bdf609e8de714a1da93f2ddcf0c96494"
          }
        },
        "1475d587664a409e9a132ff6a05d5b3d": {
          "model_module": "@jupyter-widgets/controls",
          "model_name": "HTMLModel",
          "state": {
            "_view_name": "HTMLView",
            "style": "IPY_MODEL_35b409dddc8f46a3aef1446a5fdef1c8",
            "_dom_classes": [],
            "description": "",
            "_model_name": "HTMLModel",
            "placeholder": "​",
            "_view_module": "@jupyter-widgets/controls",
            "_model_module_version": "1.5.0",
            "value": " 1.22G/1.22G [01:54&lt;00:00, 10.7MB/s]",
            "_view_count": null,
            "_view_module_version": "1.5.0",
            "description_tooltip": null,
            "_model_module": "@jupyter-widgets/controls",
            "layout": "IPY_MODEL_e1f85442cd5d4f62a34e2693200b8c99"
          }
        },
        "e1eabd901813496e9d78098ffd668bc2": {
          "model_module": "@jupyter-widgets/controls",
          "model_name": "ProgressStyleModel",
          "state": {
            "_view_name": "StyleView",
            "_model_name": "ProgressStyleModel",
            "description_width": "initial",
            "_view_module": "@jupyter-widgets/base",
            "_model_module_version": "1.5.0",
            "_view_count": null,
            "_view_module_version": "1.2.0",
            "bar_color": null,
            "_model_module": "@jupyter-widgets/controls"
          }
        },
        "bdf609e8de714a1da93f2ddcf0c96494": {
          "model_module": "@jupyter-widgets/base",
          "model_name": "LayoutModel",
          "state": {
            "_view_name": "LayoutView",
            "grid_template_rows": null,
            "right": null,
            "justify_content": null,
            "_view_module": "@jupyter-widgets/base",
            "overflow": null,
            "_model_module_version": "1.2.0",
            "_view_count": null,
            "flex_flow": null,
            "width": null,
            "min_width": null,
            "border": null,
            "align_items": null,
            "bottom": null,
            "_model_module": "@jupyter-widgets/base",
            "top": null,
            "grid_column": null,
            "overflow_y": null,
            "overflow_x": null,
            "grid_auto_flow": null,
            "grid_area": null,
            "grid_template_columns": null,
            "flex": null,
            "_model_name": "LayoutModel",
            "justify_items": null,
            "grid_row": null,
            "max_height": null,
            "align_content": null,
            "visibility": null,
            "align_self": null,
            "height": null,
            "min_height": null,
            "padding": null,
            "grid_auto_rows": null,
            "grid_gap": null,
            "max_width": null,
            "order": null,
            "_view_module_version": "1.2.0",
            "grid_template_areas": null,
            "object_position": null,
            "object_fit": null,
            "grid_auto_columns": null,
            "margin": null,
            "display": null,
            "left": null
          }
        },
        "35b409dddc8f46a3aef1446a5fdef1c8": {
          "model_module": "@jupyter-widgets/controls",
          "model_name": "DescriptionStyleModel",
          "state": {
            "_view_name": "StyleView",
            "_model_name": "DescriptionStyleModel",
            "description_width": "",
            "_view_module": "@jupyter-widgets/base",
            "_model_module_version": "1.5.0",
            "_view_count": null,
            "_view_module_version": "1.2.0",
            "_model_module": "@jupyter-widgets/controls"
          }
        },
        "e1f85442cd5d4f62a34e2693200b8c99": {
          "model_module": "@jupyter-widgets/base",
          "model_name": "LayoutModel",
          "state": {
            "_view_name": "LayoutView",
            "grid_template_rows": null,
            "right": null,
            "justify_content": null,
            "_view_module": "@jupyter-widgets/base",
            "overflow": null,
            "_model_module_version": "1.2.0",
            "_view_count": null,
            "flex_flow": null,
            "width": null,
            "min_width": null,
            "border": null,
            "align_items": null,
            "bottom": null,
            "_model_module": "@jupyter-widgets/base",
            "top": null,
            "grid_column": null,
            "overflow_y": null,
            "overflow_x": null,
            "grid_auto_flow": null,
            "grid_area": null,
            "grid_template_columns": null,
            "flex": null,
            "_model_name": "LayoutModel",
            "justify_items": null,
            "grid_row": null,
            "max_height": null,
            "align_content": null,
            "visibility": null,
            "align_self": null,
            "height": null,
            "min_height": null,
            "padding": null,
            "grid_auto_rows": null,
            "grid_gap": null,
            "max_width": null,
            "order": null,
            "_view_module_version": "1.2.0",
            "grid_template_areas": null,
            "object_position": null,
            "object_fit": null,
            "grid_auto_columns": null,
            "margin": null,
            "display": null,
            "left": null
          }
        },
        "2a42b2cb80cf4a7d9ed8edbe0999569e": {
          "model_module": "@jupyter-widgets/controls",
          "model_name": "HBoxModel",
          "state": {
            "_view_name": "HBoxView",
            "_dom_classes": [],
            "_model_name": "HBoxModel",
            "_view_module": "@jupyter-widgets/controls",
            "_model_module_version": "1.5.0",
            "_view_count": null,
            "_view_module_version": "1.5.0",
            "box_style": "",
            "layout": "IPY_MODEL_e7254bf389c1461c90926f2324e2623a",
            "_model_module": "@jupyter-widgets/controls",
            "children": [
              "IPY_MODEL_087648ca48394d238b9800ed00bfaf60",
              "IPY_MODEL_d125c6bfdf3a448ba2a0f9da8c20654b"
            ]
          }
        },
        "e7254bf389c1461c90926f2324e2623a": {
          "model_module": "@jupyter-widgets/base",
          "model_name": "LayoutModel",
          "state": {
            "_view_name": "LayoutView",
            "grid_template_rows": null,
            "right": null,
            "justify_content": null,
            "_view_module": "@jupyter-widgets/base",
            "overflow": null,
            "_model_module_version": "1.2.0",
            "_view_count": null,
            "flex_flow": null,
            "width": null,
            "min_width": null,
            "border": null,
            "align_items": null,
            "bottom": null,
            "_model_module": "@jupyter-widgets/base",
            "top": null,
            "grid_column": null,
            "overflow_y": null,
            "overflow_x": null,
            "grid_auto_flow": null,
            "grid_area": null,
            "grid_template_columns": null,
            "flex": null,
            "_model_name": "LayoutModel",
            "justify_items": null,
            "grid_row": null,
            "max_height": null,
            "align_content": null,
            "visibility": null,
            "align_self": null,
            "height": null,
            "min_height": null,
            "padding": null,
            "grid_auto_rows": null,
            "grid_gap": null,
            "max_width": null,
            "order": null,
            "_view_module_version": "1.2.0",
            "grid_template_areas": null,
            "object_position": null,
            "object_fit": null,
            "grid_auto_columns": null,
            "margin": null,
            "display": null,
            "left": null
          }
        },
        "087648ca48394d238b9800ed00bfaf60": {
          "model_module": "@jupyter-widgets/controls",
          "model_name": "IntProgressModel",
          "state": {
            "_view_name": "ProgressView",
            "style": "IPY_MODEL_5b28a8564c2c4d16b9b5a97ad5a999bd",
            "_dom_classes": [],
            "description": "Downloading: 100%",
            "_model_name": "IntProgressModel",
            "bar_style": "success",
            "max": 898822,
            "_view_module": "@jupyter-widgets/controls",
            "_model_module_version": "1.5.0",
            "value": 898822,
            "_view_count": null,
            "_view_module_version": "1.5.0",
            "orientation": "horizontal",
            "min": 0,
            "description_tooltip": null,
            "_model_module": "@jupyter-widgets/controls",
            "layout": "IPY_MODEL_ae8eb29bb5c945e18ec80b6d96eaa337"
          }
        },
        "d125c6bfdf3a448ba2a0f9da8c20654b": {
          "model_module": "@jupyter-widgets/controls",
          "model_name": "HTMLModel",
          "state": {
            "_view_name": "HTMLView",
            "style": "IPY_MODEL_7ed5f9bc4d37493b8bb0fe8abf65a898",
            "_dom_classes": [],
            "description": "",
            "_model_name": "HTMLModel",
            "placeholder": "​",
            "_view_module": "@jupyter-widgets/controls",
            "_model_module_version": "1.5.0",
            "value": " 899k/899k [00:00&lt;00:00, 2.77MB/s]",
            "_view_count": null,
            "_view_module_version": "1.5.0",
            "description_tooltip": null,
            "_model_module": "@jupyter-widgets/controls",
            "layout": "IPY_MODEL_dc94f2ef1e6c40c69d2a372146b3c17c"
          }
        },
        "5b28a8564c2c4d16b9b5a97ad5a999bd": {
          "model_module": "@jupyter-widgets/controls",
          "model_name": "ProgressStyleModel",
          "state": {
            "_view_name": "StyleView",
            "_model_name": "ProgressStyleModel",
            "description_width": "initial",
            "_view_module": "@jupyter-widgets/base",
            "_model_module_version": "1.5.0",
            "_view_count": null,
            "_view_module_version": "1.2.0",
            "bar_color": null,
            "_model_module": "@jupyter-widgets/controls"
          }
        },
        "ae8eb29bb5c945e18ec80b6d96eaa337": {
          "model_module": "@jupyter-widgets/base",
          "model_name": "LayoutModel",
          "state": {
            "_view_name": "LayoutView",
            "grid_template_rows": null,
            "right": null,
            "justify_content": null,
            "_view_module": "@jupyter-widgets/base",
            "overflow": null,
            "_model_module_version": "1.2.0",
            "_view_count": null,
            "flex_flow": null,
            "width": null,
            "min_width": null,
            "border": null,
            "align_items": null,
            "bottom": null,
            "_model_module": "@jupyter-widgets/base",
            "top": null,
            "grid_column": null,
            "overflow_y": null,
            "overflow_x": null,
            "grid_auto_flow": null,
            "grid_area": null,
            "grid_template_columns": null,
            "flex": null,
            "_model_name": "LayoutModel",
            "justify_items": null,
            "grid_row": null,
            "max_height": null,
            "align_content": null,
            "visibility": null,
            "align_self": null,
            "height": null,
            "min_height": null,
            "padding": null,
            "grid_auto_rows": null,
            "grid_gap": null,
            "max_width": null,
            "order": null,
            "_view_module_version": "1.2.0",
            "grid_template_areas": null,
            "object_position": null,
            "object_fit": null,
            "grid_auto_columns": null,
            "margin": null,
            "display": null,
            "left": null
          }
        },
        "7ed5f9bc4d37493b8bb0fe8abf65a898": {
          "model_module": "@jupyter-widgets/controls",
          "model_name": "DescriptionStyleModel",
          "state": {
            "_view_name": "StyleView",
            "_model_name": "DescriptionStyleModel",
            "description_width": "",
            "_view_module": "@jupyter-widgets/base",
            "_model_module_version": "1.5.0",
            "_view_count": null,
            "_view_module_version": "1.2.0",
            "_model_module": "@jupyter-widgets/controls"
          }
        },
        "dc94f2ef1e6c40c69d2a372146b3c17c": {
          "model_module": "@jupyter-widgets/base",
          "model_name": "LayoutModel",
          "state": {
            "_view_name": "LayoutView",
            "grid_template_rows": null,
            "right": null,
            "justify_content": null,
            "_view_module": "@jupyter-widgets/base",
            "overflow": null,
            "_model_module_version": "1.2.0",
            "_view_count": null,
            "flex_flow": null,
            "width": null,
            "min_width": null,
            "border": null,
            "align_items": null,
            "bottom": null,
            "_model_module": "@jupyter-widgets/base",
            "top": null,
            "grid_column": null,
            "overflow_y": null,
            "overflow_x": null,
            "grid_auto_flow": null,
            "grid_area": null,
            "grid_template_columns": null,
            "flex": null,
            "_model_name": "LayoutModel",
            "justify_items": null,
            "grid_row": null,
            "max_height": null,
            "align_content": null,
            "visibility": null,
            "align_self": null,
            "height": null,
            "min_height": null,
            "padding": null,
            "grid_auto_rows": null,
            "grid_gap": null,
            "max_width": null,
            "order": null,
            "_view_module_version": "1.2.0",
            "grid_template_areas": null,
            "object_position": null,
            "object_fit": null,
            "grid_auto_columns": null,
            "margin": null,
            "display": null,
            "left": null
          }
        },
        "08a12facced54e9fafba5f790c325ddc": {
          "model_module": "@jupyter-widgets/controls",
          "model_name": "HBoxModel",
          "state": {
            "_view_name": "HBoxView",
            "_dom_classes": [],
            "_model_name": "HBoxModel",
            "_view_module": "@jupyter-widgets/controls",
            "_model_module_version": "1.5.0",
            "_view_count": null,
            "_view_module_version": "1.5.0",
            "box_style": "",
            "layout": "IPY_MODEL_96e42dfb30434a4ebd9c3e2c8498bb1d",
            "_model_module": "@jupyter-widgets/controls",
            "children": [
              "IPY_MODEL_e5d35ced30554c9a9d51f55ad9254bb6",
              "IPY_MODEL_b53985d0b9a44899b5d57fb2bd698ffc"
            ]
          }
        },
        "96e42dfb30434a4ebd9c3e2c8498bb1d": {
          "model_module": "@jupyter-widgets/base",
          "model_name": "LayoutModel",
          "state": {
            "_view_name": "LayoutView",
            "grid_template_rows": null,
            "right": null,
            "justify_content": null,
            "_view_module": "@jupyter-widgets/base",
            "overflow": null,
            "_model_module_version": "1.2.0",
            "_view_count": null,
            "flex_flow": null,
            "width": null,
            "min_width": null,
            "border": null,
            "align_items": null,
            "bottom": null,
            "_model_module": "@jupyter-widgets/base",
            "top": null,
            "grid_column": null,
            "overflow_y": null,
            "overflow_x": null,
            "grid_auto_flow": null,
            "grid_area": null,
            "grid_template_columns": null,
            "flex": null,
            "_model_name": "LayoutModel",
            "justify_items": null,
            "grid_row": null,
            "max_height": null,
            "align_content": null,
            "visibility": null,
            "align_self": null,
            "height": null,
            "min_height": null,
            "padding": null,
            "grid_auto_rows": null,
            "grid_gap": null,
            "max_width": null,
            "order": null,
            "_view_module_version": "1.2.0",
            "grid_template_areas": null,
            "object_position": null,
            "object_fit": null,
            "grid_auto_columns": null,
            "margin": null,
            "display": null,
            "left": null
          }
        },
        "e5d35ced30554c9a9d51f55ad9254bb6": {
          "model_module": "@jupyter-widgets/controls",
          "model_name": "IntProgressModel",
          "state": {
            "_view_name": "ProgressView",
            "style": "IPY_MODEL_64fb77af1c4c43ff91fb928a7780313e",
            "_dom_classes": [],
            "description": "Downloading: 100%",
            "_model_name": "IntProgressModel",
            "bar_style": "success",
            "max": 456318,
            "_view_module": "@jupyter-widgets/controls",
            "_model_module_version": "1.5.0",
            "value": 456318,
            "_view_count": null,
            "_view_module_version": "1.5.0",
            "orientation": "horizontal",
            "min": 0,
            "description_tooltip": null,
            "_model_module": "@jupyter-widgets/controls",
            "layout": "IPY_MODEL_21d523169e4e44f58fcf69e882d6d0f7"
          }
        },
        "b53985d0b9a44899b5d57fb2bd698ffc": {
          "model_module": "@jupyter-widgets/controls",
          "model_name": "HTMLModel",
          "state": {
            "_view_name": "HTMLView",
            "style": "IPY_MODEL_0b281b77b35441b8b8e5ff36a3e96abe",
            "_dom_classes": [],
            "description": "",
            "_model_name": "HTMLModel",
            "placeholder": "​",
            "_view_module": "@jupyter-widgets/controls",
            "_model_module_version": "1.5.0",
            "value": " 456k/456k [00:00&lt;00:00, 680kB/s]",
            "_view_count": null,
            "_view_module_version": "1.5.0",
            "description_tooltip": null,
            "_model_module": "@jupyter-widgets/controls",
            "layout": "IPY_MODEL_0f27328d35dc4717a703d5636bc74484"
          }
        },
        "64fb77af1c4c43ff91fb928a7780313e": {
          "model_module": "@jupyter-widgets/controls",
          "model_name": "ProgressStyleModel",
          "state": {
            "_view_name": "StyleView",
            "_model_name": "ProgressStyleModel",
            "description_width": "initial",
            "_view_module": "@jupyter-widgets/base",
            "_model_module_version": "1.5.0",
            "_view_count": null,
            "_view_module_version": "1.2.0",
            "bar_color": null,
            "_model_module": "@jupyter-widgets/controls"
          }
        },
        "21d523169e4e44f58fcf69e882d6d0f7": {
          "model_module": "@jupyter-widgets/base",
          "model_name": "LayoutModel",
          "state": {
            "_view_name": "LayoutView",
            "grid_template_rows": null,
            "right": null,
            "justify_content": null,
            "_view_module": "@jupyter-widgets/base",
            "overflow": null,
            "_model_module_version": "1.2.0",
            "_view_count": null,
            "flex_flow": null,
            "width": null,
            "min_width": null,
            "border": null,
            "align_items": null,
            "bottom": null,
            "_model_module": "@jupyter-widgets/base",
            "top": null,
            "grid_column": null,
            "overflow_y": null,
            "overflow_x": null,
            "grid_auto_flow": null,
            "grid_area": null,
            "grid_template_columns": null,
            "flex": null,
            "_model_name": "LayoutModel",
            "justify_items": null,
            "grid_row": null,
            "max_height": null,
            "align_content": null,
            "visibility": null,
            "align_self": null,
            "height": null,
            "min_height": null,
            "padding": null,
            "grid_auto_rows": null,
            "grid_gap": null,
            "max_width": null,
            "order": null,
            "_view_module_version": "1.2.0",
            "grid_template_areas": null,
            "object_position": null,
            "object_fit": null,
            "grid_auto_columns": null,
            "margin": null,
            "display": null,
            "left": null
          }
        },
        "0b281b77b35441b8b8e5ff36a3e96abe": {
          "model_module": "@jupyter-widgets/controls",
          "model_name": "DescriptionStyleModel",
          "state": {
            "_view_name": "StyleView",
            "_model_name": "DescriptionStyleModel",
            "description_width": "",
            "_view_module": "@jupyter-widgets/base",
            "_model_module_version": "1.5.0",
            "_view_count": null,
            "_view_module_version": "1.2.0",
            "_model_module": "@jupyter-widgets/controls"
          }
        },
        "0f27328d35dc4717a703d5636bc74484": {
          "model_module": "@jupyter-widgets/base",
          "model_name": "LayoutModel",
          "state": {
            "_view_name": "LayoutView",
            "grid_template_rows": null,
            "right": null,
            "justify_content": null,
            "_view_module": "@jupyter-widgets/base",
            "overflow": null,
            "_model_module_version": "1.2.0",
            "_view_count": null,
            "flex_flow": null,
            "width": null,
            "min_width": null,
            "border": null,
            "align_items": null,
            "bottom": null,
            "_model_module": "@jupyter-widgets/base",
            "top": null,
            "grid_column": null,
            "overflow_y": null,
            "overflow_x": null,
            "grid_auto_flow": null,
            "grid_area": null,
            "grid_template_columns": null,
            "flex": null,
            "_model_name": "LayoutModel",
            "justify_items": null,
            "grid_row": null,
            "max_height": null,
            "align_content": null,
            "visibility": null,
            "align_self": null,
            "height": null,
            "min_height": null,
            "padding": null,
            "grid_auto_rows": null,
            "grid_gap": null,
            "max_width": null,
            "order": null,
            "_view_module_version": "1.2.0",
            "grid_template_areas": null,
            "object_position": null,
            "object_fit": null,
            "grid_auto_columns": null,
            "margin": null,
            "display": null,
            "left": null
          }
        },
        "6edd878ee2ad4fd1a3c84bcfccebff21": {
          "model_module": "@jupyter-widgets/controls",
          "model_name": "HBoxModel",
          "state": {
            "_view_name": "HBoxView",
            "_dom_classes": [],
            "_model_name": "HBoxModel",
            "_view_module": "@jupyter-widgets/controls",
            "_model_module_version": "1.5.0",
            "_view_count": null,
            "_view_module_version": "1.5.0",
            "box_style": "",
            "layout": "IPY_MODEL_a36b4caef3ce402eb57c47390fafdc29",
            "_model_module": "@jupyter-widgets/controls",
            "children": [
              "IPY_MODEL_2388e47a46844b468239955d7173682e",
              "IPY_MODEL_1b9807c7098f44e990c973b7a0c1ee21"
            ]
          }
        },
        "a36b4caef3ce402eb57c47390fafdc29": {
          "model_module": "@jupyter-widgets/base",
          "model_name": "LayoutModel",
          "state": {
            "_view_name": "LayoutView",
            "grid_template_rows": null,
            "right": null,
            "justify_content": null,
            "_view_module": "@jupyter-widgets/base",
            "overflow": null,
            "_model_module_version": "1.2.0",
            "_view_count": null,
            "flex_flow": null,
            "width": null,
            "min_width": null,
            "border": null,
            "align_items": null,
            "bottom": null,
            "_model_module": "@jupyter-widgets/base",
            "top": null,
            "grid_column": null,
            "overflow_y": null,
            "overflow_x": null,
            "grid_auto_flow": null,
            "grid_area": null,
            "grid_template_columns": null,
            "flex": null,
            "_model_name": "LayoutModel",
            "justify_items": null,
            "grid_row": null,
            "max_height": null,
            "align_content": null,
            "visibility": null,
            "align_self": null,
            "height": null,
            "min_height": null,
            "padding": null,
            "grid_auto_rows": null,
            "grid_gap": null,
            "max_width": null,
            "order": null,
            "_view_module_version": "1.2.0",
            "grid_template_areas": null,
            "object_position": null,
            "object_fit": null,
            "grid_auto_columns": null,
            "margin": null,
            "display": null,
            "left": null
          }
        },
        "2388e47a46844b468239955d7173682e": {
          "model_module": "@jupyter-widgets/controls",
          "model_name": "IntProgressModel",
          "state": {
            "_view_name": "ProgressView",
            "style": "IPY_MODEL_ef39092129994946adf48aa1b78fae3b",
            "_dom_classes": [],
            "description": "Downloading: 100%",
            "_model_name": "IntProgressModel",
            "bar_style": "success",
            "max": 26,
            "_view_module": "@jupyter-widgets/controls",
            "_model_module_version": "1.5.0",
            "value": 26,
            "_view_count": null,
            "_view_module_version": "1.5.0",
            "orientation": "horizontal",
            "min": 0,
            "description_tooltip": null,
            "_model_module": "@jupyter-widgets/controls",
            "layout": "IPY_MODEL_240bad9d40904c43a178bf9e354dcfb4"
          }
        },
        "1b9807c7098f44e990c973b7a0c1ee21": {
          "model_module": "@jupyter-widgets/controls",
          "model_name": "HTMLModel",
          "state": {
            "_view_name": "HTMLView",
            "style": "IPY_MODEL_8bfeab09d2e249d3bd2603603bc8ad5b",
            "_dom_classes": [],
            "description": "",
            "_model_name": "HTMLModel",
            "placeholder": "​",
            "_view_module": "@jupyter-widgets/controls",
            "_model_module_version": "1.5.0",
            "value": " 26.0/26.0 [00:00&lt;00:00, 172B/s]",
            "_view_count": null,
            "_view_module_version": "1.5.0",
            "description_tooltip": null,
            "_model_module": "@jupyter-widgets/controls",
            "layout": "IPY_MODEL_922f28a27f904264ad99e7d515214640"
          }
        },
        "ef39092129994946adf48aa1b78fae3b": {
          "model_module": "@jupyter-widgets/controls",
          "model_name": "ProgressStyleModel",
          "state": {
            "_view_name": "StyleView",
            "_model_name": "ProgressStyleModel",
            "description_width": "initial",
            "_view_module": "@jupyter-widgets/base",
            "_model_module_version": "1.5.0",
            "_view_count": null,
            "_view_module_version": "1.2.0",
            "bar_color": null,
            "_model_module": "@jupyter-widgets/controls"
          }
        },
        "240bad9d40904c43a178bf9e354dcfb4": {
          "model_module": "@jupyter-widgets/base",
          "model_name": "LayoutModel",
          "state": {
            "_view_name": "LayoutView",
            "grid_template_rows": null,
            "right": null,
            "justify_content": null,
            "_view_module": "@jupyter-widgets/base",
            "overflow": null,
            "_model_module_version": "1.2.0",
            "_view_count": null,
            "flex_flow": null,
            "width": null,
            "min_width": null,
            "border": null,
            "align_items": null,
            "bottom": null,
            "_model_module": "@jupyter-widgets/base",
            "top": null,
            "grid_column": null,
            "overflow_y": null,
            "overflow_x": null,
            "grid_auto_flow": null,
            "grid_area": null,
            "grid_template_columns": null,
            "flex": null,
            "_model_name": "LayoutModel",
            "justify_items": null,
            "grid_row": null,
            "max_height": null,
            "align_content": null,
            "visibility": null,
            "align_self": null,
            "height": null,
            "min_height": null,
            "padding": null,
            "grid_auto_rows": null,
            "grid_gap": null,
            "max_width": null,
            "order": null,
            "_view_module_version": "1.2.0",
            "grid_template_areas": null,
            "object_position": null,
            "object_fit": null,
            "grid_auto_columns": null,
            "margin": null,
            "display": null,
            "left": null
          }
        },
        "8bfeab09d2e249d3bd2603603bc8ad5b": {
          "model_module": "@jupyter-widgets/controls",
          "model_name": "DescriptionStyleModel",
          "state": {
            "_view_name": "StyleView",
            "_model_name": "DescriptionStyleModel",
            "description_width": "",
            "_view_module": "@jupyter-widgets/base",
            "_model_module_version": "1.5.0",
            "_view_count": null,
            "_view_module_version": "1.2.0",
            "_model_module": "@jupyter-widgets/controls"
          }
        },
        "922f28a27f904264ad99e7d515214640": {
          "model_module": "@jupyter-widgets/base",
          "model_name": "LayoutModel",
          "state": {
            "_view_name": "LayoutView",
            "grid_template_rows": null,
            "right": null,
            "justify_content": null,
            "_view_module": "@jupyter-widgets/base",
            "overflow": null,
            "_model_module_version": "1.2.0",
            "_view_count": null,
            "flex_flow": null,
            "width": null,
            "min_width": null,
            "border": null,
            "align_items": null,
            "bottom": null,
            "_model_module": "@jupyter-widgets/base",
            "top": null,
            "grid_column": null,
            "overflow_y": null,
            "overflow_x": null,
            "grid_auto_flow": null,
            "grid_area": null,
            "grid_template_columns": null,
            "flex": null,
            "_model_name": "LayoutModel",
            "justify_items": null,
            "grid_row": null,
            "max_height": null,
            "align_content": null,
            "visibility": null,
            "align_self": null,
            "height": null,
            "min_height": null,
            "padding": null,
            "grid_auto_rows": null,
            "grid_gap": null,
            "max_width": null,
            "order": null,
            "_view_module_version": "1.2.0",
            "grid_template_areas": null,
            "object_position": null,
            "object_fit": null,
            "grid_auto_columns": null,
            "margin": null,
            "display": null,
            "left": null
          }
        },
        "156f9ceab4d34036be16bec9c7b80a69": {
          "model_module": "@jupyter-widgets/controls",
          "model_name": "HBoxModel",
          "state": {
            "_view_name": "HBoxView",
            "_dom_classes": [],
            "_model_name": "HBoxModel",
            "_view_module": "@jupyter-widgets/controls",
            "_model_module_version": "1.5.0",
            "_view_count": null,
            "_view_module_version": "1.5.0",
            "box_style": "",
            "layout": "IPY_MODEL_9f0399812367434ab113e46cf81d49ea",
            "_model_module": "@jupyter-widgets/controls",
            "children": [
              "IPY_MODEL_b9c393bb265c4e49ac466cbcae6911c7",
              "IPY_MODEL_1099d761b20241a0868de6dffbda9647"
            ]
          }
        },
        "9f0399812367434ab113e46cf81d49ea": {
          "model_module": "@jupyter-widgets/base",
          "model_name": "LayoutModel",
          "state": {
            "_view_name": "LayoutView",
            "grid_template_rows": null,
            "right": null,
            "justify_content": null,
            "_view_module": "@jupyter-widgets/base",
            "overflow": null,
            "_model_module_version": "1.2.0",
            "_view_count": null,
            "flex_flow": null,
            "width": null,
            "min_width": null,
            "border": null,
            "align_items": null,
            "bottom": null,
            "_model_module": "@jupyter-widgets/base",
            "top": null,
            "grid_column": null,
            "overflow_y": null,
            "overflow_x": null,
            "grid_auto_flow": null,
            "grid_area": null,
            "grid_template_columns": null,
            "flex": null,
            "_model_name": "LayoutModel",
            "justify_items": null,
            "grid_row": null,
            "max_height": null,
            "align_content": null,
            "visibility": null,
            "align_self": null,
            "height": null,
            "min_height": null,
            "padding": null,
            "grid_auto_rows": null,
            "grid_gap": null,
            "max_width": null,
            "order": null,
            "_view_module_version": "1.2.0",
            "grid_template_areas": null,
            "object_position": null,
            "object_fit": null,
            "grid_auto_columns": null,
            "margin": null,
            "display": null,
            "left": null
          }
        },
        "b9c393bb265c4e49ac466cbcae6911c7": {
          "model_module": "@jupyter-widgets/controls",
          "model_name": "IntProgressModel",
          "state": {
            "_view_name": "ProgressView",
            "style": "IPY_MODEL_33b46cd3342447c5bfc33f6c1c0638d2",
            "_dom_classes": [],
            "description": "Downloading: 100%",
            "_model_name": "IntProgressModel",
            "bar_style": "success",
            "max": 1199,
            "_view_module": "@jupyter-widgets/controls",
            "_model_module_version": "1.5.0",
            "value": 1199,
            "_view_count": null,
            "_view_module_version": "1.5.0",
            "orientation": "horizontal",
            "min": 0,
            "description_tooltip": null,
            "_model_module": "@jupyter-widgets/controls",
            "layout": "IPY_MODEL_079b86944aea4354a9dfc2dd8db92d7e"
          }
        },
        "1099d761b20241a0868de6dffbda9647": {
          "model_module": "@jupyter-widgets/controls",
          "model_name": "HTMLModel",
          "state": {
            "_view_name": "HTMLView",
            "style": "IPY_MODEL_f9d98c1fbab849e7ae26705f7a655fe5",
            "_dom_classes": [],
            "description": "",
            "_model_name": "HTMLModel",
            "placeholder": "​",
            "_view_module": "@jupyter-widgets/controls",
            "_model_module_version": "1.5.0",
            "value": " 1.20k/1.20k [00:00&lt;00:00, 5.63kB/s]",
            "_view_count": null,
            "_view_module_version": "1.5.0",
            "description_tooltip": null,
            "_model_module": "@jupyter-widgets/controls",
            "layout": "IPY_MODEL_ce9907c210f74949968271a26a25d88c"
          }
        },
        "33b46cd3342447c5bfc33f6c1c0638d2": {
          "model_module": "@jupyter-widgets/controls",
          "model_name": "ProgressStyleModel",
          "state": {
            "_view_name": "StyleView",
            "_model_name": "ProgressStyleModel",
            "description_width": "initial",
            "_view_module": "@jupyter-widgets/base",
            "_model_module_version": "1.5.0",
            "_view_count": null,
            "_view_module_version": "1.2.0",
            "bar_color": null,
            "_model_module": "@jupyter-widgets/controls"
          }
        },
        "079b86944aea4354a9dfc2dd8db92d7e": {
          "model_module": "@jupyter-widgets/base",
          "model_name": "LayoutModel",
          "state": {
            "_view_name": "LayoutView",
            "grid_template_rows": null,
            "right": null,
            "justify_content": null,
            "_view_module": "@jupyter-widgets/base",
            "overflow": null,
            "_model_module_version": "1.2.0",
            "_view_count": null,
            "flex_flow": null,
            "width": null,
            "min_width": null,
            "border": null,
            "align_items": null,
            "bottom": null,
            "_model_module": "@jupyter-widgets/base",
            "top": null,
            "grid_column": null,
            "overflow_y": null,
            "overflow_x": null,
            "grid_auto_flow": null,
            "grid_area": null,
            "grid_template_columns": null,
            "flex": null,
            "_model_name": "LayoutModel",
            "justify_items": null,
            "grid_row": null,
            "max_height": null,
            "align_content": null,
            "visibility": null,
            "align_self": null,
            "height": null,
            "min_height": null,
            "padding": null,
            "grid_auto_rows": null,
            "grid_gap": null,
            "max_width": null,
            "order": null,
            "_view_module_version": "1.2.0",
            "grid_template_areas": null,
            "object_position": null,
            "object_fit": null,
            "grid_auto_columns": null,
            "margin": null,
            "display": null,
            "left": null
          }
        },
        "f9d98c1fbab849e7ae26705f7a655fe5": {
          "model_module": "@jupyter-widgets/controls",
          "model_name": "DescriptionStyleModel",
          "state": {
            "_view_name": "StyleView",
            "_model_name": "DescriptionStyleModel",
            "description_width": "",
            "_view_module": "@jupyter-widgets/base",
            "_model_module_version": "1.5.0",
            "_view_count": null,
            "_view_module_version": "1.2.0",
            "_model_module": "@jupyter-widgets/controls"
          }
        },
        "ce9907c210f74949968271a26a25d88c": {
          "model_module": "@jupyter-widgets/base",
          "model_name": "LayoutModel",
          "state": {
            "_view_name": "LayoutView",
            "grid_template_rows": null,
            "right": null,
            "justify_content": null,
            "_view_module": "@jupyter-widgets/base",
            "overflow": null,
            "_model_module_version": "1.2.0",
            "_view_count": null,
            "flex_flow": null,
            "width": null,
            "min_width": null,
            "border": null,
            "align_items": null,
            "bottom": null,
            "_model_module": "@jupyter-widgets/base",
            "top": null,
            "grid_column": null,
            "overflow_y": null,
            "overflow_x": null,
            "grid_auto_flow": null,
            "grid_area": null,
            "grid_template_columns": null,
            "flex": null,
            "_model_name": "LayoutModel",
            "justify_items": null,
            "grid_row": null,
            "max_height": null,
            "align_content": null,
            "visibility": null,
            "align_self": null,
            "height": null,
            "min_height": null,
            "padding": null,
            "grid_auto_rows": null,
            "grid_gap": null,
            "max_width": null,
            "order": null,
            "_view_module_version": "1.2.0",
            "grid_template_areas": null,
            "object_position": null,
            "object_fit": null,
            "grid_auto_columns": null,
            "margin": null,
            "display": null,
            "left": null
          }
        },
        "bf2aa666de824b6db0a328f588b4a46d": {
          "model_module": "@jupyter-widgets/controls",
          "model_name": "HBoxModel",
          "state": {
            "_view_name": "HBoxView",
            "_dom_classes": [],
            "_model_name": "HBoxModel",
            "_view_module": "@jupyter-widgets/controls",
            "_model_module_version": "1.5.0",
            "_view_count": null,
            "_view_module_version": "1.5.0",
            "box_style": "",
            "layout": "IPY_MODEL_17836a75d4fa4910b0a22ce9cc6fd8f9",
            "_model_module": "@jupyter-widgets/controls",
            "children": [
              "IPY_MODEL_00755d4efecb444bba35251f1b1aad6d",
              "IPY_MODEL_14c3c104c465433eb8f0f6d3f2712078"
            ]
          }
        },
        "17836a75d4fa4910b0a22ce9cc6fd8f9": {
          "model_module": "@jupyter-widgets/base",
          "model_name": "LayoutModel",
          "state": {
            "_view_name": "LayoutView",
            "grid_template_rows": null,
            "right": null,
            "justify_content": null,
            "_view_module": "@jupyter-widgets/base",
            "overflow": null,
            "_model_module_version": "1.2.0",
            "_view_count": null,
            "flex_flow": null,
            "width": null,
            "min_width": null,
            "border": null,
            "align_items": null,
            "bottom": null,
            "_model_module": "@jupyter-widgets/base",
            "top": null,
            "grid_column": null,
            "overflow_y": null,
            "overflow_x": null,
            "grid_auto_flow": null,
            "grid_area": null,
            "grid_template_columns": null,
            "flex": null,
            "_model_name": "LayoutModel",
            "justify_items": null,
            "grid_row": null,
            "max_height": null,
            "align_content": null,
            "visibility": null,
            "align_self": null,
            "height": null,
            "min_height": null,
            "padding": null,
            "grid_auto_rows": null,
            "grid_gap": null,
            "max_width": null,
            "order": null,
            "_view_module_version": "1.2.0",
            "grid_template_areas": null,
            "object_position": null,
            "object_fit": null,
            "grid_auto_columns": null,
            "margin": null,
            "display": null,
            "left": null
          }
        },
        "00755d4efecb444bba35251f1b1aad6d": {
          "model_module": "@jupyter-widgets/controls",
          "model_name": "IntProgressModel",
          "state": {
            "_view_name": "ProgressView",
            "style": "IPY_MODEL_77b43b6fa81d46a3a9979002b648c037",
            "_dom_classes": [],
            "description": "Downloading: 100%",
            "_model_name": "IntProgressModel",
            "bar_style": "success",
            "max": 791656,
            "_view_module": "@jupyter-widgets/controls",
            "_model_module_version": "1.5.0",
            "value": 791656,
            "_view_count": null,
            "_view_module_version": "1.5.0",
            "orientation": "horizontal",
            "min": 0,
            "description_tooltip": null,
            "_model_module": "@jupyter-widgets/controls",
            "layout": "IPY_MODEL_598ce0f0d9b542a4adf9615f386ba106"
          }
        },
        "14c3c104c465433eb8f0f6d3f2712078": {
          "model_module": "@jupyter-widgets/controls",
          "model_name": "HTMLModel",
          "state": {
            "_view_name": "HTMLView",
            "style": "IPY_MODEL_a3d810c79f654332bed76ea439513ab6",
            "_dom_classes": [],
            "description": "",
            "_model_name": "HTMLModel",
            "placeholder": "​",
            "_view_module": "@jupyter-widgets/controls",
            "_model_module_version": "1.5.0",
            "value": " 792k/792k [00:23&lt;00:00, 33.1kB/s]",
            "_view_count": null,
            "_view_module_version": "1.5.0",
            "description_tooltip": null,
            "_model_module": "@jupyter-widgets/controls",
            "layout": "IPY_MODEL_2cd58240698047dc9862712e2b76881e"
          }
        },
        "77b43b6fa81d46a3a9979002b648c037": {
          "model_module": "@jupyter-widgets/controls",
          "model_name": "ProgressStyleModel",
          "state": {
            "_view_name": "StyleView",
            "_model_name": "ProgressStyleModel",
            "description_width": "initial",
            "_view_module": "@jupyter-widgets/base",
            "_model_module_version": "1.5.0",
            "_view_count": null,
            "_view_module_version": "1.2.0",
            "bar_color": null,
            "_model_module": "@jupyter-widgets/controls"
          }
        },
        "598ce0f0d9b542a4adf9615f386ba106": {
          "model_module": "@jupyter-widgets/base",
          "model_name": "LayoutModel",
          "state": {
            "_view_name": "LayoutView",
            "grid_template_rows": null,
            "right": null,
            "justify_content": null,
            "_view_module": "@jupyter-widgets/base",
            "overflow": null,
            "_model_module_version": "1.2.0",
            "_view_count": null,
            "flex_flow": null,
            "width": null,
            "min_width": null,
            "border": null,
            "align_items": null,
            "bottom": null,
            "_model_module": "@jupyter-widgets/base",
            "top": null,
            "grid_column": null,
            "overflow_y": null,
            "overflow_x": null,
            "grid_auto_flow": null,
            "grid_area": null,
            "grid_template_columns": null,
            "flex": null,
            "_model_name": "LayoutModel",
            "justify_items": null,
            "grid_row": null,
            "max_height": null,
            "align_content": null,
            "visibility": null,
            "align_self": null,
            "height": null,
            "min_height": null,
            "padding": null,
            "grid_auto_rows": null,
            "grid_gap": null,
            "max_width": null,
            "order": null,
            "_view_module_version": "1.2.0",
            "grid_template_areas": null,
            "object_position": null,
            "object_fit": null,
            "grid_auto_columns": null,
            "margin": null,
            "display": null,
            "left": null
          }
        },
        "a3d810c79f654332bed76ea439513ab6": {
          "model_module": "@jupyter-widgets/controls",
          "model_name": "DescriptionStyleModel",
          "state": {
            "_view_name": "StyleView",
            "_model_name": "DescriptionStyleModel",
            "description_width": "",
            "_view_module": "@jupyter-widgets/base",
            "_model_module_version": "1.5.0",
            "_view_count": null,
            "_view_module_version": "1.2.0",
            "_model_module": "@jupyter-widgets/controls"
          }
        },
        "2cd58240698047dc9862712e2b76881e": {
          "model_module": "@jupyter-widgets/base",
          "model_name": "LayoutModel",
          "state": {
            "_view_name": "LayoutView",
            "grid_template_rows": null,
            "right": null,
            "justify_content": null,
            "_view_module": "@jupyter-widgets/base",
            "overflow": null,
            "_model_module_version": "1.2.0",
            "_view_count": null,
            "flex_flow": null,
            "width": null,
            "min_width": null,
            "border": null,
            "align_items": null,
            "bottom": null,
            "_model_module": "@jupyter-widgets/base",
            "top": null,
            "grid_column": null,
            "overflow_y": null,
            "overflow_x": null,
            "grid_auto_flow": null,
            "grid_area": null,
            "grid_template_columns": null,
            "flex": null,
            "_model_name": "LayoutModel",
            "justify_items": null,
            "grid_row": null,
            "max_height": null,
            "align_content": null,
            "visibility": null,
            "align_self": null,
            "height": null,
            "min_height": null,
            "padding": null,
            "grid_auto_rows": null,
            "grid_gap": null,
            "max_width": null,
            "order": null,
            "_view_module_version": "1.2.0",
            "grid_template_areas": null,
            "object_position": null,
            "object_fit": null,
            "grid_auto_columns": null,
            "margin": null,
            "display": null,
            "left": null
          }
        },
        "fa46f9d3635340d89bbd9e1c3277a6d5": {
          "model_module": "@jupyter-widgets/controls",
          "model_name": "HBoxModel",
          "state": {
            "_view_name": "HBoxView",
            "_dom_classes": [],
            "_model_name": "HBoxModel",
            "_view_module": "@jupyter-widgets/controls",
            "_model_module_version": "1.5.0",
            "_view_count": null,
            "_view_module_version": "1.5.0",
            "box_style": "",
            "layout": "IPY_MODEL_a135db2b650d4d8193b25818e650a1e3",
            "_model_module": "@jupyter-widgets/controls",
            "children": [
              "IPY_MODEL_c5db43139b574a1db411665c50f85c0c",
              "IPY_MODEL_e3dd89491547431c84d795803cec9777"
            ]
          }
        },
        "a135db2b650d4d8193b25818e650a1e3": {
          "model_module": "@jupyter-widgets/base",
          "model_name": "LayoutModel",
          "state": {
            "_view_name": "LayoutView",
            "grid_template_rows": null,
            "right": null,
            "justify_content": null,
            "_view_module": "@jupyter-widgets/base",
            "overflow": null,
            "_model_module_version": "1.2.0",
            "_view_count": null,
            "flex_flow": null,
            "width": null,
            "min_width": null,
            "border": null,
            "align_items": null,
            "bottom": null,
            "_model_module": "@jupyter-widgets/base",
            "top": null,
            "grid_column": null,
            "overflow_y": null,
            "overflow_x": null,
            "grid_auto_flow": null,
            "grid_area": null,
            "grid_template_columns": null,
            "flex": null,
            "_model_name": "LayoutModel",
            "justify_items": null,
            "grid_row": null,
            "max_height": null,
            "align_content": null,
            "visibility": null,
            "align_self": null,
            "height": null,
            "min_height": null,
            "padding": null,
            "grid_auto_rows": null,
            "grid_gap": null,
            "max_width": null,
            "order": null,
            "_view_module_version": "1.2.0",
            "grid_template_areas": null,
            "object_position": null,
            "object_fit": null,
            "grid_auto_columns": null,
            "margin": null,
            "display": null,
            "left": null
          }
        },
        "c5db43139b574a1db411665c50f85c0c": {
          "model_module": "@jupyter-widgets/controls",
          "model_name": "IntProgressModel",
          "state": {
            "_view_name": "ProgressView",
            "style": "IPY_MODEL_d9f8342cc0f749b498777cb55682dddf",
            "_dom_classes": [],
            "description": "Downloading: 100%",
            "_model_name": "IntProgressModel",
            "bar_style": "success",
            "max": 1389353,
            "_view_module": "@jupyter-widgets/controls",
            "_model_module_version": "1.5.0",
            "value": 1389353,
            "_view_count": null,
            "_view_module_version": "1.5.0",
            "orientation": "horizontal",
            "min": 0,
            "description_tooltip": null,
            "_model_module": "@jupyter-widgets/controls",
            "layout": "IPY_MODEL_03b08aec512748bc8ce8829e2d474e77"
          }
        },
        "e3dd89491547431c84d795803cec9777": {
          "model_module": "@jupyter-widgets/controls",
          "model_name": "HTMLModel",
          "state": {
            "_view_name": "HTMLView",
            "style": "IPY_MODEL_f56855db4e4e4f67a189b561255859aa",
            "_dom_classes": [],
            "description": "",
            "_model_name": "HTMLModel",
            "placeholder": "​",
            "_view_module": "@jupyter-widgets/controls",
            "_model_module_version": "1.5.0",
            "value": " 1.39M/1.39M [00:01&lt;00:00, 890kB/s]",
            "_view_count": null,
            "_view_module_version": "1.5.0",
            "description_tooltip": null,
            "_model_module": "@jupyter-widgets/controls",
            "layout": "IPY_MODEL_8fb3346e78d5430297047aeb121000f7"
          }
        },
        "d9f8342cc0f749b498777cb55682dddf": {
          "model_module": "@jupyter-widgets/controls",
          "model_name": "ProgressStyleModel",
          "state": {
            "_view_name": "StyleView",
            "_model_name": "ProgressStyleModel",
            "description_width": "initial",
            "_view_module": "@jupyter-widgets/base",
            "_model_module_version": "1.5.0",
            "_view_count": null,
            "_view_module_version": "1.2.0",
            "bar_color": null,
            "_model_module": "@jupyter-widgets/controls"
          }
        },
        "03b08aec512748bc8ce8829e2d474e77": {
          "model_module": "@jupyter-widgets/base",
          "model_name": "LayoutModel",
          "state": {
            "_view_name": "LayoutView",
            "grid_template_rows": null,
            "right": null,
            "justify_content": null,
            "_view_module": "@jupyter-widgets/base",
            "overflow": null,
            "_model_module_version": "1.2.0",
            "_view_count": null,
            "flex_flow": null,
            "width": null,
            "min_width": null,
            "border": null,
            "align_items": null,
            "bottom": null,
            "_model_module": "@jupyter-widgets/base",
            "top": null,
            "grid_column": null,
            "overflow_y": null,
            "overflow_x": null,
            "grid_auto_flow": null,
            "grid_area": null,
            "grid_template_columns": null,
            "flex": null,
            "_model_name": "LayoutModel",
            "justify_items": null,
            "grid_row": null,
            "max_height": null,
            "align_content": null,
            "visibility": null,
            "align_self": null,
            "height": null,
            "min_height": null,
            "padding": null,
            "grid_auto_rows": null,
            "grid_gap": null,
            "max_width": null,
            "order": null,
            "_view_module_version": "1.2.0",
            "grid_template_areas": null,
            "object_position": null,
            "object_fit": null,
            "grid_auto_columns": null,
            "margin": null,
            "display": null,
            "left": null
          }
        },
        "f56855db4e4e4f67a189b561255859aa": {
          "model_module": "@jupyter-widgets/controls",
          "model_name": "DescriptionStyleModel",
          "state": {
            "_view_name": "StyleView",
            "_model_name": "DescriptionStyleModel",
            "description_width": "",
            "_view_module": "@jupyter-widgets/base",
            "_model_module_version": "1.5.0",
            "_view_count": null,
            "_view_module_version": "1.2.0",
            "_model_module": "@jupyter-widgets/controls"
          }
        },
        "8fb3346e78d5430297047aeb121000f7": {
          "model_module": "@jupyter-widgets/base",
          "model_name": "LayoutModel",
          "state": {
            "_view_name": "LayoutView",
            "grid_template_rows": null,
            "right": null,
            "justify_content": null,
            "_view_module": "@jupyter-widgets/base",
            "overflow": null,
            "_model_module_version": "1.2.0",
            "_view_count": null,
            "flex_flow": null,
            "width": null,
            "min_width": null,
            "border": null,
            "align_items": null,
            "bottom": null,
            "_model_module": "@jupyter-widgets/base",
            "top": null,
            "grid_column": null,
            "overflow_y": null,
            "overflow_x": null,
            "grid_auto_flow": null,
            "grid_area": null,
            "grid_template_columns": null,
            "flex": null,
            "_model_name": "LayoutModel",
            "justify_items": null,
            "grid_row": null,
            "max_height": null,
            "align_content": null,
            "visibility": null,
            "align_self": null,
            "height": null,
            "min_height": null,
            "padding": null,
            "grid_auto_rows": null,
            "grid_gap": null,
            "max_width": null,
            "order": null,
            "_view_module_version": "1.2.0",
            "grid_template_areas": null,
            "object_position": null,
            "object_fit": null,
            "grid_auto_columns": null,
            "margin": null,
            "display": null,
            "left": null
          }
        },
        "608b60644fe1409e81a981b45cc058fa": {
          "model_module": "@jupyter-widgets/controls",
          "model_name": "HBoxModel",
          "state": {
            "_view_name": "HBoxView",
            "_dom_classes": [],
            "_model_name": "HBoxModel",
            "_view_module": "@jupyter-widgets/controls",
            "_model_module_version": "1.5.0",
            "_view_count": null,
            "_view_module_version": "1.5.0",
            "box_style": "",
            "layout": "IPY_MODEL_3388d5fdbd174d87b3d6175a00910869",
            "_model_module": "@jupyter-widgets/controls",
            "children": [
              "IPY_MODEL_356b842c92724ebbbc397b65b65eaf24",
              "IPY_MODEL_27c291ced1ef4ddb9661041291040d13"
            ]
          }
        },
        "3388d5fdbd174d87b3d6175a00910869": {
          "model_module": "@jupyter-widgets/base",
          "model_name": "LayoutModel",
          "state": {
            "_view_name": "LayoutView",
            "grid_template_rows": null,
            "right": null,
            "justify_content": null,
            "_view_module": "@jupyter-widgets/base",
            "overflow": null,
            "_model_module_version": "1.2.0",
            "_view_count": null,
            "flex_flow": null,
            "width": null,
            "min_width": null,
            "border": null,
            "align_items": null,
            "bottom": null,
            "_model_module": "@jupyter-widgets/base",
            "top": null,
            "grid_column": null,
            "overflow_y": null,
            "overflow_x": null,
            "grid_auto_flow": null,
            "grid_area": null,
            "grid_template_columns": null,
            "flex": null,
            "_model_name": "LayoutModel",
            "justify_items": null,
            "grid_row": null,
            "max_height": null,
            "align_content": null,
            "visibility": null,
            "align_self": null,
            "height": null,
            "min_height": null,
            "padding": null,
            "grid_auto_rows": null,
            "grid_gap": null,
            "max_width": null,
            "order": null,
            "_view_module_version": "1.2.0",
            "grid_template_areas": null,
            "object_position": null,
            "object_fit": null,
            "grid_auto_columns": null,
            "margin": null,
            "display": null,
            "left": null
          }
        },
        "356b842c92724ebbbc397b65b65eaf24": {
          "model_module": "@jupyter-widgets/controls",
          "model_name": "IntProgressModel",
          "state": {
            "_view_name": "ProgressView",
            "style": "IPY_MODEL_632af209847d44f3ba88d82c629705ec",
            "_dom_classes": [],
            "description": "Downloading: 100%",
            "_model_name": "IntProgressModel",
            "bar_style": "success",
            "max": 892146080,
            "_view_module": "@jupyter-widgets/controls",
            "_model_module_version": "1.5.0",
            "value": 892146080,
            "_view_count": null,
            "_view_module_version": "1.5.0",
            "orientation": "horizontal",
            "min": 0,
            "description_tooltip": null,
            "_model_module": "@jupyter-widgets/controls",
            "layout": "IPY_MODEL_75272da505984297a81ad9e58637f493"
          }
        },
        "27c291ced1ef4ddb9661041291040d13": {
          "model_module": "@jupyter-widgets/controls",
          "model_name": "HTMLModel",
          "state": {
            "_view_name": "HTMLView",
            "style": "IPY_MODEL_2ceca0b069034b90b09e577bf2f57551",
            "_dom_classes": [],
            "description": "",
            "_model_name": "HTMLModel",
            "placeholder": "​",
            "_view_module": "@jupyter-widgets/controls",
            "_model_module_version": "1.5.0",
            "value": " 892M/892M [00:22&lt;00:00, 39.9MB/s]",
            "_view_count": null,
            "_view_module_version": "1.5.0",
            "description_tooltip": null,
            "_model_module": "@jupyter-widgets/controls",
            "layout": "IPY_MODEL_540509f991354efa81b3b29c720da69a"
          }
        },
        "632af209847d44f3ba88d82c629705ec": {
          "model_module": "@jupyter-widgets/controls",
          "model_name": "ProgressStyleModel",
          "state": {
            "_view_name": "StyleView",
            "_model_name": "ProgressStyleModel",
            "description_width": "initial",
            "_view_module": "@jupyter-widgets/base",
            "_model_module_version": "1.5.0",
            "_view_count": null,
            "_view_module_version": "1.2.0",
            "bar_color": null,
            "_model_module": "@jupyter-widgets/controls"
          }
        },
        "75272da505984297a81ad9e58637f493": {
          "model_module": "@jupyter-widgets/base",
          "model_name": "LayoutModel",
          "state": {
            "_view_name": "LayoutView",
            "grid_template_rows": null,
            "right": null,
            "justify_content": null,
            "_view_module": "@jupyter-widgets/base",
            "overflow": null,
            "_model_module_version": "1.2.0",
            "_view_count": null,
            "flex_flow": null,
            "width": null,
            "min_width": null,
            "border": null,
            "align_items": null,
            "bottom": null,
            "_model_module": "@jupyter-widgets/base",
            "top": null,
            "grid_column": null,
            "overflow_y": null,
            "overflow_x": null,
            "grid_auto_flow": null,
            "grid_area": null,
            "grid_template_columns": null,
            "flex": null,
            "_model_name": "LayoutModel",
            "justify_items": null,
            "grid_row": null,
            "max_height": null,
            "align_content": null,
            "visibility": null,
            "align_self": null,
            "height": null,
            "min_height": null,
            "padding": null,
            "grid_auto_rows": null,
            "grid_gap": null,
            "max_width": null,
            "order": null,
            "_view_module_version": "1.2.0",
            "grid_template_areas": null,
            "object_position": null,
            "object_fit": null,
            "grid_auto_columns": null,
            "margin": null,
            "display": null,
            "left": null
          }
        },
        "2ceca0b069034b90b09e577bf2f57551": {
          "model_module": "@jupyter-widgets/controls",
          "model_name": "DescriptionStyleModel",
          "state": {
            "_view_name": "StyleView",
            "_model_name": "DescriptionStyleModel",
            "description_width": "",
            "_view_module": "@jupyter-widgets/base",
            "_model_module_version": "1.5.0",
            "_view_count": null,
            "_view_module_version": "1.2.0",
            "_model_module": "@jupyter-widgets/controls"
          }
        },
        "540509f991354efa81b3b29c720da69a": {
          "model_module": "@jupyter-widgets/base",
          "model_name": "LayoutModel",
          "state": {
            "_view_name": "LayoutView",
            "grid_template_rows": null,
            "right": null,
            "justify_content": null,
            "_view_module": "@jupyter-widgets/base",
            "overflow": null,
            "_model_module_version": "1.2.0",
            "_view_count": null,
            "flex_flow": null,
            "width": null,
            "min_width": null,
            "border": null,
            "align_items": null,
            "bottom": null,
            "_model_module": "@jupyter-widgets/base",
            "top": null,
            "grid_column": null,
            "overflow_y": null,
            "overflow_x": null,
            "grid_auto_flow": null,
            "grid_area": null,
            "grid_template_columns": null,
            "flex": null,
            "_model_name": "LayoutModel",
            "justify_items": null,
            "grid_row": null,
            "max_height": null,
            "align_content": null,
            "visibility": null,
            "align_self": null,
            "height": null,
            "min_height": null,
            "padding": null,
            "grid_auto_rows": null,
            "grid_gap": null,
            "max_width": null,
            "order": null,
            "_view_module_version": "1.2.0",
            "grid_template_areas": null,
            "object_position": null,
            "object_fit": null,
            "grid_auto_columns": null,
            "margin": null,
            "display": null,
            "left": null
          }
        }
      }
    }
  },
  "cells": [
    {
      "cell_type": "markdown",
      "metadata": {
        "id": "view-in-github",
        "colab_type": "text"
      },
      "source": [
        "<a href=\"https://colab.research.google.com/github/urvashiramdasani/Document-Summarization/blob/main/notebooks/20_newsgroups_using_HMM.ipynb\" target=\"_parent\"><img src=\"https://colab.research.google.com/assets/colab-badge.svg\" alt=\"Open In Colab\"/></a>"
      ]
    },
    {
      "cell_type": "markdown",
      "metadata": {
        "id": "XT2LJ3MCXVf4"
      },
      "source": [
        "This notebook presents the code for 20 Newsgroups dataset document summarization.\n",
        "\n",
        "## Setting up GitHub"
      ]
    },
    {
      "cell_type": "code",
      "metadata": {
        "colab": {
          "base_uri": "https://localhost:8080/"
        },
        "id": "OqxJArvQWw95",
        "outputId": "331703d4-140e-4bb6-82a6-892544bebbab"
      },
      "source": [
        "!git clone https://github.com/urvashiramdasani/Document-Summarization.git"
      ],
      "execution_count": null,
      "outputs": [
        {
          "output_type": "stream",
          "text": [
            "Cloning into 'Document-Summarization'...\n",
            "remote: Enumerating objects: 18952, done.\u001b[K\n",
            "remote: Counting objects: 100% (18952/18952), done.\u001b[K\n",
            "remote: Compressing objects: 100% (18917/18917), done.\u001b[K\n",
            "remote: Total 18952 (delta 60), reused 18893 (delta 33), pack-reused 0\u001b[K\n",
            "Receiving objects: 100% (18952/18952), 19.53 MiB | 11.83 MiB/s, done.\n",
            "Resolving deltas: 100% (60/60), done.\n"
          ],
          "name": "stdout"
        }
      ]
    },
    {
      "cell_type": "markdown",
      "metadata": {
        "id": "LMNu-_KMDOxQ"
      },
      "source": [
        "## Data Preprocessing"
      ]
    },
    {
      "cell_type": "code",
      "metadata": {
        "id": "DgevSmTPXqff"
      },
      "source": [
        "def read_article(file_name):\n",
        "    file = open(file_name, \"r\")\n",
        "    filedata = file.readlines()\n",
        "    # filedata = filedata[26:50]\n",
        "    sentences = []\n",
        "\n",
        "    for sentence in filedata:\n",
        "        sentences.append(sentence.replace(\"[^a-zA-Z]\", \" \").strip(\" \\n\"))\n",
        "    \n",
        "    return sentences"
      ],
      "execution_count": null,
      "outputs": []
    },
    {
      "cell_type": "code",
      "metadata": {
        "colab": {
          "base_uri": "https://localhost:8080/"
        },
        "id": "cUICRc1YDxCU",
        "outputId": "d2e74250-a1c3-490b-e5ad-4548718ec5c2"
      },
      "source": [
        "# Reading a sample article\n",
        "\n",
        "sentences = read_article(\"/content/001.txt\")\n",
        "sentences = list(filter(None, sentences))\n",
        "print(sentences)"
      ],
      "execution_count": null,
      "outputs": [
        {
          "output_type": "stream",
          "text": [
            "['Ad sales boost Time Warner profit', 'Quarterly profits at US media giant TimeWarner jumped 76% to $1.13bn (£600m) for the three months to December, from $639m year-earlier.', 'The firm, which is now one of the biggest investors in Google, benefited from sales of high-speed internet connections and higher advert sales. TimeWarner said fourth quarter sales rose 2% to $11.1bn from $10.9bn. Its profits were buoyed by one-off gains which offset a profit dip at Warner Bros, and less users for AOL.', \"Time Warner said on Friday that it now owns 8% of search-engine Google. But its own internet business, AOL, had has mixed fortunes. It lost 464,000 subscribers in the fourth quarter profits were lower than in the preceding three quarters. However, the company said AOL's underlying profit before exceptional items rose 8% on the back of stronger internet advertising revenues. It hopes to increase subscribers by offering the online service free to TimeWarner internet customers and will try to sign up AOL's existing customers for high-speed broadband. TimeWarner also has to restate 2000 and 2003 results following a probe by the US Securities Exchange Commission (SEC), which is close to concluding.\", 'Time Warner\\'s fourth quarter profits were slightly better than analysts\\' expectations. But its film division saw profits slump 27% to $284m, helped by box-office flops Alexander and Catwoman, a sharp contrast to year-earlier, when the third and final film in the Lord of the Rings trilogy boosted results. For the full-year, TimeWarner posted a profit of $3.36bn, up 27% from its 2003 performance, while revenues grew 6.4% to $42.09bn. \"Our financial performance was strong, meeting or exceeding all of our full-year objectives and greatly enhancing our flexibility,\" chairman and chief executive Richard Parsons said. For 2005, TimeWarner is projecting operating earnings growth of around 5%, and also expects higher revenue and wider profit margins.', \"TimeWarner is to restate its accounts as part of efforts to resolve an inquiry into AOL by US market regulators. It has already offered to pay $300m to settle charges, in a deal that is under review by the SEC. The company said it was unable to estimate the amount it needed to set aside for legal reserves, which it previously set at $500m. It intends to adjust the way it accounts for a deal with German music publisher Bertelsmann's purchase of a stake in AOL Europe, which it had reported as advertising revenue. It will now book the sale of its stake in AOL Europe as a loss on the value of that stake.\"]\n"
          ],
          "name": "stdout"
        }
      ]
    },
    {
      "cell_type": "code",
      "metadata": {
        "colab": {
          "base_uri": "https://localhost:8080/"
        },
        "id": "23Wxk72A1TLP",
        "outputId": "030daea3-8d94-4a3a-9d8c-e60a64cf482d"
      },
      "source": [
        "len(sentences)"
      ],
      "execution_count": null,
      "outputs": [
        {
          "output_type": "execute_result",
          "data": {
            "text/plain": [
              "6"
            ]
          },
          "metadata": {
            "tags": []
          },
          "execution_count": 58
        }
      ]
    },
    {
      "cell_type": "markdown",
      "metadata": {
        "id": "Kyp1CNtBaQtf"
      },
      "source": [
        "## POS Tagging"
      ]
    },
    {
      "cell_type": "code",
      "metadata": {
        "colab": {
          "base_uri": "https://localhost:8080/"
        },
        "id": "zaeVNSkGItZw",
        "outputId": "b76af777-1557-4083-dd90-86446bba7932"
      },
      "source": [
        "import nltk\n",
        "nltk.download('stopwords')\n",
        "nltk.download('punkt')\n",
        "nltk.download('averaged_perceptron_tagger')\n",
        "from nltk.corpus import stopwords\n",
        "from nltk.tokenize import word_tokenize, sent_tokenize\n",
        "stop_words = set(stopwords.words('english'))"
      ],
      "execution_count": null,
      "outputs": [
        {
          "output_type": "stream",
          "text": [
            "[nltk_data] Downloading package stopwords to /root/nltk_data...\n",
            "[nltk_data]   Package stopwords is already up-to-date!\n",
            "[nltk_data] Downloading package punkt to /root/nltk_data...\n",
            "[nltk_data]   Package punkt is already up-to-date!\n",
            "[nltk_data] Downloading package averaged_perceptron_tagger to\n",
            "[nltk_data]     /root/nltk_data...\n",
            "[nltk_data]   Unzipping taggers/averaged_perceptron_tagger.zip.\n"
          ],
          "name": "stdout"
        }
      ]
    },
    {
      "cell_type": "code",
      "metadata": {
        "colab": {
          "base_uri": "https://localhost:8080/"
        },
        "id": "HaWlOMJdkR_q",
        "outputId": "043b834e-2577-41fe-ddcb-8af3ce7be854"
      },
      "source": [
        "txt = \"\"\n",
        "for sentence in sentences:\n",
        "  txt += \"\".join(sentence)\n",
        "  txt += \" \"\n",
        "print(txt)"
      ],
      "execution_count": null,
      "outputs": [
        {
          "output_type": "stream",
          "text": [
            "MARINER 1, the first U.S. attempt to send a spacecraft to Venus, failed minutes after launch in 1962. The guidance instructions from the ground stopped reaching the rocket due to a problem with its antenna, so the onboard computer took control. However, there turned out to be a bug in the guidance software, and the rocket promptly went off course, so the Range Safety Officer destroyed it. Although the bug is sometimes claimed to have been an incorrect FORTRAN DO statement, it was actually a transcription error in which the bar (indicating smoothing) was omitted from the expression \"R-dot-bar sub n\" (nth smoothed value of derivative of radius). This error led the software to treat normal minor variations of velocity as if they were serious, leading to incorrect compensation. MARINER 2 became the first successful probe to flyby Venus in December of 1962, and it returned information which confirmed that Venus is a very hot (800 degrees Fahrenheit, now revised to 900 degrees F.) world with a cloud-covered atmosphere composed primarily of carbon dioxide (sulfuric acid was later confirmed in 1978). MARINER 3, launched on November 5, 1964, was lost when its protective shroud failed to eject as the craft was placed into interplanetary space. Unable to collect the Sun's energy for power from its solar panels, the probe soon died when its batteries ran out and is now in solar orbit. It was intended for a Mars flyby with MARINER 4. \n"
          ],
          "name": "stdout"
        }
      ]
    },
    {
      "cell_type": "code",
      "metadata": {
        "id": "LLNxrKx8j5s_"
      },
      "source": [
        "tokenized = sent_tokenize(txt)\n",
        "tagged = []\n",
        "for i in tokenized:\n",
        "    wordsList = nltk.word_tokenize(i)\n",
        "    wordsList = [w for w in wordsList if not w in stop_words] \n",
        "    tagged.append(nltk.pos_tag(wordsList))"
      ],
      "execution_count": null,
      "outputs": []
    },
    {
      "cell_type": "code",
      "metadata": {
        "colab": {
          "base_uri": "https://localhost:8080/"
        },
        "id": "Inrm7ki93FkO",
        "outputId": "9625edd9-0a1d-4513-dfe5-f48e6126179c"
      },
      "source": [
        "print(tagged)"
      ],
      "execution_count": null,
      "outputs": [
        {
          "output_type": "stream",
          "text": [
            "[[('This', 'DT'), ('section', 'NN'), ('lightly', 'RB'), ('adapted', 'VBD'), ('original', 'JJ'), ('posting', 'NN'), ('Larry', 'NNP'), ('Klaes', 'NNP'), ('(', '('), ('klaes', 'VB'), ('@', 'NNP'), ('verga.enet.dec.com', 'NN'), (')', ')'), (',', ','), ('mostly', 'RB'), ('minor', 'JJ'), ('formatting', 'NN'), ('changes', 'NNS'), ('.', '.')], [('Matthew', 'NNP'), ('Wiener', 'NNP'), ('(', '('), ('weemba', 'JJ'), ('@', 'NNP'), ('libra.wistar.upenn.edu', 'NN'), (')', ')'), ('contributed', 'VBD'), ('section', 'NN'), ('Voyager', 'NNP'), (',', ','), ('section', 'NN'), ('Sakigake', 'NNP'), ('obtained', 'VBD'), ('ISAS', 'NNP'), ('material', 'NN'), ('posted', 'VBD'), ('Yoshiro', 'NNP'), ('Yamada', 'NNP'), ('(', '('), ('yamada', 'PRP'), ('@', 'NNP'), ('yscvax.ysc.go.jp', 'NN'), (')', ')'), ('.', '.')], [('US', 'NNP'), ('PLANETARY', 'NNP'), ('MISSIONS', 'NNP'), ('MARINER', 'NNP'), ('(', '('), ('VENUS', 'NNP'), (',', ','), ('MARS', 'NNP'), (',', ','), ('&', 'CC'), ('MERCURY', 'NNP'), ('FLYBYS', 'NNP'), ('AND', 'NNP'), ('ORBITERS', 'NNP'), (')', ')'), ('MARINER', 'NNP'), ('1', 'CD'), (',', ','), ('first', 'JJ'), ('U.S.', 'NNP'), ('attempt', 'NN'), ('send', 'NN'), ('spacecraft', 'NN'), ('Venus', 'NNP'), (',', ','), ('failed', 'VBD'), ('minutes', 'NNS'), ('launch', 'JJ'), ('1962', 'CD'), ('.', '.')], [('The', 'DT'), ('guidance', 'NN'), ('instructions', 'NNS'), ('ground', 'NN'), ('stopped', 'VBD'), ('reaching', 'VBG'), ('rocket', 'NN'), ('due', 'JJ'), ('problem', 'NN'), ('antenna', 'NN'), (',', ','), ('onboard', 'RB'), ('computer', 'NN'), ('took', 'VBD'), ('control', 'NN'), ('.', '.')], [('However', 'RB'), (',', ','), ('turned', 'VBD'), ('bug', 'JJ'), ('guidance', 'NN'), ('software', 'NN'), (',', ','), ('rocket', 'NN'), ('promptly', 'RB'), ('went', 'VBD'), ('course', 'NN'), (',', ','), ('Range', 'NNP'), ('Safety', 'NNP'), ('Officer', 'NNP'), ('destroyed', 'VBD'), ('.', '.')], [('Although', 'IN'), ('bug', 'NN'), ('sometimes', 'RB'), ('claimed', 'VBD'), ('incorrect', 'JJ'), ('FORTRAN', 'NNP'), ('DO', 'NNP'), ('statement', 'NN'), (',', ','), ('actually', 'RB'), ('transcription', 'NN'), ('error', 'NN'), ('bar', 'NN'), ('(', '('), ('indicating', 'VBG'), ('smoothing', 'VBG'), (')', ')'), ('omitted', 'VBN'), ('expression', 'NN'), ('``', '``'), ('R-dot-bar', 'JJ'), ('sub', 'NN'), ('n', 'NN'), (\"''\", \"''\"), ('(', '('), ('nth', 'FW'), ('smoothed', 'VBN'), ('value', 'NN'), ('derivative', 'JJ'), ('radius', 'NN'), (')', ')'), ('.', '.')], [('This', 'DT'), ('error', 'NN'), ('led', 'VBD'), ('software', 'NN'), ('treat', 'NN'), ('normal', 'JJ'), ('minor', 'JJ'), ('variations', 'NNS'), ('velocity', 'NN'), ('serious', 'JJ'), (',', ','), ('leading', 'JJ'), ('incorrect', 'JJ'), ('compensation', 'NN'), ('.', '.')], [('MARINER', 'NNP'), ('2', 'CD'), ('became', 'VBD'), ('first', 'RB'), ('successful', 'JJ'), ('probe', 'NN'), ('flyby', 'NN'), ('Venus', 'NNP'), ('December', 'NNP'), ('1962', 'CD'), (',', ','), ('returned', 'VBN'), ('information', 'NN'), ('confirmed', 'VBN'), ('Venus', 'NNP'), ('hot', 'JJ'), ('(', '('), ('800', 'CD'), ('degrees', 'NNS'), ('Fahrenheit', 'NNP'), (',', ','), ('revised', 'VBD'), ('900', 'CD'), ('degrees', 'NNS'), ('F.', 'NNP'), (')', ')'), ('world', 'NN'), ('cloud-covered', 'JJ'), ('atmosphere', 'NN'), ('composed', 'VBN'), ('primarily', 'RB'), ('carbon', 'NN'), ('dioxide', 'NN'), ('(', '('), ('sulfuric', 'JJ'), ('acid', 'NN'), ('later', 'RB'), ('confirmed', 'VBD'), ('1978', 'CD'), (')', ')'), ('.', '.')], [('MARINER', 'NNP'), ('3', 'CD'), (',', ','), ('launched', 'VBD'), ('November', 'NNP'), ('5', 'CD'), (',', ','), ('1964', 'CD'), (',', ','), ('lost', 'VBD'), ('protective', 'JJ'), ('shroud', 'NN'), ('failed', 'VBD'), ('eject', 'JJ'), ('craft', 'NN'), ('placed', 'VBD'), ('interplanetary', 'JJ'), ('space', 'NN'), ('.', '.')], [('Unable', 'JJ'), ('collect', 'VBP'), ('Sun', 'NNP'), (\"'s\", 'POS'), ('energy', 'NN'), ('power', 'NN'), ('solar', 'JJ'), ('panels', 'NNS'), (',', ','), ('probe', 'NN'), ('soon', 'RB'), ('died', 'VBD'), ('batteries', 'NNS'), ('ran', 'VBD'), ('solar', 'JJ'), ('orbit', 'NN'), ('.', '.')], [('It', 'PRP'), ('intended', 'VBD'), ('Mars', 'NNP'), ('flyby', 'VBD'), ('MARINER', 'NNP'), ('4', 'CD'), ('.', '.')], [('MARINER', 'NNP'), ('4', 'CD'), (',', ','), ('sister', 'JJR'), ('probe', 'NN'), ('MARINER', 'NNP'), ('3', 'CD'), (',', ','), ('reach', 'NN'), ('Mars', 'NNP'), ('1965', 'CD'), ('took', 'VBD'), ('first', 'RB'), ('close-up', 'JJ'), ('images', 'NNS'), ('Martian', 'JJ'), ('surface', 'NN'), ('(', '('), ('22', 'CD'), (')', ')'), ('flew', 'VBD'), ('planet', 'NN'), ('.', '.')], [('The', 'DT'), ('probe', 'NN'), ('found', 'VBD'), ('cratered', 'JJ'), ('world', 'NN'), ('atmosphere', 'RB'), ('much', 'JJ'), ('thinner', 'NN'), ('previously', 'RB'), ('thought', 'VBN'), ('.', '.')], [('Many', 'JJ'), ('scientists', 'NNS'), ('concluded', 'VBD'), ('preliminary', 'JJ'), ('scan', 'JJ'), ('Mars', 'NNP'), ('``', '``'), ('dead', 'JJ'), (\"''\", \"''\"), ('world', 'NN'), ('geological', 'JJ'), ('biological', 'JJ'), ('sense', 'NN'), ('.', '.')], [('MARINER', 'NNP'), ('5', 'CD'), ('sent', 'VBD'), ('Venus', 'NNP'), ('1967', 'CD'), ('.', '.')], [('It', 'PRP'), ('reconfirmed', 'VBD'), ('data', 'NNS'), ('planet', 'NN'), ('collected', 'VBN'), ('five', 'CD'), ('years', 'NNS'), ('earlier', 'RBR'), ('MARINER', 'NNP'), ('2', 'CD'), (',', ','), ('plus', 'CC'), ('information', 'NN'), ('Venus', 'NNP'), (\"'\", 'POS'), ('atmospheric', 'JJ'), ('pressure', 'NN'), ('surface', 'NN'), ('least', 'VBD'), ('90', 'CD'), ('times', 'NNS'), ('Earth', 'NNP'), (\"'s\", 'POS'), (',', ','), ('equivalent', 'JJ'), ('3,300', 'CD'), ('feet', 'NNS'), ('surface', 'JJ'), ('ocean', 'NN'), ('.', '.')], [('MARINER', 'NNP'), ('6', 'CD'), ('7', 'CD'), ('sent', 'NN'), ('Mars', 'NNP'), ('1969', 'CD'), ('expanded', 'VBD'), ('upon', 'NN'), ('work', 'NN'), ('done', 'VBN'), ('MARINER', 'NNP'), ('4', 'CD'), ('four', 'CD'), ('years', 'NNS'), ('earlier', 'RBR'), ('.', '.')], [('However', 'RB'), (',', ','), ('failed', 'VBD'), ('take', 'VB'), ('away', 'RP'), ('concept', 'JJ'), ('Mars', 'NNP'), ('``', '``'), ('dead', 'JJ'), (\"''\", \"''\"), ('planet', 'NN'), (',', ','), ('first', 'RB'), ('made', 'VBD'), ('basic', 'JJ'), ('measurements', 'NNS'), ('MARINER', '$'), ('4', 'CD'), ('.', '.')], [('MARINER', 'JJ'), ('8', 'CD'), ('ended', 'VBD'), ('Atlantic', 'NNP'), ('Ocean', 'NNP'), ('1971', 'CD'), ('rocket', 'NN'), ('launcher', 'CC'), ('autopilot', 'NN'), ('failed', 'VBD'), ('.', '.')], [('MARINER', 'NNP'), ('9', 'CD'), (',', ','), ('sister', 'JJR'), ('probe', 'NN'), ('MARINER', 'NNP'), ('8', 'CD'), (',', ','), ('became', 'VBD'), ('first', 'JJ'), ('craft', 'NN'), ('orbit', 'NN'), ('Mars', 'NNP'), ('1971', 'CD'), ('.', '.')], [('It', 'PRP'), ('returned', 'VBD'), ('information', 'NN'), ('Red', 'NNP'), ('Planet', 'NNP'), ('probe', 'NN'), ('done', 'VBN'), (',', ','), ('revealing', 'VBG'), ('huge', 'JJ'), ('volcanoes', 'NNS'), ('Martian', 'JJ'), ('surface', 'NN'), (',', ','), ('well', 'RB'), ('giant', 'JJ'), ('canyon', 'NN'), ('systems', 'NNS'), (',', ','), ('evidence', 'NN'), ('water', 'NN'), ('flowed', 'VBN'), ('across', 'IN'), ('planet', 'NN'), ('.', '.')], [('The', 'DT'), ('probe', 'NN'), ('also', 'RB'), ('took', 'VBD'), ('first', 'RB'), ('detailed', 'JJ'), ('closeup', 'NN'), ('images', 'NNS'), ('Mars', 'NNP'), (\"'\", 'POS'), ('two', 'CD'), ('small', 'JJ'), ('moons', 'NNS'), (',', ','), ('Phobos', 'NNP'), ('Deimos', 'NNP'), ('.', '.')], [('MARINER', 'NNP'), ('10', 'CD'), ('used', 'VBD'), ('Venus', 'NNP'), ('gravity', 'NN'), ('assist', 'NN'), ('Mercury', 'NNP'), ('1974', 'CD'), ('.', '.')], [('The', 'DT'), ('probe', 'NN'), ('return', 'NN'), ('first', 'RB'), ('close-up', 'JJ'), ('images', 'NNS'), ('Venusian', 'VBP'), ('atmosphere', 'JJ'), ('ultraviolet', 'NN'), (',', ','), ('revealing', 'VBG'), ('previously', 'RB'), ('unseen', 'JJ'), ('details', 'NNS'), ('cloud', 'VBP'), ('cover', 'NN'), (',', ','), ('plus', 'CC'), ('fact', 'NN'), ('entire', 'JJ'), ('cloud', 'NN'), ('system', 'NN'), ('circles', 'VBZ'), ('planet', 'RB'), ('four', 'CD'), ('Earth', 'NNP'), ('days', 'NNS'), ('.', '.')], [('MARINER', 'NNP'), ('10', 'CD'), ('eventually', 'RB'), ('made', 'VBD'), ('three', 'CD'), ('flybys', 'JJ'), ('Mercury', 'NNP'), ('1974', 'CD'), ('1975', 'CD'), ('running', 'VBG'), ('attitude', 'NN'), ('control', 'NN'), ('gas', 'NN'), ('.', '.')], [('The', 'DT'), ('probe', 'NN'), ('revealed', 'VBD'), ('Mercury', 'NNP'), ('heavily', 'RB'), ('cratered', 'VBD'), ('world', 'NN'), ('mass', 'NN'), ('much', 'JJ'), ('greater', 'JJR'), ('thought', 'NN'), ('.', '.')], [('This', 'DT'), ('would', 'MD'), ('seem', 'VB'), ('indicate', 'JJ'), ('Mercury', 'NNP'), ('iron', 'NN'), ('core', 'NN'), ('makes', 'VBZ'), ('75', 'CD'), ('percent', 'NN'), ('entire', 'JJ'), ('planet', 'NN'), ('.', '.')], [('PIONEER', 'NNP'), ('(', '('), ('MOON', 'NNP'), (',', ','), ('SUN', 'NNP'), (',', ','), ('VENUS', 'NNP'), (',', ','), ('JUPITER', 'NNP'), (',', ','), ('SATURN', 'NNP'), ('FLYBYS', 'NNP'), ('AND', 'NNP'), ('ORBITERS', 'NNP'), (')', ')'), ('PIONEER', 'NNP'), ('1', 'CD'), ('3', 'CD'), ('failed', 'VBD'), ('meet', 'NN'), ('main', 'JJ'), ('objective', 'JJ'), ('-', ':'), ('photograph', 'NN'), ('Moon', 'NNP'), ('close-up', 'JJ'), ('-', ':'), ('reach', 'NN'), ('far', 'RB'), ('enough', 'RB'), ('space', 'NN'), ('provide', 'VB'), ('new', 'JJ'), ('information', 'NN'), ('area', 'NN'), ('Earth', 'NNP'), ('Moon', 'NNP'), (',', ','), ('including', 'VBG'), ('new', 'JJ'), ('data', 'NNS'), ('Van', 'NNP'), ('Allen', 'NNP'), ('radiation', 'NN'), ('belts', 'NNS'), ('circling', 'VBG'), ('Earth', 'NN'), ('.', '.')], [('All', 'DT'), ('three', 'CD'), ('craft', 'NN'), ('failures', 'NNS'), ('rocket', 'VBP'), ('launchers', 'NNS'), ('.', '.')], [('PIONEER', 'NNP'), ('1', 'CD'), ('launched', 'VBD'), ('October', 'NNP'), ('11', 'CD'), (',', ','), ('1958', 'CD'), (',', ','), ('PIONEER', 'NNP'), ('2', 'CD'), ('November', 'NNP'), ('8', 'CD'), (',', ','), ('PIONEER', 'NNP'), ('3', 'CD'), ('December', 'NNP'), ('6', 'CD'), ('.', '.')], [('PIONEER', 'NNP'), ('4', 'CD'), ('Moon', 'NNP'), ('probe', 'NN'), ('missed', 'VBD'), ('Moon', 'NNP'), ('became', 'VBD'), ('first', 'JJ'), ('U.S.', 'NNP'), ('spacecraft', 'NN'), ('orbit', 'NN'), ('Sun', 'NNP'), ('1959', 'CD'), ('.', '.')], [('PIONEER', 'NNP'), ('5', 'CD'), ('originally', 'RB'), ('designed', 'VBN'), ('flyby', 'JJ'), ('Venus', 'NNP'), (',', ','), ('mission', 'NN'), ('scaled', 'VBN'), ('instead', 'RB'), ('studied', 'VBN'), ('interplanetary', 'JJ'), ('environment', 'NN'), ('Venus', 'NNP'), ('Earth', 'NNP'), ('36.2', 'CD'), ('million', 'CD'), ('kilometers', 'NNS'), ('1960', 'CD'), (',', ','), ('record', 'NN'), ('MARINER', 'NNP'), ('2', 'CD'), ('.', '.')], [('PIONEER', 'NNP'), ('6', 'CD'), ('9', 'CD'), ('placed', 'VBD'), ('solar', 'JJ'), ('orbit', 'NN'), ('1965', 'CD'), ('1968', 'CD'), (':', ':'), ('PIONEER', 'NNP'), ('6', 'CD'), (',', ','), ('7', 'CD'), (',', ','), ('8', 'CD'), ('still', 'RB'), ('transmitting', 'VBG'), ('information', 'NN'), ('time', 'NN'), ('.', '.')], [('PIONEER', 'NNP'), ('E', 'NNP'), ('(', '('), ('would', 'MD'), ('number', 'NN'), ('10', 'CD'), (')', ')'), ('suffered', 'VBD'), ('launch', 'JJ'), ('failure', 'NN'), ('1969', 'CD'), ('.', '.')], [('PIONEER', 'NNP'), ('10', 'CD'), ('became', 'VBD'), ('first', 'JJ'), ('spacecraft', 'NN'), ('flyby', 'NN'), ('Jupiter', 'NNP'), ('1973', 'CD'), ('.', '.')], [('PIONEER', 'NNP'), ('11', 'CD'), ('followed', 'VBD'), ('1974', 'CD'), (',', ','), ('went', 'VBD'), ('become', 'VBN'), ('first', 'JJ'), ('probe', 'NN'), ('study', 'NN'), ('Saturn', 'NNP'), ('1979', 'CD'), ('.', '.')], [('Both', 'DT'), ('vehicles', 'NNS'), ('continue', 'VBP'), ('function', 'NN'), ('1995', 'CD'), ('heading', 'VBG'), ('interstellar', 'JJ'), ('space', 'NN'), (',', ','), ('first', 'RB'), ('craft', 'NN'), ('ever', 'RB'), ('.', '.')], [('PIONEER', 'NNP'), ('Venus', 'NNP'), ('1', 'CD'), ('(', '('), ('1978', 'CD'), (')', ')'), ('(', '('), ('also', 'RB'), ('known', 'VBN'), ('PIONEER', 'NNP'), ('Venus', 'NNP'), ('Orbiter', 'NNP'), (',', ','), ('PIONEER', 'NNP'), ('12', 'CD'), (')', ')'), ('burned', 'VBD'), ('Venusian', 'JJ'), ('atmosphere', 'JJ'), ('October', 'NNP'), ('8', 'CD'), (',', ','), ('1992', 'CD'), ('.', '.')], [('PVO', 'NNP'), ('made', 'VBD'), ('first', 'JJ'), ('radar', 'NN'), ('studies', 'NNS'), ('planet', 'VBP'), (\"'s\", 'POS'), ('surface', 'NN'), ('via', 'IN'), ('probe', 'NN'), ('.', '.')], [('PIONEER', 'NNP'), ('Venus', 'NNP'), ('2', 'CD'), ('(', '('), ('also', 'RB'), ('known', 'VBN'), ('PIONEER', 'NNP'), ('13', 'CD'), (')', ')'), ('sent', 'VBD'), ('four', 'CD'), ('small', 'JJ'), ('probes', 'NNS'), ('atmosphere', 'IN'), ('December', 'NNP'), ('1978', 'CD'), ('.', '.')], [('The', 'DT'), ('main', 'JJ'), ('spacecraft', 'NN'), ('bus', 'NN'), ('burned', 'VBD'), ('high', 'JJ'), ('atmosphere', 'RB'), (',', ','), ('four', 'CD'), ('probes', 'NNS'), ('descended', 'VBD'), ('parachute', 'NN'), ('towards', 'NNS'), ('surface', 'NN'), ('.', '.')], [('Though', 'IN'), ('none', 'NN'), ('expected', 'VBN'), ('survive', 'JJ'), ('surface', 'NN'), (',', ','), ('Day', 'NNP'), ('probe', 'VBD'), ('make', 'VB'), ('transmitted', 'JJ'), ('67.5', 'CD'), ('minutes', 'NNS'), ('ground', 'JJ'), ('batteries', 'NNS'), ('failed', 'VBD'), ('.', '.')], [('RANGER', 'NNP'), ('(', '('), ('LUNAR', 'NNP'), ('LANDER', 'NNP'), ('AND', 'NNP'), ('IMPACT', 'NNP'), ('MISSIONS', 'NNP'), (')', ')'), ('RANGER', 'VBD'), ('1', 'CD'), ('2', 'CD'), ('test', 'NN'), ('probes', 'NNS'), ('RANGER', 'NNP'), ('lunar', 'VBD'), ('impact', 'JJ'), ('series', 'NN'), ('.', '.')], [('They', 'PRP'), ('meant', 'VBP'), ('high', 'JJ'), ('Earth', 'NNP'), ('orbit', 'NN'), ('testing', 'VBG'), ('1961', 'CD'), (',', ','), ('rocket', 'NN'), ('problems', 'NNS'), ('left', 'VBD'), ('useless', 'JJ'), ('low', 'JJ'), ('orbits', 'NNS'), ('quickly', 'RB'), ('decayed', 'VBD'), ('.', '.')], [('RANGER', 'NNP'), ('3', 'CD'), (',', ','), ('launched', 'VBD'), ('January', 'NNP'), ('26', 'CD'), (',', ','), ('1962', 'CD'), (',', ','), ('intended', 'VBN'), ('land', 'NN'), ('instrument', 'NN'), ('capsule', 'NN'), ('surface', 'NN'), ('Moon', 'NNP'), (',', ','), ('problems', 'NNS'), ('launch', 'VBP'), ('caused', 'VBN'), ('probe', 'NN'), ('miss', 'NN'), ('Moon', 'NNP'), ('head', 'NN'), ('solar', 'JJ'), ('orbit', 'NN'), ('.', '.')], [('RANGER', '$'), ('3', 'CD'), ('try', 'NNS'), ('take', 'VBP'), ('images', 'NNS'), ('Moon', 'NNP'), ('flew', 'VBD'), (',', ','), ('camera', 'NN'), ('unfortunately', 'RB'), ('aimed', 'VBN'), ('deep', 'JJ'), ('space', 'NN'), ('attempt', 'NN'), ('.', '.')], [('RANGER', 'NNP'), ('4', 'CD'), (',', ','), ('launched', 'VBN'), ('April', 'NNP'), ('23', 'CD'), (',', ','), ('1962', 'CD'), (',', ','), ('purpose', 'RB'), ('RANGER', 'NNP'), ('3', 'CD'), (',', ','), ('suffered', 'VBD'), ('technical', 'JJ'), ('problems', 'NNS'), ('enroute', 'VBP'), ('crashed', 'VBN'), ('lunar', 'JJ'), ('farside', 'NN'), (',', ','), ('first', 'JJ'), ('U.S.', 'NNP'), ('probe', 'NN'), ('reach', 'NN'), ('Moon', 'NNP'), (',', ','), ('albeit', 'IN'), ('without', 'IN'), ('returning', 'VBG'), ('data', 'NNS'), ('.', '.')], [('RANGER', 'NNP'), ('5', 'CD'), (',', ','), ('launched', 'VBD'), ('October', 'NNP'), ('18', 'CD'), (',', ','), ('1962', 'CD'), ('similar', 'JJ'), ('RANGER', 'NNP'), ('3', 'CD'), ('4', 'CD'), (',', ','), ('lost', 'VBD'), ('solar', 'JJ'), ('panel', 'NN'), ('battery', 'NN'), ('power', 'NN'), ('enroute', 'NN'), ('eventually', 'RB'), ('missed', 'VBD'), ('Moon', 'NNP'), ('drifted', 'VBD'), ('solar', 'JJ'), ('orbit', 'NN'), ('.', '.')], [('RANGER', 'NNP'), ('6', 'CD'), ('9', 'CD'), ('modified', 'VBN'), ('lunar', 'JJ'), ('missions', 'NNS'), (':', ':'), ('They', 'PRP'), ('send', 'VBP'), ('back', 'RB'), ('live', 'JJ'), ('images', 'NNS'), ('lunar', 'VBP'), ('surface', 'NN'), ('headed', 'VBN'), ('towards', 'NNS'), ('impact', 'JJ'), ('Moon', 'NNP'), ('.', '.')], [('RANGER', 'NNP'), ('6', 'CD'), ('failed', 'VBD'), ('objective', 'JJ'), ('1964', 'CD'), ('cameras', 'JJ'), ('operate', 'NN'), ('.', '.')], [('RANGER', 'NNP'), ('7', 'CD'), ('9', 'CD'), ('performed', 'VBN'), ('well', 'RB'), (',', ','), ('becoming', 'VBG'), ('first', 'JJ'), ('U.S.', 'NNP'), ('lunar', 'NN'), ('probes', 'NNS'), ('return', 'VBP'), ('thousands', 'NNS'), ('lunar', 'RBR'), ('images', 'NNS'), ('1965', 'CD'), ('.', '.')], [('LUNAR', 'NNP'), ('ORBITER', 'NNP'), ('(', '('), ('LUNAR', 'NNP'), ('SURFACE', 'NNP'), ('PHOTOGRAPHY', 'NNP'), (')', ')'), ('LUNAR', 'NNP'), ('ORBITER', 'NNP'), ('1', 'CD'), ('5', 'CD'), ('designed', 'VBN'), ('orbit', 'NN'), ('Moon', 'NNP'), ('image', 'NN'), ('various', 'JJ'), ('sites', 'NNS'), ('studied', 'VBD'), ('landing', 'VBG'), ('areas', 'NNS'), ('manned', 'VBN'), ('APOLLO', 'NNP'), ('missions', 'NNS'), ('1969-1972', 'CD'), ('.', '.')], [('The', 'DT'), ('probes', 'NNS'), ('also', 'RB'), ('contributed', 'VBD'), ('greatly', 'RB'), ('understanding', 'JJ'), ('lunar', 'JJ'), ('surface', 'NN'), ('features', 'NNS'), (',', ','), ('particularly', 'RB'), ('lunar', 'JJ'), ('farside', 'NN'), ('.', '.')], [('All', 'DT'), ('five', 'CD'), ('probes', 'NNS'), ('series', 'NN'), (',', ','), ('launched', 'VBN'), ('1966', 'CD'), ('1967', 'CD'), (',', ','), ('essentially', 'RB'), ('successful', 'JJ'), ('missions', 'NNS'), ('.', '.')], [('They', 'PRP'), ('first', 'RB'), ('U.S.', 'NNP'), ('probes', 'NNS'), ('orbit', 'RB'), ('Moon', 'NNP'), ('.', '.')], [('All', 'DT'), ('LOs', 'NNP'), ('eventually', 'RB'), ('crashed', 'VBD'), ('lunar', 'JJ'), ('surface', 'NN'), ('avoid', 'JJ'), ('interference', 'NN'), ('manned', 'VBD'), ('APOLLO', 'NNP'), ('missions', 'NNS'), ('.', '.')], [('SURVEYOR', 'NNP'), ('(', '('), ('LUNAR', 'NNP'), ('SOFT', 'NNP'), ('LANDERS', 'NNP'), (')', ')'), ('The', 'DT'), ('SURVEYOR', 'NNP'), ('series', 'NN'), ('designed', 'VBN'), ('primarily', 'RB'), ('see', 'VB'), ('APOLLO', 'NNP'), ('lunar', 'NN'), ('module', 'NN'), ('could', 'MD'), ('land', 'VB'), ('surface', 'NN'), ('Moon', 'NNP'), ('without', 'IN'), ('sinking', 'VBG'), ('soil', 'NN'), ('(', '('), ('time', 'NN'), (',', ','), ('feared', 'VBD'), ('Moon', 'NNP'), ('covered', 'VBD'), ('great', 'JJ'), ('layers', 'NNS'), ('dust', 'NN'), (',', ','), ('would', 'MD'), ('support', 'VB'), ('heavy', 'JJ'), ('landing', 'NN'), ('vehicle', 'NN'), (')', ')'), ('.', '.')], [('SURVEYOR', 'NNP'), ('successful', 'JJ'), ('proving', 'VBG'), ('lunar', 'JJ'), ('surface', 'NN'), ('strong', 'JJ'), ('enough', 'RB'), ('hold', 'NN'), ('spacecraft', 'NN'), ('1966', 'CD'), ('1968', 'CD'), ('.', '.')], [('Only', 'RB'), ('SURVEYOR', 'NNP'), ('2', 'CD'), ('4', 'CD'), ('unsuccessful', 'JJ'), ('missions', 'NNS'), ('.', '.')], [('The', 'DT'), ('rest', 'NN'), ('became', 'VBD'), ('first', 'JJ'), ('U.S.', 'NNP'), ('probes', 'NNS'), ('soft', 'JJ'), ('land', 'NN'), ('Moon', 'NNP'), (',', ','), ('taking', 'VBG'), ('thousands', 'NNS'), ('images', 'NNS'), ('scooping', 'VBG'), ('soil', 'NN'), ('analysis', 'NN'), ('.', '.')], [('APOLLO', '$'), ('12', 'CD'), ('landed', 'VBD'), ('600', 'CD'), ('feet', 'NNS'), ('SURVEYOR', 'NNP'), ('3', 'CD'), ('1969', 'CD'), ('returned', 'VBD'), ('parts', 'NNS'), ('craft', 'NN'), ('Earth', 'NNP'), ('.', '.')], [('SURVEYOR', 'NNP'), ('7', 'CD'), (',', ','), ('last', 'JJ'), ('series', 'NN'), (',', ','), ('purely', 'RB'), ('scientific', 'JJ'), ('mission', 'NN'), ('explored', 'VBD'), ('Tycho', 'NNP'), ('crater', 'NN'), ('region', 'NN'), ('1968', 'CD'), ('.', '.')], [('VIKING', 'NN'), ('(', '('), ('MARS', 'NNP'), ('ORBITERS', 'NNP'), ('AND', 'NNP'), ('LANDERS', 'NNP'), (')', ')'), ('VIKING', 'VBD'), ('1', 'CD'), ('launched', 'JJ'), ('Cape', 'NNP'), ('Canaveral', 'NNP'), (',', ','), ('Florida', 'NNP'), ('August', 'NNP'), ('20', 'CD'), (',', ','), ('1975', 'CD'), ('TITAN', 'NNP'), ('3E-CENTAUR', 'JJ'), ('D1', 'NNP'), ('rocket', 'NN'), ('.', '.')], [('The', 'DT'), ('probe', 'NN'), ('went', 'VBD'), ('Martian', 'JJ'), ('orbit', 'NN'), ('June', 'NNP'), ('19', 'CD'), (',', ','), ('1976', 'CD'), (',', ','), ('lander', 'JJR'), ('set', 'NN'), ('western', 'JJ'), ('slopes', 'NNS'), ('Chryse', 'NNP'), ('Planitia', 'NNP'), ('July', 'NNP'), ('20', 'CD'), (',', ','), ('1976', 'CD'), ('.', '.')], [('It', 'PRP'), ('soon', 'RB'), ('began', 'VBD'), ('programmed', 'VBN'), ('search', 'NN'), ('Martian', 'JJ'), ('micro-organisms', 'NN'), ('(', '('), ('still', 'RB'), ('debate', 'VB'), ('whether', 'IN'), ('probes', 'NN'), ('found', 'VBD'), ('life', 'NN'), (')', ')'), (',', ','), ('sent', 'VBD'), ('back', 'RB'), ('incredible', 'JJ'), ('color', 'NN'), ('panoramas', 'NN'), ('surroundings', 'NNS'), ('.', '.')], [('One', 'CD'), ('thing', 'NN'), ('scientists', 'NNS'), ('learned', 'VBD'), ('Mars', 'NNP'), (\"'\", 'POS'), ('sky', 'NN'), ('pinkish', 'NN'), ('color', 'NN'), (',', ','), ('dark', 'JJ'), ('blue', 'NN'), ('originally', 'RB'), ('thought', 'VBN'), ('(', '('), ('sky', 'JJ'), ('pink', 'NN'), ('due', 'JJ'), ('sunlight', 'VBD'), ('reflecting', 'VBG'), ('reddish', 'JJ'), ('dust', 'NN'), ('particles', 'NNS'), ('thin', 'IN'), ('atmosphere', 'RB'), (')', ')'), ('.', '.')], [('The', 'DT'), ('lander', 'NN'), ('set', 'VBN'), ('among', 'IN'), ('field', 'NN'), ('red', 'JJ'), ('sand', 'NN'), ('boulders', 'NNS'), ('stretching', 'VBG'), ('far', 'RB'), ('cameras', 'NNS'), ('could', 'MD'), ('image', 'NN'), ('.', '.')], [('The', 'DT'), ('VIKING', 'NNP'), ('1', 'CD'), ('orbiter', 'NN'), ('kept', 'VBD'), ('functioning', 'VBG'), ('August', 'NNP'), ('7', 'CD'), (',', ','), ('1980', 'CD'), (',', ','), ('ran', 'VBD'), ('attitude-control', 'NN'), ('propellant', 'NN'), ('.', '.')], [('The', 'DT'), ('lander', 'NN'), ('switched', 'VBD'), ('weather-reporting', 'JJ'), ('mode', 'NN'), (',', ','), ('hoped', 'VBD'), ('would', 'MD'), ('keep', 'VB'), ('functioning', 'NN'), ('1994', 'CD'), (';', ':'), ('November', 'NNP'), ('13', 'CD'), (',', ','), ('1982', 'CD'), (',', ','), ('errant', 'JJ'), ('command', 'NN'), ('sent', 'VBD'), ('lander', 'RBR'), ('accidentally', 'RB'), ('telling', 'VBG'), ('shut', 'JJ'), ('orders', 'NNS'), ('.', '.')], [('Communication', 'NN'), ('never', 'RB'), ('regained', 'VBD'), (',', ','), ('despite', 'IN'), ('engineers', 'NNS'), (\"'\", 'POS'), ('efforts', 'NNS'), ('May', 'NNP'), ('1983', 'CD'), ('.', '.')], [('An', 'DT'), ('interesting', 'JJ'), ('side', 'NN'), ('note', 'NN'), (':', ':'), ('VIKING', 'NN'), ('1', 'CD'), (\"'s\", 'POS'), ('lander', 'NN'), ('designated', 'VBD'), ('Thomas', 'NNP'), ('A.', 'NNP'), ('Mutch', 'NNP'), ('Memorial', 'NNP'), ('Station', 'NNP'), ('honor', 'NN'), ('late', 'JJ'), ('leader', 'NN'), ('lander', 'NN'), ('imaging', 'VBG'), ('team', 'NN'), ('.', '.')], [('The', 'DT'), ('National', 'NNP'), ('Air', 'NNP'), ('Space', 'NNP'), ('Museum', 'NNP'), ('Washington', 'NNP'), (',', ','), ('D.C.', 'NNP'), ('entrusted', 'VBD'), ('safekeeping', 'VBG'), ('Mutch', 'NNP'), ('Station', 'NNP'), ('Plaque', 'NNP'), ('attached', 'VBD'), ('lander', 'RBR'), ('manned', 'VBN'), ('expedition', 'NN'), ('.', '.')], [('VIKING', 'NN'), ('2', 'CD'), ('launched', 'VBD'), ('September', 'NNP'), ('9', 'CD'), (',', ','), ('1975', 'CD'), (',', ','), ('arrived', 'VBD'), ('Martian', 'JJ'), ('orbit', 'NN'), ('August', 'NNP'), ('7', 'CD'), (',', ','), ('1976', 'CD'), ('.', '.')], [('The', 'DT'), ('lander', 'NN'), ('touched', 'VBD'), ('September', 'NNP'), ('3', 'CD'), (',', ','), ('1976', 'CD'), ('Utopia', 'NNP'), ('Planitia', 'NNP'), ('.', '.')], [('It', 'PRP'), ('accomplished', 'VBD'), ('essentially', 'RB'), ('tasks', 'JJ'), ('sister', 'NN'), ('lander', 'NN'), (',', ','), ('exception', 'NN'), ('seisometer', 'NN'), ('worked', 'VBD'), (',', ','), ('recording', 'VBG'), ('one', 'CD'), ('marsquake', 'NN'), ('.', '.')], [('The', 'DT'), ('orbiter', 'JJ'), ('series', 'NN'), ('attitude-control', 'NN'), ('gas', 'NN'), ('leaks', 'NN'), ('1978', 'CD'), (',', ','), ('prompted', 'VBD'), ('shut', 'VBN'), ('July', 'NNP'), ('.', '.')], [('The', 'DT'), ('lander', 'NN'), ('shut', 'VBD'), ('April', 'NNP'), ('12', 'CD'), (',', ','), ('1980', 'CD'), ('.', '.')], [('The', 'DT'), ('orbits', 'NNS'), ('VIKING', 'NNP'), ('orbiters', 'NNS'), ('decay', 'VBP'), ('around', 'IN'), ('2025', 'CD'), ('.', '.')], [('VOYAGER', 'NNP'), ('(', '('), ('OUTER', 'NNP'), ('PLANET', 'NNP'), ('FLYBYS', 'NNP'), (')', ')'), ('VOYAGER', 'NNP'), ('1', 'CD'), ('launched', 'VBD'), ('September', 'NNP'), ('5', 'CD'), (',', ','), ('1977', 'CD'), (',', ','), ('flew', 'VBD'), ('past', 'JJ'), ('Jupiter', 'NNP'), ('March', 'NNP'), ('5', 'CD'), (',', ','), ('1979', 'CD'), ('Saturn', 'NNP'), ('November', 'NNP'), ('13', 'CD'), (',', ','), ('1980', 'CD'), ('.', '.')], [('VOYAGER', '$'), ('2', 'CD'), ('launched', 'VBN'), ('August', 'NNP'), ('20', 'CD'), (',', ','), ('1977', 'CD'), ('(', '('), ('VOYAGER', 'NNP'), ('1', 'CD'), (')', ')'), (',', ','), ('flew', 'VBD'), ('Jupiter', 'NNP'), ('August', 'NNP'), ('7', 'CD'), (',', ','), ('1979', 'CD'), (',', ','), ('Saturn', 'NNP'), ('August', 'NNP'), ('26', 'CD'), (',', ','), ('1981', 'CD'), (',', ','), ('Uranus', 'NNP'), ('January', 'NNP'), ('24', 'CD'), (',', ','), ('1986', 'CD'), (',', ','), ('Neptune', 'NNP'), ('August', 'NNP'), ('8', 'CD'), (',', ','), ('1989', 'CD'), ('.', '.')], [('VOYAGER', 'NNP'), ('2', 'CD'), ('took', 'VBD'), ('advantage', 'NN'), ('rare', 'JJ'), ('once-every-189-years', 'JJ'), ('alignment', 'NN'), ('slingshot', 'JJ'), ('way', 'NN'), ('outer', 'JJ'), ('planet', 'NN'), ('outer', 'NN'), ('planet', 'NN'), ('.', '.')], [('VOYAGER', 'NNP'), ('1', 'CD'), ('could', 'MD'), (',', ','), ('principle', 'VB'), (',', ','), ('headed', 'VBN'), ('towards', 'NNS'), ('Pluto', 'NNP'), (',', ','), ('JPL', 'NNP'), ('opted', 'VBD'), ('sure', 'JJ'), ('thing', 'NN'), ('Titan', 'NNP'), ('close', 'NN'), ('.', '.')], [('Between', 'NNP'), ('two', 'CD'), ('probes', 'NNS'), (',', ','), ('knowledge', 'VBD'), ('4', 'CD'), ('giant', 'JJ'), ('planets', 'NNS'), (',', ','), ('satellites', 'NNS'), (',', ','), ('rings', 'NNS'), ('become', 'VBP'), ('immense', 'JJ'), ('.', '.')], [('VOYAGER', 'NNP'), ('1', 'CD'), ('&', 'CC'), ('2', 'CD'), ('discovered', 'VBN'), ('Jupiter', 'NNP'), ('complicated', 'VBD'), ('atmospheric', 'JJ'), ('dynamics', 'NNS'), (',', ','), ('lightning', 'VBG'), ('aurorae', 'NN'), ('.', '.')], [('Three', 'CD'), ('new', 'JJ'), ('satellites', 'NNS'), ('discovered', 'VBN'), ('.', '.')], [('Two', 'CD'), ('major', 'JJ'), ('surprises', 'NNS'), ('Jupiter', 'NNP'), ('rings', 'NNS'), ('Io', 'NNP'), ('active', 'JJ'), ('sulfurous', 'JJ'), ('volcanoes', 'NNS'), (',', ','), ('major', 'JJ'), ('effects', 'NNS'), ('Jovian', 'JJ'), ('magnetosphere', 'RB'), ('.', '.')], [('When', 'WRB'), ('two', 'CD'), ('probes', 'NNS'), ('reached', 'VBD'), ('Saturn', 'NNP'), (',', ','), ('discovered', 'VBD'), ('1000', 'CD'), ('ringlets', 'NNS'), ('7', 'CD'), ('satellites', 'NNS'), (',', ','), ('including', 'VBG'), ('predicted', 'VBN'), ('shepherd', 'NN'), ('satellites', 'VBZ'), ('keep', 'JJ'), ('rings', 'NNS'), ('stable', 'JJ'), ('.', '.')], [('The', 'DT'), ('weather', 'NN'), ('tame', 'NN'), ('compared', 'VBN'), ('Jupiter', 'NNP'), (':', ':'), ('massive', 'JJ'), ('jet', 'NN'), ('streams', 'NNS'), ('minimal', 'JJ'), ('variance', 'NN'), ('(', '('), ('33-year', 'JJ'), ('great', 'JJ'), ('white', 'JJ'), ('spot/band', 'NN'), ('cycle', 'NN'), ('known', 'VBN'), (')', ')'), ('.', '.')], [('Titan', 'NNP'), (\"'s\", 'POS'), ('atmosphere', 'JJ'), ('smoggy', 'NN'), ('.', '.')], [('Mimas', 'NNP'), (\"'\", 'POS'), ('appearance', 'NN'), ('startling', 'NN'), (':', ':'), ('one', 'CD'), ('massive', 'JJ'), ('impact', 'NN'), ('crater', 'NN'), ('gave', 'VBD'), ('Death', 'NNP'), ('Star', 'NNP'), ('appearance', 'NN'), ('.', '.')], [('The', 'DT'), ('big', 'JJ'), ('surprise', 'NN'), ('stranger', 'NN'), ('aspects', 'VBZ'), ('rings', 'NNS'), ('.', '.')], [('Braids', 'NNS'), (',', ','), ('kinks', 'NNS'), (',', ','), ('spokes', 'NNS'), ('unexpected', 'VBD'), ('difficult', 'JJ'), ('explain', 'NN'), ('.', '.')], [('VOYAGER', 'NNP'), ('2', 'CD'), (',', ','), ('thanks', 'NNS'), ('heroic', 'VBP'), ('engineering', 'NN'), ('programming', 'NN'), ('efforts', 'NNS'), (',', ','), ('continued', 'VBD'), ('mission', 'NN'), ('Uranus', 'NNP'), ('Neptune', 'NNP'), ('.', '.')], [('Uranus', 'NNP'), ('highly', 'RB'), ('monochromatic', 'JJ'), ('appearance', 'NN'), ('.', '.')], [('One', 'CD'), ('oddity', 'NN'), ('magnetic', 'JJ'), ('axis', 'NN'), ('found', 'VBD'), ('highly', 'RB'), ('skewed', 'JJ'), ('already', 'RB'), ('completely', 'RB'), ('skewed', 'JJ'), ('rotational', 'JJ'), ('axis', 'NN'), (',', ','), ('giving', 'VBG'), ('Uranus', 'NNP'), ('peculiar', 'NN'), ('magnetosphere', 'RB'), ('.', '.')], [('Icy', 'NNP'), ('channels', 'NNS'), ('found', 'VBD'), ('Ariel', 'NNP'), (',', ','), ('Miranda', 'NNP'), ('bizarre', 'VBP'), ('patchwork', 'NN'), ('different', 'JJ'), ('terrains', 'NNS'), ('.', '.')], [('10', 'CD'), ('satellites', 'VBZ'), ('one', 'CD'), ('ring', 'NN'), ('discovered', 'VBD'), ('.', '.')], [('In', 'IN'), ('contrast', 'NN'), ('Uranus', 'NNP'), (',', ','), ('Neptune', 'NNP'), ('found', 'VBD'), ('rather', 'RB'), ('active', 'JJ'), ('weather', 'NN'), (',', ','), ('including', 'VBG'), ('numerous', 'JJ'), ('cloud', 'NN'), ('features', 'NNS'), ('.', '.')], [('The', 'DT'), ('ring', 'NN'), ('arcs', 'NN'), ('turned', 'VBD'), ('bright', 'JJ'), ('patches', 'NNS'), ('one', 'CD'), ('ring', 'NN'), ('.', '.')], [('Two', 'CD'), ('rings', 'NNS'), (',', ','), ('6', 'CD'), ('satellites', 'NNS'), (',', ','), ('discovered', 'VBN'), ('.', '.')], [('Neptune', 'NNP'), (\"'s\", 'POS'), ('magnetic', 'JJ'), ('axis', 'NN'), ('also', 'RB'), ('skewed', 'VBD'), ('.', '.')], [('Triton', 'NNP'), ('canteloupe', 'NN'), ('appearance', 'NN'), ('geysers', 'NNS'), ('.', '.')], [('(', '('), ('What', 'WP'), (\"'s\", 'VBZ'), ('liquid', 'JJ'), ('38K', 'CD'), ('?', '.'), (')', ')')], [('The', 'DT'), ('two', 'CD'), ('VOYAGERs', 'NNP'), ('expected', 'VBD'), ('last', 'JJ'), ('two', 'CD'), ('decades', 'NNS'), ('.', '.')], [('Their', 'PRP$'), ('on-target', 'JJ'), ('journeying', 'NN'), ('gives', 'VBZ'), ('negative', 'JJ'), ('evidence', 'NN'), ('possible', 'JJ'), ('planets', 'NNS'), ('beyond', 'IN'), ('Pluto', 'NNP'), ('.', '.')], [('Their', 'PRP$'), ('next', 'JJ'), ('major', 'JJ'), ('scientific', 'JJ'), ('discovery', 'NN'), ('location', 'NN'), ('heliopause', 'NN'), ('.', '.')], [('SOVIET', 'NNP'), ('PLANETARY', 'NNP'), ('MISSIONS', 'NNP'), ('Since', 'IN'), ('many', 'JJ'), ('Soviet', 'JJ'), ('probes', 'NNS'), ('Moon', 'NNP'), (',', ','), ('Venus', 'NNP'), (',', ','), ('Mars', 'NNP'), (',', ','), ('I', 'PRP'), ('highlight', 'VBD'), ('primary', 'JJ'), ('missions', 'NNS'), (':', ':'), ('SOVIET', 'NNP'), ('LUNAR', 'NNP'), ('PROBES', 'NNP'), ('LUNA', 'NNP'), ('1', 'CD'), ('-', ':'), ('Lunar', 'NNP'), ('impact', 'NN'), ('attempt', 'NN'), ('1959', 'CD'), (',', ','), ('missed', 'VBD'), ('Moon', 'NNP'), ('became', 'VBD'), ('first', 'JJ'), ('craft', 'NN'), ('solar', 'JJ'), ('orbit', 'NN'), ('.', '.')], [('LUNA', 'NNP'), ('2', 'CD'), ('-', ':'), ('First', 'NNP'), ('craft', 'NN'), ('impact', 'NN'), ('lunar', 'JJ'), ('surface', 'NN'), ('1959', 'CD'), ('.', '.')], [('LUNA', 'NNP'), ('3', 'CD'), ('-', ':'), ('Took', 'NN'), ('first', 'RB'), ('images', 'VBZ'), ('lunar', 'NN'), ('farside', 'NN'), ('1959', 'CD'), ('.', '.')], [('ZOND', '$'), ('3', 'CD'), ('-', ':'), ('Took', 'NN'), ('first', 'RB'), ('images', 'VBZ'), ('lunar', 'NN'), ('farside', 'NN'), ('1965', 'CD'), ('since', 'IN'), ('LUNA', 'NNP'), ('3', 'CD'), ('.', '.')], [('Was', 'NNP'), ('also', 'RB'), ('test', 'VBP'), ('future', 'JJ'), ('Mars', 'NNP'), ('missions', 'NNS'), ('.', '.')], [('LUNA', 'NNP'), ('9', 'CD'), ('-', ':'), ('First', 'NNP'), ('probe', 'NN'), ('soft', 'JJ'), ('land', 'NN'), ('Moon', 'NNP'), ('1966', 'CD'), (',', ','), ('returned', 'VBD'), ('images', 'NNS'), ('surface', 'NN'), ('.', '.')], [('LUNA', 'NNP'), ('10', 'CD'), ('-', ':'), ('First', 'NNP'), ('probe', 'NN'), ('orbit', 'NN'), ('Moon', 'NNP'), ('1966', 'CD'), ('.', '.')], [('LUNA', 'NNP'), ('13', 'CD'), ('-', ':'), ('Second', 'JJ'), ('successful', 'JJ'), ('Soviet', 'JJ'), ('lunar', 'NN'), ('soft', 'JJ'), ('landing', 'VBG'), ('mission', 'NN'), ('1966', 'CD'), ('.', '.')], [('ZOND', '$'), ('5', 'CD'), ('-', ':'), ('First', 'RB'), ('successful', 'JJ'), ('circumlunar', 'NN'), ('craft', 'NN'), ('.', '.')], [('ZOND', 'NNP'), ('6', 'CD'), ('8', 'CD'), ('accomplished', 'VBD'), ('similar', 'JJ'), ('missions', 'NNS'), ('1970', 'CD'), ('.', '.')], [('The', 'DT'), ('probes', 'NNS'), ('unmanned', 'JJ'), ('tests', 'NNS'), ('manned', 'VBD'), ('orbiting', 'VBG'), ('SOYUZ-type', 'JJ'), ('lunar', 'NN'), ('vehicle', 'NN'), ('.', '.')], [('LUNA', 'NNP'), ('16', 'CD'), ('-', ':'), ('First', 'NNP'), ('probe', 'NN'), ('land', 'NN'), ('Moon', 'NNP'), ('return', 'NN'), ('samples', 'NNS'), ('lunar', 'VBP'), ('soil', 'NN'), ('Earth', 'NN'), ('1970', 'CD'), ('.', '.')], [('LUNA', 'NNP'), ('20', 'CD'), ('accomplished', 'VBD'), ('similar', 'JJ'), ('mission', 'NN'), ('1972', 'CD'), ('.', '.')], [('LUNA', 'NNP'), ('17', 'CD'), ('-', ':'), ('Delivered', 'VBN'), ('first', 'RB'), ('unmanned', 'JJ'), ('lunar', 'NN'), ('rover', 'NN'), ('Moon', 'NNP'), (\"'s\", 'POS'), ('surface', 'NN'), (',', ','), ('LUNOKHOD', 'NNP'), ('1', 'CD'), (',', ','), ('1970', 'CD'), ('.', '.')], [('A', 'DT'), ('similar', 'JJ'), ('feat', 'NN'), ('accomplished', 'VBD'), ('LUNA', 'NNP'), ('21/LUNOKHOD', 'CD'), ('2', 'CD'), ('1973', 'CD'), ('.', '.')], [('LUNA', 'NNP'), ('24', 'CD'), ('-', ':'), ('Last', 'JJ'), ('Soviet', 'JJ'), ('lunar', 'JJ'), ('mission', 'NN'), ('date', 'NN'), ('.', '.')], [('Returned', 'VBN'), ('soil', 'NN'), ('samples', 'NNS'), ('1976', 'CD'), ('.', '.')], [('SOVIET', 'NNP'), ('VENUS', 'NNP'), ('PROBES', 'NNP'), ('VENERA', 'NNP'), ('1', 'CD'), ('-', ':'), ('First', 'RB'), ('acknowledged', 'VBD'), ('attempt', 'JJ'), ('Venus', 'NNP'), ('mission', 'NN'), ('.', '.')], [('Transmissions', 'NNS'), ('lost', 'VBD'), ('enroute', 'JJ'), ('1961', 'CD'), ('.', '.')], [('VENERA', 'NNP'), ('2', 'CD'), ('-', ':'), ('Attempt', 'NN'), ('image', 'NN'), ('Venus', 'NNP'), ('flyby', 'VBZ'), ('mission', 'NN'), ('tandem', 'NN'), ('VENERA', 'NNP'), ('3', 'CD'), ('.', '.')], [('Probe', 'NNP'), ('ceased', 'VBD'), ('transmitting', 'VBG'), ('encounter', 'NN'), ('February', 'NNP'), ('1966', 'CD'), ('.', '.')], [('No', 'DT'), ('images', 'NNS'), ('returned', 'VBN'), ('.', '.')], [('VENERA', 'NNP'), ('3', 'CD'), ('-', ':'), ('Attempt', 'NN'), ('place', 'NN'), ('lander', 'NN'), ('capsule', 'NN'), ('Venusian', 'JJ'), ('surface', 'NN'), ('.', '.')], [('Transmissions', 'NNS'), ('ceased', 'VBD'), ('encounter', 'NN'), ('entire', 'JJ'), ('probe', 'NN'), ('became', 'VBD'), ('first', 'JJ'), ('craft', 'NN'), ('impact', 'NN'), ('another', 'DT'), ('planet', 'NN'), ('1966', 'CD'), ('.', '.')], [('VENERA', 'NNP'), ('4', 'CD'), ('-', ':'), ('First', 'NNP'), ('probe', 'VBZ'), ('successfully', 'RB'), ('return', 'JJ'), ('data', 'NNS'), ('descending', 'VBG'), ('Venusian', 'JJ'), ('atmosphere', 'NN'), ('.', '.')], [('Crushed', 'NNP'), ('air', 'NN'), ('pressure', 'NN'), ('reaching', 'VBG'), ('surface', 'NN'), ('1967', 'CD'), ('.', '.')], [('VENERA', 'NNP'), ('5', 'CD'), ('6', 'CD'), ('mission', 'NN'), ('profiles', 'NNS'), ('similar', 'JJ'), ('1969', 'CD'), ('.', '.')], [('VENERA', 'NNP'), ('7', 'CD'), ('-', ':'), ('First', 'JJ'), ('probe', 'NN'), ('return', 'NN'), ('data', 'NNS'), ('surface', 'NN'), ('another', 'DT'), ('planet', 'NN'), ('1970', 'CD'), ('.', '.')], [('VENERA', 'NNP'), ('8', 'CD'), ('accomplished', 'VBD'), ('detailed', 'VBN'), ('mission', 'NN'), ('1972', 'CD'), ('.', '.')], [('VENERA', 'NNP'), ('9', 'CD'), ('-', ':'), ('Sent', 'NN'), ('first', 'RB'), ('image', 'NN'), ('Venusian', 'JJ'), ('surface', 'NN'), ('1975', 'CD'), ('.', '.')], [('Was', 'NNP'), ('also', 'RB'), ('first', 'RB'), ('probe', 'JJ'), ('orbit', 'NN'), ('Venus', 'NNP'), ('.', '.')], [('VENERA', 'NNP'), ('10', 'CD'), ('accomplished', 'VBD'), ('similar', 'JJ'), ('mission', 'NN'), ('.', '.')], [('VENERA', 'NNP'), ('13', 'CD'), ('-', ':'), ('Returned', 'VBN'), ('first', 'JJ'), ('color', 'NN'), ('images', 'NNS'), ('Venusian', 'JJ'), ('surface', 'NN'), ('1982', 'CD'), ('.', '.')], [('VENERA', 'NNP'), ('14', 'CD'), ('accomplished', 'VBD'), ('similar', 'JJ'), ('mission', 'NN'), ('.', '.')], [('VENERA', 'NNP'), ('15', 'CD'), ('-', ':'), ('Accomplished', 'VBN'), ('radar', 'NN'), ('mapping', 'VBG'), ('VENERA', 'NNP'), ('16', 'CD'), ('sections', 'NNS'), ('planet', 'NN'), (\"'s\", 'POS'), ('surface', 'NN'), ('1983', 'CD'), ('detailed', 'JJ'), ('PVO', 'NNP'), ('.', '.')], [('VEGA', 'NNP'), ('1', 'CD'), ('-', ':'), ('Accomplished', 'NNP'), ('VEGA', 'NNP'), ('2', 'CD'), ('first', 'JJ'), ('balloon', 'NN'), ('probes', 'NNS'), ('Venusian', 'NNP'), ('atmosphere', 'RB'), ('1985', 'CD'), (',', ','), ('including', 'VBG'), ('two', 'CD'), ('landers', 'NNS'), ('.', '.')], [('Flyby', 'NNP'), ('buses', 'VBZ'), ('went', 'VBD'), ('become', 'VBN'), ('first', 'JJ'), ('spacecraft', 'NN'), ('study', 'NN'), ('Comet', 'NNP'), ('Halley', 'NNP'), ('close-up', 'NN'), ('March', 'NNP'), ('1986', 'CD'), ('.', '.')], [('SOVIET', 'JJ'), ('MARS', 'NNP'), ('PROBES', 'NNP'), ('MARS', 'NNP'), ('1', 'CD'), ('-', ':'), ('First', 'RB'), ('acknowledged', 'VBD'), ('Mars', 'NNP'), ('probe', 'NN'), ('1962', 'CD'), ('.', '.')], [('Transmissions', 'NNS'), ('ceased', 'VBD'), ('enroute', 'NN'), ('following', 'VBG'), ('year', 'NN'), ('.', '.')], [('ZOND', '$'), ('2', 'CD'), ('-', ':'), ('First', 'NNP'), ('possible', 'JJ'), ('attempt', 'NN'), ('place', 'NN'), ('lander', 'NN'), ('capsule', 'NN'), ('Martian', 'JJ'), ('surface', 'NN'), ('.', '.')], [('Probe', 'NNP'), ('signals', 'NNS'), ('ceased', 'VBD'), ('enroute', 'JJ'), ('1965', 'CD'), ('.', '.')], [('MARS', '$'), ('2', 'CD'), ('-', ':'), ('First', 'NNP'), ('Soviet', 'NNP'), ('Mars', 'NNP'), ('probe', 'NN'), ('land', 'NN'), ('-', ':'), ('albeit', 'NN'), ('crash', 'NN'), ('-', ':'), ('Martian', 'JJ'), ('surface', 'NN'), ('.', '.')], [('Orbiter', 'NNP'), ('section', 'NN'), ('first', 'RB'), ('Soviet', 'JJ'), ('probe', 'NN'), ('circle', 'NN'), ('Red', 'NNP'), ('Planet', 'NNP'), ('1971', 'CD'), ('.', '.')], [('MARS', '$'), ('3', 'CD'), ('-', ':'), ('First', 'RB'), ('successful', 'JJ'), ('soft', 'JJ'), ('landing', 'VBG'), ('Martian', 'JJ'), ('surface', 'NN'), (',', ','), ('lander', 'NN'), ('signals', 'NNS'), ('ceased', 'VBD'), ('90', 'CD'), ('seconds', 'NNS'), ('1971', 'CD'), ('.', '.')], [('MARS', '$'), ('4', 'CD'), ('-', ':'), ('Attempt', 'NN'), ('orbiting', 'VBG'), ('Mars', 'NNP'), ('1974', 'CD'), (',', ','), ('braking', 'VBG'), ('rockets', 'NNS'), ('failed', 'VBD'), ('fire', 'NN'), (',', ','), ('probe', 'NN'), ('went', 'VBD'), ('solar', 'JJ'), ('orbit', 'NN'), ('.', '.')], [('MARS', '$'), ('5', 'CD'), ('-', ':'), ('First', 'NNP'), ('fully', 'RB'), ('successful', 'JJ'), ('Soviet', 'JJ'), ('Mars', 'NNP'), ('mission', 'NN'), (',', ','), ('orbiting', 'VBG'), ('Mars', 'NNS'), ('1974', 'CD'), ('.', '.')], [('Returned', 'VBN'), ('images', 'NNS'), ('Martian', 'JJ'), ('surface', 'NN'), ('comparable', 'JJ'), ('U.S.', 'NNP'), ('probe', 'NN'), ('MARINER', 'NNP'), ('9', 'CD'), ('.', '.')], [('MARS', '$'), ('6', 'CD'), ('-', ':'), ('Landing', 'VBG'), ('attempt', 'NN'), ('1974', 'CD'), ('.', '.')], [('Lander', 'NNP'), ('crashed', 'VBD'), ('surface', 'NN'), ('.', '.')], [('MARS', '$'), ('7', 'CD'), ('-', ':'), ('Lander', 'NN'), ('missed', 'VBD'), ('Mars', 'NNP'), ('completely', 'RB'), ('1974', 'CD'), (',', ','), ('went', 'VBD'), ('solar', 'JJ'), ('orbit', 'NN'), ('flyby', 'JJ'), ('bus', 'NN'), ('.', '.')], [('PHOBOS', 'NNP'), ('1', 'CD'), ('-', ':'), ('First', 'NNP'), ('attempt', 'NN'), ('land', 'NN'), ('probes', 'NNS'), ('surface', 'VBP'), ('Mars', 'NNP'), (\"'\", 'POS'), ('largest', 'JJS'), ('moon', 'NN'), (',', ','), ('Phobos', 'NNP'), ('.', '.')], [('Probe', 'NNP'), ('failed', 'VBD'), ('enroute', 'JJ'), ('1988', 'CD'), ('due', 'JJ'), ('human/computer', 'NN'), ('error', 'NN'), ('.', '.')], [('PHOBOS', 'NNP'), ('2', 'CD'), ('-', ':'), ('Attempt', 'NN'), ('land', 'NN'), ('probes', 'NNS'), ('Martian', 'JJ'), ('moon', 'NN'), ('Phobos', 'NNP'), ('.', '.')], [('The', 'DT'), ('probe', 'NN'), ('enter', 'NN'), ('Mars', 'NNP'), ('orbit', 'RB'), ('early', 'JJ'), ('1989', 'CD'), (',', ','), ('signals', 'NNS'), ('ceased', 'VBD'), ('one', 'CD'), ('week', 'NN'), ('scheduled', 'VBN'), ('Phobos', 'NNP'), ('landing', 'NN'), ('.', '.')], [('While', 'IN'), ('talk', 'NN'), ('Soviet', 'JJ'), ('Jupiter', 'NNP'), (',', ','), ('Saturn', 'NNP'), (',', ','), ('even', 'RB'), ('interstellar', 'JJ'), ('probes', 'NNS'), ('within', 'IN'), ('next', 'JJ'), ('thirty', 'NN'), ('years', 'NNS'), (',', ','), ('major', 'JJ'), ('steps', 'NNS'), ('yet', 'RB'), ('taken', 'VBN'), ('projects', 'NNS'), ('.', '.')], [('More', 'RBR'), ('intensive', 'JJ'), ('studies', 'NNS'), ('Moon', 'NNP'), (',', ','), ('Mars', 'NNP'), (',', ','), ('Venus', 'NNP'), (',', ','), ('various', 'JJ'), ('comets', 'NNS'), ('planned', 'VBD'), ('1990s', 'CD'), (',', ','), ('Mercury', 'NNP'), ('mission', 'NN'), ('orbit', 'NN'), ('land', 'NN'), ('probes', 'NNS'), ('tiny', 'JJ'), ('world', 'NN'), ('planned', 'VBN'), ('2003', 'CD'), ('.', '.')], [('How', 'WRB'), ('many', 'JJ'), ('changes', 'NNS'), ('former', 'JJ'), ('Soviet', 'NNP'), ('Union', 'NNP'), ('(', '('), ('Commonwealth', 'NNP'), ('Independent', 'NNP'), ('States', 'NNPS'), (')', ')'), ('affect', 'VBP'), ('future', 'JJ'), ('space', 'NN'), ('program', 'NN'), ('remains', 'VBZ'), ('seen', 'VBN'), ('.', '.')], [('JAPANESE', 'NNP'), ('PLANETARY', 'NNP'), ('MISSIONS', 'NNP'), ('SAKIGAKE', 'NNP'), ('(', '('), ('MS-T5', 'NNP'), (')', ')'), ('launched', 'VBD'), ('Kagoshima', 'NNP'), ('Space', 'NNP'), ('Center', 'NNP'), ('ISAS', 'NNP'), ('January', 'NNP'), ('8', 'CD'), ('1985', 'CD'), (',', ','), ('approached', 'VBD'), ('Halley', 'NNP'), (\"'s\", 'POS'), ('Comet', 'NNP'), ('within', 'IN'), ('7', 'CD'), ('million', 'CD'), ('km', 'NN'), ('March', 'NNP'), ('11', 'CD'), (',', ','), ('1986', 'CD'), ('.', '.')], [('The', 'DT'), ('spacecraft', 'NN'), ('carrying', 'VBG'), ('three', 'CD'), ('instru-', 'JJ'), ('ments', 'NNS'), ('measure', 'NN'), ('interplanetary', 'JJ'), ('magnetic', 'JJ'), ('field/plasma', 'NN'), ('waves/solar', 'NN'), ('wind', 'NN'), (',', ','), ('work', 'NN'), ('normally', 'RB'), (',', ','), ('ISAS', 'NNP'), ('made', 'VBD'), ('Earth', 'NNP'), ('swingby', 'NNS'), ('Sakigake', 'NNP'), ('January', 'NNP'), ('8', 'CD'), (',', ','), ('1992', 'CD'), ('orbit', 'NN'), ('similar', 'JJ'), ('earth', 'NN'), (\"'s\", 'POS'), ('.', '.')], [('The', 'DT'), ('closest', 'JJS'), ('approach', 'NN'), ('23h08m47s', 'CD'), ('(', '('), ('JST=UTC+9h', 'NNP'), (')', ')'), ('January', 'NNP'), ('8', 'CD'), (',', ','), ('1992', 'CD'), ('.', '.')], [('The', 'DT'), ('geocentric', 'JJ'), ('distance', 'NN'), ('88,997', 'CD'), ('km', 'NN'), ('.', '.')], [('This', 'DT'), ('first', 'JJ'), ('planet-swingby', 'JJ'), ('Japanese', 'JJ'), ('spacecraft', 'NN'), ('.', '.')], [('During', 'IN'), ('approach', 'NN'), (',', ','), ('Sakigake', 'NNP'), ('observed', 'VBD'), ('geotail', 'NN'), ('.', '.')], [('Some', 'DT'), ('geotail', 'NN'), ('passages', 'NNS'), ('scheduled', 'VBN'), ('years', 'NNS'), ('hence', 'RB'), ('.', '.')], [('The', 'DT'), ('second', 'JJ'), ('Earth-swingby', 'NNP'), ('June', 'NNP'), ('14', 'CD'), (',', ','), ('1993', 'CD'), ('(', '('), ('40', 'CD'), ('Re', 'NNP'), ('(', '('), ('Earth', 'NNP'), (\"'s\", 'POS'), ('radius', 'NN'), (')', ')'), (')', ')'), (',', ','), ('third', 'JJ'), ('October', 'NNP'), ('28', 'CD'), (',', ','), ('1994', 'CD'), ('(', '('), ('86', 'CD'), ('Re', 'NNP'), (')', ')'), ('.', '.')], [('HITEN', 'NNP'), (',', ','), ('small', 'JJ'), ('lunar', 'NN'), ('probe', 'NN'), (',', ','), ('launched', 'VBD'), ('Earth', 'NNP'), ('orbit', 'NN'), ('January', 'NNP'), ('24', 'CD'), (',', ','), ('1990', 'CD'), ('.', '.')], [('The', 'DT'), ('spacecraft', 'NN'), ('known', 'VBN'), ('MUSES-A', 'NNP'), (',', ','), ('renamed', 'VBD'), ('Hiten', 'NNP'), ('orbit', 'NN'), ('.', '.')], [('The', 'DT'), ('430', 'CD'), ('lb', 'NN'), ('probe', 'NN'), ('looped', 'VBD'), ('Earth', 'NNP'), ('made', 'VBD'), ('first', 'JJ'), ('lunary', 'JJ'), ('flyby', 'NN'), ('March', 'NNP'), ('19', 'CD'), (',', ','), ('dropped', 'VBD'), ('26', 'CD'), ('lb', 'JJ'), ('midget', 'NN'), ('satellite', 'NN'), (',', ','), ('HAGOROMO', 'NNP'), ('.', '.')], [('Japan', 'NNP'), ('point', 'NN'), ('became', 'VBD'), ('third', 'JJ'), ('nation', 'NN'), ('orbit', 'IN'), ('satellite', 'JJ'), ('around', 'IN'), ('Moon', 'NNP'), (',', ','), ('joining', 'VBG'), ('Unites', 'NNS'), ('States', 'NNPS'), ('USSR', 'NNP'), ('.', '.')], [('The', 'DT'), ('smaller', 'JJR'), ('spacecraft', 'NN'), (',', ','), ('Hagoromo', 'NNP'), (',', ','), ('remained', 'VBD'), ('orbit', 'RP'), ('around', 'IN'), ('Moon', 'NNP'), ('.', '.')], [('An', 'DT'), ('apparently', 'RB'), ('broken', 'JJ'), ('transistor', 'NN'), ('radio', 'NN'), ('caused', 'VBD'), ('Japanese', 'JJ'), ('space', 'NN'), ('scientists', 'NNS'), ('lose', 'VBP'), ('track', 'NN'), ('.', '.')], [('Hagoromo', 'NNP'), (\"'s\", 'POS'), ('rocket', 'NN'), ('motor', 'NN'), ('fired', 'VBD'), ('schedule', 'NN'), ('March', 'NNP'), ('19', 'CD'), (',', ','), ('spacecraft', 'NN'), (\"'s\", 'POS'), ('tracking', 'VBG'), ('transmitter', 'NN'), ('failed', 'VBD'), ('immediately', 'RB'), ('.', '.')], [('The', 'DT'), ('rocket', 'NN'), ('firing', 'VBG'), ('Hagoromo', 'NNP'), ('optically', 'RB'), ('confirmed', 'VBD'), ('using', 'VBG'), ('Schmidt', 'NNP'), ('camera', 'NN'), ('(', '('), ('105-cm', 'JJ'), (',', ','), ('F3.1', 'NNP'), (')', ')'), ('Kiso', 'NNP'), ('Observatory', 'NNP'), ('Japan', 'NNP'), ('.', '.')], [('Hiten', 'NNP'), ('made', 'VBD'), ('multiple', 'JJ'), ('lunar', 'JJ'), ('flybys', 'NN'), ('approximately', 'RB'), ('monthly', 'JJ'), ('intervals', 'NNS'), ('performed', 'VBD'), ('aerobraking', 'VBG'), ('experiments', 'NNS'), ('using', 'VBG'), ('Earth', 'NNP'), (\"'s\", 'POS'), ('atmosphere', 'NN'), ('.', '.')], [('Hiten', 'NNP'), ('made', 'VBD'), ('close', 'JJ'), ('approach', 'NN'), ('moon', 'NN'), ('22:33', 'CD'), ('JST', 'NNP'), ('(', '('), ('UTC+9h', 'NNP'), (')', ')'), ('February', 'NNP'), ('15', 'CD'), (',', ','), ('1992', 'CD'), ('height', 'VBD'), ('423', 'CD'), ('km', 'NN'), ('moon', 'NN'), (\"'s\", 'POS'), ('surface', 'NN'), ('(', '('), ('35.3N', 'CD'), (',', ','), ('9.7E', 'CD'), (')', ')'), ('fired', 'VBN'), ('propulsion', 'NN'), ('system', 'NN'), ('ten', 'JJ'), ('minutes', 'NNS'), ('put', 'VBD'), ('craft', 'NN'), ('lunar', 'NN'), ('orbit', 'NN'), ('.', '.')], [('The', 'DT'), ('following', 'JJ'), ('orbital', 'JJ'), ('calculation', 'NN'), ('results', 'NNS'), ('approach', 'NN'), (':', ':'), ('Apoapsis', 'JJ'), ('Altitude', 'NNP'), (':', ':'), ('49,400', 'CD'), ('km', 'NN'), ('Periapsis', 'NNP'), ('Altitude', 'NNP'), (':', ':'), ('9,600', 'CD'), ('km', 'NN'), ('Inclination', 'NN'), (':', ':'), ('34.7', 'CD'), ('deg', 'NN'), ('(', '('), ('ecliptic', 'JJ'), ('plane', 'NN'), (')', ')'), ('Period', 'NN'), (':', ':'), ('4.7', 'CD'), ('days', 'NNS'), ('PLANETARY', 'NNP'), ('MISSION', 'NNP'), ('REFERENCES', 'NNP'), ('I', 'PRP'), ('also', 'RB'), ('recommend', 'VBP'), ('reading', 'VBG'), ('following', 'VBG'), ('works', 'NNS'), (',', ','), ('categorized', 'VBD'), ('three', 'CD'), ('groups', 'NNS'), (':', ':'), ('General', 'NNP'), ('overviews', 'NNS'), (',', ','), ('specific', 'JJ'), ('books', 'NNS'), ('particular', 'JJ'), ('space', 'NN'), ('missions', 'NNS'), (',', ','), ('periodical', 'JJ'), ('sources', 'NNS'), ('space', 'NN'), ('probes', 'NNS'), ('.', '.')], [('This', 'DT'), ('list', 'NN'), ('means', 'VBZ'), ('complete', 'JJ'), (';', ':'), ('primarily', 'RB'), ('designed', 'VBN'), ('give', 'JJ'), ('places', 'NNS'), ('start', 'VBP'), ('research', 'NN'), ('generally', 'RB'), ('available', 'JJ'), ('works', 'NNS'), ('subject', 'VBP'), ('.', '.')], [('If', 'IN'), ('anyone', 'NN'), ('add', 'VBP'), ('pertinent', 'JJ'), ('works', 'NNS'), ('list', 'NN'), (',', ','), ('would', 'MD'), ('greatly', 'RB'), ('appreciated', 'VBN'), ('.', '.')], [('Though', 'IN'), ('naturally', 'RB'), ('I', 'PRP'), ('recommend', 'VBP'), ('books', 'NNS'), ('listed', 'VBN'), (',', ','), ('I', 'PRP'), ('think', 'VBP'), ('would', 'MD'), ('best', 'RB'), ('started', 'VBN'), ('general', 'JJ'), ('overview', 'NN'), ('books', 'NNS'), (',', ','), ('order', 'NN'), ('give', 'VBP'), ('clear', 'JJ'), ('idea', 'NN'), ('history', 'NN'), ('space', 'NN'), ('exploration', 'NN'), ('area', 'NN'), ('.', '.')], [('I', 'PRP'), ('also', 'RB'), ('recommend', 'VBP'), ('pick', 'RB'), ('good', 'JJ'), (',', ','), ('up-to-date', 'JJ'), ('general', 'JJ'), ('works', 'VBZ'), ('astronomy', 'RB'), ('Sol', 'NNP'), ('system', 'NN'), (',', ','), ('give', 'VB'), ('extra', 'JJ'), ('background', 'NN'), ('.', '.')], [('Most', 'JJS'), ('books', 'NNS'), ('periodicals', 'NNS'), ('found', 'VBD'), ('good', 'JJ'), ('public', 'JJ'), ('university', 'NN'), ('library', 'NN'), ('.', '.')], [('Some', 'DT'), ('recently', 'RB'), ('published', 'VBN'), ('works', 'NNS'), ('also', 'RB'), ('purchased', 'VBD'), ('and/or', 'RB'), ('ordered', 'VBN'), ('good', 'JJ'), ('mass-', 'JJ'), ('market', 'NN'), ('bookstore', 'NN'), ('.', '.')], [('General', 'NNP'), ('Overviews', 'NNP'), ('(', '('), ('alphabetical', 'JJ'), ('order', 'NN'), ('author', 'NN'), (')', ')'), (':', ':'), ('J.', 'NNP'), ('Kelly', 'NNP'), ('Beatty', 'NNP'), ('et', 'FW'), ('al', 'NN'), (',', ','), ('THE', 'NNP'), ('NEW', 'NNP'), ('SOLAR', 'NNP'), ('SYSTEM', 'NNP'), (',', ','), ('1990', 'CD'), ('.', '.')], [('Merton', 'NNP'), ('E.', 'NNP'), ('Davies', 'NNP'), ('Bruce', 'NNP'), ('C.', 'NNP'), ('Murray', 'NNP'), (',', ','), ('THE', 'NNP'), ('VIEW', 'NNP'), ('FROM', 'NNP'), ('SPACE', 'NNP'), (':', ':'), ('PHOTOGRAPHIC', 'NNP'), ('EXPLORATION', 'NNP'), ('OF', 'IN'), ('THE', 'NNP'), ('PLANETS', 'NNP'), (',', ','), ('1971', 'CD'), ('Kenneth', 'NNP'), ('Gatland', 'NNP'), (',', ','), ('THE', 'NNP'), ('ILLUSTRATED', 'NNP'), ('ENCYCLOPEDIA', 'NNP'), ('OF', 'NNP'), ('SPACE', 'NNP'), ('TECHNOLOGY', 'NNP'), (',', ','), ('1990', 'CD'), ('Kenneth', 'NNP'), ('Gatland', 'NNP'), (',', ','), ('ROBOT', 'NNP'), ('EXPLORERS', 'NNP'), (',', ','), ('1972', 'CD'), ('R.', 'NNP'), ('Greeley', 'NNP'), (',', ','), ('PLANETARY', 'NNP'), ('LANDSCAPES', 'NNP'), (',', ','), ('1987', 'CD'), ('Douglas', 'NNP'), ('Hart', 'NNP'), (',', ','), ('THE', 'NNP'), ('ENCYCLOPEDIA', 'NNP'), ('OF', 'NNP'), ('SOVIET', 'NNP'), ('SPACECRAFT', 'NNP'), (',', ','), ('1987', 'CD'), ('Nicholas', 'NNP'), ('L.', 'NNP'), ('Johnson', 'NNP'), (',', ','), ('HANDBOOK', 'NNP'), ('OF', 'NNP'), ('SOVIET', 'NNP'), ('LUNAR', 'NNP'), ('AND', 'NNP'), ('PLANETARY', 'NNP'), ('EXPLORATION', 'NNP'), (',', ','), ('1979', 'CD'), ('Clayton', 'NNP'), ('R.', 'NNP'), ('Koppes', 'NNP'), (',', ','), ('JPL', 'NNP'), ('AND', 'CC'), ('THE', 'NNP'), ('AMERICAN', 'NNP'), ('SPACE', 'NNP'), ('PROGRAM', 'NNP'), (':', ':'), ('A', 'DT'), ('HISTORY', 'NNP'), ('OF', 'IN'), ('THE', 'NNP'), ('JET', 'NNP'), ('PROPULSION', 'NNP'), ('LABORATORY', 'NNP'), (',', ','), ('1982', 'CD'), ('Richard', 'NNP'), ('S.', 'NNP'), ('Lewis', 'NNP'), (',', ','), ('THE', 'NNP'), ('ILLUSTRATED', 'NNP'), ('ENCYCLOPEDIA', 'NNP'), ('OF', 'IN'), ('THE', 'NNP'), ('UNIVERSE', 'NNP'), (',', ','), ('1983', 'CD'), ('Mark', 'NNP'), ('Littman', 'NNP'), (',', ','), ('PLANETS', 'NNP'), ('BEYOND', 'NNP'), (':', ':'), ('DISCOVERING', 'VBZ'), ('THE', 'DT'), ('OUTER', 'NNP'), ('SOLAR', 'NNP'), ('SYSTEM', 'NNP'), (',', ','), ('1988', 'CD'), ('Eugene', 'NNP'), ('F.', 'NNP'), ('Mallove', 'NNP'), ('Gregory', 'NNP'), ('L.', 'NNP'), ('Matloff', 'NNP'), (',', ','), ('THE', 'NNP'), ('STARFLIGHT', 'NNP'), ('HANDBOOK', 'NNP'), (':', ':'), ('A', 'DT'), ('PIONEER', 'NNP'), (\"'S\", 'POS'), ('GUIDE', 'NNP'), ('TO', 'NNP'), ('INTERSTELLAR', 'NNP'), ('TRAVEL', 'NNP'), (',', ','), ('1989', 'CD'), ('Frank', 'NNP'), ('Miles', 'NNP'), ('Nicholas', 'NNP'), ('Booth', 'NNP'), (',', ','), ('RACE', 'NNP'), ('TO', 'NNP'), ('MARS', 'NNP'), (':', ':'), ('THE', 'DT'), ('MARS', 'NNP'), ('FLIGHT', 'NNP'), ('ATLAS', 'NNP'), (',', ','), ('1988', 'CD'), ('Bruce', 'NNP'), ('Murray', 'NNP'), (',', ','), ('JOURNEY', 'NNP'), ('INTO', 'NNP'), ('SPACE', 'NNP'), (',', ','), ('1989', 'CD'), ('Oran', 'NNP'), ('W.', 'NNP'), ('Nicks', 'NNP'), (',', ','), ('FAR', 'NNP'), ('TRAVELERS', 'NNP'), (',', ','), ('1985', 'CD'), ('(', '('), ('NASA', 'NNP'), ('SP-480', 'NNP'), (')', ')'), ('James', 'NNP'), ('E.', 'NNP'), ('Oberg', 'NNP'), (',', ','), ('UNCOVERING', 'NNP'), ('SOVIET', 'NNP'), ('DISASTERS', 'NNP'), (':', ':'), ('EXPLORING', 'NN'), ('THE', 'DT'), ('LIMITS', 'NNP'), ('OF', 'NNP'), ('GLASNOST', 'NNP'), (',', ','), ('1988', 'CD'), ('Carl', 'NNP'), ('Sagan', 'NNP'), (',', ','), ('COMET', 'NNP'), (',', ','), ('1986', 'CD'), ('Carl', 'NNP'), ('Sagan', 'NNP'), (',', ','), ('THE', 'NNP'), ('COSMIC', 'NNP'), ('CONNECTION', 'NNP'), (',', ','), ('1973', 'CD'), ('Carl', 'NNP'), ('Sagan', 'NNP'), (',', ','), ('PLANETS', 'NNP'), (',', ','), ('1969', 'CD'), ('(', '('), ('LIFE', 'NNP'), ('Science', 'NNP'), ('Library', 'NNP'), (')', ')'), ('Arthur', 'NNP'), ('Smith', 'NNP'), (',', ','), ('PLANETARY', 'NNP'), ('EXPLORATION', 'NNP'), (':', ':'), ('THIRTY', 'CD'), ('YEARS', 'NNS'), ('OF', 'NNP'), ('UNMANNED', 'NNP'), ('SPACE', 'NNP'), ('PROBES', 'NNP'), (',', ','), ('1988', 'CD'), ('Andrew', 'NNP'), ('Wilson', 'NNP'), (',', ','), ('(', '('), ('JANE', 'NNP'), (\"'S\", 'POS'), (')', ')'), ('SOLAR', 'NNP'), ('SYSTEM', 'NNP'), ('LOG', 'NNP'), (',', ','), ('1987', 'CD'), ('Specific', 'NNP'), ('Mission', 'NNP'), ('References', 'NNS'), (':', ':'), ('Charles', 'NNP'), ('A', 'NNP'), ('.', '.')], [('Cross', 'NNP'), ('Patrick', 'NNP'), ('Moore', 'NNP'), (',', ','), ('THE', 'NNP'), ('ATLAS', 'NNP'), ('OF', 'NNP'), ('MERCURY', 'NNP'), (',', ','), ('1977', 'CD'), ('(', '('), ('The', 'DT'), ('MARINER', 'NNP'), ('10', 'CD'), ('mission', 'NN'), ('Venus', 'NNP'), ('Mercury', 'NNP'), (',', ','), ('1973-1975', 'JJ'), (')', ')'), ('Joel', 'NNP'), ('Davis', 'NNP'), (',', ','), ('FLYBY', 'NNP'), (':', ':'), ('THE', 'DT'), ('INTERPLANETARY', 'NNP'), ('ODYSSEY', 'NNP'), ('OF', 'NNP'), ('VOYAGER', 'NNP'), ('2', 'CD'), (',', ','), ('1987', 'CD'), ('Irl', 'NNP'), ('Newlan', 'NNP'), (',', ','), ('FIRST', 'NNP'), ('TO', 'NNP'), ('VENUS', 'NNP'), (':', ':'), ('THE', 'NNP'), ('STORY', 'NNP'), ('OF', 'NNP'), ('MARINER', 'NNP'), ('2', 'CD'), (',', ','), ('1963', 'CD'), ('Margaret', 'NNP'), ('Poynter', 'NNP'), ('Arthur', 'NNP'), ('L.', 'NNP'), ('Lane', 'NNP'), (',', ','), ('VOYAGER', 'NNP'), (':', ':'), ('THE', 'NNP'), ('STORY', 'NNP'), ('OF', 'NNP'), ('A', 'NNP'), ('SPACE', 'NNP'), ('MISSION', 'NNP'), (',', ','), ('1984', 'CD'), ('Carl', 'NNP'), ('Sagan', 'NNP'), (',', ','), ('MURMURS', 'NNP'), ('OF', 'NNP'), ('EARTH', 'NNP'), (',', ','), ('1978', 'CD'), ('(', '('), ('Deals', 'NNP'), ('Earth', 'NNP'), ('information', 'NN'), ('records', 'NNS'), ('placed', 'VBD'), ('VOYAGER', 'NNP'), ('1', 'CD'), ('2', 'CD'), ('case', 'NN'), ('probes', 'NNS'), ('found', 'VBD'), ('intelligences', 'NNS'), ('interstellar', 'JJ'), ('space', 'NN'), (',', ','), ('well', 'RB'), ('probes', 'JJ'), ('planetary', 'JJ'), ('mission', 'NN'), ('objectives', 'NNS'), ('.', '.'), (')', ')')], [('Other', 'JJ'), ('works', 'VBZ'), ('periodicals', 'NNS'), (':', ':'), ('NASA', 'NNP'), ('published', 'VBD'), ('detailed', 'JJ'), ('technical', 'JJ'), ('books', 'NNS'), ('every', 'DT'), ('space', 'NN'), ('probe', 'NN'), ('mission', 'NN'), ('launched', 'VBN'), ('.', '.')], [('Good', 'JJ'), ('university', 'NN'), ('libraries', 'NNS'), ('carry', 'VBP'), ('books', 'NNS'), (',', ','), ('easily', 'RB'), ('found', 'VBD'), ('simply', 'RB'), ('knowing', 'VBG'), ('mission', 'NN'), ('wish', 'JJ'), ('read', 'NN'), ('.', '.')], [('I', 'PRP'), ('recommend', 'VBP'), ('works', 'NNS'), ('first', 'RB'), ('study', 'VBP'), ('books', 'NNS'), ('listed', 'VBN'), ('.', '.')], [('Some', 'DT'), ('periodicals', 'NNS'), ('I', 'PRP'), ('recommend', 'VBP'), ('reading', 'VBG'), ('space', 'NN'), ('probes', 'NNS'), ('NATIONAL', 'NNP'), ('GEOGRAPHIC', 'NNP'), (',', ','), ('written', 'VBN'), ('articles', 'NNS'), ('PIONEER', 'NNP'), ('probes', 'VBP'), ('Earth', 'NNP'), (\"'s\", 'POS'), ('Moon', 'NNP'), ('Luna', 'NNP'), ('Jovian', 'NNP'), ('planets', 'VBZ'), ('Jupiter', 'NNP'), ('Saturn', 'NNP'), (',', ','), ('RANGER', 'NNP'), (',', ','), ('SURVEYOR', 'NNP'), (',', ','), ('LUNAR', 'NNP'), ('ORBITER', 'NNP'), (',', ','), ('APOLLO', 'NNP'), ('missions', 'NNS'), ('Luna', 'NNP'), (',', ','), ('MARINER', 'NNP'), ('missions', 'NNS'), ('Mercury', 'NNP'), (',', ','), ('Venus', 'NNP'), (',', ','), ('Mars', 'NNP'), (',', ','), ('VIKING', 'NNP'), ('probes', 'VBZ'), ('Mars', 'NNP'), (',', ','), ('VOYAGER', 'NNP'), ('missions', 'NNS'), ('Jupiter', 'NNP'), (',', ','), ('Saturn', 'NNP'), (',', ','), ('Uranus', 'NNP'), (',', ','), ('Neptune', 'NNP'), ('.', '.')], [('More', 'JJR'), ('details', 'NNS'), ('American', 'NNP'), (',', ','), ('Soviet', 'NNP'), (',', ','), ('European', 'NNP'), (',', ','), ('Japanese', 'JJ'), ('probe', 'NN'), ('missions', 'NNS'), ('found', 'VBD'), ('SKY', 'NNP'), ('AND', 'NNP'), ('TELESCOPE', 'NNP'), (',', ','), ('ASTRONOMY', 'NNP'), (',', ','), ('SCIENCE', 'NNP'), (',', ','), ('NATURE', 'NNP'), (',', ','), ('SCIENTIFIC', 'NNP'), ('AMERICAN', 'NNP'), ('magazines', 'NNS'), ('.', '.')], [('TIME', 'NNP'), (',', ','), ('NEWSWEEK', 'NNP'), (',', ','), ('various', 'JJ'), ('major', 'JJ'), ('newspapers', 'NNS'), ('supply', 'VBP'), ('general', 'JJ'), ('information', 'NN'), ('certain', 'JJ'), ('missions', 'NNS'), (',', ','), ('also', 'RB'), ('show', 'VBP'), ('else', 'RB'), ('going', 'VBG'), ('Earth', 'JJ'), ('time', 'NN'), ('events', 'NNS'), ('unfolding', 'JJ'), (',', ','), ('interest', 'NN'), ('.', '.')], [('Space', 'NNP'), ('missions', 'NNS'), ('affected', 'VBD'), ('numerous', 'JJ'), ('political', 'JJ'), (',', ','), ('economic', 'JJ'), (',', ','), ('climatic', 'JJ'), ('factors', 'NNS'), (',', ','), ('probably', 'RB'), ('know', 'VBP'), ('.', '.')], [('Depending', 'VBG'), ('far', 'RB'), ('interest', 'NN'), ('space', 'NN'), ('probes', 'NNS'), ('go', 'VBP'), (',', ','), ('might', 'MD'), ('also', 'RB'), ('wish', 'VB'), ('join', 'NN'), ('The', 'DT'), ('Planetary', 'NNP'), ('Society', 'NNP'), (',', ','), ('one', 'CD'), ('largest', 'JJS'), ('space', 'NN'), ('groups', 'NNS'), ('world', 'NN'), ('dedicated', 'VBN'), ('planetary', 'JJ'), ('exploration', 'NN'), ('.', '.')], [('Their', 'PRP$'), ('periodical', 'JJ'), (',', ','), ('THE', 'NNP'), ('PLANETARY', 'NNP'), ('REPORT', 'NNP'), (',', ','), ('details', 'NNS'), ('latest', 'JJS'), ('space', 'NN'), ('probe', 'NN'), ('missions', 'NNS'), ('.', '.')], [('Write', 'IN'), ('The', 'DT'), ('Planetary', 'NNP'), ('Society', 'NNP'), (',', ','), ('65', 'CD'), ('North', 'NNP'), ('Catalina', 'NNP'), ('Avenue', 'NNP'), (',', ','), ('Pasadena', 'NNP'), (',', ','), ('California', 'NNP'), ('91106', 'CD'), ('USA', 'NNP'), ('.', '.')], [('Good', 'JJ'), ('luck', 'NN'), ('studies', 'NNS'), ('area', 'NN'), ('space', 'NN'), ('exploration', 'NN'), ('.', '.')], [('I', 'PRP'), ('personally', 'RB'), ('find', 'VBP'), ('planetary', 'JJ'), ('missions', 'NNS'), ('one', 'CD'), ('exciting', 'VBG'), ('areas', 'NNS'), ('field', 'NN'), (',', ','), ('benefits', 'NNS'), ('human', 'JJ'), ('society', 'NN'), ('receive', 'NN'), ('incredible', 'JJ'), (',', ','), ('many', 'JJ'), ('yet', 'RB'), ('realized', 'VBN'), ('.', '.')], [('Larry', 'NNP'), ('Klaes', 'NNP'), ('klaes', 'NNP'), ('@', 'NNP'), ('verga.enet.dec.com', 'FW'), ('NEXT', 'NNP'), (':', ':'), ('FAQ', 'NNP'), ('#', '#'), ('11/15', 'CD'), ('-', ':'), ('Upcoming', 'VBG'), ('planetary', 'JJ'), ('probes', 'NNS'), ('-', ':'), ('missions', 'NNS'), ('schedules', 'NNS')]]\n"
          ],
          "name": "stdout"
        }
      ]
    },
    {
      "cell_type": "code",
      "metadata": {
        "colab": {
          "base_uri": "https://localhost:8080/"
        },
        "id": "z900Q_Pe6O_K",
        "outputId": "5f0f2682-c1e5-4653-fd1d-a84e955881ea"
      },
      "source": [
        "annotations = set()\n",
        "\n",
        "for i in range(len(tagged)):\n",
        "  for j in range(len(tagged[i])):\n",
        "    annotations.add(tagged[i][j][1])\n",
        "\n",
        "print(annotations)"
      ],
      "execution_count": null,
      "outputs": [
        {
          "output_type": "stream",
          "text": [
            "{'POS', 'CD', 'VBZ', 'DT', 'FW', '.', 'PRP', 'JJR', '``', \"''\", 'VBP', 'MD', 'VBN', '$', ',', 'WRB', 'JJS', 'PRP$', 'NN', '#', 'NNP', 'NNPS', 'RB', 'VBG', 'JJ', 'IN', '(', 'RBR', 'NNS', 'RP', 'VBD', 'CC', ')', 'VB', ':', 'WP'}\n"
          ],
          "name": "stdout"
        }
      ]
    },
    {
      "cell_type": "code",
      "metadata": {
        "colab": {
          "base_uri": "https://localhost:8080/",
          "height": 35
        },
        "id": "l8R3RQTuo4Pz",
        "outputId": "1c236960-bc6e-44a7-c872-811064d70992"
      },
      "source": [
        "tagged[0][0][1]"
      ],
      "execution_count": null,
      "outputs": [
        {
          "output_type": "execute_result",
          "data": {
            "application/vnd.google.colaboratory.intrinsic+json": {
              "type": "string"
            },
            "text/plain": [
              "'NNP'"
            ]
          },
          "metadata": {
            "tags": []
          },
          "execution_count": 44
        }
      ]
    },
    {
      "cell_type": "code",
      "metadata": {
        "colab": {
          "base_uri": "https://localhost:8080/"
        },
        "id": "sAP_Zg4Vw8Ma",
        "outputId": "5e674eac-4ea7-453a-cd90-176f36698a89"
      },
      "source": [
        "corpus = \"\"\n",
        "for i in range(len(tagged)):\n",
        "  for j in range(len(tagged[i])):\n",
        "    if tagged[i][j][1] != 'JJ' and tagged[i][j][1] != 'DT':\n",
        "      corpus += tagged[i][j][0] + \" \"\n",
        "\n",
        "print(corpus)"
      ],
      "execution_count": null,
      "outputs": [
        {
          "output_type": "stream",
          "text": [
            "section lightly adapted posting Larry Klaes ( klaes @ verga.enet.dec.com ) , mostly formatting changes . Matthew Wiener ( @ libra.wistar.upenn.edu ) contributed section Voyager , section Sakigake obtained ISAS material posted Yoshiro Yamada ( yamada @ yscvax.ysc.go.jp ) . US PLANETARY MISSIONS MARINER ( VENUS , MARS , & MERCURY FLYBYS AND ORBITERS ) MARINER 1 , U.S. attempt send spacecraft Venus , failed minutes 1962 . guidance instructions ground stopped reaching rocket problem antenna , onboard computer took control . However , turned guidance software , rocket promptly went course , Range Safety Officer destroyed . Although bug sometimes claimed FORTRAN DO statement , actually transcription error bar ( indicating smoothing ) omitted expression `` sub n '' ( nth smoothed value radius ) . error led software treat variations velocity , compensation . MARINER 2 became first probe flyby Venus December 1962 , returned information confirmed Venus ( 800 degrees Fahrenheit , revised 900 degrees F. ) world atmosphere composed primarily carbon dioxide ( acid later confirmed 1978 ) . MARINER 3 , launched November 5 , 1964 , lost shroud failed craft placed space . collect Sun 's energy power panels , probe soon died batteries ran orbit . It intended Mars flyby MARINER 4 . MARINER 4 , sister probe MARINER 3 , reach Mars 1965 took first images surface ( 22 ) flew planet . probe found world atmosphere thinner previously thought . scientists concluded Mars `` '' world sense . MARINER 5 sent Venus 1967 . It reconfirmed data planet collected five years earlier MARINER 2 , plus information Venus ' pressure surface least 90 times Earth 's , 3,300 feet ocean . MARINER 6 7 sent Mars 1969 expanded upon work done MARINER 4 four years earlier . However , failed take away Mars `` '' planet , first made measurements MARINER 4 . 8 ended Atlantic Ocean 1971 rocket launcher autopilot failed . MARINER 9 , sister probe MARINER 8 , became craft orbit Mars 1971 . It returned information Red Planet probe done , revealing volcanoes surface , well canyon systems , evidence water flowed across planet . probe also took first closeup images Mars ' two moons , Phobos Deimos . MARINER 10 used Venus gravity assist Mercury 1974 . probe return first images Venusian ultraviolet , revealing previously details cloud cover , plus fact cloud system circles planet four Earth days . MARINER 10 eventually made three Mercury 1974 1975 running attitude control gas . probe revealed Mercury heavily cratered world mass greater thought . would seem Mercury iron core makes 75 percent planet . PIONEER ( MOON , SUN , VENUS , JUPITER , SATURN FLYBYS AND ORBITERS ) PIONEER 1 3 failed meet - photograph Moon - reach far enough space provide information area Earth Moon , including data Van Allen radiation belts circling Earth . three craft failures rocket launchers . PIONEER 1 launched October 11 , 1958 , PIONEER 2 November 8 , PIONEER 3 December 6 . PIONEER 4 Moon probe missed Moon became U.S. spacecraft orbit Sun 1959 . PIONEER 5 originally designed Venus , mission scaled instead studied environment Venus Earth 36.2 million kilometers 1960 , record MARINER 2 . PIONEER 6 9 placed orbit 1965 1968 : PIONEER 6 , 7 , 8 still transmitting information time . PIONEER E ( would number 10 ) suffered failure 1969 . PIONEER 10 became spacecraft flyby Jupiter 1973 . PIONEER 11 followed 1974 , went become probe study Saturn 1979 . vehicles continue function 1995 heading space , first craft ever . PIONEER Venus 1 ( 1978 ) ( also known PIONEER Venus Orbiter , PIONEER 12 ) burned October 8 , 1992 . PVO made radar studies planet 's surface via probe . PIONEER Venus 2 ( also known PIONEER 13 ) sent four probes atmosphere December 1978 . spacecraft bus burned atmosphere , four probes descended parachute towards surface . Though none expected surface , Day probe make 67.5 minutes batteries failed . RANGER ( LUNAR LANDER AND IMPACT MISSIONS ) RANGER 1 2 test probes RANGER lunar series . They meant Earth orbit testing 1961 , rocket problems left orbits quickly decayed . RANGER 3 , launched January 26 , 1962 , intended land instrument capsule surface Moon , problems launch caused probe miss Moon head orbit . RANGER 3 try take images Moon flew , camera unfortunately aimed space attempt . RANGER 4 , launched April 23 , 1962 , purpose RANGER 3 , suffered problems enroute crashed farside , U.S. probe reach Moon , albeit without returning data . RANGER 5 , launched October 18 , 1962 RANGER 3 4 , lost panel battery power enroute eventually missed Moon drifted orbit . RANGER 6 9 modified missions : They send back images lunar surface headed towards Moon . RANGER 6 failed 1964 operate . RANGER 7 9 performed well , becoming U.S. lunar probes return thousands lunar images 1965 . LUNAR ORBITER ( LUNAR SURFACE PHOTOGRAPHY ) LUNAR ORBITER 1 5 designed orbit Moon image sites studied landing areas manned APOLLO missions 1969-1972 . probes also contributed greatly surface features , particularly farside . five probes series , launched 1966 1967 , essentially missions . They first U.S. probes orbit Moon . LOs eventually crashed surface interference manned APOLLO missions . SURVEYOR ( LUNAR SOFT LANDERS ) SURVEYOR series designed primarily see APOLLO lunar module could land surface Moon without sinking soil ( time , feared Moon covered layers dust , would support landing vehicle ) . SURVEYOR proving surface enough hold spacecraft 1966 1968 . Only SURVEYOR 2 4 missions . rest became U.S. probes land Moon , taking thousands images scooping soil analysis . APOLLO 12 landed 600 feet SURVEYOR 3 1969 returned parts craft Earth . SURVEYOR 7 , series , purely mission explored Tycho crater region 1968 . VIKING ( MARS ORBITERS AND LANDERS ) VIKING 1 Cape Canaveral , Florida August 20 , 1975 TITAN D1 rocket . probe went orbit June 19 , 1976 , lander set slopes Chryse Planitia July 20 , 1976 . It soon began programmed search micro-organisms ( still debate whether probes found life ) , sent back color panoramas surroundings . One thing scientists learned Mars ' sky pinkish color , blue originally thought ( pink sunlight reflecting dust particles thin atmosphere ) . lander set among field sand boulders stretching far cameras could image . VIKING 1 orbiter kept functioning August 7 , 1980 , ran attitude-control propellant . lander switched mode , hoped would keep functioning 1994 ; November 13 , 1982 , command sent lander accidentally telling orders . Communication never regained , despite engineers ' efforts May 1983 . side note : VIKING 1 's lander designated Thomas A. Mutch Memorial Station honor leader lander imaging team . National Air Space Museum Washington , D.C. entrusted safekeeping Mutch Station Plaque attached lander manned expedition . VIKING 2 launched September 9 , 1975 , arrived orbit August 7 , 1976 . lander touched September 3 , 1976 Utopia Planitia . It accomplished essentially sister lander , exception seisometer worked , recording one marsquake . series attitude-control gas leaks 1978 , prompted shut July . lander shut April 12 , 1980 . orbits VIKING orbiters decay around 2025 . VOYAGER ( OUTER PLANET FLYBYS ) VOYAGER 1 launched September 5 , 1977 , flew Jupiter March 5 , 1979 Saturn November 13 , 1980 . VOYAGER 2 launched August 20 , 1977 ( VOYAGER 1 ) , flew Jupiter August 7 , 1979 , Saturn August 26 , 1981 , Uranus January 24 , 1986 , Neptune August 8 , 1989 . VOYAGER 2 took advantage alignment way planet outer planet . VOYAGER 1 could , principle , headed towards Pluto , JPL opted thing Titan close . Between two probes , knowledge 4 planets , satellites , rings become . VOYAGER 1 & 2 discovered Jupiter complicated dynamics , lightning aurorae . Three satellites discovered . Two surprises Jupiter rings Io volcanoes , effects magnetosphere . When two probes reached Saturn , discovered 1000 ringlets 7 satellites , including predicted shepherd satellites rings . weather tame compared Jupiter : jet streams variance ( spot/band cycle known ) . Titan 's smoggy . Mimas ' appearance startling : one impact crater gave Death Star appearance . surprise stranger aspects rings . Braids , kinks , spokes unexpected explain . VOYAGER 2 , thanks heroic engineering programming efforts , continued mission Uranus Neptune . Uranus highly appearance . One oddity axis found highly already completely axis , giving Uranus peculiar magnetosphere . Icy channels found Ariel , Miranda bizarre patchwork terrains . 10 satellites one ring discovered . In contrast Uranus , Neptune found rather weather , including cloud features . ring arcs turned patches one ring . Two rings , 6 satellites , discovered . Neptune 's axis also skewed . Triton canteloupe appearance geysers . ( What 's 38K ? ) two VOYAGERs expected two decades . Their journeying gives evidence planets beyond Pluto . Their discovery location heliopause . SOVIET PLANETARY MISSIONS Since probes Moon , Venus , Mars , I highlight missions : SOVIET LUNAR PROBES LUNA 1 - Lunar impact attempt 1959 , missed Moon became craft orbit . LUNA 2 - First craft impact surface 1959 . LUNA 3 - Took first images lunar farside 1959 . ZOND 3 - Took first images lunar farside 1965 since LUNA 3 . Was also test Mars missions . LUNA 9 - First probe land Moon 1966 , returned images surface . LUNA 10 - First probe orbit Moon 1966 . LUNA 13 - lunar landing mission 1966 . ZOND 5 - First circumlunar craft . ZOND 6 8 accomplished missions 1970 . probes tests manned orbiting lunar vehicle . LUNA 16 - First probe land Moon return samples lunar soil Earth 1970 . LUNA 20 accomplished mission 1972 . LUNA 17 - Delivered first lunar rover Moon 's surface , LUNOKHOD 1 , 1970 . feat accomplished LUNA 21/LUNOKHOD 2 1973 . LUNA 24 - mission date . Returned soil samples 1976 . SOVIET VENUS PROBES VENERA 1 - First acknowledged Venus mission . Transmissions lost 1961 . VENERA 2 - Attempt image Venus flyby mission tandem VENERA 3 . Probe ceased transmitting encounter February 1966 . images returned . VENERA 3 - Attempt place lander capsule surface . Transmissions ceased encounter probe became craft impact planet 1966 . VENERA 4 - First probe successfully data descending atmosphere . Crushed air pressure reaching surface 1967 . VENERA 5 6 mission profiles 1969 . VENERA 7 - probe return data surface planet 1970 . VENERA 8 accomplished detailed mission 1972 . VENERA 9 - Sent first image surface 1975 . Was also first orbit Venus . VENERA 10 accomplished mission . VENERA 13 - Returned color images surface 1982 . VENERA 14 accomplished mission . VENERA 15 - Accomplished radar mapping VENERA 16 sections planet 's surface 1983 PVO . VEGA 1 - Accomplished VEGA 2 balloon probes Venusian atmosphere 1985 , including two landers . Flyby buses went become spacecraft study Comet Halley close-up March 1986 . MARS PROBES MARS 1 - First acknowledged Mars probe 1962 . Transmissions ceased enroute following year . ZOND 2 - First attempt place lander capsule surface . Probe signals ceased 1965 . MARS 2 - First Soviet Mars probe land - albeit crash - surface . Orbiter section first probe circle Red Planet 1971 . MARS 3 - First landing surface , lander signals ceased 90 seconds 1971 . MARS 4 - Attempt orbiting Mars 1974 , braking rockets failed fire , probe went orbit . MARS 5 - First fully Mars mission , orbiting Mars 1974 . Returned images surface U.S. probe MARINER 9 . MARS 6 - Landing attempt 1974 . Lander crashed surface . MARS 7 - Lander missed Mars completely 1974 , went orbit bus . PHOBOS 1 - First attempt land probes surface Mars ' largest moon , Phobos . Probe failed 1988 human/computer error . PHOBOS 2 - Attempt land probes moon Phobos . probe enter Mars orbit 1989 , signals ceased one week scheduled Phobos landing . While talk Jupiter , Saturn , even probes within thirty years , steps yet taken projects . More studies Moon , Mars , Venus , comets planned 1990s , Mercury mission orbit land probes world planned 2003 . How changes Soviet Union ( Commonwealth Independent States ) affect space program remains seen . JAPANESE PLANETARY MISSIONS SAKIGAKE ( MS-T5 ) launched Kagoshima Space Center ISAS January 8 1985 , approached Halley 's Comet within 7 million km March 11 , 1986 . spacecraft carrying three ments measure field/plasma waves/solar wind , work normally , ISAS made Earth swingby Sakigake January 8 , 1992 orbit earth 's . closest approach 23h08m47s ( JST=UTC+9h ) January 8 , 1992 . distance 88,997 km . spacecraft . During approach , Sakigake observed geotail . geotail passages scheduled years hence . Earth-swingby June 14 , 1993 ( 40 Re ( Earth 's radius ) ) , October 28 , 1994 ( 86 Re ) . HITEN , lunar probe , launched Earth orbit January 24 , 1990 . spacecraft known MUSES-A , renamed Hiten orbit . 430 lb probe looped Earth made flyby March 19 , dropped 26 midget satellite , HAGOROMO . Japan point became nation orbit around Moon , joining Unites States USSR . smaller spacecraft , Hagoromo , remained orbit around Moon . apparently transistor radio caused space scientists lose track . Hagoromo 's rocket motor fired schedule March 19 , spacecraft 's tracking transmitter failed immediately . rocket firing Hagoromo optically confirmed using Schmidt camera ( , F3.1 ) Kiso Observatory Japan . Hiten made flybys approximately intervals performed aerobraking experiments using Earth 's atmosphere . Hiten made approach moon 22:33 JST ( UTC+9h ) February 15 , 1992 height 423 km moon 's surface ( 35.3N , 9.7E ) fired propulsion system minutes put craft lunar orbit . calculation results approach : Altitude : 49,400 km Periapsis Altitude : 9,600 km Inclination : 34.7 deg ( plane ) Period : 4.7 days PLANETARY MISSION REFERENCES I also recommend reading following works , categorized three groups : General overviews , books space missions , sources space probes . list means ; primarily designed places start research generally works subject . If anyone add works list , would greatly appreciated . Though naturally I recommend books listed , I think would best started overview books , order give idea history space exploration area . I also recommend pick , works astronomy Sol system , give background . Most books periodicals found university library . recently published works also purchased and/or ordered market bookstore . General Overviews ( order author ) : J. Kelly Beatty et al , THE NEW SOLAR SYSTEM , 1990 . Merton E. Davies Bruce C. Murray , THE VIEW FROM SPACE : PHOTOGRAPHIC EXPLORATION OF THE PLANETS , 1971 Kenneth Gatland , THE ILLUSTRATED ENCYCLOPEDIA OF SPACE TECHNOLOGY , 1990 Kenneth Gatland , ROBOT EXPLORERS , 1972 R. Greeley , PLANETARY LANDSCAPES , 1987 Douglas Hart , THE ENCYCLOPEDIA OF SOVIET SPACECRAFT , 1987 Nicholas L. Johnson , HANDBOOK OF SOVIET LUNAR AND PLANETARY EXPLORATION , 1979 Clayton R. Koppes , JPL AND THE AMERICAN SPACE PROGRAM : HISTORY OF THE JET PROPULSION LABORATORY , 1982 Richard S. Lewis , THE ILLUSTRATED ENCYCLOPEDIA OF THE UNIVERSE , 1983 Mark Littman , PLANETS BEYOND : DISCOVERING OUTER SOLAR SYSTEM , 1988 Eugene F. Mallove Gregory L. Matloff , THE STARFLIGHT HANDBOOK : PIONEER 'S GUIDE TO INTERSTELLAR TRAVEL , 1989 Frank Miles Nicholas Booth , RACE TO MARS : MARS FLIGHT ATLAS , 1988 Bruce Murray , JOURNEY INTO SPACE , 1989 Oran W. Nicks , FAR TRAVELERS , 1985 ( NASA SP-480 ) James E. Oberg , UNCOVERING SOVIET DISASTERS : EXPLORING LIMITS OF GLASNOST , 1988 Carl Sagan , COMET , 1986 Carl Sagan , THE COSMIC CONNECTION , 1973 Carl Sagan , PLANETS , 1969 ( LIFE Science Library ) Arthur Smith , PLANETARY EXPLORATION : THIRTY YEARS OF UNMANNED SPACE PROBES , 1988 Andrew Wilson , ( JANE 'S ) SOLAR SYSTEM LOG , 1987 Specific Mission References : Charles A . Cross Patrick Moore , THE ATLAS OF MERCURY , 1977 ( MARINER 10 mission Venus Mercury , ) Joel Davis , FLYBY : INTERPLANETARY ODYSSEY OF VOYAGER 2 , 1987 Irl Newlan , FIRST TO VENUS : THE STORY OF MARINER 2 , 1963 Margaret Poynter Arthur L. Lane , VOYAGER : THE STORY OF A SPACE MISSION , 1984 Carl Sagan , MURMURS OF EARTH , 1978 ( Deals Earth information records placed VOYAGER 1 2 case probes found intelligences space , well mission objectives . ) works periodicals : NASA published books space probe mission launched . university libraries carry books , easily found simply knowing mission read . I recommend works first study books listed . periodicals I recommend reading space probes NATIONAL GEOGRAPHIC , written articles PIONEER probes Earth 's Moon Luna Jovian planets Jupiter Saturn , RANGER , SURVEYOR , LUNAR ORBITER , APOLLO missions Luna , MARINER missions Mercury , Venus , Mars , VIKING probes Mars , VOYAGER missions Jupiter , Saturn , Uranus , Neptune . More details American , Soviet , European , probe missions found SKY AND TELESCOPE , ASTRONOMY , SCIENCE , NATURE , SCIENTIFIC AMERICAN magazines . TIME , NEWSWEEK , newspapers supply information missions , also show else going time events , interest . Space missions affected , , factors , probably know . Depending far interest space probes go , might also wish join Planetary Society , one largest space groups world dedicated exploration . Their , THE PLANETARY REPORT , details latest space probe missions . Write Planetary Society , 65 North Catalina Avenue , Pasadena , California 91106 USA . luck studies area space exploration . I personally find missions one exciting areas field , benefits society receive , yet realized . Larry Klaes klaes @ verga.enet.dec.com NEXT : FAQ # 11/15 - Upcoming probes - missions schedules \n"
          ],
          "name": "stdout"
        }
      ]
    },
    {
      "cell_type": "markdown",
      "metadata": {
        "id": "UlNBcBbA-BaP"
      },
      "source": [
        "## Hidden Markov Models\n",
        "\n"
      ]
    },
    {
      "cell_type": "code",
      "metadata": {
        "id": "_0IGJxTDyiWj"
      },
      "source": [
        "CONST = 2\n",
        "n = 4\n",
        "threshold = 1.0e-120"
      ],
      "execution_count": null,
      "outputs": []
    },
    {
      "cell_type": "code",
      "metadata": {
        "id": "9sPMH9lNO_1V"
      },
      "source": [
        "from keras.preprocessing.text import Tokenizer\n",
        "from keras.utils import np_utils, to_categorical\n",
        "from keras.models import Sequential\n",
        "from keras.layers import Dense, SimpleRNN, Embedding, LSTM\n",
        "from keras.preprocessing.sequence import pad_sequences\n",
        "import numpy as np"
      ],
      "execution_count": null,
      "outputs": []
    },
    {
      "cell_type": "code",
      "metadata": {
        "id": "8-O9pf-B3DNl"
      },
      "source": [
        "# Preprocess data\n",
        "tokenizer = Tokenizer()\n",
        "tokenizer.fit_on_texts(sentences)\n",
        "vocab = tokenizer.word_index\n",
        "seqs = tokenizer.texts_to_sequences(sentences)"
      ],
      "execution_count": null,
      "outputs": []
    },
    {
      "cell_type": "code",
      "metadata": {
        "id": "F7B6wb5kPKAI"
      },
      "source": [
        "def prepare_sentence(seq, maxlen):\n",
        "    # Pads seq and slides windows\n",
        "    x = []\n",
        "    y = []\n",
        "    for i, w in enumerate(seq):\n",
        "        x_padded = pad_sequences([seq[:i]],\n",
        "                                 maxlen=maxlen - 1,\n",
        "                                 padding='pre')[0]  # Pads before each sequence\n",
        "        x.append(x_padded)\n",
        "        y.append(w)\n",
        "    return x, y\n",
        "\n",
        "# Pad sequences and slide windows\n",
        "maxlen = max([len(seq) for seq in seqs])\n",
        "x = []\n",
        "y = []\n",
        "for seq in seqs:\n",
        "    x_windows, y_windows = prepare_sentence(seq, maxlen)\n",
        "    x += x_windows\n",
        "    y += y_windows\n",
        "x = np.array(x)\n",
        "y = np.array(y) - 1  # The word <PAD> does not constitute a class\n",
        "y = np.eye(len(vocab))[y]  # One hot encoding"
      ],
      "execution_count": null,
      "outputs": []
    },
    {
      "cell_type": "code",
      "metadata": {
        "colab": {
          "base_uri": "https://localhost:8080/"
        },
        "id": "SxOlkYpdXMfX",
        "outputId": "da02feaa-a17f-48ae-b4f3-c62f624c1550"
      },
      "source": [
        "# Define model\n",
        "model = Sequential()\n",
        "model.add(Embedding(input_dim=len(vocab) + 1,  # vocabulary size. Adding an\n",
        "                                               # extra element for <PAD> word\n",
        "                    output_dim=5,  # size of embeddings\n",
        "                    input_length=maxlen - 1))  # length of the padded sequences\n",
        "model.add(LSTM(10))\n",
        "model.add(Dense(len(vocab), activation='softmax'))\n",
        "model.compile('rmsprop', 'categorical_crossentropy', metrics = ['accuracy'])\n",
        "\n",
        "# Train network\n",
        "model.fit(x, y, epochs=100)"
      ],
      "execution_count": null,
      "outputs": [
        {
          "output_type": "stream",
          "text": [
            "Epoch 1/100\n",
            "8/8 [==============================] - 2s 6ms/step - loss: 5.0752 - accuracy: 0.0129 \n",
            "Epoch 2/100\n",
            "8/8 [==============================] - 0s 6ms/step - loss: 5.0699 - accuracy: 0.0854\n",
            "Epoch 3/100\n",
            "8/8 [==============================] - 0s 6ms/step - loss: 5.0667 - accuracy: 0.0582\n",
            "Epoch 4/100\n",
            "8/8 [==============================] - 0s 6ms/step - loss: 5.0615 - accuracy: 0.0754\n",
            "Epoch 5/100\n",
            "8/8 [==============================] - 0s 6ms/step - loss: 5.0577 - accuracy: 0.0488\n",
            "Epoch 6/100\n",
            "8/8 [==============================] - 0s 6ms/step - loss: 5.0482 - accuracy: 0.0670\n",
            "Epoch 7/100\n",
            "8/8 [==============================] - 0s 6ms/step - loss: 5.0411 - accuracy: 0.0587\n",
            "Epoch 8/100\n",
            "8/8 [==============================] - 0s 6ms/step - loss: 5.0270 - accuracy: 0.0638\n",
            "Epoch 9/100\n",
            "8/8 [==============================] - 0s 6ms/step - loss: 5.0025 - accuracy: 0.0498\n",
            "Epoch 10/100\n",
            "8/8 [==============================] - 0s 6ms/step - loss: 4.9614 - accuracy: 0.0732\n",
            "Epoch 11/100\n",
            "8/8 [==============================] - 0s 6ms/step - loss: 4.9461 - accuracy: 0.0669\n",
            "Epoch 12/100\n",
            "8/8 [==============================] - 0s 7ms/step - loss: 4.9059 - accuracy: 0.0646\n",
            "Epoch 13/100\n",
            "8/8 [==============================] - 0s 6ms/step - loss: 4.8914 - accuracy: 0.0895\n",
            "Epoch 14/100\n",
            "8/8 [==============================] - 0s 6ms/step - loss: 4.8761 - accuracy: 0.0649\n",
            "Epoch 15/100\n",
            "8/8 [==============================] - 0s 6ms/step - loss: 4.8685 - accuracy: 0.0663\n",
            "Epoch 16/100\n",
            "8/8 [==============================] - 0s 9ms/step - loss: 4.8297 - accuracy: 0.0695\n",
            "Epoch 17/100\n",
            "8/8 [==============================] - 0s 6ms/step - loss: 4.8209 - accuracy: 0.0689\n",
            "Epoch 18/100\n",
            "8/8 [==============================] - 0s 6ms/step - loss: 4.8755 - accuracy: 0.0624\n",
            "Epoch 19/100\n",
            "8/8 [==============================] - 0s 6ms/step - loss: 4.8407 - accuracy: 0.0573\n",
            "Epoch 20/100\n",
            "8/8 [==============================] - 0s 9ms/step - loss: 4.7991 - accuracy: 0.0529\n",
            "Epoch 21/100\n",
            "8/8 [==============================] - 0s 6ms/step - loss: 4.8162 - accuracy: 0.0657\n",
            "Epoch 22/100\n",
            "8/8 [==============================] - 0s 7ms/step - loss: 4.8032 - accuracy: 0.0659\n",
            "Epoch 23/100\n",
            "8/8 [==============================] - 0s 6ms/step - loss: 4.7684 - accuracy: 0.0763\n",
            "Epoch 24/100\n",
            "8/8 [==============================] - 0s 7ms/step - loss: 4.8105 - accuracy: 0.0533\n",
            "Epoch 25/100\n",
            "8/8 [==============================] - 0s 7ms/step - loss: 4.7873 - accuracy: 0.0748\n",
            "Epoch 26/100\n",
            "8/8 [==============================] - 0s 6ms/step - loss: 4.7986 - accuracy: 0.0800\n",
            "Epoch 27/100\n",
            "8/8 [==============================] - 0s 6ms/step - loss: 4.7741 - accuracy: 0.0640\n",
            "Epoch 28/100\n",
            "8/8 [==============================] - 0s 7ms/step - loss: 4.8029 - accuracy: 0.0512\n",
            "Epoch 29/100\n",
            "8/8 [==============================] - 0s 8ms/step - loss: 4.8256 - accuracy: 0.0570\n",
            "Epoch 30/100\n",
            "8/8 [==============================] - 0s 7ms/step - loss: 4.7691 - accuracy: 0.0759\n",
            "Epoch 31/100\n",
            "8/8 [==============================] - 0s 7ms/step - loss: 4.7858 - accuracy: 0.0706\n",
            "Epoch 32/100\n",
            "8/8 [==============================] - 0s 9ms/step - loss: 4.7782 - accuracy: 0.0668\n",
            "Epoch 33/100\n",
            "8/8 [==============================] - 0s 6ms/step - loss: 4.7525 - accuracy: 0.0682\n",
            "Epoch 34/100\n",
            "8/8 [==============================] - 0s 7ms/step - loss: 4.7755 - accuracy: 0.0624\n",
            "Epoch 35/100\n",
            "8/8 [==============================] - 0s 7ms/step - loss: 4.8144 - accuracy: 0.0472\n",
            "Epoch 36/100\n",
            "8/8 [==============================] - 0s 7ms/step - loss: 4.7717 - accuracy: 0.0759\n",
            "Epoch 37/100\n",
            "8/8 [==============================] - 0s 6ms/step - loss: 4.7810 - accuracy: 0.0667\n",
            "Epoch 38/100\n",
            "8/8 [==============================] - 0s 6ms/step - loss: 4.8404 - accuracy: 0.0532\n",
            "Epoch 39/100\n",
            "8/8 [==============================] - 0s 6ms/step - loss: 4.8214 - accuracy: 0.0743\n",
            "Epoch 40/100\n",
            "8/8 [==============================] - 0s 6ms/step - loss: 4.7710 - accuracy: 0.0757\n",
            "Epoch 41/100\n",
            "8/8 [==============================] - 0s 6ms/step - loss: 4.7640 - accuracy: 0.0660\n",
            "Epoch 42/100\n",
            "8/8 [==============================] - 0s 6ms/step - loss: 4.7383 - accuracy: 0.0732\n",
            "Epoch 43/100\n",
            "8/8 [==============================] - 0s 6ms/step - loss: 4.7284 - accuracy: 0.0840\n",
            "Epoch 44/100\n",
            "8/8 [==============================] - 0s 6ms/step - loss: 4.7875 - accuracy: 0.0654\n",
            "Epoch 45/100\n",
            "8/8 [==============================] - 0s 6ms/step - loss: 4.7744 - accuracy: 0.0686\n",
            "Epoch 46/100\n",
            "8/8 [==============================] - 0s 6ms/step - loss: 4.7667 - accuracy: 0.0582\n",
            "Epoch 47/100\n",
            "8/8 [==============================] - 0s 7ms/step - loss: 4.7561 - accuracy: 0.0685\n",
            "Epoch 48/100\n",
            "8/8 [==============================] - 0s 10ms/step - loss: 4.7690 - accuracy: 0.0582\n",
            "Epoch 49/100\n",
            "8/8 [==============================] - 0s 8ms/step - loss: 4.7165 - accuracy: 0.0746\n",
            "Epoch 50/100\n",
            "8/8 [==============================] - 0s 6ms/step - loss: 4.7789 - accuracy: 0.0612\n",
            "Epoch 51/100\n",
            "8/8 [==============================] - 0s 6ms/step - loss: 4.7133 - accuracy: 0.0663\n",
            "Epoch 52/100\n",
            "8/8 [==============================] - 0s 6ms/step - loss: 4.7673 - accuracy: 0.0489\n",
            "Epoch 53/100\n",
            "8/8 [==============================] - 0s 8ms/step - loss: 4.6995 - accuracy: 0.0827\n",
            "Epoch 54/100\n",
            "8/8 [==============================] - 0s 8ms/step - loss: 4.6948 - accuracy: 0.0725\n",
            "Epoch 55/100\n",
            "8/8 [==============================] - 0s 6ms/step - loss: 4.7137 - accuracy: 0.0548\n",
            "Epoch 56/100\n",
            "8/8 [==============================] - 0s 6ms/step - loss: 4.7330 - accuracy: 0.0785\n",
            "Epoch 57/100\n",
            "8/8 [==============================] - 0s 6ms/step - loss: 4.7206 - accuracy: 0.0630\n",
            "Epoch 58/100\n",
            "8/8 [==============================] - 0s 6ms/step - loss: 4.8134 - accuracy: 0.0510\n",
            "Epoch 59/100\n",
            "8/8 [==============================] - 0s 6ms/step - loss: 4.7739 - accuracy: 0.0524\n",
            "Epoch 60/100\n",
            "8/8 [==============================] - 0s 7ms/step - loss: 4.7373 - accuracy: 0.0702\n",
            "Epoch 61/100\n",
            "8/8 [==============================] - 0s 6ms/step - loss: 4.6829 - accuracy: 0.0641\n",
            "Epoch 62/100\n",
            "8/8 [==============================] - 0s 6ms/step - loss: 4.7521 - accuracy: 0.0634\n",
            "Epoch 63/100\n",
            "8/8 [==============================] - 0s 7ms/step - loss: 4.6775 - accuracy: 0.0609\n",
            "Epoch 64/100\n",
            "8/8 [==============================] - 0s 7ms/step - loss: 4.5997 - accuracy: 0.1023\n",
            "Epoch 65/100\n",
            "8/8 [==============================] - 0s 7ms/step - loss: 4.7344 - accuracy: 0.0582\n",
            "Epoch 66/100\n",
            "8/8 [==============================] - 0s 6ms/step - loss: 4.7034 - accuracy: 0.0664\n",
            "Epoch 67/100\n",
            "8/8 [==============================] - 0s 6ms/step - loss: 4.7308 - accuracy: 0.0487\n",
            "Epoch 68/100\n",
            "8/8 [==============================] - 0s 7ms/step - loss: 4.7066 - accuracy: 0.0762\n",
            "Epoch 69/100\n",
            "8/8 [==============================] - 0s 7ms/step - loss: 4.6672 - accuracy: 0.0680\n",
            "Epoch 70/100\n",
            "8/8 [==============================] - 0s 6ms/step - loss: 4.7637 - accuracy: 0.0488\n",
            "Epoch 71/100\n",
            "8/8 [==============================] - 0s 7ms/step - loss: 4.6583 - accuracy: 0.0617\n",
            "Epoch 72/100\n",
            "8/8 [==============================] - 0s 6ms/step - loss: 4.6971 - accuracy: 0.0701\n",
            "Epoch 73/100\n",
            "8/8 [==============================] - 0s 8ms/step - loss: 4.6302 - accuracy: 0.1086\n",
            "Epoch 74/100\n",
            "8/8 [==============================] - 0s 6ms/step - loss: 4.6499 - accuracy: 0.0814\n",
            "Epoch 75/100\n",
            "8/8 [==============================] - 0s 6ms/step - loss: 4.6188 - accuracy: 0.0763\n",
            "Epoch 76/100\n",
            "8/8 [==============================] - 0s 6ms/step - loss: 4.6542 - accuracy: 0.0639\n",
            "Epoch 77/100\n",
            "8/8 [==============================] - 0s 7ms/step - loss: 4.7136 - accuracy: 0.0596\n",
            "Epoch 78/100\n",
            "8/8 [==============================] - 0s 6ms/step - loss: 4.6640 - accuracy: 0.0690\n",
            "Epoch 79/100\n",
            "8/8 [==============================] - 0s 6ms/step - loss: 4.6550 - accuracy: 0.0658\n",
            "Epoch 80/100\n",
            "8/8 [==============================] - 0s 6ms/step - loss: 4.6591 - accuracy: 0.0579\n",
            "Epoch 81/100\n",
            "8/8 [==============================] - 0s 7ms/step - loss: 4.6913 - accuracy: 0.0611\n",
            "Epoch 82/100\n",
            "8/8 [==============================] - 0s 10ms/step - loss: 4.6309 - accuracy: 0.0820\n",
            "Epoch 83/100\n",
            "8/8 [==============================] - 0s 7ms/step - loss: 4.6694 - accuracy: 0.0649\n",
            "Epoch 84/100\n",
            "8/8 [==============================] - 0s 6ms/step - loss: 4.6401 - accuracy: 0.0686\n",
            "Epoch 85/100\n",
            "8/8 [==============================] - 0s 7ms/step - loss: 4.5794 - accuracy: 0.0699\n",
            "Epoch 86/100\n",
            "8/8 [==============================] - 0s 6ms/step - loss: 4.5511 - accuracy: 0.0704\n",
            "Epoch 87/100\n",
            "8/8 [==============================] - 0s 6ms/step - loss: 4.6276 - accuracy: 0.0809\n",
            "Epoch 88/100\n",
            "8/8 [==============================] - 0s 6ms/step - loss: 4.6099 - accuracy: 0.0710\n",
            "Epoch 89/100\n",
            "8/8 [==============================] - 0s 8ms/step - loss: 4.5472 - accuracy: 0.0790\n",
            "Epoch 90/100\n",
            "8/8 [==============================] - 0s 6ms/step - loss: 4.5440 - accuracy: 0.0624\n",
            "Epoch 91/100\n",
            "8/8 [==============================] - 0s 7ms/step - loss: 4.5093 - accuracy: 0.0920\n",
            "Epoch 92/100\n",
            "8/8 [==============================] - 0s 7ms/step - loss: 4.6115 - accuracy: 0.0661\n",
            "Epoch 93/100\n",
            "8/8 [==============================] - 0s 6ms/step - loss: 4.5336 - accuracy: 0.0804\n",
            "Epoch 94/100\n",
            "8/8 [==============================] - 0s 6ms/step - loss: 4.5290 - accuracy: 0.0777\n",
            "Epoch 95/100\n",
            "8/8 [==============================] - 0s 7ms/step - loss: 4.5718 - accuracy: 0.0680\n",
            "Epoch 96/100\n",
            "8/8 [==============================] - 0s 6ms/step - loss: 4.4278 - accuracy: 0.0616\n",
            "Epoch 97/100\n",
            "8/8 [==============================] - 0s 8ms/step - loss: 4.5236 - accuracy: 0.0775\n",
            "Epoch 98/100\n",
            "8/8 [==============================] - 0s 7ms/step - loss: 4.5159 - accuracy: 0.0644\n",
            "Epoch 99/100\n",
            "8/8 [==============================] - 0s 7ms/step - loss: 4.5609 - accuracy: 0.0651\n",
            "Epoch 100/100\n",
            "8/8 [==============================] - 0s 6ms/step - loss: 4.5312 - accuracy: 0.0578\n"
          ],
          "name": "stdout"
        },
        {
          "output_type": "execute_result",
          "data": {
            "text/plain": [
              "<tensorflow.python.keras.callbacks.History at 0x7f36b7542990>"
            ]
          },
          "metadata": {
            "tags": []
          },
          "execution_count": 51
        }
      ]
    },
    {
      "cell_type": "code",
      "metadata": {
        "id": "Gr8g9QfuXLgS"
      },
      "source": [
        "# Compute probability of occurence of a sentence\n",
        "def probability_of_sentence(sentence):\n",
        "  tok = tokenizer.texts_to_sequences([sentence])[0]\n",
        "  x_test, y_test = prepare_sentence(tok, maxlen)\n",
        "  x_test = np.array(x_test)\n",
        "  y_test = np.array(y_test) - 1  # The word <PAD> does not constitute a class\n",
        "  p_pred = model.predict(x_test)  # array of conditional probabilities\n",
        "  vocab_inv = {v: k for k, v in vocab.items()}\n",
        "\n",
        "  # Compute product\n",
        "  # Efficient version: np.exp(np.sum(np.log(np.diag(p_pred[:, y_test]))))\n",
        "  log_p_sentence = 0\n",
        "  for i, prob in enumerate(p_pred):\n",
        "      word = vocab_inv[y_test[i]+1]  # Index 0 from vocab is reserved to <PAD>\n",
        "      history = ' '.join([vocab_inv[w] for w in x_test[i, :] if w != 0])\n",
        "      prob_word = prob[y_test[i]]\n",
        "      log_p_sentence += np.log(prob_word)\n",
        "      # print('P(w={}|h={})={}'.format(word, history, prob_word))\n",
        "  return np.exp(log_p_sentence)"
      ],
      "execution_count": null,
      "outputs": []
    },
    {
      "cell_type": "code",
      "metadata": {
        "id": "rYlhWkE5ZPS9"
      },
      "source": [
        "import pandas as pd\n",
        "\n",
        "df = pd.DataFrame(columns = ['Sentence', 'Probability'])"
      ],
      "execution_count": null,
      "outputs": []
    },
    {
      "cell_type": "code",
      "metadata": {
        "id": "xSjXyAeYqAO_"
      },
      "source": [
        "# txt = txt.split(\" .\")\n",
        "word_list = ['', '', '', '', '', '', '', '']\n",
        "\n",
        "for i in range(len(sentences)):\n",
        "  words = sentences[i].split(\" .\")\n",
        "  num_words = len(words)\n",
        "  for j in range(num_words):\n",
        "    word_list[3] = words[j]\n",
        "    if j + n <= num_words:\n",
        "      word_list[5] = words[j + n]\n",
        "    if j - n >= 0:\n",
        "      word_list[2] = words[j - n]\n",
        "    if j + 1 < num_words:\n",
        "      word_list[4] = words[j + 1]\n",
        "    if i - CONST >= 0:\n",
        "      word_list[0] = sentences[i - CONST].split(\" .\")[j]\n",
        "    if i - CONST + 1>= 0:\n",
        "      word_list[1] = sentences[i - CONST + 1].split(\" .\")[j]\n",
        "    if i + CONST < len(sentences):\n",
        "      word_list[7] = sentences[i + CONST].split(\" .\")[j]\n",
        "    if i + CONST - 1 < len(sentences):\n",
        "      word_list[6] = sentences[i + CONST - 1].split(\" .\")[j]\n",
        "    final_str = \" \".join(word_list)\n",
        "    df = df.append({'Sentence':final_str, 'Probability':probability_of_sentence(final_str)}, ignore_index = True)"
      ],
      "execution_count": null,
      "outputs": []
    },
    {
      "cell_type": "code",
      "metadata": {
        "colab": {
          "base_uri": "https://localhost:8080/",
          "height": 326
        },
        "id": "ICgJfWqRZyJ-",
        "outputId": "90ed4023-2dbe-4fa9-8526-b374546d8666"
      },
      "source": [
        "df"
      ],
      "execution_count": null,
      "outputs": [
        {
          "output_type": "execute_result",
          "data": {
            "text/html": [
              "<div>\n",
              "<style scoped>\n",
              "    .dataframe tbody tr th:only-of-type {\n",
              "        vertical-align: middle;\n",
              "    }\n",
              "\n",
              "    .dataframe tbody tr th {\n",
              "        vertical-align: top;\n",
              "    }\n",
              "\n",
              "    .dataframe thead th {\n",
              "        text-align: right;\n",
              "    }\n",
              "</style>\n",
              "<table border=\"1\" class=\"dataframe\">\n",
              "  <thead>\n",
              "    <tr style=\"text-align: right;\">\n",
              "      <th></th>\n",
              "      <th>Sentence</th>\n",
              "      <th>Probability</th>\n",
              "    </tr>\n",
              "  </thead>\n",
              "  <tbody>\n",
              "    <tr>\n",
              "      <th>0</th>\n",
              "      <td>Ad sales boost Time Warner profit   Quarterly profits at US media giant TimeWarner jumped 76% to $1.13bn (£600m) for the three months to December, from $639m year-earlier. The firm, which is no...</td>\n",
              "      <td>9.782486e-53</td>\n",
              "    </tr>\n",
              "    <tr>\n",
              "      <th>1</th>\n",
              "      <td>Ad sales boost Time Warner profit  Quarterly profits at US media giant TimeWarner jumped 76% to $1.13bn (£600m) for the three months to December, from $639m year-earlier.   The firm, which is now...</td>\n",
              "      <td>3.001788e-117</td>\n",
              "    </tr>\n",
              "    <tr>\n",
              "      <th>2</th>\n",
              "      <td>Ad sales boost Time Warner profit Quarterly profits at US media giant TimeWarner jumped 76% to $1.13bn (£600m) for the three months to December, from $639m year-earlier.  The firm, which is now on...</td>\n",
              "      <td>5.195843e-184</td>\n",
              "    </tr>\n",
              "    <tr>\n",
              "      <th>3</th>\n",
              "      <td>Quarterly profits at US media giant TimeWarner jumped 76% to $1.13bn (£600m) for the three months to December, from $639m year-earlier. The firm, which is now one of the biggest investors in Googl...</td>\n",
              "      <td>6.817101e-283</td>\n",
              "    </tr>\n",
              "    <tr>\n",
              "      <th>4</th>\n",
              "      <td>The firm, which is now one of the biggest investors in Google, benefited from sales of high-speed internet connections and higher advert sales. TimeWarner said fourth quarter sales rose 2% to $11....</td>\n",
              "      <td>0.000000e+00</td>\n",
              "    </tr>\n",
              "    <tr>\n",
              "      <th>5</th>\n",
              "      <td>Time Warner said on Friday that it now owns 8% of search-engine Google. But its own internet business, AOL, had has mixed fortunes. It lost 464,000 subscribers in the fourth quarter profits were l...</td>\n",
              "      <td>0.000000e+00</td>\n",
              "    </tr>\n",
              "  </tbody>\n",
              "</table>\n",
              "</div>"
            ],
            "text/plain": [
              "                                                                                                                                                                                                  Sentence    Probability\n",
              "0     Ad sales boost Time Warner profit   Quarterly profits at US media giant TimeWarner jumped 76% to $1.13bn (£600m) for the three months to December, from $639m year-earlier. The firm, which is no...   9.782486e-53\n",
              "1   Ad sales boost Time Warner profit  Quarterly profits at US media giant TimeWarner jumped 76% to $1.13bn (£600m) for the three months to December, from $639m year-earlier.   The firm, which is now...  3.001788e-117\n",
              "2  Ad sales boost Time Warner profit Quarterly profits at US media giant TimeWarner jumped 76% to $1.13bn (£600m) for the three months to December, from $639m year-earlier.  The firm, which is now on...  5.195843e-184\n",
              "3  Quarterly profits at US media giant TimeWarner jumped 76% to $1.13bn (£600m) for the three months to December, from $639m year-earlier. The firm, which is now one of the biggest investors in Googl...  6.817101e-283\n",
              "4  The firm, which is now one of the biggest investors in Google, benefited from sales of high-speed internet connections and higher advert sales. TimeWarner said fourth quarter sales rose 2% to $11....   0.000000e+00\n",
              "5  Time Warner said on Friday that it now owns 8% of search-engine Google. But its own internet business, AOL, had has mixed fortunes. It lost 464,000 subscribers in the fourth quarter profits were l...   0.000000e+00"
            ]
          },
          "metadata": {
            "tags": []
          },
          "execution_count": 60
        }
      ]
    },
    {
      "cell_type": "code",
      "metadata": {
        "colab": {
          "base_uri": "https://localhost:8080/",
          "height": 284
        },
        "id": "DItVGyHqaDe3",
        "outputId": "b3417a58-ddab-4ce8-9624-b5ea26553749"
      },
      "source": [
        "df.describe()"
      ],
      "execution_count": null,
      "outputs": [
        {
          "output_type": "execute_result",
          "data": {
            "text/html": [
              "<div>\n",
              "<style scoped>\n",
              "    .dataframe tbody tr th:only-of-type {\n",
              "        vertical-align: middle;\n",
              "    }\n",
              "\n",
              "    .dataframe tbody tr th {\n",
              "        vertical-align: top;\n",
              "    }\n",
              "\n",
              "    .dataframe thead th {\n",
              "        text-align: right;\n",
              "    }\n",
              "</style>\n",
              "<table border=\"1\" class=\"dataframe\">\n",
              "  <thead>\n",
              "    <tr style=\"text-align: right;\">\n",
              "      <th></th>\n",
              "      <th>Probability</th>\n",
              "    </tr>\n",
              "  </thead>\n",
              "  <tbody>\n",
              "    <tr>\n",
              "      <th>count</th>\n",
              "      <td>6.000000e+00</td>\n",
              "    </tr>\n",
              "    <tr>\n",
              "      <th>mean</th>\n",
              "      <td>1.630414e-53</td>\n",
              "    </tr>\n",
              "    <tr>\n",
              "      <th>std</th>\n",
              "      <td>3.993683e-53</td>\n",
              "    </tr>\n",
              "    <tr>\n",
              "      <th>min</th>\n",
              "      <td>0.000000e+00</td>\n",
              "    </tr>\n",
              "    <tr>\n",
              "      <th>25%</th>\n",
              "      <td>1.704275e-283</td>\n",
              "    </tr>\n",
              "    <tr>\n",
              "      <th>50%</th>\n",
              "      <td>2.597922e-184</td>\n",
              "    </tr>\n",
              "    <tr>\n",
              "      <th>75%</th>\n",
              "      <td>2.251341e-117</td>\n",
              "    </tr>\n",
              "    <tr>\n",
              "      <th>max</th>\n",
              "      <td>9.782486e-53</td>\n",
              "    </tr>\n",
              "  </tbody>\n",
              "</table>\n",
              "</div>"
            ],
            "text/plain": [
              "         Probability\n",
              "count   6.000000e+00\n",
              "mean    1.630414e-53\n",
              "std     3.993683e-53\n",
              "min     0.000000e+00\n",
              "25%    1.704275e-283\n",
              "50%    2.597922e-184\n",
              "75%    2.251341e-117\n",
              "max     9.782486e-53"
            ]
          },
          "metadata": {
            "tags": []
          },
          "execution_count": 61
        }
      ]
    },
    {
      "cell_type": "code",
      "metadata": {
        "id": "1SbWcnvEaPdD"
      },
      "source": [
        "# Filter out all the sentences whose probability > 1.0e-140\n",
        "df = df[df.Probability > 1.0e-117]"
      ],
      "execution_count": null,
      "outputs": []
    },
    {
      "cell_type": "code",
      "metadata": {
        "colab": {
          "base_uri": "https://localhost:8080/",
          "height": 140
        },
        "id": "BKjTQp6Hbhlf",
        "outputId": "52eafd6e-cad6-413c-e0fb-e74a50ba8f28"
      },
      "source": [
        "df"
      ],
      "execution_count": null,
      "outputs": [
        {
          "output_type": "execute_result",
          "data": {
            "text/html": [
              "<div>\n",
              "<style scoped>\n",
              "    .dataframe tbody tr th:only-of-type {\n",
              "        vertical-align: middle;\n",
              "    }\n",
              "\n",
              "    .dataframe tbody tr th {\n",
              "        vertical-align: top;\n",
              "    }\n",
              "\n",
              "    .dataframe thead th {\n",
              "        text-align: right;\n",
              "    }\n",
              "</style>\n",
              "<table border=\"1\" class=\"dataframe\">\n",
              "  <thead>\n",
              "    <tr style=\"text-align: right;\">\n",
              "      <th></th>\n",
              "      <th>Sentence</th>\n",
              "      <th>Probability</th>\n",
              "    </tr>\n",
              "  </thead>\n",
              "  <tbody>\n",
              "    <tr>\n",
              "      <th>0</th>\n",
              "      <td>Ad sales boost Time Warner profit   Quarterly profits at US media giant TimeWarner jumped 76% to $1.13bn (£600m) for the three months to December, from $639m year-earlier. The firm, which is no...</td>\n",
              "      <td>9.782486e-53</td>\n",
              "    </tr>\n",
              "    <tr>\n",
              "      <th>1</th>\n",
              "      <td>Ad sales boost Time Warner profit  Quarterly profits at US media giant TimeWarner jumped 76% to $1.13bn (£600m) for the three months to December, from $639m year-earlier.   The firm, which is now...</td>\n",
              "      <td>3.001788e-117</td>\n",
              "    </tr>\n",
              "  </tbody>\n",
              "</table>\n",
              "</div>"
            ],
            "text/plain": [
              "                                                                                                                                                                                                  Sentence    Probability\n",
              "0     Ad sales boost Time Warner profit   Quarterly profits at US media giant TimeWarner jumped 76% to $1.13bn (£600m) for the three months to December, from $639m year-earlier. The firm, which is no...   9.782486e-53\n",
              "1   Ad sales boost Time Warner profit  Quarterly profits at US media giant TimeWarner jumped 76% to $1.13bn (£600m) for the three months to December, from $639m year-earlier.   The firm, which is now...  3.001788e-117"
            ]
          },
          "metadata": {
            "tags": []
          },
          "execution_count": 63
        }
      ]
    },
    {
      "cell_type": "code",
      "metadata": {
        "id": "4Sc4XZwgSwx-"
      },
      "source": [
        "hmm_summary = \"\"\n",
        "\n",
        "for sentence in df['Sentence']:\n",
        "  hmm_summary += sentence"
      ],
      "execution_count": null,
      "outputs": []
    },
    {
      "cell_type": "code",
      "metadata": {
        "colab": {
          "base_uri": "https://localhost:8080/"
        },
        "id": "cEqcjrN-Ws1A",
        "outputId": "e1108c70-ea44-43f0-af1f-5876092fe7f9"
      },
      "source": [
        "!pip install rouge-score"
      ],
      "execution_count": null,
      "outputs": [
        {
          "output_type": "stream",
          "text": [
            "Collecting rouge-score\n",
            "  Downloading https://files.pythonhosted.org/packages/1f/56/a81022436c08b9405a5247b71635394d44fe7e1dbedc4b28c740e09c2840/rouge_score-0.0.4-py2.py3-none-any.whl\n",
            "Requirement already satisfied: absl-py in /usr/local/lib/python3.7/dist-packages (from rouge-score) (0.12.0)\n",
            "Requirement already satisfied: six>=1.14.0 in /usr/local/lib/python3.7/dist-packages (from rouge-score) (1.15.0)\n",
            "Requirement already satisfied: numpy in /usr/local/lib/python3.7/dist-packages (from rouge-score) (1.19.5)\n",
            "Requirement already satisfied: nltk in /usr/local/lib/python3.7/dist-packages (from rouge-score) (3.2.5)\n",
            "Installing collected packages: rouge-score\n",
            "Successfully installed rouge-score-0.0.4\n"
          ],
          "name": "stdout"
        }
      ]
    },
    {
      "cell_type": "code",
      "metadata": {
        "id": "fX_ue1eheddz"
      },
      "source": [
        "human_summary = \"TimeWarner said fourth quarter sales rose 2% to $11.1bn from $10.9bn.For the full-year, TimeWarner posted a profit of $3.36bn, up 27% from its 2003 performance, while revenues grew 6.4% to $42.09bn.Quarterly profits at US media giant TimeWarner jumped 76% to $1.13bn (£600m) for the three months to December, from $639m year-earlier.However, the company said AOL's underlying profit before exceptional items rose 8% on the back of stronger internet advertising revenues.Its profits were buoyed by one-off gains which offset a profit dip at Warner Bros, and less users for AOL.For 2005, TimeWarner is projecting operating earnings growth of around 5%, and also expects higher revenue and wider profit margins.It lost 464,000 subscribers in the fourth quarter profits were lower than in the preceding three quarters.Time Warner's fourth quarter profits were slightly better than analysts' expectations.\""
      ],
      "execution_count": null,
      "outputs": []
    },
    {
      "cell_type": "code",
      "metadata": {
        "id": "2B4TIa3hWk-H"
      },
      "source": [
        "from rouge_score import rouge_scorer\n",
        "\n",
        "scorer = rouge_scorer.RougeScorer(['rouge1', 'rouge2', 'rouge3','rougeL'], use_stemmer=True)\n",
        "scores = scorer.score(human_summary, hmm_summary)"
      ],
      "execution_count": null,
      "outputs": []
    },
    {
      "cell_type": "code",
      "metadata": {
        "colab": {
          "base_uri": "https://localhost:8080/"
        },
        "id": "L-s7qCO9Wx1s",
        "outputId": "ba6e206a-4ee8-433b-c4ef-bd389883835c"
      },
      "source": [
        "scores"
      ],
      "execution_count": null,
      "outputs": [
        {
          "output_type": "execute_result",
          "data": {
            "text/plain": [
              "{'rouge1': Score(precision=0.42758620689655175, recall=0.8104575163398693, fmeasure=0.5598194130925509),\n",
              " 'rouge2': Score(precision=0.33217993079584773, recall=0.631578947368421, fmeasure=0.43537414965986393),\n",
              " 'rouge3': Score(precision=0.2986111111111111, recall=0.5695364238410596, fmeasure=0.39179954441913434),\n",
              " 'rougeL': Score(precision=0.2896551724137931, recall=0.5490196078431373, fmeasure=0.3792325056433409)}"
            ]
          },
          "metadata": {
            "tags": []
          },
          "execution_count": 67
        }
      ]
    },
    {
      "cell_type": "code",
      "metadata": {
        "id": "dZuGtJNnjQeP",
        "colab": {
          "base_uri": "https://localhost:8080/",
          "height": 137
        },
        "outputId": "7d18581b-8878-459d-e6a2-062a09e1f74a"
      },
      "source": [
        "hmm_summary"
      ],
      "execution_count": null,
      "outputs": [
        {
          "output_type": "execute_result",
          "data": {
            "application/vnd.google.colaboratory.intrinsic+json": {
              "type": "string"
            },
            "text/plain": [
              "\"   Ad sales boost Time Warner profit   Quarterly profits at US media giant TimeWarner jumped 76% to $1.13bn (£600m) for the three months to December, from $639m year-earlier. The firm, which is now one of the biggest investors in Google, benefited from sales of high-speed internet connections and higher advert sales. TimeWarner said fourth quarter sales rose 2% to $11.1bn from $10.9bn. Its profits were buoyed by one-off gains which offset a profit dip at Warner Bros, and less users for AOL. Ad sales boost Time Warner profit  Quarterly profits at US media giant TimeWarner jumped 76% to $1.13bn (£600m) for the three months to December, from $639m year-earlier.   The firm, which is now one of the biggest investors in Google, benefited from sales of high-speed internet connections and higher advert sales. TimeWarner said fourth quarter sales rose 2% to $11.1bn from $10.9bn. Its profits were buoyed by one-off gains which offset a profit dip at Warner Bros, and less users for AOL. Time Warner said on Friday that it now owns 8% of search-engine Google. But its own internet business, AOL, had has mixed fortunes. It lost 464,000 subscribers in the fourth quarter profits were lower than in the preceding three quarters. However, the company said AOL's underlying profit before exceptional items rose 8% on the back of stronger internet advertising revenues. It hopes to increase subscribers by offering the online service free to TimeWarner internet customers and will try to sign up AOL's existing customers for high-speed broadband. TimeWarner also has to restate 2000 and 2003 results following a probe by the US Securities Exchange Commission (SEC), which is close to concluding.\""
            ]
          },
          "metadata": {
            "tags": []
          },
          "execution_count": 68
        }
      ]
    },
    {
      "cell_type": "markdown",
      "metadata": {
        "id": "xupJ7Q01RzPB"
      },
      "source": [
        "## BERT"
      ]
    },
    {
      "cell_type": "code",
      "metadata": {
        "colab": {
          "base_uri": "https://localhost:8080/"
        },
        "id": "4ttyXr7bYvEb",
        "outputId": "b51c96e5-46a2-454d-f36b-d7b9f4855b1f"
      },
      "source": [
        "!pip install bert-extractive-summarizer==0.4.2"
      ],
      "execution_count": null,
      "outputs": [
        {
          "output_type": "stream",
          "text": [
            "Collecting bert-extractive-summarizer==0.4.2\n",
            "  Downloading https://files.pythonhosted.org/packages/23/1d/71f0a5c7f81b1a87d4428a6a935e9ddeb5e662e41512952e11bd10533cd9/bert-extractive-summarizer-0.4.2.tar.gz\n",
            "Collecting transformers\n",
            "\u001b[?25l  Downloading https://files.pythonhosted.org/packages/d8/b2/57495b5309f09fa501866e225c84532d1fd89536ea62406b2181933fb418/transformers-4.5.1-py3-none-any.whl (2.1MB)\n",
            "\u001b[K     |████████████████████████████████| 2.1MB 5.7MB/s \n",
            "\u001b[?25hRequirement already satisfied: scikit-learn in /usr/local/lib/python3.7/dist-packages (from bert-extractive-summarizer==0.4.2) (0.22.2.post1)\n",
            "Requirement already satisfied: spacy in /usr/local/lib/python3.7/dist-packages (from bert-extractive-summarizer==0.4.2) (2.2.4)\n",
            "Requirement already satisfied: requests in /usr/local/lib/python3.7/dist-packages (from transformers->bert-extractive-summarizer==0.4.2) (2.23.0)\n",
            "Requirement already satisfied: filelock in /usr/local/lib/python3.7/dist-packages (from transformers->bert-extractive-summarizer==0.4.2) (3.0.12)\n",
            "Requirement already satisfied: importlib-metadata; python_version < \"3.8\" in /usr/local/lib/python3.7/dist-packages (from transformers->bert-extractive-summarizer==0.4.2) (3.10.1)\n",
            "Requirement already satisfied: regex!=2019.12.17 in /usr/local/lib/python3.7/dist-packages (from transformers->bert-extractive-summarizer==0.4.2) (2019.12.20)\n",
            "Requirement already satisfied: numpy>=1.17 in /usr/local/lib/python3.7/dist-packages (from transformers->bert-extractive-summarizer==0.4.2) (1.19.5)\n",
            "Requirement already satisfied: tqdm>=4.27 in /usr/local/lib/python3.7/dist-packages (from transformers->bert-extractive-summarizer==0.4.2) (4.41.1)\n",
            "Collecting tokenizers<0.11,>=0.10.1\n",
            "\u001b[?25l  Downloading https://files.pythonhosted.org/packages/ae/04/5b870f26a858552025a62f1649c20d29d2672c02ff3c3fb4c688ca46467a/tokenizers-0.10.2-cp37-cp37m-manylinux2010_x86_64.whl (3.3MB)\n",
            "\u001b[K     |████████████████████████████████| 3.3MB 44.5MB/s \n",
            "\u001b[?25hCollecting sacremoses\n",
            "\u001b[?25l  Downloading https://files.pythonhosted.org/packages/75/ee/67241dc87f266093c533a2d4d3d69438e57d7a90abb216fa076e7d475d4a/sacremoses-0.0.45-py3-none-any.whl (895kB)\n",
            "\u001b[K     |████████████████████████████████| 901kB 36.4MB/s \n",
            "\u001b[?25hRequirement already satisfied: packaging in /usr/local/lib/python3.7/dist-packages (from transformers->bert-extractive-summarizer==0.4.2) (20.9)\n",
            "Requirement already satisfied: scipy>=0.17.0 in /usr/local/lib/python3.7/dist-packages (from scikit-learn->bert-extractive-summarizer==0.4.2) (1.4.1)\n",
            "Requirement already satisfied: joblib>=0.11 in /usr/local/lib/python3.7/dist-packages (from scikit-learn->bert-extractive-summarizer==0.4.2) (1.0.1)\n",
            "Requirement already satisfied: blis<0.5.0,>=0.4.0 in /usr/local/lib/python3.7/dist-packages (from spacy->bert-extractive-summarizer==0.4.2) (0.4.1)\n",
            "Requirement already satisfied: preshed<3.1.0,>=3.0.2 in /usr/local/lib/python3.7/dist-packages (from spacy->bert-extractive-summarizer==0.4.2) (3.0.5)\n",
            "Requirement already satisfied: cymem<2.1.0,>=2.0.2 in /usr/local/lib/python3.7/dist-packages (from spacy->bert-extractive-summarizer==0.4.2) (2.0.5)\n",
            "Requirement already satisfied: srsly<1.1.0,>=1.0.2 in /usr/local/lib/python3.7/dist-packages (from spacy->bert-extractive-summarizer==0.4.2) (1.0.5)\n",
            "Requirement already satisfied: plac<1.2.0,>=0.9.6 in /usr/local/lib/python3.7/dist-packages (from spacy->bert-extractive-summarizer==0.4.2) (1.1.3)\n",
            "Requirement already satisfied: murmurhash<1.1.0,>=0.28.0 in /usr/local/lib/python3.7/dist-packages (from spacy->bert-extractive-summarizer==0.4.2) (1.0.5)\n",
            "Requirement already satisfied: thinc==7.4.0 in /usr/local/lib/python3.7/dist-packages (from spacy->bert-extractive-summarizer==0.4.2) (7.4.0)\n",
            "Requirement already satisfied: setuptools in /usr/local/lib/python3.7/dist-packages (from spacy->bert-extractive-summarizer==0.4.2) (56.0.0)\n",
            "Requirement already satisfied: wasabi<1.1.0,>=0.4.0 in /usr/local/lib/python3.7/dist-packages (from spacy->bert-extractive-summarizer==0.4.2) (0.8.2)\n",
            "Requirement already satisfied: catalogue<1.1.0,>=0.0.7 in /usr/local/lib/python3.7/dist-packages (from spacy->bert-extractive-summarizer==0.4.2) (1.0.0)\n",
            "Requirement already satisfied: urllib3!=1.25.0,!=1.25.1,<1.26,>=1.21.1 in /usr/local/lib/python3.7/dist-packages (from requests->transformers->bert-extractive-summarizer==0.4.2) (1.24.3)\n",
            "Requirement already satisfied: certifi>=2017.4.17 in /usr/local/lib/python3.7/dist-packages (from requests->transformers->bert-extractive-summarizer==0.4.2) (2020.12.5)\n",
            "Requirement already satisfied: idna<3,>=2.5 in /usr/local/lib/python3.7/dist-packages (from requests->transformers->bert-extractive-summarizer==0.4.2) (2.10)\n",
            "Requirement already satisfied: chardet<4,>=3.0.2 in /usr/local/lib/python3.7/dist-packages (from requests->transformers->bert-extractive-summarizer==0.4.2) (3.0.4)\n",
            "Requirement already satisfied: zipp>=0.5 in /usr/local/lib/python3.7/dist-packages (from importlib-metadata; python_version < \"3.8\"->transformers->bert-extractive-summarizer==0.4.2) (3.4.1)\n",
            "Requirement already satisfied: typing-extensions>=3.6.4; python_version < \"3.8\" in /usr/local/lib/python3.7/dist-packages (from importlib-metadata; python_version < \"3.8\"->transformers->bert-extractive-summarizer==0.4.2) (3.7.4.3)\n",
            "Requirement already satisfied: click in /usr/local/lib/python3.7/dist-packages (from sacremoses->transformers->bert-extractive-summarizer==0.4.2) (7.1.2)\n",
            "Requirement already satisfied: six in /usr/local/lib/python3.7/dist-packages (from sacremoses->transformers->bert-extractive-summarizer==0.4.2) (1.15.0)\n",
            "Requirement already satisfied: pyparsing>=2.0.2 in /usr/local/lib/python3.7/dist-packages (from packaging->transformers->bert-extractive-summarizer==0.4.2) (2.4.7)\n",
            "Building wheels for collected packages: bert-extractive-summarizer\n",
            "  Building wheel for bert-extractive-summarizer (setup.py) ... \u001b[?25l\u001b[?25hdone\n",
            "  Created wheel for bert-extractive-summarizer: filename=bert_extractive_summarizer-0.4.2-cp37-none-any.whl size=13711 sha256=0f44f75478f766a2498908bd3cfa4988f47b4e44ea867b297c1ab9e505a27cc7\n",
            "  Stored in directory: /root/.cache/pip/wheels/13/bc/30/654eb9e657177a56cba927c5a20b6cd01fb229b1ed2bf9b371\n",
            "Successfully built bert-extractive-summarizer\n",
            "Installing collected packages: tokenizers, sacremoses, transformers, bert-extractive-summarizer\n",
            "Successfully installed bert-extractive-summarizer-0.4.2 sacremoses-0.0.45 tokenizers-0.10.2 transformers-4.5.1\n"
          ],
          "name": "stdout"
        }
      ]
    },
    {
      "cell_type": "code",
      "metadata": {
        "colab": {
          "base_uri": "https://localhost:8080/"
        },
        "id": "YBqSxfpKnzNC",
        "outputId": "1494d888-7b82-4ee9-b012-a2f80822752c"
      },
      "source": [
        "!pip install sentencepiece"
      ],
      "execution_count": null,
      "outputs": [
        {
          "output_type": "stream",
          "text": [
            "Collecting sentencepiece\n",
            "\u001b[?25l  Downloading https://files.pythonhosted.org/packages/f5/99/e0808cb947ba10f575839c43e8fafc9cc44e4a7a2c8f79c60db48220a577/sentencepiece-0.1.95-cp37-cp37m-manylinux2014_x86_64.whl (1.2MB)\n",
            "\r\u001b[K     |▎                               | 10kB 18.2MB/s eta 0:00:01\r\u001b[K     |▌                               | 20kB 10.9MB/s eta 0:00:01\r\u001b[K     |▉                               | 30kB 7.8MB/s eta 0:00:01\r\u001b[K     |█                               | 40kB 6.9MB/s eta 0:00:01\r\u001b[K     |█▍                              | 51kB 4.2MB/s eta 0:00:01\r\u001b[K     |█▋                              | 61kB 4.7MB/s eta 0:00:01\r\u001b[K     |██                              | 71kB 4.8MB/s eta 0:00:01\r\u001b[K     |██▏                             | 81kB 4.9MB/s eta 0:00:01\r\u001b[K     |██▌                             | 92kB 5.2MB/s eta 0:00:01\r\u001b[K     |██▊                             | 102kB 5.4MB/s eta 0:00:01\r\u001b[K     |███                             | 112kB 5.4MB/s eta 0:00:01\r\u001b[K     |███▎                            | 122kB 5.4MB/s eta 0:00:01\r\u001b[K     |███▌                            | 133kB 5.4MB/s eta 0:00:01\r\u001b[K     |███▉                            | 143kB 5.4MB/s eta 0:00:01\r\u001b[K     |████                            | 153kB 5.4MB/s eta 0:00:01\r\u001b[K     |████▍                           | 163kB 5.4MB/s eta 0:00:01\r\u001b[K     |████▋                           | 174kB 5.4MB/s eta 0:00:01\r\u001b[K     |█████                           | 184kB 5.4MB/s eta 0:00:01\r\u001b[K     |█████▏                          | 194kB 5.4MB/s eta 0:00:01\r\u001b[K     |█████▌                          | 204kB 5.4MB/s eta 0:00:01\r\u001b[K     |█████▊                          | 215kB 5.4MB/s eta 0:00:01\r\u001b[K     |██████                          | 225kB 5.4MB/s eta 0:00:01\r\u001b[K     |██████▎                         | 235kB 5.4MB/s eta 0:00:01\r\u001b[K     |██████▌                         | 245kB 5.4MB/s eta 0:00:01\r\u001b[K     |██████▉                         | 256kB 5.4MB/s eta 0:00:01\r\u001b[K     |███████                         | 266kB 5.4MB/s eta 0:00:01\r\u001b[K     |███████▍                        | 276kB 5.4MB/s eta 0:00:01\r\u001b[K     |███████▋                        | 286kB 5.4MB/s eta 0:00:01\r\u001b[K     |████████                        | 296kB 5.4MB/s eta 0:00:01\r\u001b[K     |████████▏                       | 307kB 5.4MB/s eta 0:00:01\r\u001b[K     |████████▍                       | 317kB 5.4MB/s eta 0:00:01\r\u001b[K     |████████▊                       | 327kB 5.4MB/s eta 0:00:01\r\u001b[K     |█████████                       | 337kB 5.4MB/s eta 0:00:01\r\u001b[K     |█████████▎                      | 348kB 5.4MB/s eta 0:00:01\r\u001b[K     |█████████▌                      | 358kB 5.4MB/s eta 0:00:01\r\u001b[K     |█████████▉                      | 368kB 5.4MB/s eta 0:00:01\r\u001b[K     |██████████                      | 378kB 5.4MB/s eta 0:00:01\r\u001b[K     |██████████▍                     | 389kB 5.4MB/s eta 0:00:01\r\u001b[K     |██████████▋                     | 399kB 5.4MB/s eta 0:00:01\r\u001b[K     |███████████                     | 409kB 5.4MB/s eta 0:00:01\r\u001b[K     |███████████▏                    | 419kB 5.4MB/s eta 0:00:01\r\u001b[K     |███████████▍                    | 430kB 5.4MB/s eta 0:00:01\r\u001b[K     |███████████▊                    | 440kB 5.4MB/s eta 0:00:01\r\u001b[K     |████████████                    | 450kB 5.4MB/s eta 0:00:01\r\u001b[K     |████████████▎                   | 460kB 5.4MB/s eta 0:00:01\r\u001b[K     |████████████▌                   | 471kB 5.4MB/s eta 0:00:01\r\u001b[K     |████████████▉                   | 481kB 5.4MB/s eta 0:00:01\r\u001b[K     |█████████████                   | 491kB 5.4MB/s eta 0:00:01\r\u001b[K     |█████████████▍                  | 501kB 5.4MB/s eta 0:00:01\r\u001b[K     |█████████████▋                  | 512kB 5.4MB/s eta 0:00:01\r\u001b[K     |█████████████▉                  | 522kB 5.4MB/s eta 0:00:01\r\u001b[K     |██████████████▏                 | 532kB 5.4MB/s eta 0:00:01\r\u001b[K     |██████████████▍                 | 542kB 5.4MB/s eta 0:00:01\r\u001b[K     |██████████████▊                 | 552kB 5.4MB/s eta 0:00:01\r\u001b[K     |███████████████                 | 563kB 5.4MB/s eta 0:00:01\r\u001b[K     |███████████████▎                | 573kB 5.4MB/s eta 0:00:01\r\u001b[K     |███████████████▌                | 583kB 5.4MB/s eta 0:00:01\r\u001b[K     |███████████████▉                | 593kB 5.4MB/s eta 0:00:01\r\u001b[K     |████████████████                | 604kB 5.4MB/s eta 0:00:01\r\u001b[K     |████████████████▍               | 614kB 5.4MB/s eta 0:00:01\r\u001b[K     |████████████████▋               | 624kB 5.4MB/s eta 0:00:01\r\u001b[K     |████████████████▉               | 634kB 5.4MB/s eta 0:00:01\r\u001b[K     |█████████████████▏              | 645kB 5.4MB/s eta 0:00:01\r\u001b[K     |█████████████████▍              | 655kB 5.4MB/s eta 0:00:01\r\u001b[K     |█████████████████▊              | 665kB 5.4MB/s eta 0:00:01\r\u001b[K     |██████████████████              | 675kB 5.4MB/s eta 0:00:01\r\u001b[K     |██████████████████▎             | 686kB 5.4MB/s eta 0:00:01\r\u001b[K     |██████████████████▌             | 696kB 5.4MB/s eta 0:00:01\r\u001b[K     |██████████████████▉             | 706kB 5.4MB/s eta 0:00:01\r\u001b[K     |███████████████████             | 716kB 5.4MB/s eta 0:00:01\r\u001b[K     |███████████████████▎            | 727kB 5.4MB/s eta 0:00:01\r\u001b[K     |███████████████████▋            | 737kB 5.4MB/s eta 0:00:01\r\u001b[K     |███████████████████▉            | 747kB 5.4MB/s eta 0:00:01\r\u001b[K     |████████████████████▏           | 757kB 5.4MB/s eta 0:00:01\r\u001b[K     |████████████████████▍           | 768kB 5.4MB/s eta 0:00:01\r\u001b[K     |████████████████████▊           | 778kB 5.4MB/s eta 0:00:01\r\u001b[K     |█████████████████████           | 788kB 5.4MB/s eta 0:00:01\r\u001b[K     |█████████████████████▎          | 798kB 5.4MB/s eta 0:00:01\r\u001b[K     |█████████████████████▌          | 808kB 5.4MB/s eta 0:00:01\r\u001b[K     |█████████████████████▉          | 819kB 5.4MB/s eta 0:00:01\r\u001b[K     |██████████████████████          | 829kB 5.4MB/s eta 0:00:01\r\u001b[K     |██████████████████████▎         | 839kB 5.4MB/s eta 0:00:01\r\u001b[K     |██████████████████████▋         | 849kB 5.4MB/s eta 0:00:01\r\u001b[K     |██████████████████████▉         | 860kB 5.4MB/s eta 0:00:01\r\u001b[K     |███████████████████████▏        | 870kB 5.4MB/s eta 0:00:01\r\u001b[K     |███████████████████████▍        | 880kB 5.4MB/s eta 0:00:01\r\u001b[K     |███████████████████████▊        | 890kB 5.4MB/s eta 0:00:01\r\u001b[K     |████████████████████████        | 901kB 5.4MB/s eta 0:00:01\r\u001b[K     |████████████████████████▎       | 911kB 5.4MB/s eta 0:00:01\r\u001b[K     |████████████████████████▌       | 921kB 5.4MB/s eta 0:00:01\r\u001b[K     |████████████████████████▊       | 931kB 5.4MB/s eta 0:00:01\r\u001b[K     |█████████████████████████       | 942kB 5.4MB/s eta 0:00:01\r\u001b[K     |█████████████████████████▎      | 952kB 5.4MB/s eta 0:00:01\r\u001b[K     |█████████████████████████▋      | 962kB 5.4MB/s eta 0:00:01\r\u001b[K     |█████████████████████████▉      | 972kB 5.4MB/s eta 0:00:01\r\u001b[K     |██████████████████████████▏     | 983kB 5.4MB/s eta 0:00:01\r\u001b[K     |██████████████████████████▍     | 993kB 5.4MB/s eta 0:00:01\r\u001b[K     |██████████████████████████▊     | 1.0MB 5.4MB/s eta 0:00:01\r\u001b[K     |███████████████████████████     | 1.0MB 5.4MB/s eta 0:00:01\r\u001b[K     |███████████████████████████▎    | 1.0MB 5.4MB/s eta 0:00:01\r\u001b[K     |███████████████████████████▌    | 1.0MB 5.4MB/s eta 0:00:01\r\u001b[K     |███████████████████████████▊    | 1.0MB 5.4MB/s eta 0:00:01\r\u001b[K     |████████████████████████████    | 1.1MB 5.4MB/s eta 0:00:01\r\u001b[K     |████████████████████████████▎   | 1.1MB 5.4MB/s eta 0:00:01\r\u001b[K     |████████████████████████████▋   | 1.1MB 5.4MB/s eta 0:00:01\r\u001b[K     |████████████████████████████▉   | 1.1MB 5.4MB/s eta 0:00:01\r\u001b[K     |█████████████████████████████▏  | 1.1MB 5.4MB/s eta 0:00:01\r\u001b[K     |█████████████████████████████▍  | 1.1MB 5.4MB/s eta 0:00:01\r\u001b[K     |█████████████████████████████▊  | 1.1MB 5.4MB/s eta 0:00:01\r\u001b[K     |██████████████████████████████  | 1.1MB 5.4MB/s eta 0:00:01\r\u001b[K     |██████████████████████████████▏ | 1.1MB 5.4MB/s eta 0:00:01\r\u001b[K     |██████████████████████████████▌ | 1.1MB 5.4MB/s eta 0:00:01\r\u001b[K     |██████████████████████████████▊ | 1.2MB 5.4MB/s eta 0:00:01\r\u001b[K     |███████████████████████████████ | 1.2MB 5.4MB/s eta 0:00:01\r\u001b[K     |███████████████████████████████▎| 1.2MB 5.4MB/s eta 0:00:01\r\u001b[K     |███████████████████████████████▋| 1.2MB 5.4MB/s eta 0:00:01\r\u001b[K     |███████████████████████████████▉| 1.2MB 5.4MB/s eta 0:00:01\r\u001b[K     |████████████████████████████████| 1.2MB 5.4MB/s \n",
            "\u001b[?25hInstalling collected packages: sentencepiece\n",
            "Successfully installed sentencepiece-0.1.95\n"
          ],
          "name": "stdout"
        }
      ]
    },
    {
      "cell_type": "code",
      "metadata": {
        "id": "0Gli1iA2nRv1"
      },
      "source": [
        "import torch\n",
        "from summarizer import Summarizer"
      ],
      "execution_count": null,
      "outputs": []
    },
    {
      "cell_type": "code",
      "metadata": {
        "colab": {
          "base_uri": "https://localhost:8080/",
          "height": 261,
          "referenced_widgets": [
            "7bc3052711de40f6ab1378c7ba369637",
            "00710b1bf47247fbb84ce399248cf21c",
            "a3c3f44291c14b0184a882c5d99ea79a",
            "f0a28e6a34e244208fbe67d39507ff4e",
            "27d174684d024d6593a9e630d0bc6c77",
            "a81d602a540b4d7984f2a8a54687871a",
            "6b69f2513eb8499e994687cf55d368ac",
            "f4ce227a0fd040eba7723f5cf2cc601d",
            "143baf98ec7742ae86f4bdf57bf0461a",
            "7366fa9b4409428db217583c8c26cbe1",
            "dd01dcfa4f61432d834efaa2ec118c3a",
            "7e9f4fe74e95401287a23e6a88a590b9",
            "0e64d509affd4ac0b2c9690a8b9bcae2",
            "02e0a06d2a8248ae80525583dfcd6314",
            "78107ac2d60d48f9b47bab1242dfe63e",
            "4454fb5a382e433198d9dfdeb81f4d29",
            "012ca1d0b96147699bd49000b37285f5",
            "8ea742d81d694d1e9bb6e9a43254869b",
            "464d36da71d1499cb6fbaa03e0a10d0e",
            "f317c73c72ac4cb3902717985601856d",
            "473a563c5f12476ca3bd5eef897897e2",
            "d3a8d58a4024419c9995c3f25dd2654b",
            "ff6417deb7b746b4ac074b651819fdae",
            "f0bd625802034b438cd1f46034e5e74e",
            "e46857af64344e8da9ebea7d97376e9b",
            "32b01620194b488eb5e060760e866591",
            "7d88fddcaf704ffaa452d41fd043876d",
            "51f8cb7e71374296a3bb0e68f897961f",
            "60fff7a924ed4c45a36890e542774de1",
            "91879926d17746b3b18f0b60192f679d",
            "eaf227421627429c9a5fa8330b9fdf04",
            "c9bf8200c8f84dd1b96738c2f79938a6",
            "63476851eae6412e86ea67f5d5b38d9d",
            "6fa6a2231ffe47588d4224e80dcd2656",
            "1089aada00e1497d9af7a8b83039a1c5",
            "f4b0f865012047349758a26080f6dc4a",
            "1b3ae6b7e89841f0b353e2735f9cfaca",
            "00c7064f26b443f2b7e32c4c12bf4011",
            "a473a1332db24685a416f753d3c8c49f",
            "0d945e7e512845a38783e3bfbde54106"
          ]
        },
        "id": "waqy00FInW3G",
        "outputId": "56a0014e-220c-43a1-ff51-236b02942a06"
      },
      "source": [
        "model = Summarizer('distilbert-base-uncased')"
      ],
      "execution_count": null,
      "outputs": [
        {
          "output_type": "display_data",
          "data": {
            "application/vnd.jupyter.widget-view+json": {
              "model_id": "7bc3052711de40f6ab1378c7ba369637",
              "version_minor": 0,
              "version_major": 2
            },
            "text/plain": [
              "HBox(children=(FloatProgress(value=0.0, description='Downloading', max=442.0, style=ProgressStyle(description_…"
            ]
          },
          "metadata": {
            "tags": []
          }
        },
        {
          "output_type": "stream",
          "text": [
            "\n"
          ],
          "name": "stdout"
        },
        {
          "output_type": "display_data",
          "data": {
            "application/vnd.jupyter.widget-view+json": {
              "model_id": "143baf98ec7742ae86f4bdf57bf0461a",
              "version_minor": 0,
              "version_major": 2
            },
            "text/plain": [
              "HBox(children=(FloatProgress(value=0.0, description='Downloading', max=267967963.0, style=ProgressStyle(descri…"
            ]
          },
          "metadata": {
            "tags": []
          }
        },
        {
          "output_type": "stream",
          "text": [
            "\n"
          ],
          "name": "stdout"
        },
        {
          "output_type": "display_data",
          "data": {
            "application/vnd.jupyter.widget-view+json": {
              "model_id": "012ca1d0b96147699bd49000b37285f5",
              "version_minor": 0,
              "version_major": 2
            },
            "text/plain": [
              "HBox(children=(FloatProgress(value=0.0, description='Downloading', max=231508.0, style=ProgressStyle(descripti…"
            ]
          },
          "metadata": {
            "tags": []
          }
        },
        {
          "output_type": "stream",
          "text": [
            "\n"
          ],
          "name": "stdout"
        },
        {
          "output_type": "display_data",
          "data": {
            "application/vnd.jupyter.widget-view+json": {
              "model_id": "e46857af64344e8da9ebea7d97376e9b",
              "version_minor": 0,
              "version_major": 2
            },
            "text/plain": [
              "HBox(children=(FloatProgress(value=0.0, description='Downloading', max=28.0, style=ProgressStyle(description_w…"
            ]
          },
          "metadata": {
            "tags": []
          }
        },
        {
          "output_type": "stream",
          "text": [
            "\n"
          ],
          "name": "stdout"
        },
        {
          "output_type": "display_data",
          "data": {
            "application/vnd.jupyter.widget-view+json": {
              "model_id": "63476851eae6412e86ea67f5d5b38d9d",
              "version_minor": 0,
              "version_major": 2
            },
            "text/plain": [
              "HBox(children=(FloatProgress(value=0.0, description='Downloading', max=466062.0, style=ProgressStyle(descripti…"
            ]
          },
          "metadata": {
            "tags": []
          }
        },
        {
          "output_type": "stream",
          "text": [
            "\n"
          ],
          "name": "stdout"
        }
      ]
    },
    {
      "cell_type": "code",
      "metadata": {
        "colab": {
          "base_uri": "https://localhost:8080/"
        },
        "id": "a_SvrQkfoHhM",
        "outputId": "2166fc7a-2003-4403-d16a-9daf47de3f6d"
      },
      "source": [
        "resp = model(txt)\n",
        "print(resp)"
      ],
      "execution_count": null,
      "outputs": [
        {
          "output_type": "stream",
          "text": [
            "MARINER 1, the first U.S. attempt to send a spacecraft to Venus, failed minutes after launch in 1962. MARINER 2 became the first successful probe to flyby Venus in December of 1962, and it returned information which confirmed that Venus is a very hot (800 degrees Fahrenheit, now revised to 900 degrees F.) world with a cloud-covered atmosphere composed primarily of carbon dioxide (sulfuric acid was later confirmed in 1978).\n"
          ],
          "name": "stdout"
        }
      ]
    },
    {
      "cell_type": "code",
      "metadata": {
        "colab": {
          "base_uri": "https://localhost:8080/"
        },
        "id": "oA6a3hOUouTz",
        "outputId": "21a054f5-3907-4a43-8a2e-143c640ae40a"
      },
      "source": [
        "print(len(resp), len(txt))"
      ],
      "execution_count": null,
      "outputs": [
        {
          "output_type": "stream",
          "text": [
            "426 1445\n"
          ],
          "name": "stdout"
        }
      ]
    },
    {
      "cell_type": "code",
      "metadata": {
        "colab": {
          "base_uri": "https://localhost:8080/"
        },
        "id": "2ZzyCkHMpMGh",
        "outputId": "2309057c-3cc6-44a2-e352-819c3bfceb2b"
      },
      "source": [
        "print(scorer.score(human_summary, resp))"
      ],
      "execution_count": null,
      "outputs": [
        {
          "output_type": "stream",
          "text": [
            "{'rouge1': Score(precision=0.75, recall=0.3673469387755102, fmeasure=0.49315068493150693), 'rouge2': Score(precision=0.38028169014084506, recall=0.18493150684931506, fmeasure=0.24884792626728108), 'rouge3': Score(precision=0.21428571428571427, recall=0.10344827586206896, fmeasure=0.1395348837209302), 'rougeL': Score(precision=0.625, recall=0.30612244897959184, fmeasure=0.4109589041095891)}\n"
          ],
          "name": "stdout"
        }
      ]
    },
    {
      "cell_type": "markdown",
      "metadata": {
        "id": "JsNleVs7-rkU"
      },
      "source": [
        "## Abstractive Summarization"
      ]
    },
    {
      "cell_type": "code",
      "metadata": {
        "colab": {
          "base_uri": "https://localhost:8080/"
        },
        "id": "JMnYC8A--vky",
        "outputId": "965747ba-da28-4532-b1b7-2981e912494c"
      },
      "source": [
        "# tqdm version 4.36.1 is required\n",
        "\n",
        "\n",
        "!pip install tqdm==4.36.1"
      ],
      "execution_count": null,
      "outputs": [
        {
          "output_type": "stream",
          "text": [
            "Collecting tqdm==4.36.1\n",
            "\u001b[?25l  Downloading https://files.pythonhosted.org/packages/e1/c1/bc1dba38b48f4ae3c4428aea669c5e27bd5a7642a74c8348451e0bd8ff86/tqdm-4.36.1-py2.py3-none-any.whl (52kB)\n",
            "\r\u001b[K     |██████▏                         | 10kB 14.1MB/s eta 0:00:01\r\u001b[K     |████████████▍                   | 20kB 9.3MB/s eta 0:00:01\r\u001b[K     |██████████████████▋             | 30kB 5.0MB/s eta 0:00:01\r\u001b[K     |████████████████████████▉       | 40kB 5.2MB/s eta 0:00:01\r\u001b[K     |███████████████████████████████ | 51kB 2.9MB/s eta 0:00:01\r\u001b[K     |████████████████████████████████| 61kB 2.3MB/s \n",
            "\u001b[31mERROR: spacy 2.2.4 has requirement tqdm<5.0.0,>=4.38.0, but you'll have tqdm 4.36.1 which is incompatible.\u001b[0m\n",
            "\u001b[?25hInstalling collected packages: tqdm\n",
            "  Found existing installation: tqdm 4.41.1\n",
            "    Uninstalling tqdm-4.41.1:\n",
            "      Successfully uninstalled tqdm-4.41.1\n",
            "Successfully installed tqdm-4.36.1\n"
          ],
          "name": "stdout"
        }
      ]
    },
    {
      "cell_type": "code",
      "metadata": {
        "colab": {
          "base_uri": "https://localhost:8080/"
        },
        "id": "ls44jAzJ-0ip",
        "outputId": "8cdf7e8b-6317-4ab4-de06-27613e6be882"
      },
      "source": [
        "# Importing Libaries\n",
        "\n",
        "\n",
        "import numpy as np  \n",
        "import pandas as pd \n",
        "import re           \n",
        "import glob\n",
        "from bs4 import BeautifulSoup \n",
        "from keras.preprocessing.text import Tokenizer \n",
        "from keras.preprocessing.sequence import pad_sequences\n",
        "from nltk.corpus import stopwords   \n",
        "from tensorflow.keras.layers import Input, LSTM, Embedding, Dense, Concatenate, TimeDistributed, Bidirectional\n",
        "from tensorflow.keras.models import Model\n",
        "from tensorflow.keras.callbacks import EarlyStopping\n",
        "from tensorflow.keras.models import load_model\n",
        "import keras\n",
        "import warnings\n",
        "import nltk\n",
        "nltk.download('stopwords')\n",
        "pd.set_option(\"display.max_colwidth\", 200)\n",
        "warnings.filterwarnings(\"ignore\")"
      ],
      "execution_count": null,
      "outputs": [
        {
          "output_type": "stream",
          "text": [
            "[nltk_data] Downloading package stopwords to /root/nltk_data...\n",
            "[nltk_data]   Unzipping corpora/stopwords.zip.\n"
          ],
          "name": "stdout"
        }
      ]
    },
    {
      "cell_type": "code",
      "metadata": {
        "id": "qCk_ZjV9-4RS"
      },
      "source": [
        "# Progress bar\n",
        "\n",
        "\n",
        "from tqdm import tqdm\n",
        "tqdm.pandas()"
      ],
      "execution_count": null,
      "outputs": []
    },
    {
      "cell_type": "code",
      "metadata": {
        "id": "rqEjKLwV-685"
      },
      "source": [
        "# Preprocessing \"body\" text\n",
        "\n",
        "\n",
        "from spacy.lang.en.stop_words import STOP_WORDS\n",
        " \n",
        "def clean_body(text):\n",
        "    newText = text.lower()\n",
        "    newText = re.sub('[^\\w\\s\\d\\.]','',newText)\n",
        "    newText = ' '.join(newText.split())\n",
        "    tokens = [w for w in newText.split() if not w in STOP_WORDS]\n",
        "    long_words=[]\n",
        "    for i in tokens:\n",
        "        if len(i)>=3:\n",
        "            long_words.append(i)   \n",
        "    return (\" \".join(long_words)).strip()"
      ],
      "execution_count": null,
      "outputs": []
    },
    {
      "cell_type": "code",
      "metadata": {
        "id": "SZNq7_c6_EOC"
      },
      "source": [
        "clean_txt = clean_body(txt)"
      ],
      "execution_count": null,
      "outputs": []
    },
    {
      "cell_type": "code",
      "metadata": {
        "colab": {
          "base_uri": "https://localhost:8080/",
          "height": 119
        },
        "id": "_GSAUSR8_pAV",
        "outputId": "33f579b9-4f44-48d3-a75e-d5df21b3a808"
      },
      "source": [
        "clean_txt"
      ],
      "execution_count": null,
      "outputs": [
        {
          "output_type": "execute_result",
          "data": {
            "application/vnd.google.colaboratory.intrinsic+json": {
              "type": "string"
            },
            "text/plain": [
              "'mariner u.s. attempt send spacecraft venus failed minutes launch 1962. guidance instructions ground stopped reaching rocket problem antenna onboard computer took control. turned bug guidance software rocket promptly went course range safety officer destroyed it. bug claimed incorrect fortran statement actually transcription error bar indicating smoothing omitted expression rdotbar sub nth smoothed value derivative radius. error led software treat normal minor variations velocity leading incorrect compensation. mariner successful probe flyby venus december 1962 returned information confirmed venus hot 800 degrees fahrenheit revised 900 degrees world cloudcovered atmosphere composed primarily carbon dioxide sulfuric acid later confirmed 1978. mariner launched november 1964 lost protective shroud failed eject craft placed interplanetary space. unable collect suns energy power solar panels probe soon died batteries ran solar orbit. intended mars flyby mariner'"
            ]
          },
          "metadata": {
            "tags": []
          },
          "execution_count": 12
        }
      ]
    },
    {
      "cell_type": "code",
      "metadata": {
        "id": "dGJSsBUf_tuA"
      },
      "source": [
        "# Preprocessing \"highlight\" text\n",
        "\n",
        "\n",
        "def clean_highlight(text):\n",
        "  newText = text.lower()\n",
        "  newText = re.sub('[^\\w\\s\\d\\.]','',newText)\n",
        "  newText = ' '.join(newText.split())\n",
        "  newText = '_START_ '+ newText + ' _END_'\n",
        "  return newText"
      ],
      "execution_count": null,
      "outputs": []
    },
    {
      "cell_type": "code",
      "metadata": {
        "id": "jQuno8ruCf86"
      },
      "source": [
        "highlight = \"Mariner1 was the first attempt to send a spacecraft to venus, which failed because of fault in antenna guidance instructions couldn't reach the rocket. Hence, the control was taken over onboard computer that had bug in software due to which even the slightest change in the velocity were considered significant leading to incorrect compensation. In December 1962, MARINER 2 became the successful probe to  venus and it return the information confirming venus is very hot, nearly 800 to 900 Fahrenheit with cloud covered atmosphere comprising of carbon dioxide. Sulfuric acid was confirmed later in 1978 On November 5 1964, MARINER3 was launched, but after being placed in the space, failed to eject from the protective shroud. Due to this, it couldn't get solar power for its panels and the probe died after running out of battery. It was intended for Mars fly y with MARINER4\""
      ],
      "execution_count": null,
      "outputs": []
    },
    {
      "cell_type": "code",
      "metadata": {
        "id": "BjZq_W2f_0XO"
      },
      "source": [
        "clean_highlight_txt = clean_highlight(highlight)"
      ],
      "execution_count": null,
      "outputs": []
    },
    {
      "cell_type": "code",
      "metadata": {
        "colab": {
          "base_uri": "https://localhost:8080/",
          "height": 102
        },
        "id": "4a-WYhIl_6WY",
        "outputId": "e9f8a046-3584-4179-8ce8-6553f230b117"
      },
      "source": [
        "clean_highlight_txt"
      ],
      "execution_count": null,
      "outputs": [
        {
          "output_type": "execute_result",
          "data": {
            "application/vnd.google.colaboratory.intrinsic+json": {
              "type": "string"
            },
            "text/plain": [
              "'_START_ mariner1 was the first attempt to send a spacecraft to venus which failed because of fault in antenna guidance instructions couldnt reach the rocket. hence the control was taken over onboard computer that had bug in software due to which even the slightest change in the velocity were considered significant leading to incorrect compensation. in december 1962 mariner 2 became the successful probe to venus and it return the information confirming venus is very hot nearly 800 to 900 fahrenheit with cloud covered atmosphere comprising of carbon dioxide. sulfuric acid was confirmed later in 1978 on november 5 1964 mariner3 was launched but after being placed in the space failed to eject from the protective shroud. due to this it couldnt get solar power for its panels and the probe died after running out of battery. it was intended for mars fly y with mariner4 _END_'"
            ]
          },
          "metadata": {
            "tags": []
          },
          "execution_count": 19
        }
      ]
    },
    {
      "cell_type": "code",
      "metadata": {
        "colab": {
          "base_uri": "https://localhost:8080/",
          "height": 337
        },
        "id": "d7EdAKBB_8XO",
        "outputId": "f1fce082-efd5-43e8-982c-aa5d9acc9fe1"
      },
      "source": [
        "# Splitting data into training and test sets\n",
        "# Test set is 20% of total data\n",
        "\n",
        "\n",
        "from sklearn.model_selection import train_test_split\n",
        "x_train,x_test,y_train,y_test=train_test_split(clean_txt, clean_highlight_txt, test_size=0.2, random_state=0, shuffle=True)"
      ],
      "execution_count": null,
      "outputs": [
        {
          "output_type": "error",
          "ename": "ValueError",
          "evalue": "ignored",
          "traceback": [
            "\u001b[0;31m---------------------------------------------------------------------------\u001b[0m",
            "\u001b[0;31mValueError\u001b[0m                                Traceback (most recent call last)",
            "\u001b[0;32m<ipython-input-20-c1703df47fed>\u001b[0m in \u001b[0;36m<module>\u001b[0;34m()\u001b[0m\n\u001b[1;32m      4\u001b[0m \u001b[0;34m\u001b[0m\u001b[0m\n\u001b[1;32m      5\u001b[0m \u001b[0;32mfrom\u001b[0m \u001b[0msklearn\u001b[0m\u001b[0;34m.\u001b[0m\u001b[0mmodel_selection\u001b[0m \u001b[0;32mimport\u001b[0m \u001b[0mtrain_test_split\u001b[0m\u001b[0;34m\u001b[0m\u001b[0;34m\u001b[0m\u001b[0m\n\u001b[0;32m----> 6\u001b[0;31m \u001b[0mx_train\u001b[0m\u001b[0;34m,\u001b[0m\u001b[0mx_test\u001b[0m\u001b[0;34m,\u001b[0m\u001b[0my_train\u001b[0m\u001b[0;34m,\u001b[0m\u001b[0my_test\u001b[0m\u001b[0;34m=\u001b[0m\u001b[0mtrain_test_split\u001b[0m\u001b[0;34m(\u001b[0m\u001b[0mclean_txt\u001b[0m\u001b[0;34m,\u001b[0m \u001b[0mclean_highlight_txt\u001b[0m\u001b[0;34m,\u001b[0m \u001b[0mtest_size\u001b[0m\u001b[0;34m=\u001b[0m\u001b[0;36m0.2\u001b[0m\u001b[0;34m,\u001b[0m \u001b[0mrandom_state\u001b[0m\u001b[0;34m=\u001b[0m\u001b[0;36m0\u001b[0m\u001b[0;34m,\u001b[0m \u001b[0mshuffle\u001b[0m\u001b[0;34m=\u001b[0m\u001b[0;32mTrue\u001b[0m\u001b[0;34m)\u001b[0m\u001b[0;34m\u001b[0m\u001b[0;34m\u001b[0m\u001b[0m\n\u001b[0m",
            "\u001b[0;32m/usr/local/lib/python3.7/dist-packages/sklearn/model_selection/_split.py\u001b[0m in \u001b[0;36mtrain_test_split\u001b[0;34m(*arrays, **options)\u001b[0m\n\u001b[1;32m   2116\u001b[0m         \u001b[0;32mraise\u001b[0m \u001b[0mTypeError\u001b[0m\u001b[0;34m(\u001b[0m\u001b[0;34m\"Invalid parameters passed: %s\"\u001b[0m \u001b[0;34m%\u001b[0m \u001b[0mstr\u001b[0m\u001b[0;34m(\u001b[0m\u001b[0moptions\u001b[0m\u001b[0;34m)\u001b[0m\u001b[0;34m)\u001b[0m\u001b[0;34m\u001b[0m\u001b[0;34m\u001b[0m\u001b[0m\n\u001b[1;32m   2117\u001b[0m \u001b[0;34m\u001b[0m\u001b[0m\n\u001b[0;32m-> 2118\u001b[0;31m     \u001b[0marrays\u001b[0m \u001b[0;34m=\u001b[0m \u001b[0mindexable\u001b[0m\u001b[0;34m(\u001b[0m\u001b[0;34m*\u001b[0m\u001b[0marrays\u001b[0m\u001b[0;34m)\u001b[0m\u001b[0;34m\u001b[0m\u001b[0;34m\u001b[0m\u001b[0m\n\u001b[0m\u001b[1;32m   2119\u001b[0m \u001b[0;34m\u001b[0m\u001b[0m\n\u001b[1;32m   2120\u001b[0m     \u001b[0mn_samples\u001b[0m \u001b[0;34m=\u001b[0m \u001b[0m_num_samples\u001b[0m\u001b[0;34m(\u001b[0m\u001b[0marrays\u001b[0m\u001b[0;34m[\u001b[0m\u001b[0;36m0\u001b[0m\u001b[0;34m]\u001b[0m\u001b[0;34m)\u001b[0m\u001b[0;34m\u001b[0m\u001b[0;34m\u001b[0m\u001b[0m\n",
            "\u001b[0;32m/usr/local/lib/python3.7/dist-packages/sklearn/utils/validation.py\u001b[0m in \u001b[0;36mindexable\u001b[0;34m(*iterables)\u001b[0m\n\u001b[1;32m    246\u001b[0m     \"\"\"\n\u001b[1;32m    247\u001b[0m     \u001b[0mresult\u001b[0m \u001b[0;34m=\u001b[0m \u001b[0;34m[\u001b[0m\u001b[0m_make_indexable\u001b[0m\u001b[0;34m(\u001b[0m\u001b[0mX\u001b[0m\u001b[0;34m)\u001b[0m \u001b[0;32mfor\u001b[0m \u001b[0mX\u001b[0m \u001b[0;32min\u001b[0m \u001b[0miterables\u001b[0m\u001b[0;34m]\u001b[0m\u001b[0;34m\u001b[0m\u001b[0;34m\u001b[0m\u001b[0m\n\u001b[0;32m--> 248\u001b[0;31m     \u001b[0mcheck_consistent_length\u001b[0m\u001b[0;34m(\u001b[0m\u001b[0;34m*\u001b[0m\u001b[0mresult\u001b[0m\u001b[0;34m)\u001b[0m\u001b[0;34m\u001b[0m\u001b[0;34m\u001b[0m\u001b[0m\n\u001b[0m\u001b[1;32m    249\u001b[0m     \u001b[0;32mreturn\u001b[0m \u001b[0mresult\u001b[0m\u001b[0;34m\u001b[0m\u001b[0;34m\u001b[0m\u001b[0m\n\u001b[1;32m    250\u001b[0m \u001b[0;34m\u001b[0m\u001b[0m\n",
            "\u001b[0;32m/usr/local/lib/python3.7/dist-packages/sklearn/utils/validation.py\u001b[0m in \u001b[0;36mcheck_consistent_length\u001b[0;34m(*arrays)\u001b[0m\n\u001b[1;32m    210\u001b[0m     \u001b[0;32mif\u001b[0m \u001b[0mlen\u001b[0m\u001b[0;34m(\u001b[0m\u001b[0muniques\u001b[0m\u001b[0;34m)\u001b[0m \u001b[0;34m>\u001b[0m \u001b[0;36m1\u001b[0m\u001b[0;34m:\u001b[0m\u001b[0;34m\u001b[0m\u001b[0;34m\u001b[0m\u001b[0m\n\u001b[1;32m    211\u001b[0m         raise ValueError(\"Found input variables with inconsistent numbers of\"\n\u001b[0;32m--> 212\u001b[0;31m                          \" samples: %r\" % [int(l) for l in lengths])\n\u001b[0m\u001b[1;32m    213\u001b[0m \u001b[0;34m\u001b[0m\u001b[0m\n\u001b[1;32m    214\u001b[0m \u001b[0;34m\u001b[0m\u001b[0m\n",
            "\u001b[0;31mValueError\u001b[0m: Found input variables with inconsistent numbers of samples: [969, 879]"
          ]
        }
      ]
    },
    {
      "cell_type": "code",
      "metadata": {
        "id": "vHO73gZADbE8"
      },
      "source": [
        "max_len_body = 1000\n",
        "max_len_highlight = 50"
      ],
      "execution_count": null,
      "outputs": []
    },
    {
      "cell_type": "code",
      "metadata": {
        "id": "R5F9_PmQBtSV"
      },
      "source": [
        "# Tokenizing \"body\"\n",
        "x_tok = Tokenizer()\n",
        "x_tok.fit_on_texts(list(clean_txt))\n",
        "\n",
        "# Converting text to number sequences\n",
        "x_train = x_tok.texts_to_sequences(clean_txt) \n",
        "x_test = x_tok.texts_to_sequences(clean_highlight_txt)\n",
        "\n",
        "# Padding zero upto maximum length\n",
        "x_train = pad_sequences(x_train,  maxlen=max_len_body, padding='post') \n",
        "x_test = pad_sequences(x_test, maxlen=max_len_body, padding='post')\n",
        "\n",
        "# Total number of words\n",
        "x_vocab_size = len(x_tok.word_index) +1"
      ],
      "execution_count": null,
      "outputs": []
    },
    {
      "cell_type": "code",
      "metadata": {
        "colab": {
          "base_uri": "https://localhost:8080/"
        },
        "id": "NcZ6zVmdHSKr",
        "outputId": "cacdbde0-12d2-44ee-ec26-b8a9e95b13d9"
      },
      "source": [
        "x_train.shape"
      ],
      "execution_count": null,
      "outputs": [
        {
          "output_type": "execute_result",
          "data": {
            "text/plain": [
              "(969, 1000)"
            ]
          },
          "metadata": {
            "tags": []
          },
          "execution_count": 35
        }
      ]
    },
    {
      "cell_type": "code",
      "metadata": {
        "colab": {
          "base_uri": "https://localhost:8080/"
        },
        "id": "zO3YO-BFHU3R",
        "outputId": "41d4d172-841a-4e3e-e72f-6a7ad2f35cea"
      },
      "source": [
        "x_test.shape"
      ],
      "execution_count": null,
      "outputs": [
        {
          "output_type": "execute_result",
          "data": {
            "text/plain": [
              "(879, 1000)"
            ]
          },
          "metadata": {
            "tags": []
          },
          "execution_count": 34
        }
      ]
    },
    {
      "cell_type": "code",
      "metadata": {
        "id": "ftwfmKsdDQzL"
      },
      "source": [
        "import tensorflow as tf\n",
        "import os\n",
        "from tensorflow.python.keras.layers import Layer\n",
        "from tensorflow.python.keras import backend as K\n",
        "\n",
        "\n",
        "class AttentionLayer(Layer):\n",
        "    \"\"\"\n",
        "    This class implements Bahdanau attention (https://arxiv.org/pdf/1409.0473.pdf).\n",
        "    There are three sets of weights introduced W_a, U_a, and V_a\n",
        "     \"\"\"\n",
        "\n",
        "    def __init__(self, **kwargs):\n",
        "        super(AttentionLayer, self).__init__(**kwargs)\n",
        "\n",
        "    def build(self, input_shape):\n",
        "        assert isinstance(input_shape, list)\n",
        "        # Create a trainable weight variable for this layer.\n",
        "\n",
        "        self.W_a = self.add_weight(name='W_a',\n",
        "                                   shape=tf.TensorShape((input_shape[0][2], input_shape[0][2])),\n",
        "                                   initializer='uniform',\n",
        "                                   trainable=True)\n",
        "        self.U_a = self.add_weight(name='U_a',\n",
        "                                   shape=tf.TensorShape((input_shape[1][2], input_shape[0][2])),\n",
        "                                   initializer='uniform',\n",
        "                                   trainable=True)\n",
        "        self.V_a = self.add_weight(name='V_a',\n",
        "                                   shape=tf.TensorShape((input_shape[0][2], 1)),\n",
        "                                   initializer='uniform',\n",
        "                                   trainable=True)\n",
        "\n",
        "        super(AttentionLayer, self).build(input_shape)  # Be sure to call this at the end\n",
        "\n",
        "    def call(self, inputs, verbose=False):\n",
        "        \"\"\"\n",
        "        inputs: [encoder_output_sequence, decoder_output_sequence]\n",
        "        \"\"\"\n",
        "        assert type(inputs) == list\n",
        "        encoder_out_seq, decoder_out_seq = inputs\n",
        "        if verbose:\n",
        "            print('encoder_out_seq>', encoder_out_seq.shape)\n",
        "            print('decoder_out_seq>', decoder_out_seq.shape)\n",
        "\n",
        "        def energy_step(inputs, states):\n",
        "            \"\"\" Step function for computing energy for a single decoder state \"\"\"\n",
        "\n",
        "            assert_msg = \"States must be a list. However states {} is of type {}\".format(states, type(states))\n",
        "            assert isinstance(states, list) or isinstance(states, tuple), assert_msg\n",
        "\n",
        "            \"\"\" Some parameters required for shaping tensors\"\"\"\n",
        "            en_seq_len, en_hidden = encoder_out_seq.shape[1], encoder_out_seq.shape[2]\n",
        "            de_hidden = inputs.shape[-1]\n",
        "\n",
        "            \"\"\" Computing S.Wa where S=[s0, s1, ..., si]\"\"\"\n",
        "            # <= batch_size*en_seq_len, latent_dim\n",
        "            reshaped_enc_outputs = K.reshape(encoder_out_seq, (-1, en_hidden))\n",
        "            # <= batch_size*en_seq_len, latent_dim\n",
        "            W_a_dot_s = K.reshape(K.dot(reshaped_enc_outputs, self.W_a), (-1, en_seq_len, en_hidden))\n",
        "            if verbose:\n",
        "                print('wa.s>',W_a_dot_s.shape)\n",
        "\n",
        "            \"\"\" Computing hj.Ua \"\"\"\n",
        "            U_a_dot_h = K.expand_dims(K.dot(inputs, self.U_a), 1)  # <= batch_size, 1, latent_dim\n",
        "            if verbose:\n",
        "                print('Ua.h>',U_a_dot_h.shape)\n",
        "\n",
        "            \"\"\" tanh(S.Wa + hj.Ua) \"\"\"\n",
        "            # <= batch_size*en_seq_len, latent_dim\n",
        "            reshaped_Ws_plus_Uh = K.tanh(K.reshape(W_a_dot_s + U_a_dot_h, (-1, en_hidden)))\n",
        "            if verbose:\n",
        "                print('Ws+Uh>', reshaped_Ws_plus_Uh.shape)\n",
        "\n",
        "            \"\"\" softmax(va.tanh(S.Wa + hj.Ua)) \"\"\"\n",
        "            # <= batch_size, en_seq_len\n",
        "            e_i = K.reshape(K.dot(reshaped_Ws_plus_Uh, self.V_a), (-1, en_seq_len))\n",
        "            # <= batch_size, en_seq_len\n",
        "            e_i = K.softmax(e_i)\n",
        "\n",
        "            if verbose:\n",
        "                print('ei>', e_i.shape)\n",
        "\n",
        "            return e_i, [e_i]\n",
        "\n",
        "        def context_step(inputs, states):\n",
        "            \"\"\" Step function for computing ci using ei \"\"\"\n",
        "            # <= batch_size, hidden_size\n",
        "            c_i = K.sum(encoder_out_seq * K.expand_dims(inputs, -1), axis=1)\n",
        "            if verbose:\n",
        "                print('ci>', c_i.shape)\n",
        "            return c_i, [c_i]\n",
        "\n",
        "        def create_inital_state(inputs, hidden_size):\n",
        "            # We are not using initial states, but need to pass something to K.rnn funciton\n",
        "            fake_state = K.zeros_like(inputs)  # <= (batch_size, enc_seq_len, latent_dim\n",
        "            fake_state = K.sum(fake_state, axis=[1, 2])  # <= (batch_size)\n",
        "            fake_state = K.expand_dims(fake_state)  # <= (batch_size, 1)\n",
        "            fake_state = K.tile(fake_state, [1, hidden_size])  # <= (batch_size, latent_dim\n",
        "            return fake_state\n",
        "\n",
        "        fake_state_c = create_inital_state(encoder_out_seq, encoder_out_seq.shape[-1])\n",
        "        fake_state_e = create_inital_state(encoder_out_seq, encoder_out_seq.shape[1])  # <= (batch_size, enc_seq_len, latent_dim\n",
        "\n",
        "        \"\"\" Computing energy outputs \"\"\"\n",
        "        # e_outputs => (batch_size, de_seq_len, en_seq_len)\n",
        "        last_out, e_outputs, _ = K.rnn(\n",
        "            energy_step, decoder_out_seq, [fake_state_e],\n",
        "        )\n",
        "\n",
        "        \"\"\" Computing context vectors \"\"\"\n",
        "        last_out, c_outputs, _ = K.rnn(\n",
        "            context_step, e_outputs, [fake_state_c],\n",
        "        )\n",
        "\n",
        "        return c_outputs, e_outputs\n",
        "\n",
        "    def compute_output_shape(self, input_shape):\n",
        "        \"\"\" Outputs produced by the layer \"\"\"\n",
        "        return [\n",
        "            tf.TensorShape((input_shape[1][0], input_shape[1][1], input_shape[1][2])),\n",
        "            tf.TensorShape((input_shape[1][0], input_shape[1][1], input_shape[0][1]))\n",
        "        ]"
      ],
      "execution_count": null,
      "outputs": []
    },
    {
      "cell_type": "code",
      "metadata": {
        "colab": {
          "base_uri": "https://localhost:8080/"
        },
        "id": "uLtPgv00EGzR",
        "outputId": "784941c0-829e-4cf4-d62c-95a54496e286"
      },
      "source": [
        "from keras import backend as K \n",
        "\n",
        "\n",
        "K.clear_session() \n",
        "latent_dim = 50 \n",
        "\n",
        "\n",
        "# Encoder \n",
        "encoder_inputs = Input(shape=(max_len_body,)) \n",
        "enc_emb = Embedding(x_vocab_size, latent_dim,trainable=True)(encoder_inputs) \n",
        "\n",
        "# 1st LSTM Layer\n",
        "encoder_lstm1 = LSTM(latent_dim,return_sequences=True,return_state=True) \n",
        "encoder_output1, state_h1, state_c1 = encoder_lstm1(enc_emb) \n",
        "\n",
        "# 2nd LSTM Layer\n",
        "encoder_lstm2 = LSTM(latent_dim,return_sequences=True,return_state=True) \n",
        "encoder_output2, state_h2, state_c2 = encoder_lstm2(encoder_output1) \n",
        "\n",
        "# 3rd LSTM Layer\n",
        "encoder_lstm3=LSTM(latent_dim, return_state=True, return_sequences=True) \n",
        "encoder_outputs, state_h, state_c= encoder_lstm3(encoder_output2) \n",
        "\n",
        "# Decoder \n",
        "decoder_inputs = Input(shape=(None,)) \n",
        "dec_emb_layer = Embedding(x_vocab_size, latent_dim,trainable=True) \n",
        "dec_emb = dec_emb_layer(decoder_inputs) \n",
        "\n",
        "# LSTM using encoder_states as initial state\n",
        "decoder_lstm = LSTM(latent_dim, return_sequences=True, return_state=True) \n",
        "decoder_outputs,decoder_fwd_state, decoder_back_state = decoder_lstm(dec_emb,initial_state=[state_h, state_c]) \n",
        "\n",
        "# Attention Layer\n",
        "attn_layer = AttentionLayer(name='attention_layer') \n",
        "attn_out, attn_states = attn_layer([encoder_outputs, decoder_outputs]) \n",
        "\n",
        "# Concat attention output and decoder LSTM output \n",
        "decoder_concat_input = Concatenate(axis=-1, name='concat_layer')([decoder_outputs, attn_out])\n",
        "\n",
        "# Dense layer\n",
        "decoder_dense = TimeDistributed(Dense(x_vocab_size, activation='softmax')) \n",
        "decoder_outputs = decoder_dense(decoder_concat_input) \n",
        "\n",
        "# Model Definition\n",
        "model = Model([encoder_inputs, decoder_inputs], decoder_outputs) \n",
        "model.summary()"
      ],
      "execution_count": null,
      "outputs": [
        {
          "output_type": "stream",
          "text": [
            "Model: \"model\"\n",
            "__________________________________________________________________________________________________\n",
            "Layer (type)                    Output Shape         Param #     Connected to                     \n",
            "==================================================================================================\n",
            "input_1 (InputLayer)            [(None, 1000)]       0                                            \n",
            "__________________________________________________________________________________________________\n",
            "embedding (Embedding)           (None, 1000, 50)     1650        input_1[0][0]                    \n",
            "__________________________________________________________________________________________________\n",
            "lstm (LSTM)                     [(None, 1000, 50), ( 20200       embedding[0][0]                  \n",
            "__________________________________________________________________________________________________\n",
            "input_2 (InputLayer)            [(None, None)]       0                                            \n",
            "__________________________________________________________________________________________________\n",
            "lstm_1 (LSTM)                   [(None, 1000, 50), ( 20200       lstm[0][0]                       \n",
            "__________________________________________________________________________________________________\n",
            "embedding_1 (Embedding)         (None, None, 50)     1650        input_2[0][0]                    \n",
            "__________________________________________________________________________________________________\n",
            "lstm_2 (LSTM)                   [(None, 1000, 50), ( 20200       lstm_1[0][0]                     \n",
            "__________________________________________________________________________________________________\n",
            "lstm_3 (LSTM)                   [(None, None, 50), ( 20200       embedding_1[0][0]                \n",
            "                                                                 lstm_2[0][1]                     \n",
            "                                                                 lstm_2[0][2]                     \n",
            "__________________________________________________________________________________________________\n",
            "attention_layer (AttentionLayer ((None, None, 50), ( 5050        lstm_2[0][0]                     \n",
            "                                                                 lstm_3[0][0]                     \n",
            "__________________________________________________________________________________________________\n",
            "concat_layer (Concatenate)      (None, None, 100)    0           lstm_3[0][0]                     \n",
            "                                                                 attention_layer[0][0]            \n",
            "__________________________________________________________________________________________________\n",
            "time_distributed (TimeDistribut (None, None, 33)     3333        concat_layer[0][0]               \n",
            "==================================================================================================\n",
            "Total params: 92,483\n",
            "Trainable params: 92,483\n",
            "Non-trainable params: 0\n",
            "__________________________________________________________________________________________________\n"
          ],
          "name": "stdout"
        }
      ]
    },
    {
      "cell_type": "code",
      "metadata": {
        "id": "_KPo_UpHFQh9"
      },
      "source": [
        "model.compile(optimizer='rmsprop', loss='sparse_categorical_crossentropy')"
      ],
      "execution_count": null,
      "outputs": []
    },
    {
      "cell_type": "code",
      "metadata": {
        "id": "xCHFr7OBFnEY"
      },
      "source": [
        "es = EarlyStopping(monitor='val_loss', mode='min', verbose=1)"
      ],
      "execution_count": null,
      "outputs": []
    },
    {
      "cell_type": "code",
      "metadata": {
        "colab": {
          "base_uri": "https://localhost:8080/",
          "height": 673
        },
        "id": "hUugKMk9FpB5",
        "outputId": "51d0b7c3-ed7d-4b23-e1c5-527fc5ab2a14"
      },
      "source": [
        "history = model.fit(x_train[:879,:], x_test, epochs = 30, batch_size = 128)"
      ],
      "execution_count": null,
      "outputs": [
        {
          "output_type": "stream",
          "text": [
            "Epoch 1/30\n"
          ],
          "name": "stdout"
        },
        {
          "output_type": "error",
          "ename": "ValueError",
          "evalue": "ignored",
          "traceback": [
            "\u001b[0;31m---------------------------------------------------------------------------\u001b[0m",
            "\u001b[0;31mValueError\u001b[0m                                Traceback (most recent call last)",
            "\u001b[0;32m<ipython-input-36-daf62fe2889f>\u001b[0m in \u001b[0;36m<module>\u001b[0;34m()\u001b[0m\n\u001b[0;32m----> 1\u001b[0;31m \u001b[0mhistory\u001b[0m \u001b[0;34m=\u001b[0m \u001b[0mmodel\u001b[0m\u001b[0;34m.\u001b[0m\u001b[0mfit\u001b[0m\u001b[0;34m(\u001b[0m\u001b[0mx_train\u001b[0m\u001b[0;34m[\u001b[0m\u001b[0;34m:\u001b[0m\u001b[0;36m879\u001b[0m\u001b[0;34m,\u001b[0m\u001b[0;34m:\u001b[0m\u001b[0;34m]\u001b[0m\u001b[0;34m,\u001b[0m \u001b[0mx_test\u001b[0m\u001b[0;34m,\u001b[0m \u001b[0mepochs\u001b[0m \u001b[0;34m=\u001b[0m \u001b[0;36m30\u001b[0m\u001b[0;34m,\u001b[0m \u001b[0mbatch_size\u001b[0m \u001b[0;34m=\u001b[0m \u001b[0;36m128\u001b[0m\u001b[0;34m)\u001b[0m\u001b[0;34m\u001b[0m\u001b[0;34m\u001b[0m\u001b[0m\n\u001b[0m",
            "\u001b[0;32m/usr/local/lib/python3.7/dist-packages/tensorflow/python/keras/engine/training.py\u001b[0m in \u001b[0;36mfit\u001b[0;34m(self, x, y, batch_size, epochs, verbose, callbacks, validation_split, validation_data, shuffle, class_weight, sample_weight, initial_epoch, steps_per_epoch, validation_steps, validation_batch_size, validation_freq, max_queue_size, workers, use_multiprocessing)\u001b[0m\n\u001b[1;32m   1098\u001b[0m                 _r=1):\n\u001b[1;32m   1099\u001b[0m               \u001b[0mcallbacks\u001b[0m\u001b[0;34m.\u001b[0m\u001b[0mon_train_batch_begin\u001b[0m\u001b[0;34m(\u001b[0m\u001b[0mstep\u001b[0m\u001b[0;34m)\u001b[0m\u001b[0;34m\u001b[0m\u001b[0;34m\u001b[0m\u001b[0m\n\u001b[0;32m-> 1100\u001b[0;31m               \u001b[0mtmp_logs\u001b[0m \u001b[0;34m=\u001b[0m \u001b[0mself\u001b[0m\u001b[0;34m.\u001b[0m\u001b[0mtrain_function\u001b[0m\u001b[0;34m(\u001b[0m\u001b[0miterator\u001b[0m\u001b[0;34m)\u001b[0m\u001b[0;34m\u001b[0m\u001b[0;34m\u001b[0m\u001b[0m\n\u001b[0m\u001b[1;32m   1101\u001b[0m               \u001b[0;32mif\u001b[0m \u001b[0mdata_handler\u001b[0m\u001b[0;34m.\u001b[0m\u001b[0mshould_sync\u001b[0m\u001b[0;34m:\u001b[0m\u001b[0;34m\u001b[0m\u001b[0;34m\u001b[0m\u001b[0m\n\u001b[1;32m   1102\u001b[0m                 \u001b[0mcontext\u001b[0m\u001b[0;34m.\u001b[0m\u001b[0masync_wait\u001b[0m\u001b[0;34m(\u001b[0m\u001b[0;34m)\u001b[0m\u001b[0;34m\u001b[0m\u001b[0;34m\u001b[0m\u001b[0m\n",
            "\u001b[0;32m/usr/local/lib/python3.7/dist-packages/tensorflow/python/eager/def_function.py\u001b[0m in \u001b[0;36m__call__\u001b[0;34m(self, *args, **kwds)\u001b[0m\n\u001b[1;32m    826\u001b[0m     \u001b[0mtracing_count\u001b[0m \u001b[0;34m=\u001b[0m \u001b[0mself\u001b[0m\u001b[0;34m.\u001b[0m\u001b[0mexperimental_get_tracing_count\u001b[0m\u001b[0;34m(\u001b[0m\u001b[0;34m)\u001b[0m\u001b[0;34m\u001b[0m\u001b[0;34m\u001b[0m\u001b[0m\n\u001b[1;32m    827\u001b[0m     \u001b[0;32mwith\u001b[0m \u001b[0mtrace\u001b[0m\u001b[0;34m.\u001b[0m\u001b[0mTrace\u001b[0m\u001b[0;34m(\u001b[0m\u001b[0mself\u001b[0m\u001b[0;34m.\u001b[0m\u001b[0m_name\u001b[0m\u001b[0;34m)\u001b[0m \u001b[0;32mas\u001b[0m \u001b[0mtm\u001b[0m\u001b[0;34m:\u001b[0m\u001b[0;34m\u001b[0m\u001b[0;34m\u001b[0m\u001b[0m\n\u001b[0;32m--> 828\u001b[0;31m       \u001b[0mresult\u001b[0m \u001b[0;34m=\u001b[0m \u001b[0mself\u001b[0m\u001b[0;34m.\u001b[0m\u001b[0m_call\u001b[0m\u001b[0;34m(\u001b[0m\u001b[0;34m*\u001b[0m\u001b[0margs\u001b[0m\u001b[0;34m,\u001b[0m \u001b[0;34m**\u001b[0m\u001b[0mkwds\u001b[0m\u001b[0;34m)\u001b[0m\u001b[0;34m\u001b[0m\u001b[0;34m\u001b[0m\u001b[0m\n\u001b[0m\u001b[1;32m    829\u001b[0m       \u001b[0mcompiler\u001b[0m \u001b[0;34m=\u001b[0m \u001b[0;34m\"xla\"\u001b[0m \u001b[0;32mif\u001b[0m \u001b[0mself\u001b[0m\u001b[0;34m.\u001b[0m\u001b[0m_experimental_compile\u001b[0m \u001b[0;32melse\u001b[0m \u001b[0;34m\"nonXla\"\u001b[0m\u001b[0;34m\u001b[0m\u001b[0;34m\u001b[0m\u001b[0m\n\u001b[1;32m    830\u001b[0m       \u001b[0mnew_tracing_count\u001b[0m \u001b[0;34m=\u001b[0m \u001b[0mself\u001b[0m\u001b[0;34m.\u001b[0m\u001b[0mexperimental_get_tracing_count\u001b[0m\u001b[0;34m(\u001b[0m\u001b[0;34m)\u001b[0m\u001b[0;34m\u001b[0m\u001b[0;34m\u001b[0m\u001b[0m\n",
            "\u001b[0;32m/usr/local/lib/python3.7/dist-packages/tensorflow/python/eager/def_function.py\u001b[0m in \u001b[0;36m_call\u001b[0;34m(self, *args, **kwds)\u001b[0m\n\u001b[1;32m    860\u001b[0m       \u001b[0;31m# In this case we have not created variables on the first call. So we can\u001b[0m\u001b[0;34m\u001b[0m\u001b[0;34m\u001b[0m\u001b[0;34m\u001b[0m\u001b[0m\n\u001b[1;32m    861\u001b[0m       \u001b[0;31m# run the first trace but we should fail if variables are created.\u001b[0m\u001b[0;34m\u001b[0m\u001b[0;34m\u001b[0m\u001b[0;34m\u001b[0m\u001b[0m\n\u001b[0;32m--> 862\u001b[0;31m       \u001b[0mresults\u001b[0m \u001b[0;34m=\u001b[0m \u001b[0mself\u001b[0m\u001b[0;34m.\u001b[0m\u001b[0m_stateful_fn\u001b[0m\u001b[0;34m(\u001b[0m\u001b[0;34m*\u001b[0m\u001b[0margs\u001b[0m\u001b[0;34m,\u001b[0m \u001b[0;34m**\u001b[0m\u001b[0mkwds\u001b[0m\u001b[0;34m)\u001b[0m\u001b[0;34m\u001b[0m\u001b[0;34m\u001b[0m\u001b[0m\n\u001b[0m\u001b[1;32m    863\u001b[0m       \u001b[0;32mif\u001b[0m \u001b[0mself\u001b[0m\u001b[0;34m.\u001b[0m\u001b[0m_created_variables\u001b[0m\u001b[0;34m:\u001b[0m\u001b[0;34m\u001b[0m\u001b[0;34m\u001b[0m\u001b[0m\n\u001b[1;32m    864\u001b[0m         raise ValueError(\"Creating variables on a non-first call to a function\"\n",
            "\u001b[0;32m/usr/local/lib/python3.7/dist-packages/tensorflow/python/eager/function.py\u001b[0m in \u001b[0;36m__call__\u001b[0;34m(self, *args, **kwargs)\u001b[0m\n\u001b[1;32m   2939\u001b[0m     \u001b[0;32mwith\u001b[0m \u001b[0mself\u001b[0m\u001b[0;34m.\u001b[0m\u001b[0m_lock\u001b[0m\u001b[0;34m:\u001b[0m\u001b[0;34m\u001b[0m\u001b[0;34m\u001b[0m\u001b[0m\n\u001b[1;32m   2940\u001b[0m       (graph_function,\n\u001b[0;32m-> 2941\u001b[0;31m        filtered_flat_args) = self._maybe_define_function(args, kwargs)\n\u001b[0m\u001b[1;32m   2942\u001b[0m     return graph_function._call_flat(\n\u001b[1;32m   2943\u001b[0m         filtered_flat_args, captured_inputs=graph_function.captured_inputs)  # pylint: disable=protected-access\n",
            "\u001b[0;32m/usr/local/lib/python3.7/dist-packages/tensorflow/python/eager/function.py\u001b[0m in \u001b[0;36m_maybe_define_function\u001b[0;34m(self, args, kwargs)\u001b[0m\n\u001b[1;32m   3356\u001b[0m               call_context_key in self._function_cache.missed):\n\u001b[1;32m   3357\u001b[0m             return self._define_function_with_shape_relaxation(\n\u001b[0;32m-> 3358\u001b[0;31m                 args, kwargs, flat_args, filtered_flat_args, cache_key_context)\n\u001b[0m\u001b[1;32m   3359\u001b[0m \u001b[0;34m\u001b[0m\u001b[0m\n\u001b[1;32m   3360\u001b[0m           \u001b[0mself\u001b[0m\u001b[0;34m.\u001b[0m\u001b[0m_function_cache\u001b[0m\u001b[0;34m.\u001b[0m\u001b[0mmissed\u001b[0m\u001b[0;34m.\u001b[0m\u001b[0madd\u001b[0m\u001b[0;34m(\u001b[0m\u001b[0mcall_context_key\u001b[0m\u001b[0;34m)\u001b[0m\u001b[0;34m\u001b[0m\u001b[0;34m\u001b[0m\u001b[0m\n",
            "\u001b[0;32m/usr/local/lib/python3.7/dist-packages/tensorflow/python/eager/function.py\u001b[0m in \u001b[0;36m_define_function_with_shape_relaxation\u001b[0;34m(self, args, kwargs, flat_args, filtered_flat_args, cache_key_context)\u001b[0m\n\u001b[1;32m   3278\u001b[0m \u001b[0;34m\u001b[0m\u001b[0m\n\u001b[1;32m   3279\u001b[0m     graph_function = self._create_graph_function(\n\u001b[0;32m-> 3280\u001b[0;31m         args, kwargs, override_flat_arg_shapes=relaxed_arg_shapes)\n\u001b[0m\u001b[1;32m   3281\u001b[0m     \u001b[0mself\u001b[0m\u001b[0;34m.\u001b[0m\u001b[0m_function_cache\u001b[0m\u001b[0;34m.\u001b[0m\u001b[0marg_relaxed\u001b[0m\u001b[0;34m[\u001b[0m\u001b[0mrank_only_cache_key\u001b[0m\u001b[0;34m]\u001b[0m \u001b[0;34m=\u001b[0m \u001b[0mgraph_function\u001b[0m\u001b[0;34m\u001b[0m\u001b[0;34m\u001b[0m\u001b[0m\n\u001b[1;32m   3282\u001b[0m \u001b[0;34m\u001b[0m\u001b[0m\n",
            "\u001b[0;32m/usr/local/lib/python3.7/dist-packages/tensorflow/python/eager/function.py\u001b[0m in \u001b[0;36m_create_graph_function\u001b[0;34m(self, args, kwargs, override_flat_arg_shapes)\u001b[0m\n\u001b[1;32m   3204\u001b[0m             \u001b[0marg_names\u001b[0m\u001b[0;34m=\u001b[0m\u001b[0marg_names\u001b[0m\u001b[0;34m,\u001b[0m\u001b[0;34m\u001b[0m\u001b[0;34m\u001b[0m\u001b[0m\n\u001b[1;32m   3205\u001b[0m             \u001b[0moverride_flat_arg_shapes\u001b[0m\u001b[0;34m=\u001b[0m\u001b[0moverride_flat_arg_shapes\u001b[0m\u001b[0;34m,\u001b[0m\u001b[0;34m\u001b[0m\u001b[0;34m\u001b[0m\u001b[0m\n\u001b[0;32m-> 3206\u001b[0;31m             capture_by_value=self._capture_by_value),\n\u001b[0m\u001b[1;32m   3207\u001b[0m         \u001b[0mself\u001b[0m\u001b[0;34m.\u001b[0m\u001b[0m_function_attributes\u001b[0m\u001b[0;34m,\u001b[0m\u001b[0;34m\u001b[0m\u001b[0;34m\u001b[0m\u001b[0m\n\u001b[1;32m   3208\u001b[0m         \u001b[0mfunction_spec\u001b[0m\u001b[0;34m=\u001b[0m\u001b[0mself\u001b[0m\u001b[0;34m.\u001b[0m\u001b[0mfunction_spec\u001b[0m\u001b[0;34m,\u001b[0m\u001b[0;34m\u001b[0m\u001b[0;34m\u001b[0m\u001b[0m\n",
            "\u001b[0;32m/usr/local/lib/python3.7/dist-packages/tensorflow/python/framework/func_graph.py\u001b[0m in \u001b[0;36mfunc_graph_from_py_func\u001b[0;34m(name, python_func, args, kwargs, signature, func_graph, autograph, autograph_options, add_control_dependencies, arg_names, op_return_value, collections, capture_by_value, override_flat_arg_shapes)\u001b[0m\n\u001b[1;32m    988\u001b[0m         \u001b[0m_\u001b[0m\u001b[0;34m,\u001b[0m \u001b[0moriginal_func\u001b[0m \u001b[0;34m=\u001b[0m \u001b[0mtf_decorator\u001b[0m\u001b[0;34m.\u001b[0m\u001b[0munwrap\u001b[0m\u001b[0;34m(\u001b[0m\u001b[0mpython_func\u001b[0m\u001b[0;34m)\u001b[0m\u001b[0;34m\u001b[0m\u001b[0;34m\u001b[0m\u001b[0m\n\u001b[1;32m    989\u001b[0m \u001b[0;34m\u001b[0m\u001b[0m\n\u001b[0;32m--> 990\u001b[0;31m       \u001b[0mfunc_outputs\u001b[0m \u001b[0;34m=\u001b[0m \u001b[0mpython_func\u001b[0m\u001b[0;34m(\u001b[0m\u001b[0;34m*\u001b[0m\u001b[0mfunc_args\u001b[0m\u001b[0;34m,\u001b[0m \u001b[0;34m**\u001b[0m\u001b[0mfunc_kwargs\u001b[0m\u001b[0;34m)\u001b[0m\u001b[0;34m\u001b[0m\u001b[0;34m\u001b[0m\u001b[0m\n\u001b[0m\u001b[1;32m    991\u001b[0m \u001b[0;34m\u001b[0m\u001b[0m\n\u001b[1;32m    992\u001b[0m       \u001b[0;31m# invariant: `func_outputs` contains only Tensors, CompositeTensors,\u001b[0m\u001b[0;34m\u001b[0m\u001b[0;34m\u001b[0m\u001b[0;34m\u001b[0m\u001b[0m\n",
            "\u001b[0;32m/usr/local/lib/python3.7/dist-packages/tensorflow/python/eager/def_function.py\u001b[0m in \u001b[0;36mwrapped_fn\u001b[0;34m(*args, **kwds)\u001b[0m\n\u001b[1;32m    632\u001b[0m             \u001b[0mxla_context\u001b[0m\u001b[0;34m.\u001b[0m\u001b[0mExit\u001b[0m\u001b[0;34m(\u001b[0m\u001b[0;34m)\u001b[0m\u001b[0;34m\u001b[0m\u001b[0;34m\u001b[0m\u001b[0m\n\u001b[1;32m    633\u001b[0m         \u001b[0;32melse\u001b[0m\u001b[0;34m:\u001b[0m\u001b[0;34m\u001b[0m\u001b[0;34m\u001b[0m\u001b[0m\n\u001b[0;32m--> 634\u001b[0;31m           \u001b[0mout\u001b[0m \u001b[0;34m=\u001b[0m \u001b[0mweak_wrapped_fn\u001b[0m\u001b[0;34m(\u001b[0m\u001b[0;34m)\u001b[0m\u001b[0;34m.\u001b[0m\u001b[0m__wrapped__\u001b[0m\u001b[0;34m(\u001b[0m\u001b[0;34m*\u001b[0m\u001b[0margs\u001b[0m\u001b[0;34m,\u001b[0m \u001b[0;34m**\u001b[0m\u001b[0mkwds\u001b[0m\u001b[0;34m)\u001b[0m\u001b[0;34m\u001b[0m\u001b[0;34m\u001b[0m\u001b[0m\n\u001b[0m\u001b[1;32m    635\u001b[0m         \u001b[0;32mreturn\u001b[0m \u001b[0mout\u001b[0m\u001b[0;34m\u001b[0m\u001b[0;34m\u001b[0m\u001b[0m\n\u001b[1;32m    636\u001b[0m \u001b[0;34m\u001b[0m\u001b[0m\n",
            "\u001b[0;32m/usr/local/lib/python3.7/dist-packages/tensorflow/python/framework/func_graph.py\u001b[0m in \u001b[0;36mwrapper\u001b[0;34m(*args, **kwargs)\u001b[0m\n\u001b[1;32m    975\u001b[0m           \u001b[0;32mexcept\u001b[0m \u001b[0mException\u001b[0m \u001b[0;32mas\u001b[0m \u001b[0me\u001b[0m\u001b[0;34m:\u001b[0m  \u001b[0;31m# pylint:disable=broad-except\u001b[0m\u001b[0;34m\u001b[0m\u001b[0;34m\u001b[0m\u001b[0m\n\u001b[1;32m    976\u001b[0m             \u001b[0;32mif\u001b[0m \u001b[0mhasattr\u001b[0m\u001b[0;34m(\u001b[0m\u001b[0me\u001b[0m\u001b[0;34m,\u001b[0m \u001b[0;34m\"ag_error_metadata\"\u001b[0m\u001b[0;34m)\u001b[0m\u001b[0;34m:\u001b[0m\u001b[0;34m\u001b[0m\u001b[0;34m\u001b[0m\u001b[0m\n\u001b[0;32m--> 977\u001b[0;31m               \u001b[0;32mraise\u001b[0m \u001b[0me\u001b[0m\u001b[0;34m.\u001b[0m\u001b[0mag_error_metadata\u001b[0m\u001b[0;34m.\u001b[0m\u001b[0mto_exception\u001b[0m\u001b[0;34m(\u001b[0m\u001b[0me\u001b[0m\u001b[0;34m)\u001b[0m\u001b[0;34m\u001b[0m\u001b[0;34m\u001b[0m\u001b[0m\n\u001b[0m\u001b[1;32m    978\u001b[0m             \u001b[0;32melse\u001b[0m\u001b[0;34m:\u001b[0m\u001b[0;34m\u001b[0m\u001b[0;34m\u001b[0m\u001b[0m\n\u001b[1;32m    979\u001b[0m               \u001b[0;32mraise\u001b[0m\u001b[0;34m\u001b[0m\u001b[0;34m\u001b[0m\u001b[0m\n",
            "\u001b[0;31mValueError\u001b[0m: in user code:\n\n    /usr/local/lib/python3.7/dist-packages/tensorflow/python/keras/engine/training.py:805 train_function  *\n        return step_function(self, iterator)\n    /usr/local/lib/python3.7/dist-packages/tensorflow/python/keras/engine/training.py:795 step_function  **\n        outputs = model.distribute_strategy.run(run_step, args=(data,))\n    /usr/local/lib/python3.7/dist-packages/tensorflow/python/distribute/distribute_lib.py:1259 run\n        return self._extended.call_for_each_replica(fn, args=args, kwargs=kwargs)\n    /usr/local/lib/python3.7/dist-packages/tensorflow/python/distribute/distribute_lib.py:2730 call_for_each_replica\n        return self._call_for_each_replica(fn, args, kwargs)\n    /usr/local/lib/python3.7/dist-packages/tensorflow/python/distribute/distribute_lib.py:3417 _call_for_each_replica\n        return fn(*args, **kwargs)\n    /usr/local/lib/python3.7/dist-packages/tensorflow/python/keras/engine/training.py:788 run_step  **\n        outputs = model.train_step(data)\n    /usr/local/lib/python3.7/dist-packages/tensorflow/python/keras/engine/training.py:754 train_step\n        y_pred = self(x, training=True)\n    /usr/local/lib/python3.7/dist-packages/tensorflow/python/keras/engine/base_layer.py:998 __call__\n        input_spec.assert_input_compatibility(self.input_spec, inputs, self.name)\n    /usr/local/lib/python3.7/dist-packages/tensorflow/python/keras/engine/input_spec.py:207 assert_input_compatibility\n        ' input tensors. Inputs received: ' + str(inputs))\n\n    ValueError: Layer model expects 2 input(s), but it received 1 input tensors. Inputs received: [<tf.Tensor 'IteratorGetNext:0' shape=(None, 1000) dtype=int32>]\n"
          ]
        }
      ]
    },
    {
      "cell_type": "markdown",
      "metadata": {
        "id": "7Hb5peS-LKxg"
      },
      "source": [
        "## PyTorch"
      ]
    },
    {
      "cell_type": "code",
      "metadata": {
        "colab": {
          "base_uri": "https://localhost:8080/"
        },
        "id": "tO2J1o3tGHdm",
        "outputId": "d4de04a5-08df-4aeb-8358-e0947e19cec9"
      },
      "source": [
        "!pip install transformers"
      ],
      "execution_count": null,
      "outputs": [
        {
          "output_type": "stream",
          "text": [
            "Collecting transformers\n",
            "\u001b[?25l  Downloading https://files.pythonhosted.org/packages/d8/b2/57495b5309f09fa501866e225c84532d1fd89536ea62406b2181933fb418/transformers-4.5.1-py3-none-any.whl (2.1MB)\n",
            "\u001b[K     |████████████████████████████████| 2.1MB 3.7MB/s \n",
            "\u001b[?25hRequirement already satisfied: tqdm>=4.27 in /usr/local/lib/python3.7/dist-packages (from transformers) (4.36.1)\n",
            "Collecting tokenizers<0.11,>=0.10.1\n",
            "\u001b[?25l  Downloading https://files.pythonhosted.org/packages/ae/04/5b870f26a858552025a62f1649c20d29d2672c02ff3c3fb4c688ca46467a/tokenizers-0.10.2-cp37-cp37m-manylinux2010_x86_64.whl (3.3MB)\n",
            "\u001b[K     |████████████████████████████████| 3.3MB 12.2MB/s \n",
            "\u001b[?25hRequirement already satisfied: filelock in /usr/local/lib/python3.7/dist-packages (from transformers) (3.0.12)\n",
            "Collecting sacremoses\n",
            "\u001b[?25l  Downloading https://files.pythonhosted.org/packages/75/ee/67241dc87f266093c533a2d4d3d69438e57d7a90abb216fa076e7d475d4a/sacremoses-0.0.45-py3-none-any.whl (895kB)\n",
            "\u001b[K     |████████████████████████████████| 901kB 26.7MB/s \n",
            "\u001b[?25hRequirement already satisfied: importlib-metadata; python_version < \"3.8\" in /usr/local/lib/python3.7/dist-packages (from transformers) (3.10.1)\n",
            "Requirement already satisfied: numpy>=1.17 in /usr/local/lib/python3.7/dist-packages (from transformers) (1.19.5)\n",
            "Requirement already satisfied: packaging in /usr/local/lib/python3.7/dist-packages (from transformers) (20.9)\n",
            "Requirement already satisfied: regex!=2019.12.17 in /usr/local/lib/python3.7/dist-packages (from transformers) (2019.12.20)\n",
            "Requirement already satisfied: requests in /usr/local/lib/python3.7/dist-packages (from transformers) (2.23.0)\n",
            "Requirement already satisfied: six in /usr/local/lib/python3.7/dist-packages (from sacremoses->transformers) (1.15.0)\n",
            "Requirement already satisfied: joblib in /usr/local/lib/python3.7/dist-packages (from sacremoses->transformers) (1.0.1)\n",
            "Requirement already satisfied: click in /usr/local/lib/python3.7/dist-packages (from sacremoses->transformers) (7.1.2)\n",
            "Requirement already satisfied: typing-extensions>=3.6.4; python_version < \"3.8\" in /usr/local/lib/python3.7/dist-packages (from importlib-metadata; python_version < \"3.8\"->transformers) (3.7.4.3)\n",
            "Requirement already satisfied: zipp>=0.5 in /usr/local/lib/python3.7/dist-packages (from importlib-metadata; python_version < \"3.8\"->transformers) (3.4.1)\n",
            "Requirement already satisfied: pyparsing>=2.0.2 in /usr/local/lib/python3.7/dist-packages (from packaging->transformers) (2.4.7)\n",
            "Requirement already satisfied: urllib3!=1.25.0,!=1.25.1,<1.26,>=1.21.1 in /usr/local/lib/python3.7/dist-packages (from requests->transformers) (1.24.3)\n",
            "Requirement already satisfied: certifi>=2017.4.17 in /usr/local/lib/python3.7/dist-packages (from requests->transformers) (2020.12.5)\n",
            "Requirement already satisfied: chardet<4,>=3.0.2 in /usr/local/lib/python3.7/dist-packages (from requests->transformers) (3.0.4)\n",
            "Requirement already satisfied: idna<3,>=2.5 in /usr/local/lib/python3.7/dist-packages (from requests->transformers) (2.10)\n",
            "Installing collected packages: tokenizers, sacremoses, transformers\n",
            "Successfully installed sacremoses-0.0.45 tokenizers-0.10.2 transformers-4.5.1\n"
          ],
          "name": "stdout"
        }
      ]
    },
    {
      "cell_type": "code",
      "metadata": {
        "id": "5p7qDcixLPpt"
      },
      "source": [
        "from transformers import pipeline\n",
        "import os"
      ],
      "execution_count": null,
      "outputs": []
    },
    {
      "cell_type": "code",
      "metadata": {
        "id": "PD60THbnLSud"
      },
      "source": [
        "os.environ[\"CUDA_VISIBLE_DEVICES\"] = \"0\""
      ],
      "execution_count": null,
      "outputs": []
    },
    {
      "cell_type": "code",
      "metadata": {
        "colab": {
          "base_uri": "https://localhost:8080/",
          "height": 261,
          "referenced_widgets": [
            "3fa9b4e319eb41f080a4e50e4e5aa3dc",
            "368c02bc43194ba583d56dfd06517f97",
            "dc7d0dbac4db439a86f351fa77392e04",
            "f52d36db495d4bd9bd70c1b7294b52ac",
            "d16f79ace9724a42b738ddb3d0f2c657",
            "f6db96422daf4022bc0371792751cae0",
            "fb830272c96946a6998e7e121f45d8be",
            "2d077f28948c4dda9949e138b3b46386",
            "4ae855151e904fee887fb737cff04a48",
            "6fc7df27e0cd48b0927bda4f0b7bc166",
            "6b8726afd0e7442199da2ca26cdbbdea",
            "1475d587664a409e9a132ff6a05d5b3d",
            "e1eabd901813496e9d78098ffd668bc2",
            "bdf609e8de714a1da93f2ddcf0c96494",
            "35b409dddc8f46a3aef1446a5fdef1c8",
            "e1f85442cd5d4f62a34e2693200b8c99",
            "2a42b2cb80cf4a7d9ed8edbe0999569e",
            "e7254bf389c1461c90926f2324e2623a",
            "087648ca48394d238b9800ed00bfaf60",
            "d125c6bfdf3a448ba2a0f9da8c20654b",
            "5b28a8564c2c4d16b9b5a97ad5a999bd",
            "ae8eb29bb5c945e18ec80b6d96eaa337",
            "7ed5f9bc4d37493b8bb0fe8abf65a898",
            "dc94f2ef1e6c40c69d2a372146b3c17c",
            "08a12facced54e9fafba5f790c325ddc",
            "96e42dfb30434a4ebd9c3e2c8498bb1d",
            "e5d35ced30554c9a9d51f55ad9254bb6",
            "b53985d0b9a44899b5d57fb2bd698ffc",
            "64fb77af1c4c43ff91fb928a7780313e",
            "21d523169e4e44f58fcf69e882d6d0f7",
            "0b281b77b35441b8b8e5ff36a3e96abe",
            "0f27328d35dc4717a703d5636bc74484",
            "6edd878ee2ad4fd1a3c84bcfccebff21",
            "a36b4caef3ce402eb57c47390fafdc29",
            "2388e47a46844b468239955d7173682e",
            "1b9807c7098f44e990c973b7a0c1ee21",
            "ef39092129994946adf48aa1b78fae3b",
            "240bad9d40904c43a178bf9e354dcfb4",
            "8bfeab09d2e249d3bd2603603bc8ad5b",
            "922f28a27f904264ad99e7d515214640"
          ]
        },
        "id": "pl6iRw57LUft",
        "outputId": "e15d5961-7604-459f-ba48-0b6f606fdd9e"
      },
      "source": [
        "summarizer = pipeline(\"summarization\")"
      ],
      "execution_count": null,
      "outputs": [
        {
          "output_type": "display_data",
          "data": {
            "application/vnd.jupyter.widget-view+json": {
              "model_id": "3fa9b4e319eb41f080a4e50e4e5aa3dc",
              "version_minor": 0,
              "version_major": 2
            },
            "text/plain": [
              "HBox(children=(IntProgress(value=0, description='Downloading', max=1649, style=ProgressStyle(description_width…"
            ]
          },
          "metadata": {
            "tags": []
          }
        },
        {
          "output_type": "stream",
          "text": [
            "\n"
          ],
          "name": "stdout"
        },
        {
          "output_type": "display_data",
          "data": {
            "application/vnd.jupyter.widget-view+json": {
              "model_id": "4ae855151e904fee887fb737cff04a48",
              "version_minor": 0,
              "version_major": 2
            },
            "text/plain": [
              "HBox(children=(IntProgress(value=0, description='Downloading', max=1222317369, style=ProgressStyle(description…"
            ]
          },
          "metadata": {
            "tags": []
          }
        },
        {
          "output_type": "stream",
          "text": [
            "\n"
          ],
          "name": "stdout"
        },
        {
          "output_type": "display_data",
          "data": {
            "application/vnd.jupyter.widget-view+json": {
              "model_id": "2a42b2cb80cf4a7d9ed8edbe0999569e",
              "version_minor": 0,
              "version_major": 2
            },
            "text/plain": [
              "HBox(children=(IntProgress(value=0, description='Downloading', max=898822, style=ProgressStyle(description_wid…"
            ]
          },
          "metadata": {
            "tags": []
          }
        },
        {
          "output_type": "stream",
          "text": [
            "\n"
          ],
          "name": "stdout"
        },
        {
          "output_type": "display_data",
          "data": {
            "application/vnd.jupyter.widget-view+json": {
              "model_id": "08a12facced54e9fafba5f790c325ddc",
              "version_minor": 0,
              "version_major": 2
            },
            "text/plain": [
              "HBox(children=(IntProgress(value=0, description='Downloading', max=456318, style=ProgressStyle(description_wid…"
            ]
          },
          "metadata": {
            "tags": []
          }
        },
        {
          "output_type": "stream",
          "text": [
            "\n"
          ],
          "name": "stdout"
        },
        {
          "output_type": "display_data",
          "data": {
            "application/vnd.jupyter.widget-view+json": {
              "model_id": "6edd878ee2ad4fd1a3c84bcfccebff21",
              "version_minor": 0,
              "version_major": 2
            },
            "text/plain": [
              "HBox(children=(IntProgress(value=0, description='Downloading', max=26, style=ProgressStyle(description_width='…"
            ]
          },
          "metadata": {
            "tags": []
          }
        },
        {
          "output_type": "stream",
          "text": [
            "\n"
          ],
          "name": "stdout"
        }
      ]
    },
    {
      "cell_type": "code",
      "metadata": {
        "colab": {
          "base_uri": "https://localhost:8080/",
          "height": 279,
          "referenced_widgets": [
            "156f9ceab4d34036be16bec9c7b80a69",
            "9f0399812367434ab113e46cf81d49ea",
            "b9c393bb265c4e49ac466cbcae6911c7",
            "1099d761b20241a0868de6dffbda9647",
            "33b46cd3342447c5bfc33f6c1c0638d2",
            "079b86944aea4354a9dfc2dd8db92d7e",
            "f9d98c1fbab849e7ae26705f7a655fe5",
            "ce9907c210f74949968271a26a25d88c",
            "bf2aa666de824b6db0a328f588b4a46d",
            "17836a75d4fa4910b0a22ce9cc6fd8f9",
            "00755d4efecb444bba35251f1b1aad6d",
            "14c3c104c465433eb8f0f6d3f2712078",
            "77b43b6fa81d46a3a9979002b648c037",
            "598ce0f0d9b542a4adf9615f386ba106",
            "a3d810c79f654332bed76ea439513ab6",
            "2cd58240698047dc9862712e2b76881e",
            "fa46f9d3635340d89bbd9e1c3277a6d5",
            "a135db2b650d4d8193b25818e650a1e3",
            "c5db43139b574a1db411665c50f85c0c",
            "e3dd89491547431c84d795803cec9777",
            "d9f8342cc0f749b498777cb55682dddf",
            "03b08aec512748bc8ce8829e2d474e77",
            "f56855db4e4e4f67a189b561255859aa",
            "8fb3346e78d5430297047aeb121000f7",
            "608b60644fe1409e81a981b45cc058fa",
            "3388d5fdbd174d87b3d6175a00910869",
            "356b842c92724ebbbc397b65b65eaf24",
            "27c291ced1ef4ddb9661041291040d13",
            "632af209847d44f3ba88d82c629705ec",
            "75272da505984297a81ad9e58637f493",
            "2ceca0b069034b90b09e577bf2f57551",
            "540509f991354efa81b3b29c720da69a"
          ]
        },
        "id": "3Q1rL_vbLWdo",
        "outputId": "d997c28c-1608-419d-aa67-02a64e42730f"
      },
      "source": [
        "summarizer = pipeline(\"summarization\", model=\"t5-base\", tokenizer=\"t5-base\", framework=\"tf\")"
      ],
      "execution_count": null,
      "outputs": [
        {
          "output_type": "display_data",
          "data": {
            "application/vnd.jupyter.widget-view+json": {
              "model_id": "156f9ceab4d34036be16bec9c7b80a69",
              "version_minor": 0,
              "version_major": 2
            },
            "text/plain": [
              "HBox(children=(IntProgress(value=0, description='Downloading', max=1199, style=ProgressStyle(description_width…"
            ]
          },
          "metadata": {
            "tags": []
          }
        },
        {
          "output_type": "stream",
          "text": [
            "\n"
          ],
          "name": "stdout"
        },
        {
          "output_type": "display_data",
          "data": {
            "application/vnd.jupyter.widget-view+json": {
              "model_id": "bf2aa666de824b6db0a328f588b4a46d",
              "version_minor": 0,
              "version_major": 2
            },
            "text/plain": [
              "HBox(children=(IntProgress(value=0, description='Downloading', max=791656, style=ProgressStyle(description_wid…"
            ]
          },
          "metadata": {
            "tags": []
          }
        },
        {
          "output_type": "stream",
          "text": [
            "\n"
          ],
          "name": "stdout"
        },
        {
          "output_type": "display_data",
          "data": {
            "application/vnd.jupyter.widget-view+json": {
              "model_id": "fa46f9d3635340d89bbd9e1c3277a6d5",
              "version_minor": 0,
              "version_major": 2
            },
            "text/plain": [
              "HBox(children=(IntProgress(value=0, description='Downloading', max=1389353, style=ProgressStyle(description_wi…"
            ]
          },
          "metadata": {
            "tags": []
          }
        },
        {
          "output_type": "stream",
          "text": [
            "\n"
          ],
          "name": "stdout"
        },
        {
          "output_type": "display_data",
          "data": {
            "application/vnd.jupyter.widget-view+json": {
              "model_id": "608b60644fe1409e81a981b45cc058fa",
              "version_minor": 0,
              "version_major": 2
            },
            "text/plain": [
              "HBox(children=(IntProgress(value=0, description='Downloading', max=892146080, style=ProgressStyle(description_…"
            ]
          },
          "metadata": {
            "tags": []
          }
        },
        {
          "output_type": "stream",
          "text": [
            "\n"
          ],
          "name": "stdout"
        },
        {
          "output_type": "stream",
          "text": [
            "All model checkpoint layers were used when initializing TFT5ForConditionalGeneration.\n",
            "\n",
            "All the layers of TFT5ForConditionalGeneration were initialized from the model checkpoint at t5-base.\n",
            "If your task is similar to the task the model of the checkpoint was trained on, you can already use TFT5ForConditionalGeneration for predictions without further training.\n"
          ],
          "name": "stderr"
        }
      ]
    },
    {
      "cell_type": "code",
      "metadata": {
        "colab": {
          "base_uri": "https://localhost:8080/"
        },
        "id": "e_a7EFhVLYoW",
        "outputId": "be5a3a71-7af1-4b0c-d57d-bb05000910bf"
      },
      "source": [
        "summary_text = summarizer(txt, max_length=100, min_length=5, do_sample=False)[0]['summary_text']\n",
        "print(summary_text)"
      ],
      "execution_count": null,
      "outputs": [
        {
          "output_type": "stream",
          "text": [
            "the first attempt to send a spacecraft to Venus failed minutes after launch in 1962 . the rocket promptly went off course, so the Range Safety Officer destroyed it . a transcription error led the software to treat normal minor variations of velocity as if they were serious .\n"
          ],
          "name": "stdout"
        }
      ]
    },
    {
      "cell_type": "code",
      "metadata": {
        "id": "h1ctqpqdLgBn"
      },
      "source": [
        "from rouge_score import rouge_scorer\n",
        "\n",
        "scorer = rouge_scorer.RougeScorer(['rouge1', 'rouge2', 'rouge3','rougeL'], use_stemmer=True)\n",
        "scores = scorer.score(human_summary, summary_text)"
      ],
      "execution_count": null,
      "outputs": []
    },
    {
      "cell_type": "code",
      "metadata": {
        "colab": {
          "base_uri": "https://localhost:8080/"
        },
        "id": "hIF4KlUOMYet",
        "outputId": "7c8997ae-f658-4188-a77f-d2eb9d2dae06"
      },
      "source": [
        "scores"
      ],
      "execution_count": null,
      "outputs": [
        {
          "output_type": "execute_result",
          "data": {
            "text/plain": [
              "{'rouge1': Score(precision=0.5217391304347826, recall=0.16326530612244897, fmeasure=0.24870466321243523),\n",
              " 'rouge2': Score(precision=0.2, recall=0.06164383561643835, fmeasure=0.09424083769633508),\n",
              " 'rouge3': Score(precision=0.1590909090909091, recall=0.04827586206896552, fmeasure=0.07407407407407407),\n",
              " 'rougeL': Score(precision=0.391304347826087, recall=0.12244897959183673, fmeasure=0.18652849740932645)}"
            ]
          },
          "metadata": {
            "tags": []
          },
          "execution_count": 46
        }
      ]
    },
    {
      "cell_type": "code",
      "metadata": {
        "id": "lawJD5XuMZkI"
      },
      "source": [
        ""
      ],
      "execution_count": null,
      "outputs": []
    }
  ]
}